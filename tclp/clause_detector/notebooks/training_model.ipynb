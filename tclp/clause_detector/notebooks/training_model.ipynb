{
 "cells": [
  {
   "cell_type": "markdown",
   "metadata": {},
   "source": [
    "# Training Clause Detection Model\n",
    "\n",
    "This folder is just for those interested in the process or wanting to retrain. For those that just want to use the pre-trained model, that is accesible at ../clause_identifier_model.pkl"
   ]
  },
  {
   "cell_type": "code",
   "execution_count": null,
   "metadata": {},
   "outputs": [],
   "source": [
    "import pandas as pd\n",
    "from sklearn.pipeline import Pipeline\n",
    "from sklearn.feature_extraction.text import TfidfVectorizer\n",
    "from sklearn.linear_model import LogisticRegression\n",
    "from tclp.clause_detector import detector_utils as du"
   ]
  },
  {
   "cell_type": "markdown",
   "metadata": {},
   "source": [
    "## Loading Synthetic Data into a Dataframe"
   ]
  },
  {
   "cell_type": "code",
   "execution_count": null,
   "metadata": {},
   "outputs": [],
   "source": [
    "modified_data_folder = '../../data/synth_data/modified_real'\n",
    "untouched_data_folder = '../../data/synth_data/untouched'\n",
    "modified_gen_data_folder = '../../data/synth_data/modified_gen'"
   ]
  },
  {
   "cell_type": "code",
   "execution_count": null,
   "metadata": {},
   "outputs": [],
   "source": [
    "texts, labels, contract_ids, contract_level_labels = du.load_labeled_contracts(\n",
    "    modified_data_folder, modified=True\n",
    ")\n",
    "(\n",
    "    texts_untouched,\n",
    "    labels_untouched,\n",
    "    contract_ids_untouched,\n",
    "    contract_level_labels_untouched,\n",
    ") = du.load_labeled_contracts(untouched_data_folder)\n",
    "texts_gen, labels_gen, contract_ids_gen, contract_level_labels_gen = (\n",
    "    du.load_labeled_contracts(modified_gen_data_folder, modified=True)\n",
    ")"
   ]
  },
  {
   "cell_type": "code",
   "execution_count": null,
   "metadata": {},
   "outputs": [],
   "source": [
    "# combine texts from different sources\n",
    "texts = texts + texts_untouched + texts_gen\n",
    "labels = labels + labels_untouched + labels_gen\n",
    "contract_ids = contract_ids + contract_ids_untouched + contract_ids_gen\n",
    "contract_level_labels = (\n",
    "    contract_level_labels + contract_level_labels_untouched + contract_level_labels_gen\n",
    ")"
   ]
  },
  {
   "cell_type": "code",
   "execution_count": null,
   "metadata": {},
   "outputs": [],
   "source": [
    "data = du.create_and_clean_base_df(texts, labels, contract_ids, contract_level_labels)"
   ]
  },
  {
   "cell_type": "code",
   "execution_count": null,
   "metadata": {},
   "outputs": [],
   "source": [
    "data"
   ]
  },
  {
   "cell_type": "markdown",
   "metadata": {},
   "source": [
    "## Load Real Clauses for Training Data"
   ]
  },
  {
   "cell_type": "code",
   "execution_count": null,
   "metadata": {},
   "outputs": [],
   "source": [
    "clause_folder = \"../../data/cleaned_clauses_detect\""
   ]
  },
  {
   "cell_type": "code",
   "execution_count": null,
   "metadata": {},
   "outputs": [],
   "source": [
    "clause_texts, clause_labels, clause_ids, clause_reality = du.load_clauses(clause_folder)"
   ]
  },
  {
   "cell_type": "code",
   "execution_count": null,
   "metadata": {},
   "outputs": [],
   "source": [
    "# put this in the same form as the contract data so they can be combined; contract label for all of them is 1\n",
    "clause_data = pd.DataFrame(\n",
    "    {\n",
    "        \"contract_ids\": clause_ids,\n",
    "        \"text\": clause_texts,\n",
    "        \"label\": clause_labels,\n",
    "        \"contract_label\": [1] * len(clause_ids),\n",
    "        \"real_clause\": clause_reality,\n",
    "    }\n",
    ")"
   ]
  },
  {
   "cell_type": "code",
   "execution_count": null,
   "metadata": {},
   "outputs": [],
   "source": [
    "clause_data"
   ]
  },
  {
   "cell_type": "markdown",
   "metadata": {},
   "source": [
    "## Creating Full Dataframe"
   ]
  },
  {
   "cell_type": "markdown",
   "metadata": {},
   "source": [
    "Now that my two dataframes are in the same form, I can combine them to create one data set. \n",
    "\n",
    "From there, I can create my training, testing, and validation data."
   ]
  },
  {
   "cell_type": "code",
   "execution_count": null,
   "metadata": {},
   "outputs": [],
   "source": [
    "full_data = pd.concat([data, clause_data], ignore_index=True)"
   ]
  },
  {
   "cell_type": "code",
   "execution_count": null,
   "metadata": {},
   "outputs": [],
   "source": [
    "full_data"
   ]
  },
  {
   "cell_type": "markdown",
   "metadata": {},
   "source": [
    "## Train Test Split\n",
    "\n",
    "I will keep individual contracts together in either train, test, or split as well as ensure anything with the 'real_clause' positive designation is in the training set."
   ]
  },
  {
   "cell_type": "code",
   "execution_count": null,
   "metadata": {},
   "outputs": [],
   "source": [
    "train_data, val_data, test_data, train_indices, val_indices, test_indices = (\n",
    "    du.custom_train_test_split(full_data, \"real_clause\")\n",
    ")"
   ]
  },
  {
   "cell_type": "code",
   "execution_count": null,
   "metadata": {},
   "outputs": [],
   "source": [
    "X_train, y_train = du.X_y_split(train_data)\n",
    "X_val, y_val = du.X_y_split(val_data)\n",
    "X_test, y_test = du.X_y_split(test_data)"
   ]
  },
  {
   "cell_type": "code",
   "execution_count": null,
   "metadata": {},
   "outputs": [],
   "source": [
    "# save the test contracts for future use\n",
    "du.save_test_data(\n",
    "    test_data, \"../../data/synth_data/combined\", \"../../data/test_contracts\"\n",
    ")"
   ]
  },
  {
   "cell_type": "markdown",
   "metadata": {},
   "source": [
    "## Training a Model"
   ]
  },
  {
   "cell_type": "code",
   "execution_count": null,
   "metadata": {},
   "outputs": [],
   "source": [
    "model = Pipeline(\n",
    "    [\n",
    "        (\"tfidf\", TfidfVectorizer(max_features=None, ngram_range=(1, 2), min_df=2)),\n",
    "        (\n",
    "            \"logreg\",\n",
    "            LogisticRegression(\n",
    "                max_iter=1000, class_weight=\"balanced\", solver=\"liblinear\", C=10\n",
    "            ),\n",
    "        ),\n",
    "    ]\n",
    ")\n",
    "model.fit(X_train, y_train)"
   ]
  },
  {
   "cell_type": "code",
   "execution_count": null,
   "metadata": {},
   "outputs": [],
   "source": [
    "# save the model to disk\n",
    "du.save_model(model, \"../clause_identifier_model.pkl\")"
   ]
  },
  {
   "cell_type": "code",
   "execution_count": null,
   "metadata": {},
   "outputs": [],
   "source": [
    "y_pred = du.evaluate_model_clause_level(model, X_val, y_val)"
   ]
  },
  {
   "cell_type": "markdown",
   "metadata": {},
   "source": [
    "## Extrapolating Results to Contracts"
   ]
  },
  {
   "cell_type": "code",
   "execution_count": null,
   "metadata": {},
   "outputs": [],
   "source": [
    "val_contract_df = du.create_contract_df(X_val, val_data, y_pred)"
   ]
  },
  {
   "cell_type": "code",
   "execution_count": null,
   "metadata": {},
   "outputs": [],
   "source": [
    "val_contract_df"
   ]
  },
  {
   "cell_type": "code",
   "execution_count": null,
   "metadata": {},
   "outputs": [],
   "source": [
    "f1s, f1_thresholds = du.threshold_graphs(\n",
    "    val_contract_df, thresholds=range(1, 8), metric_type=\"f1\"\n",
    ")"
   ]
  },
  {
   "cell_type": "code",
   "execution_count": null,
   "metadata": {},
   "outputs": [],
   "source": [
    "du.print_contract_classification_report(val_contract_df, f1s, f1_thresholds)"
   ]
  },
  {
   "cell_type": "markdown",
   "metadata": {},
   "source": [
    "## Test Set"
   ]
  },
  {
   "cell_type": "code",
   "execution_count": null,
   "metadata": {},
   "outputs": [],
   "source": [
    "test_contract_df = du.create_contract_df(X_test, test_data, model.predict(X_test))"
   ]
  },
  {
   "cell_type": "code",
   "execution_count": null,
   "metadata": {},
   "outputs": [],
   "source": [
    "f1s, f1_thresholds = du.threshold_graphs(\n",
    "    test_contract_df, thresholds=range(1, 7), metric_type=\"f1\"\n",
    ")"
   ]
  },
  {
   "cell_type": "code",
   "execution_count": null,
   "metadata": {},
   "outputs": [],
   "source": [
    "du.print_contract_classification_report(test_contract_df, f1s, f1_thresholds)"
   ]
  },
  {
   "cell_type": "code",
   "execution_count": null,
   "metadata": {},
   "outputs": [],
   "source": []
  }
 ],
 "metadata": {
  "kernelspec": {
   "display_name": "tclp-Ed8P8bAs-py3.10",
   "language": "python",
   "name": "python3"
  },
  "language_info": {
   "codemirror_mode": {
    "name": "ipython",
    "version": 3
   },
   "file_extension": ".py",
   "mimetype": "text/x-python",
   "name": "python",
   "nbconvert_exporter": "python",
   "pygments_lexer": "ipython3",
   "version": "3.10.15"
  }
 },
 "nbformat": 4,
 "nbformat_minor": 2
}
