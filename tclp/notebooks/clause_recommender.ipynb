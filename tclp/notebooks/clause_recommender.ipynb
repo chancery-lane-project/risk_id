{
 "cells": [
  {
   "cell_type": "code",
   "execution_count": 103,
   "id": "162397e3",
   "metadata": {},
   "outputs": [],
   "source": [
    "import numpy as np\n",
    "import pandas as pd\n",
    "\n",
    "import sys\n",
    "import os\n",
    "sys.path.insert(0, os.path.abspath(os.path.join(os.getcwd(), \"../\")))\n",
    "import utils\n",
    "\n",
    "from tqdm import tqdm \n",
    "import umap.umap_ as umap\n",
    "\n",
    "import matplotlib.pyplot as plt\n",
    "import seaborn as sns\n",
    "\n",
    "from sklearn.neural_network import MLPClassifier\n",
    "from sklearn.metrics import classification_report"
   ]
  },
  {
   "cell_type": "code",
   "execution_count": 104,
   "id": "0c579a33",
   "metadata": {},
   "outputs": [],
   "source": [
    "model_path = \"../models/CC_BERT/CC_model\"\n",
    "embeddings_dir = \"../models/CC_BERT/CC_embeddings\"\n",
    "clause_folder = \"../data/cleaned_content\"\n",
    "clause_html = '../data/clause_boxes'"
   ]
  },
  {
   "cell_type": "code",
   "execution_count": 105,
   "id": "a907ae55",
   "metadata": {},
   "outputs": [
    {
     "name": "stderr",
     "output_type": "stream",
     "text": [
      "Some weights of RobertaForSequenceClassification were not initialized from the model checkpoint at /Users/georgia/Documents/coding/climate_risk_id/tclp/models/CC_BERT/CC_model and are newly initialized: ['classifier.dense.bias', 'classifier.dense.weight', 'classifier.out_proj.bias', 'classifier.out_proj.weight']\n",
      "You should probably TRAIN this model on a down-stream task to be able to use it for predictions and inference.\n",
      "/Users/georgia/Documents/coding/climate_risk_id/tclp/utils.py:557: MarkupResemblesLocatorWarning:\n",
      "\n",
      "The input looks more like a filename than markup. You may want to open this file and pass the filehandle into Beautiful Soup.\n",
      "\n"
     ]
    }
   ],
   "source": [
    "tokenizer, model, names, docs, final_df = utils.getting_started(model_path, clause_folder, clause_html)"
   ]
  },
  {
   "cell_type": "markdown",
   "id": "344b5b88",
   "metadata": {},
   "source": [
    "# multilabel tagging"
   ]
  },
  {
   "cell_type": "code",
   "execution_count": 106,
   "id": "03ded0f5",
   "metadata": {},
   "outputs": [],
   "source": [
    "clause_tags = pd.read_excel(\"../data/clause_tags.xlsx\")"
   ]
  },
  {
   "cell_type": "code",
   "execution_count": 107,
   "id": "fef461e8",
   "metadata": {},
   "outputs": [
    {
     "data": {
      "text/html": [
       "<div>\n",
       "<style scoped>\n",
       "    .dataframe tbody tr th:only-of-type {\n",
       "        vertical-align: middle;\n",
       "    }\n",
       "\n",
       "    .dataframe tbody tr th {\n",
       "        vertical-align: top;\n",
       "    }\n",
       "\n",
       "    .dataframe thead th {\n",
       "        text-align: right;\n",
       "    }\n",
       "</style>\n",
       "<table border=\"1\" class=\"dataframe\">\n",
       "  <thead>\n",
       "    <tr style=\"text-align: right;\">\n",
       "      <th></th>\n",
       "      <th>Name</th>\n",
       "      <th>Title</th>\n",
       "      <th>Excerpt</th>\n",
       "      <th>Jurisdiction</th>\n",
       "      <th>Updated</th>\n",
       "      <th>URL</th>\n",
       "      <th>Matched Filename</th>\n",
       "      <th>Document</th>\n",
       "    </tr>\n",
       "  </thead>\n",
       "  <tbody>\n",
       "    <tr>\n",
       "      <th>0</th>\n",
       "      <td>Clara's Guide &amp; Checklist</td>\n",
       "      <td>A Beginner’s Guide and Checklist for Accessing...</td>\n",
       "      <td>This guide and checklist can be used to introd...</td>\n",
       "      <td>England &amp; Wales</td>\n",
       "      <td>2024-09-10 10:41:08</td>\n",
       "      <td>https://chancerylaneproject.org/clauses/a-begi...</td>\n",
       "      <td>A_Beginner’s_Guide_and_Checklist_for_Accessing...</td>\n",
       "      <td>1. CO2 emissions 4, 638, 119 tonnes CO2e 3.00%...</td>\n",
       "    </tr>\n",
       "    <tr>\n",
       "      <th>1</th>\n",
       "      <td>Sarah's Clause</td>\n",
       "      <td>Allocating Scope 1, 2 and 3 Emissions for Leas...</td>\n",
       "      <td>This clause allocates responsibility for measu...</td>\n",
       "      <td>England &amp; Wales</td>\n",
       "      <td>2024-09-10 10:37:43</td>\n",
       "      <td>https://chancerylaneproject.org/clauses/alloca...</td>\n",
       "      <td>Allocating_Scope_1,_2_and_3_Emissions_for_Leas...</td>\n",
       "      <td>1. Responsibility for GHG Emissions in relatio...</td>\n",
       "    </tr>\n",
       "    <tr>\n",
       "      <th>2</th>\n",
       "      <td>Lagatha's Clause</td>\n",
       "      <td>Auditing Water Usage in Supply Chains</td>\n",
       "      <td>A clause aimed at reducing the use and wastage...</td>\n",
       "      <td>England &amp; Wales</td>\n",
       "      <td>2024-10-02 14:17:05</td>\n",
       "      <td>https://chancerylaneproject.org/clauses/auditi...</td>\n",
       "      <td>Auditing_Water_Usage_in_Supply_Chains.txt</td>\n",
       "      <td>(A)Whereas the Supplier has resolved to adopt ...</td>\n",
       "    </tr>\n",
       "    <tr>\n",
       "      <th>3</th>\n",
       "      <td>Toby's Clause</td>\n",
       "      <td>Avoiding Excessive Paperwork in Dispute Resolu...</td>\n",
       "      <td>A contractual obligation between the parties s...</td>\n",
       "      <td>England &amp; Wales</td>\n",
       "      <td>2024-09-10 10:37:06</td>\n",
       "      <td>https://chancerylaneproject.org/clauses/avoidi...</td>\n",
       "      <td>Avoiding_Excessive_Paperwork_in_Dispute_Resolu...</td>\n",
       "      <td>1. If a dispute arises under or relating to th...</td>\n",
       "    </tr>\n",
       "    <tr>\n",
       "      <th>4</th>\n",
       "      <td>Izzy's Clause</td>\n",
       "      <td>Benchmarking of Project Greenhouse Gas Emissions</td>\n",
       "      <td>A mechanism that benchmarks a contractor's car...</td>\n",
       "      <td>England &amp; Wales</td>\n",
       "      <td>2024-09-10 10:34:34</td>\n",
       "      <td>https://chancerylaneproject.org/clauses/benchm...</td>\n",
       "      <td>Benchmarking_of_Project_Greenhouse_Gas_Emissio...</td>\n",
       "      <td>(A)Green Target has been met; (B)Green Target ...</td>\n",
       "    </tr>\n",
       "    <tr>\n",
       "      <th>...</th>\n",
       "      <td>...</td>\n",
       "      <td>...</td>\n",
       "      <td>...</td>\n",
       "      <td>...</td>\n",
       "      <td>...</td>\n",
       "      <td>...</td>\n",
       "      <td>...</td>\n",
       "      <td>...</td>\n",
       "    </tr>\n",
       "    <tr>\n",
       "      <th>117</th>\n",
       "      <td>Ming's Clause</td>\n",
       "      <td>Target Product Carbon Footprint (Schedule for ...</td>\n",
       "      <td>A Target Product Carbon Footprint budget (whic...</td>\n",
       "      <td>England &amp; Wales</td>\n",
       "      <td>2024-09-10 10:38:51</td>\n",
       "      <td>https://chancerylaneproject.org/clauses/target...</td>\n",
       "      <td>Target_Product_Carbon_Footprint_(Schedule_for_...</td>\n",
       "      <td>(A)The parties acknowledge their common intent...</td>\n",
       "    </tr>\n",
       "    <tr>\n",
       "      <th>118</th>\n",
       "      <td>Griff's Clause</td>\n",
       "      <td>Template Board Paper for Significant Contracts...</td>\n",
       "      <td>Template board papers with detailed prompts fo...</td>\n",
       "      <td>England &amp; Wales</td>\n",
       "      <td>2024-09-10 10:34:38</td>\n",
       "      <td>https://chancerylaneproject.org/clauses/templa...</td>\n",
       "      <td>Template_Board_Paper_for_Significant_Contracts...</td>\n",
       "      <td>1. Strategy implications Alignment 1.1 The pro...</td>\n",
       "    </tr>\n",
       "    <tr>\n",
       "      <th>119</th>\n",
       "      <td>Matilda's Annex</td>\n",
       "      <td>The Net Zero Standard for Suppliers</td>\n",
       "      <td>A simplified and consolidated version of TCLP’...</td>\n",
       "      <td>England &amp; Wales</td>\n",
       "      <td>2024-09-10 10:36:20</td>\n",
       "      <td>https://chancerylaneproject.org/clauses/the-ne...</td>\n",
       "      <td>The_Net_Zero_Standard_for_Suppliers.txt</td>\n",
       "      <td>1. Contract emissions reporting and targets 1....</td>\n",
       "    </tr>\n",
       "    <tr>\n",
       "      <th>120</th>\n",
       "      <td>Luke's Clause</td>\n",
       "      <td>The ‘Green Supplier’ Contract – A Standardised...</td>\n",
       "      <td>A standardised green supplier schedule that he...</td>\n",
       "      <td>England &amp; Wales</td>\n",
       "      <td>2024-09-10 10:35:08</td>\n",
       "      <td>https://chancerylaneproject.org/clauses/the-gr...</td>\n",
       "      <td>The_‘Green_Supplier’_Contract_–_A_Standardised...</td>\n",
       "      <td>1 The Supplier shall meet the following sustai...</td>\n",
       "    </tr>\n",
       "    <tr>\n",
       "      <th>121</th>\n",
       "      <td>Ayshe's Clause</td>\n",
       "      <td>Transparent Sourcing of Greener, Fairer Renewa...</td>\n",
       "      <td>A clause obliging stakeholders in renewable en...</td>\n",
       "      <td>England &amp; Wales</td>\n",
       "      <td>2024-09-10 10:43:26</td>\n",
       "      <td>https://chancerylaneproject.org/clauses/transp...</td>\n",
       "      <td>Transparent_Sourcing_of_Greener,_Fairer_Renewa...</td>\n",
       "      <td>1. Minimum Social Safeguards and Mitigation of...</td>\n",
       "    </tr>\n",
       "  </tbody>\n",
       "</table>\n",
       "<p>122 rows × 8 columns</p>\n",
       "</div>"
      ],
      "text/plain": [
       "                          Name  \\\n",
       "0    Clara's Guide & Checklist   \n",
       "1               Sarah's Clause   \n",
       "2             Lagatha's Clause   \n",
       "3                Toby's Clause   \n",
       "4                Izzy's Clause   \n",
       "..                         ...   \n",
       "117              Ming's Clause   \n",
       "118             Griff's Clause   \n",
       "119            Matilda's Annex   \n",
       "120              Luke's Clause   \n",
       "121             Ayshe's Clause   \n",
       "\n",
       "                                                 Title  \\\n",
       "0    A Beginner’s Guide and Checklist for Accessing...   \n",
       "1    Allocating Scope 1, 2 and 3 Emissions for Leas...   \n",
       "2                Auditing Water Usage in Supply Chains   \n",
       "3    Avoiding Excessive Paperwork in Dispute Resolu...   \n",
       "4     Benchmarking of Project Greenhouse Gas Emissions   \n",
       "..                                                 ...   \n",
       "117  Target Product Carbon Footprint (Schedule for ...   \n",
       "118  Template Board Paper for Significant Contracts...   \n",
       "119                The Net Zero Standard for Suppliers   \n",
       "120  The ‘Green Supplier’ Contract – A Standardised...   \n",
       "121  Transparent Sourcing of Greener, Fairer Renewa...   \n",
       "\n",
       "                                               Excerpt     Jurisdiction  \\\n",
       "0    This guide and checklist can be used to introd...  England & Wales   \n",
       "1    This clause allocates responsibility for measu...  England & Wales   \n",
       "2    A clause aimed at reducing the use and wastage...  England & Wales   \n",
       "3    A contractual obligation between the parties s...  England & Wales   \n",
       "4    A mechanism that benchmarks a contractor's car...  England & Wales   \n",
       "..                                                 ...              ...   \n",
       "117  A Target Product Carbon Footprint budget (whic...  England & Wales   \n",
       "118  Template board papers with detailed prompts fo...  England & Wales   \n",
       "119  A simplified and consolidated version of TCLP’...  England & Wales   \n",
       "120  A standardised green supplier schedule that he...  England & Wales   \n",
       "121  A clause obliging stakeholders in renewable en...  England & Wales   \n",
       "\n",
       "                 Updated                                                URL  \\\n",
       "0    2024-09-10 10:41:08  https://chancerylaneproject.org/clauses/a-begi...   \n",
       "1    2024-09-10 10:37:43  https://chancerylaneproject.org/clauses/alloca...   \n",
       "2    2024-10-02 14:17:05  https://chancerylaneproject.org/clauses/auditi...   \n",
       "3    2024-09-10 10:37:06  https://chancerylaneproject.org/clauses/avoidi...   \n",
       "4    2024-09-10 10:34:34  https://chancerylaneproject.org/clauses/benchm...   \n",
       "..                   ...                                                ...   \n",
       "117  2024-09-10 10:38:51  https://chancerylaneproject.org/clauses/target...   \n",
       "118  2024-09-10 10:34:38  https://chancerylaneproject.org/clauses/templa...   \n",
       "119  2024-09-10 10:36:20  https://chancerylaneproject.org/clauses/the-ne...   \n",
       "120  2024-09-10 10:35:08  https://chancerylaneproject.org/clauses/the-gr...   \n",
       "121  2024-09-10 10:43:26  https://chancerylaneproject.org/clauses/transp...   \n",
       "\n",
       "                                      Matched Filename  \\\n",
       "0    A_Beginner’s_Guide_and_Checklist_for_Accessing...   \n",
       "1    Allocating_Scope_1,_2_and_3_Emissions_for_Leas...   \n",
       "2            Auditing_Water_Usage_in_Supply_Chains.txt   \n",
       "3    Avoiding_Excessive_Paperwork_in_Dispute_Resolu...   \n",
       "4    Benchmarking_of_Project_Greenhouse_Gas_Emissio...   \n",
       "..                                                 ...   \n",
       "117  Target_Product_Carbon_Footprint_(Schedule_for_...   \n",
       "118  Template_Board_Paper_for_Significant_Contracts...   \n",
       "119            The_Net_Zero_Standard_for_Suppliers.txt   \n",
       "120  The_‘Green_Supplier’_Contract_–_A_Standardised...   \n",
       "121  Transparent_Sourcing_of_Greener,_Fairer_Renewa...   \n",
       "\n",
       "                                              Document  \n",
       "0    1. CO2 emissions 4, 638, 119 tonnes CO2e 3.00%...  \n",
       "1    1. Responsibility for GHG Emissions in relatio...  \n",
       "2    (A)Whereas the Supplier has resolved to adopt ...  \n",
       "3    1. If a dispute arises under or relating to th...  \n",
       "4    (A)Green Target has been met; (B)Green Target ...  \n",
       "..                                                 ...  \n",
       "117  (A)The parties acknowledge their common intent...  \n",
       "118  1. Strategy implications Alignment 1.1 The pro...  \n",
       "119  1. Contract emissions reporting and targets 1....  \n",
       "120  1 The Supplier shall meet the following sustai...  \n",
       "121  1. Minimum Social Safeguards and Mitigation of...  \n",
       "\n",
       "[122 rows x 8 columns]"
      ]
     },
     "execution_count": 107,
     "metadata": {},
     "output_type": "execute_result"
    }
   ],
   "source": [
    "final_df"
   ]
  },
  {
   "cell_type": "code",
   "execution_count": 108,
   "id": "3ca440ee",
   "metadata": {},
   "outputs": [
    {
     "name": "stdout",
     "output_type": "stream",
     "text": [
      "Fuzzy match: 'ESG-Based Performance Conditions for Employee Incentive Awards' matched to 'environmental_social_and_governance_esg_based_performance_conditions_for_employee_incentive_awards'\n",
      "Fuzzy match: 'MMC and Net Zero Provisions for Construction or Development Agreements' matched to 'modern_methods_of_construction_mmc_and_net_zero_provisions_for_construction_or_development_agreements'\n",
      "Fuzzy match: 'Net Zero Obligations in FIDIC EPC Contracts' matched to 'net_zero_obligations_in_fidic_engineering_procurement_and_construction_epc_contracts'\n",
      "Fuzzy match: 'Sustainability KPIs in Construction Works Task Orders' matched to 'sustainability_key_performance_indicators_in_construction_works_task_orders'\n"
     ]
    }
   ],
   "source": [
    "clause_tags = utils.prepare_clause_tags(clause_tags, final_df)"
   ]
  },
  {
   "cell_type": "code",
   "execution_count": 109,
   "id": "55de547c",
   "metadata": {},
   "outputs": [
    {
     "name": "stderr",
     "output_type": "stream",
     "text": [
      "100%|██████████| 122/122 [00:28<00:00,  4.33it/s]\n"
     ]
    }
   ],
   "source": [
    "texts = clause_tags['CombinedText'].tolist()\n",
    "embeddings = np.vstack([\n",
    "    utils.encode_text(text, tokenizer, model) for text in tqdm(texts)\n",
    "])"
   ]
  },
  {
   "cell_type": "code",
   "execution_count": 110,
   "id": "3dd5708b",
   "metadata": {},
   "outputs": [
    {
     "name": "stderr",
     "output_type": "stream",
     "text": [
      "/Users/georgia/Library/Caches/pypoetry/virtualenvs/tclp-iQ_dTQ3E-py3.10/lib/python3.10/site-packages/sklearn/metrics/pairwise.py:2361: DataConversionWarning:\n",
      "\n",
      "Data was converted to boolean for metric jaccard\n",
      "\n",
      "/Users/georgia/Library/Caches/pypoetry/virtualenvs/tclp-iQ_dTQ3E-py3.10/lib/python3.10/site-packages/umap/umap_.py:1865: UserWarning:\n",
      "\n",
      "using precomputed metric; inverse_transform will be unavailable\n",
      "\n",
      "/Users/georgia/Library/Caches/pypoetry/virtualenvs/tclp-iQ_dTQ3E-py3.10/lib/python3.10/site-packages/umap/umap_.py:1952: UserWarning:\n",
      "\n",
      "n_jobs value 1 overridden to 1 by setting random_state. Use no seed for parallelism.\n",
      "\n"
     ]
    }
   ],
   "source": [
    "tag_matrix = utils.multi_label_jacccard(clause_tags)"
   ]
  },
  {
   "cell_type": "code",
   "execution_count": 111,
   "id": "147c136d",
   "metadata": {},
   "outputs": [
    {
     "name": "stderr",
     "output_type": "stream",
     "text": [
      "/Users/georgia/Library/Caches/pypoetry/virtualenvs/tclp-iQ_dTQ3E-py3.10/lib/python3.10/site-packages/umap/umap_.py:1952: UserWarning:\n",
      "\n",
      "n_jobs value 1 overridden to 1 by setting random_state. Use no seed for parallelism.\n",
      "\n"
     ]
    }
   ],
   "source": [
    "forced_labels, hybrid_2d = utils.perform_hdbscan(tag_matrix=tag_matrix, embeddings=embeddings)"
   ]
  },
  {
   "cell_type": "code",
   "execution_count": 112,
   "id": "bf3bc4e6",
   "metadata": {},
   "outputs": [],
   "source": [
    "clause_tags['HybridCluster'] = forced_labels"
   ]
  },
  {
   "cell_type": "code",
   "execution_count": 113,
   "id": "d8013708",
   "metadata": {},
   "outputs": [
    {
     "data": {
      "application/vnd.plotly.v1+json": {
       "config": {
        "plotlyServerURL": "https://plot.ly"
       },
       "data": [
        {
         "customdata": [
          [
           "A Beginner’s Guide and Checklist for Accessing Sustainability-Linked Loans (SLLs)",
           "Finance",
           [
            "Finance",
            "Net Zero"
           ]
          ],
          [
           "Allocating Scope 1, 2 and 3 Emissions for Leased Assets",
           "Lease",
           [
            "Lease",
            "Reporting",
            "Net Zero"
           ]
          ],
          [
           "Climate-Resilient Landscape Design Contracts",
           "Construction",
           [
            "Construction",
            "Land Use",
            "Biodiversity"
           ]
          ],
          [
           "Debt Finance Clauses (and LMA Facility Amendments) Promoting Sustainable Water Usage",
           "Finance",
           [
            "Finance",
            "Net Zero"
           ]
          ],
          [
           "Environmental Targets for a Limited Partnership Agreement",
           "Finance",
           [
            "Finance",
            "ESG",
            "Net Zero"
           ]
          ],
          [
           "Facility Agreement Clauses Promoting Sustainability-Linked Loans within the Cement Industry",
           "Finance",
           [
            "Finance",
            "Construction",
            "Net Zero"
           ]
          ],
          [
           "Film Production: Carbon Footprint Disclosure",
           "Reporting",
           [
            "Reporting",
            "Contracts",
            "Net Zero"
           ]
          ],
          [
           "Green Loan “Starter Pack”",
           "Finance",
           [
            "Finance",
            "Net Zero"
           ]
          ],
          [
           "Late Payment – Green Interest Remedies",
           "Finance",
           [
            "Finance",
            "Net Zero",
            "Incentives"
           ]
          ],
          [
           "Lease: Renewable Energy Obligations",
           "Lease",
           [
            "Lease",
            "Net Zero",
            "Renewables"
           ]
          ]
         ],
         "hovertemplate": "color=4<br>x=%{x}<br>y=%{y}<br>Clause=%{customdata[0]}<br>PrimaryTag=%{customdata[1]}<br>Tags=%{customdata[2]}<extra></extra>",
         "legendgroup": "4",
         "marker": {
          "color": "#636efa",
          "opacity": 0.7,
          "size": 6,
          "symbol": "circle"
         },
         "mode": "markers",
         "name": "4",
         "orientation": "v",
         "showlegend": true,
         "type": "scatter",
         "x": {
          "bdata": "NFYBQFoi+D+Jfw9AUoLwP1mQIECgwRVAEaEJQCvfD0BcP/4/K90zQA==",
          "dtype": "f4"
         },
         "xaxis": "x",
         "y": {
          "bdata": "8U12P79RaD+lEUU/36OJP7mAeT9ki4w/N8E/PzjqhD96d5s/gHttPw==",
          "dtype": "f4"
         },
         "yaxis": "y"
        },
        {
         "customdata": [
          [
           "Auditing Water Usage in Supply Chains",
           "Supply Chain",
           [
            "Supply Chain",
            "Net Zero",
            "Reporting"
           ]
          ],
          [
           "Benchmarking of Project Greenhouse Gas Emissions",
           "Construction",
           [
            "Construction",
            "Net Zero",
            "Supply Chain"
           ]
          ],
          [
           "Climate Aligned Construction Waste Management",
           "Construction",
           [
            "Construction",
            "Net Zero"
           ]
          ],
          [
           "Construction: Procuring Materials and Carbon Budgets",
           "Construction",
           [
            "Construction",
            "Net Zero",
            "Contracts"
           ]
          ],
          [
           "Green Acquisition Obligations",
           "M&A",
           [
            "M&A",
            "Net Zero",
            "Incentives"
           ]
          ],
          [
           "MMC and Net Zero Provisions for Construction or Development Agreements",
           "Construction",
           [
            "Construction",
            "Net Zero",
            "Contracts"
           ]
          ],
          [
           "Net Zero Aligned Construction Modifications",
           "Construction",
           [
            "Construction",
            "Net Zero"
           ]
          ],
          [
           "Securing Net Zero in Planning Development Projects",
           "Planning",
           [
            "Planning",
            "Net Zero",
            "Construction"
           ]
          ],
          [
           "Sustainable On Site Working Practices",
           "Construction",
           [
            "Construction",
            "Energy Efficiency"
           ]
          ],
          [
           "The Net Zero Standard for Suppliers",
           "Supply Chain",
           [
            "Supply Chain",
            "Emissions",
            "Reporting"
           ]
          ],
          [
           "Transparent Sourcing of Greener, Fairer Renewable Energy",
           "Renewable Energy",
           [
            "Renewable Energy",
            "Supply Chain",
            "ESG"
           ]
          ]
         ],
         "hovertemplate": "color=8<br>x=%{x}<br>y=%{y}<br>Clause=%{customdata[0]}<br>PrimaryTag=%{customdata[1]}<br>Tags=%{customdata[2]}<extra></extra>",
         "legendgroup": "8",
         "marker": {
          "color": "#EF553B",
          "opacity": 0.7,
          "size": 6,
          "symbol": "circle"
         },
         "mode": "markers",
         "name": "8",
         "orientation": "v",
         "showlegend": true,
         "type": "scatter",
         "x": {
          "bdata": "rw8MQe8zCUH5EwdBwqMPQb/CCEFMJwNBbtgIQbVsC0HLHgxBPGAGQZNnEEE=",
          "dtype": "f4"
         },
         "xaxis": "x",
         "y": {
          "bdata": "qLErP5XChD9mw8M/gZ6HPzJRWD9rW8c/BrO4P3kltD/ilZ8/IMGLP8du7z4=",
          "dtype": "f4"
         },
         "yaxis": "y"
        },
        {
         "customdata": [
          [
           "Avoiding Excessive Paperwork in Dispute Resolution",
           "Dispute Resolution",
           [
            "Dispute Resolution",
            "Net Zero"
           ]
          ],
          [
           "Climate Checklist for Prospectuses and Other Public Offering Documents",
           "Reporting",
           [
            "Reporting",
            "Net Zero",
            "Finance"
           ]
          ],
          [
           "Commercial Lease: Alterations (improve environmental performance)",
           "Lease",
           [
            "Lease",
            "Net Zero",
            "Contracts"
           ]
          ],
          [
           "Conservation Covenant for Soil Preservation and Enhancement",
           "Land Use",
           [
            "Land Use",
            "Biodiversity",
            "Net Zero"
           ]
          ],
          [
           "ESG-Linked Pricing Adjustment for Derivatives Transactions",
           "Finance",
           [
            "Finance",
            "ESG",
            "Net Zero"
           ]
          ],
          [
           "Green Assured Shorthold Tenancy (AST) Clauses",
           "Lease",
           [
            "Lease",
            "Net Zero",
            "Renewables",
            "Incentives"
           ]
          ],
          [
           "Green Litigation and Arbitration Protocols",
           "Dispute Resolution",
           [
            "Dispute Resolution",
            "Governance",
            "Net Zero"
           ]
          ],
          [
           "Green Residential Lease Clauses",
           "Lease",
           [
            "Lease",
            "Net Zero"
           ]
          ],
          [
           "Heads of Terms for Landowner Collaboration on Environmental Schemes",
           "Land Use",
           [
            "Land Use",
            "Finance",
            "Net Zero",
            "Incentives"
           ]
          ],
          [
           "Land: Sustainable Soil Management",
           "Land Use",
           [
            "Land Use",
            "ESG"
           ]
          ],
          [
           "Landlord and Tenant Obligations to Create Additionality in Renewable Electricity Generation",
           "Lease",
           [
            "Lease",
            "Renewables",
            "Net Zero"
           ]
          ],
          [
           "Supply Chain Sustainable Land Use Clause and Questionnaire",
           "Supply Chain",
           [
            "Supply Chain",
            "Land Use",
            "ESG"
           ]
          ]
         ],
         "hovertemplate": "color=3<br>x=%{x}<br>y=%{y}<br>Clause=%{customdata[0]}<br>PrimaryTag=%{customdata[1]}<br>Tags=%{customdata[2]}<extra></extra>",
         "legendgroup": "3",
         "marker": {
          "color": "#00cc96",
          "opacity": 0.7,
          "size": 6,
          "symbol": "circle"
         },
         "mode": "markers",
         "name": "3",
         "orientation": "v",
         "showlegend": true,
         "type": "scatter",
         "x": {
          "bdata": "oWK1QEOawEAEfr5A8HbKQB7A0UC6fbJADUDBQM7NuUBAm85ALwrDQI0yw0CayblA",
          "dtype": "f4"
         },
         "xaxis": "x",
         "y": {
          "bdata": "SSUQPxf/hj5WFM4/LzOxP2autT4PM9A/WOUcPsbQrD8JSa8/U8Z+P5Q43z/3vYs/",
          "dtype": "f4"
         },
         "yaxis": "y"
        },
        {
         "customdata": [
          [
           "Board Minutes: Consideration of Climate Change Factors",
           "Governance",
           [
            "Governance",
            "Net Zero"
           ]
          ],
          [
           "Capital Markets ESG Due Diligence Questionnaire",
           "Finance",
           [
            "Finance",
            "Reporting",
            "ESG"
           ]
          ],
          [
           "Climate Change Clauses for Heads of Terms",
           "Contracts",
           [
            "Contracts",
            "Net Zero"
           ]
          ],
          [
           "Climate Due Diligence Questionnaire for M&A Transactions",
           "M&A",
           [
            "M&A",
            "Reporting",
            "Net Zero"
           ]
          ],
          [
           "Climate Lobbying and Responsible Investments: Policy Requirements",
           "Governance",
           [
            "Governance",
            "Net Zero",
            "Finance"
           ]
          ],
          [
           "Environmental Business Charter",
           "Governance",
           [
            "Governance",
            "Net Zero"
           ]
          ],
          [
           "ESG-Based Performance Conditions for Employee Incentive Awards",
           "Employment",
           [
            "Employment",
            "ESG",
            "Net Zero"
           ]
          ],
          [
           "Green Investment Obligations",
           "Finance",
           [
            "Finance",
            "Governance",
            "Net Zero"
           ]
          ],
          [
           "JCT Energy Efficiency and Environmental Obligations",
           "Construction",
           [
            "Construction",
            "Net Zero",
            "Contracts"
           ]
          ],
          [
           "Stakeholder Company Climate Questionnaire",
           "ESG",
           [
            "ESG",
            "Disclosure",
            "Governance"
           ]
          ],
          [
           "Sustainability Enterprise Delivery Measures within Construction Works Task Orders",
           "Construction",
           [
            "Construction",
            "Metrics",
            "Resilience"
           ]
          ],
          [
           "Template Board Paper for Significant Contracts/ Transactions",
           "Governance",
           [
            "Governance",
            "Risk",
            "Contracts"
           ]
          ]
         ],
         "hovertemplate": "color=0<br>x=%{x}<br>y=%{y}<br>Clause=%{customdata[0]}<br>PrimaryTag=%{customdata[1]}<br>Tags=%{customdata[2]}<extra></extra>",
         "legendgroup": "0",
         "marker": {
          "color": "#ab63fa",
          "opacity": 0.7,
          "size": 6,
          "symbol": "circle"
         },
         "mode": "markers",
         "name": "0",
         "orientation": "v",
         "showlegend": true,
         "type": "scatter",
         "x": {
          "bdata": "El6QQAKIpUBLiJ1ARzOsQLrRuEBQXZJAS2OUQCArrkAH96VAvl+fQNSbhUCVOZlA",
          "dtype": "f4"
         },
         "xaxis": "x",
         "y": {
          "bdata": "GtfuPRXeCT+/15g99aulPtYZF75guTA+dkhePXDBI74D8vy9HdWTPqejyj6v4o8+",
          "dtype": "f4"
         },
         "yaxis": "y"
        },
        {
         "customdata": [
          [
           "Board Paper Implementing Net Zero for SMEs",
           "Governance",
           [
            "Governance",
            "Net Zero"
           ]
          ],
          [
           "Climate-Related Disclosure in Loans",
           "Finance",
           [
            "Finance",
            "Reporting",
            "Net Zero"
           ]
          ],
          [
           "Employer-Employee Environmental Obligations",
           "Employment",
           [
            "Employment",
            "Net Zero"
           ]
          ],
          [
           "Greener and More Efficient HGVs in Road and Multimodal Transport Agreements",
           "Transport",
           [
            "Transport",
            "Net Zero",
            "Supply Chain"
           ]
          ],
          [
           "Parametric Insurance Incentives for the Protection of Coral Reefs",
           "Insurance",
           [
            "Insurance",
            "Biodiversity",
            "Adaptation"
           ]
          ],
          [
           "Supply: Renewable Energy Requirements",
           "Supply Chain",
           [
            "Supply Chain",
            "Renewable Energy"
           ]
          ],
          [
           "Sustainability KPIs in Construction Works Task Orders",
           "Construction",
           [
            "Construction",
            "Metrics",
            "ESG"
           ]
          ],
          [
           "Sustainability-Linked Loans",
           "Finance",
           [
            "Finance",
            "Lending",
            "ESG"
           ]
          ]
         ],
         "hovertemplate": "color=2<br>x=%{x}<br>y=%{y}<br>Clause=%{customdata[0]}<br>PrimaryTag=%{customdata[1]}<br>Tags=%{customdata[2]}<extra></extra>",
         "legendgroup": "2",
         "marker": {
          "color": "#FFA15A",
          "opacity": 0.7,
          "size": 6,
          "symbol": "circle"
         },
         "mode": "markers",
         "name": "2",
         "orientation": "v",
         "showlegend": true,
         "type": "scatter",
         "x": {
          "bdata": "KjJfQAckTEDGx1tA4dpvQMR4bEDK9VdA7dVeQL23d0A=",
          "dtype": "f4"
         },
         "xaxis": "x",
         "y": {
          "bdata": "H30XPvvoiz3eUsM+7dt8P1Ckmz9W8WQ/w/wjPxP3HD8=",
          "dtype": "f4"
         },
         "yaxis": "y"
        },
        {
         "customdata": [
          [
           "Carbon Contract Clauses for Environmental Performance, and Associated Incentives and Remedies",
           "Supply Chain",
           [
            "Supply Chain",
            "Contracts",
            "Net Zero",
            "Incentives"
           ]
          ],
          [
           "Carbon Footprint Reduction – Mutual Notification Right (Carbon Footprint Reduction Notice)",
           "Supply Chain",
           [
            "Supply Chain",
            "Contracts",
            "Net Zero"
           ]
          ],
          [
           "Climate Purposed NDA Terms (Confidentiality Agreement)",
           "Contracts",
           [
            "Contracts",
            "Net Zero"
           ]
          ],
          [
           "Climate Standard Transaction Terms",
           "Finance",
           [
            "Finance",
            "Net Zero",
            "Contracts"
           ]
          ],
          [
           "Coolerplate Clauses (Climate Aligned Boilerplate)",
           "Contracts",
           [
            "Contracts",
            "Net Zero"
           ]
          ],
          [
           "GHG Emissions Management Plans in Infrastructure and Construction Project Finance",
           "Finance",
           [
            "Finance",
            "Construction",
            "Net Zero"
           ]
          ],
          [
           "Green Supplier Agreement Terms",
           "Supply Chain",
           [
            "Supply Chain",
            "Net Zero",
            "Contracts"
           ]
          ],
          [
           "Intellectual Property: Free Licence for Climate Purposes",
           "Contracts",
           [
            "Contracts",
            "ESG"
           ]
          ],
          [
           "Net Zero Land Promotion Agreement",
           "Land Use",
           [
            "Land Use",
            "Net Zero",
            "Planning"
           ]
          ],
          [
           "Net Zero Obligations in FIDIC EPC Contracts",
           "Construction",
           [
            "Construction",
            "Net Zero",
            "Contracts"
           ]
          ],
          [
           "Net Zero Target Supply Chain Cascade Clauses",
           "Supply Chain",
           [
            "Supply Chain",
            "Net Zero",
            "Contracts"
           ]
          ],
          [
           "Sponsorship Agreement: Net Zero Outcome",
           "Contracts",
           [
            "Contracts",
            "Net Zero",
            "Marketing"
           ]
          ],
          [
           "Supplier Environmental Threshold Obligations",
           "Supply Chain",
           [
            "Supply Chain",
            "Emissions",
            "Contracts"
           ]
          ],
          [
           "Target Product Carbon Footprint (Schedule for Consumer Goods Contracts)",
           "Supply Chain",
           [
            "Supply Chain",
            "Scope 3",
            "Emissions"
           ]
          ]
         ],
         "hovertemplate": "color=7<br>x=%{x}<br>y=%{y}<br>Clause=%{customdata[0]}<br>PrimaryTag=%{customdata[1]}<br>Tags=%{customdata[2]}<extra></extra>",
         "legendgroup": "7",
         "marker": {
          "color": "#19d3f3",
          "opacity": 0.7,
          "size": 6,
          "symbol": "circle"
         },
         "mode": "markers",
         "name": "7",
         "orientation": "v",
         "showlegend": true,
         "type": "scatter",
         "x": {
          "bdata": "R8vvQCANAUEDkOVAJ+bvQHYb40CGFv9AWoL8QLUY6kBHIttACQ79QAbv9UAZpfBAY831QBF67EA=",
          "dtype": "f4"
         },
         "xaxis": "x",
         "y": {
          "bdata": "MZnPP5UIYj9ZCT4/KxosP01kmT9EFr4+14mZPxoemz+xc6o/8HqmPyEThD98Z5k/5sjMP/e42z8=",
          "dtype": "f4"
         },
         "yaxis": "y"
        },
        {
         "customdata": [
          [
           "Circular Economy Product Design Obligation",
           "Supply Chain",
           [
            "Supply Chain",
            "Net Zero",
            "Incentives"
           ]
          ],
          [
           "Climate Standard of Care (Construction)",
           "Construction",
           [
            "Construction",
            "Net Zero"
           ]
          ],
          [
           "Climate-Linked Contractual Discretions",
           "Contracts",
           [
            "Contracts",
            "Net Zero",
            "Incentives"
           ]
          ],
          [
           "CLLS Certificate of Title: Climate Change Disclosures",
           "Reporting",
           [
            "Reporting",
            "Real Estate",
            "Net Zero"
           ]
          ],
          [
           "Green Termination Provision (Short Form)",
           "Contracts",
           [
            "Contracts",
            "Net Zero",
            "Procurement"
           ]
          ],
          [
           "Green Transaction Execution Protocols",
           "Contracts",
           [
            "Contracts",
            "Net Zero"
           ]
          ],
          [
           "Promotion of Carbon Sinks and Ecological Restoration in Lettings of Rural Land",
           "Land Use",
           [
            "Land Use",
            "Biodiversity",
            "Carbon Removal"
           ]
          ],
          [
           "Promotion of Regenerative Farming Methods through Profit of Pasturage Agreements",
           "Land Use",
           [
            "Land Use",
            "Agriculture",
            "Biodiversity"
           ]
          ],
          [
           "Repair or Refurbishment in Insurance Claims",
           "Insurance",
           [
            "Insurance",
            "Circular Economy"
           ]
          ],
          [
           "Report on Title – Climate Change Clauses",
           "Reporting",
           [
            "Reporting",
            "Real Estate",
            "Risk"
           ]
          ],
          [
           "Supply: Termination for Greener Supplier",
           "Supply Chain",
           [
            "Supply Chain",
            "Contracts",
            "Termination"
           ]
          ],
          [
           "The ‘Green Supplier’ Contract – A Standardised Contractual Pricing Model",
           "Supply Chain",
           [
            "Supply Chain",
            "Emissions",
            "Incentives"
           ]
          ]
         ],
         "hovertemplate": "color=1<br>x=%{x}<br>y=%{y}<br>Clause=%{customdata[0]}<br>PrimaryTag=%{customdata[1]}<br>Tags=%{customdata[2]}<extra></extra>",
         "legendgroup": "1",
         "marker": {
          "color": "#FF6692",
          "opacity": 0.7,
          "size": 6,
          "symbol": "circle"
         },
         "mode": "markers",
         "name": "1",
         "orientation": "v",
         "showlegend": true,
         "type": "scatter",
         "x": {
          "bdata": "TeuTQAgvh0AAhJJAHIyoQCIMoUDkf5lAuRihQLNrn0Dbf4RAv7CmQFdCl0Dj+IBA",
          "dtype": "f4"
         },
         "xaxis": "x",
         "y": {
          "bdata": "GD+PP/HNZj+1clI/62lHP1sZnT8MgT0/qfXJPxHywz+g/Zw/uBBXP9cKsz999Ts/",
          "dtype": "f4"
         },
         "yaxis": "y"
        },
        {
         "customdata": [
          [
           "Climate Change Due Diligence Questionnaire for Suppliers",
           "Supply Chain",
           [
            "Supply Chain",
            "Reporting",
            "Net Zero"
           ]
          ],
          [
           "Climate Contract Risk Sharing (ex Force Majeure)",
           "Contracts",
           [
            "Contracts",
            "Net Zero",
            "Dispute Resolution"
           ]
          ],
          [
           "Climate Purchase Agreement and Underwriting Sponsor Warranties",
           "Finance",
           [
            "Finance",
            "Governance",
            "Net Zero",
            "Contracts"
           ]
          ],
          [
           "Climate-Linked Product Surveillance",
           "Supply Chain",
           [
            "Supply Chain",
            "Net Zero",
            "Contracts"
           ]
          ],
          [
           "Employee Climate Engagement Provisions",
           "Employment",
           [
            "Employment",
            "Net Zero",
            "Governance"
           ]
          ],
          [
           "Green Service Charge Provisions for Commercial Leases",
           "Lease",
           [
            "Lease",
            "Net Zero",
            "Governance"
           ]
          ],
          [
           "Low Carbon Arbitrations",
           "Dispute Resolution",
           [
            "Dispute Resolution",
            "Net Zero"
           ]
          ],
          [
           "Net Zero Convertible Loan Note",
           "Finance",
           [
            "Finance",
            "Net Zero",
            "ESG"
           ]
          ],
          [
           "Net Zero Culture Employment Handbook",
           "Employment",
           [
            "Employment",
            "Net Zero",
            "Governance"
           ]
          ],
          [
           "Net Zero Within Company Whistleblowing Policies",
           "Governance",
           [
            "Governance",
            "Net Zero",
            "Employment"
           ]
          ],
          [
           "Reducing Supply Chain Food Waste",
           "Supply Chain",
           [
            "Supply Chain",
            "Food",
            "ESG"
           ]
          ],
          [
           "Sustainability Clauses in Supply Chain Contracts",
           "Supply Chain",
           [
            "Supply Chain",
            "ESG",
            "Contracts"
           ]
          ],
          [
           "TV Production: Promotion of Sustainable Consumption and Travel",
           "Media",
           [
            "Media",
            "Consumption",
            "Transport"
           ]
          ]
         ],
         "hovertemplate": "color=10<br>x=%{x}<br>y=%{y}<br>Clause=%{customdata[0]}<br>PrimaryTag=%{customdata[1]}<br>Tags=%{customdata[2]}<extra></extra>",
         "legendgroup": "10",
         "marker": {
          "color": "#B6E880",
          "opacity": 0.7,
          "size": 6,
          "symbol": "circle"
         },
         "mode": "markers",
         "name": "10",
         "orientation": "v",
         "showlegend": true,
         "type": "scatter",
         "x": {
          "bdata": "kaEHQe4bCUGBcwxBrPQPQS3tBUEj3w5BzOIKQb2OAEFO5QRBrJIJQXLXD0G4HRJB4TsRQQ==",
          "dtype": "f4"
         },
         "xaxis": "x",
         "y": {
          "bdata": "xfDNvojf6j0PeAq/T7OrvaxUV7+ABzS/sw8Jv2ThJD7gvFO/IMY7v8ATu72lqQw+0Neivg==",
          "dtype": "f4"
         },
         "yaxis": "y"
        },
        {
         "customdata": [
          [
           "Climate Policy Footprint",
           "Reporting",
           [
            "Reporting",
            "Governance",
            "Net Zero"
           ]
          ],
          [
           "Climate-Related Knowledge Sharing Between Insurer and Insured",
           "Insurance",
           [
            "Insurance",
            "Net Zero",
            "Governance"
           ]
          ],
          [
           "Climate-Related Liability Cover (Commercial Insureds)",
           "Insurance",
           [
            "Insurance",
            "Net Zero",
            "Dispute Resolution"
           ]
          ],
          [
           "Condition to Liability Cover for Climate-Related Claims (Commercial Insureds)",
           "Insurance",
           [
            "Insurance",
            "Net Zero",
            "Governance"
           ]
          ],
          [
           "ESG Aligned Company Articles",
           "Governance",
           [
            "Governance",
            "ESG",
            "Net Zero"
           ]
          ],
          [
           "General Condition to Commercial Insurance Policies: Climate Change Risk Assessment",
           "Insurance",
           [
            "Insurance",
            "Net Zero",
            "Governance"
           ]
          ],
          [
           "Green Dispute Reporting in After the Event Insurance Policies",
           "Insurance",
           [
            "Insurance",
            "Dispute Resolution",
            "Governance"
           ]
          ],
          [
           "Green or Sustainability-Linked Lending Requirement",
           "Finance",
           [
            "Finance",
            "Net Zero",
            "ESG"
           ]
          ],
          [
           "Green Shareholders’ Agreement (Short Form for SMEs)",
           "Governance",
           [
            "Governance",
            "SMEs",
            "Net Zero"
           ]
          ],
          [
           "Green Shareholders’ Agreement",
           "Governance",
           [
            "Governance",
            "Net Zero",
            "ESG"
           ]
          ],
          [
           "Incentives for Insured Parties to Disclose and Meet GHG Emissions Targets",
           "Insurance",
           [
            "Insurance",
            "Net Zero",
            "Incentives"
           ]
          ],
          [
           "Insurance Premium Adjustment for D&O Climate-related Financial Disclosures",
           "Insurance",
           [
            "Insurance",
            "Net Zero",
            "Reporting",
            "Governance"
           ]
          ],
          [
           "Insurance: Disclosure and Mitigation of Pending Climate Change Litigation",
           "Insurance",
           [
            "Insurance",
            "Dispute Resolution",
            "Governance"
           ]
          ],
          [
           "Interest Ratchet Clause for Carbon Saving",
           "Finance",
           [
            "Finance",
            "Net Zero",
            "Incentives"
           ]
          ],
          [
           "Management Equity Ratchet Terms",
           "Finance",
           [
            "Finance",
            "ESG",
            "Incentives"
           ]
          ],
          [
           "Net Zero Completion Adjustment Clause",
           "M&A",
           [
            "M&A",
            "Finance",
            "Net Zero",
            "Incentives"
           ]
          ],
          [
           "Shareholder Resolutions Relating to a Company’s Climate Change Commitments",
           "Governance",
           [
            "Governance",
            "Net Zero",
            "Reporting"
           ]
          ],
          [
           "Sustainability Reporting Clause for the Constitution of a Private Limited Company",
           "Governance",
           [
            "Governance",
            "Reporting",
            "ESG"
           ]
          ]
         ],
         "hovertemplate": "color=6<br>x=%{x}<br>y=%{y}<br>Clause=%{customdata[0]}<br>PrimaryTag=%{customdata[1]}<br>Tags=%{customdata[2]}<extra></extra>",
         "legendgroup": "6",
         "marker": {
          "color": "#FF97FF",
          "opacity": 0.7,
          "size": 6,
          "symbol": "circle"
         },
         "mode": "markers",
         "name": "6",
         "orientation": "v",
         "showlegend": true,
         "type": "scatter",
         "x": {
          "bdata": "IMriQIIu20B9jOlAlk/OQBDT30DLBNpA5wvoQH82wEAk3elAhR/mQHxK3EBMReZANrXhQADtxUAsbcNA0im9QDs14UD/f+RA",
          "dtype": "f4"
         },
         "xaxis": "x",
         "y": {
          "bdata": "71gfv3jI2b7BCOy9GC+Qvq7PkT7m/4y8RF89vhSCh7/f4nO/HDlqv1wsVT7VZtq+1Za5vvEYlr8qP4i/3qCDv74+fL/hmzS/",
          "dtype": "f4"
         },
         "yaxis": "y"
        },
        {
         "customdata": [
          [
           "Climate Recitals",
           "Contracts",
           [
            "Contracts",
            "Net Zero"
           ]
          ],
          [
           "Commercial Lease: Repairs and Alterations (circular economy)",
           "Lease",
           [
            "Lease",
            "Net Zero",
            "Contracts"
           ]
          ],
          [
           "Gain-Share Incentive for Reducing GHG Emissions",
           "Incentives",
           [
            "Incentives",
            "Net Zero",
            "Contracts"
           ]
          ],
          [
           "SME’s Net Zero Objectives",
           "SME",
           [
            "SME",
            "Contracts",
            "Net Zero"
           ]
          ],
          [
           "Subcontractor/ Supplier Self-Assessment Climate Questionnaire (Construction)",
           "Construction",
           [
            "Construction",
            "Supply Chain",
            "ESG"
           ]
          ],
          [
           "Supply Chain Emissions Scorecard",
           "Supply Chain",
           [
            "Supply Chain",
            "Reporting",
            "Risk"
           ]
          ]
         ],
         "hovertemplate": "color=5<br>x=%{x}<br>y=%{y}<br>Clause=%{customdata[0]}<br>PrimaryTag=%{customdata[1]}<br>Tags=%{customdata[2]}<extra></extra>",
         "legendgroup": "5",
         "marker": {
          "color": "#FECB52",
          "opacity": 0.7,
          "size": 6,
          "symbol": "circle"
         },
         "mode": "markers",
         "name": "5",
         "orientation": "v",
         "showlegend": true,
         "type": "scatter",
         "x": {
          "bdata": "jr0eQMWnOkDU/TBAVlgrQDIUDkA66AFA",
          "dtype": "f4"
         },
         "xaxis": "x",
         "y": {
          "bdata": "2om4PkMLmT4DvBo/TLHhPsQCvz4xCdQ+",
          "dtype": "f4"
         },
         "yaxis": "y"
        },
        {
         "customdata": [
          [
           "Entire Business Net Zero Objectives",
           "Net Zero",
           [
            "Net Zero",
            "Governance"
           ]
          ],
          [
           "Green Company Articles",
           "Governance",
           [
            "Governance",
            "Net Zero"
           ]
          ],
          [
           "Indigenous/ Local Knowledge in Board Director Appointments",
           "Governance",
           [
            "Governance",
            "ESG"
           ]
          ],
          [
           "Open Source Data Sharing: Enabling Sustainable Mobility for Cities",
           "Transport",
           [
            "Transport",
            "Data",
            "ESG"
           ]
          ],
          [
           "Paris Aligned Company Articles",
           "Governance",
           [
            "Governance",
            "ESG",
            "Net Zero"
           ]
          ],
          [
           "SPA/ Investment Agreement: Disclosure of Climate Change Plans",
           "M&A",
           [
            "M&A",
            "Disclosure",
            "Net Zero"
           ]
          ]
         ],
         "hovertemplate": "color=9<br>x=%{x}<br>y=%{y}<br>Clause=%{customdata[0]}<br>PrimaryTag=%{customdata[1]}<br>Tags=%{customdata[2]}<extra></extra>",
         "legendgroup": "9",
         "marker": {
          "color": "#636efa",
          "opacity": 0.7,
          "size": 6,
          "symbol": "circle"
         },
         "mode": "markers",
         "name": "9",
         "orientation": "v",
         "showlegend": true,
         "type": "scatter",
         "x": {
          "bdata": "8oTzQMOw+kALa/tAuYn/QLyX/kDdrgJB",
          "dtype": "f4"
         },
         "xaxis": "x",
         "y": {
          "bdata": "FET9vruSEL9RSD2/XjNevhcPa7/hWI6/",
          "dtype": "f4"
         },
         "yaxis": "y"
        }
       ],
       "layout": {
        "height": 900,
        "legend": {
         "title": {
          "text": "color"
         },
         "tracegroupgap": 0
        },
        "margin": {
         "b": 20,
         "l": 20,
         "r": 20,
         "t": 40
        },
        "template": {
         "data": {
          "bar": [
           {
            "error_x": {
             "color": "#2a3f5f"
            },
            "error_y": {
             "color": "#2a3f5f"
            },
            "marker": {
             "line": {
              "color": "#E5ECF6",
              "width": 0.5
             },
             "pattern": {
              "fillmode": "overlay",
              "size": 10,
              "solidity": 0.2
             }
            },
            "type": "bar"
           }
          ],
          "barpolar": [
           {
            "marker": {
             "line": {
              "color": "#E5ECF6",
              "width": 0.5
             },
             "pattern": {
              "fillmode": "overlay",
              "size": 10,
              "solidity": 0.2
             }
            },
            "type": "barpolar"
           }
          ],
          "carpet": [
           {
            "aaxis": {
             "endlinecolor": "#2a3f5f",
             "gridcolor": "white",
             "linecolor": "white",
             "minorgridcolor": "white",
             "startlinecolor": "#2a3f5f"
            },
            "baxis": {
             "endlinecolor": "#2a3f5f",
             "gridcolor": "white",
             "linecolor": "white",
             "minorgridcolor": "white",
             "startlinecolor": "#2a3f5f"
            },
            "type": "carpet"
           }
          ],
          "choropleth": [
           {
            "colorbar": {
             "outlinewidth": 0,
             "ticks": ""
            },
            "type": "choropleth"
           }
          ],
          "contour": [
           {
            "colorbar": {
             "outlinewidth": 0,
             "ticks": ""
            },
            "colorscale": [
             [
              0,
              "#0d0887"
             ],
             [
              0.1111111111111111,
              "#46039f"
             ],
             [
              0.2222222222222222,
              "#7201a8"
             ],
             [
              0.3333333333333333,
              "#9c179e"
             ],
             [
              0.4444444444444444,
              "#bd3786"
             ],
             [
              0.5555555555555556,
              "#d8576b"
             ],
             [
              0.6666666666666666,
              "#ed7953"
             ],
             [
              0.7777777777777778,
              "#fb9f3a"
             ],
             [
              0.8888888888888888,
              "#fdca26"
             ],
             [
              1,
              "#f0f921"
             ]
            ],
            "type": "contour"
           }
          ],
          "contourcarpet": [
           {
            "colorbar": {
             "outlinewidth": 0,
             "ticks": ""
            },
            "type": "contourcarpet"
           }
          ],
          "heatmap": [
           {
            "colorbar": {
             "outlinewidth": 0,
             "ticks": ""
            },
            "colorscale": [
             [
              0,
              "#0d0887"
             ],
             [
              0.1111111111111111,
              "#46039f"
             ],
             [
              0.2222222222222222,
              "#7201a8"
             ],
             [
              0.3333333333333333,
              "#9c179e"
             ],
             [
              0.4444444444444444,
              "#bd3786"
             ],
             [
              0.5555555555555556,
              "#d8576b"
             ],
             [
              0.6666666666666666,
              "#ed7953"
             ],
             [
              0.7777777777777778,
              "#fb9f3a"
             ],
             [
              0.8888888888888888,
              "#fdca26"
             ],
             [
              1,
              "#f0f921"
             ]
            ],
            "type": "heatmap"
           }
          ],
          "histogram": [
           {
            "marker": {
             "pattern": {
              "fillmode": "overlay",
              "size": 10,
              "solidity": 0.2
             }
            },
            "type": "histogram"
           }
          ],
          "histogram2d": [
           {
            "colorbar": {
             "outlinewidth": 0,
             "ticks": ""
            },
            "colorscale": [
             [
              0,
              "#0d0887"
             ],
             [
              0.1111111111111111,
              "#46039f"
             ],
             [
              0.2222222222222222,
              "#7201a8"
             ],
             [
              0.3333333333333333,
              "#9c179e"
             ],
             [
              0.4444444444444444,
              "#bd3786"
             ],
             [
              0.5555555555555556,
              "#d8576b"
             ],
             [
              0.6666666666666666,
              "#ed7953"
             ],
             [
              0.7777777777777778,
              "#fb9f3a"
             ],
             [
              0.8888888888888888,
              "#fdca26"
             ],
             [
              1,
              "#f0f921"
             ]
            ],
            "type": "histogram2d"
           }
          ],
          "histogram2dcontour": [
           {
            "colorbar": {
             "outlinewidth": 0,
             "ticks": ""
            },
            "colorscale": [
             [
              0,
              "#0d0887"
             ],
             [
              0.1111111111111111,
              "#46039f"
             ],
             [
              0.2222222222222222,
              "#7201a8"
             ],
             [
              0.3333333333333333,
              "#9c179e"
             ],
             [
              0.4444444444444444,
              "#bd3786"
             ],
             [
              0.5555555555555556,
              "#d8576b"
             ],
             [
              0.6666666666666666,
              "#ed7953"
             ],
             [
              0.7777777777777778,
              "#fb9f3a"
             ],
             [
              0.8888888888888888,
              "#fdca26"
             ],
             [
              1,
              "#f0f921"
             ]
            ],
            "type": "histogram2dcontour"
           }
          ],
          "mesh3d": [
           {
            "colorbar": {
             "outlinewidth": 0,
             "ticks": ""
            },
            "type": "mesh3d"
           }
          ],
          "parcoords": [
           {
            "line": {
             "colorbar": {
              "outlinewidth": 0,
              "ticks": ""
             }
            },
            "type": "parcoords"
           }
          ],
          "pie": [
           {
            "automargin": true,
            "type": "pie"
           }
          ],
          "scatter": [
           {
            "fillpattern": {
             "fillmode": "overlay",
             "size": 10,
             "solidity": 0.2
            },
            "type": "scatter"
           }
          ],
          "scatter3d": [
           {
            "line": {
             "colorbar": {
              "outlinewidth": 0,
              "ticks": ""
             }
            },
            "marker": {
             "colorbar": {
              "outlinewidth": 0,
              "ticks": ""
             }
            },
            "type": "scatter3d"
           }
          ],
          "scattercarpet": [
           {
            "marker": {
             "colorbar": {
              "outlinewidth": 0,
              "ticks": ""
             }
            },
            "type": "scattercarpet"
           }
          ],
          "scattergeo": [
           {
            "marker": {
             "colorbar": {
              "outlinewidth": 0,
              "ticks": ""
             }
            },
            "type": "scattergeo"
           }
          ],
          "scattergl": [
           {
            "marker": {
             "colorbar": {
              "outlinewidth": 0,
              "ticks": ""
             }
            },
            "type": "scattergl"
           }
          ],
          "scattermap": [
           {
            "marker": {
             "colorbar": {
              "outlinewidth": 0,
              "ticks": ""
             }
            },
            "type": "scattermap"
           }
          ],
          "scattermapbox": [
           {
            "marker": {
             "colorbar": {
              "outlinewidth": 0,
              "ticks": ""
             }
            },
            "type": "scattermapbox"
           }
          ],
          "scatterpolar": [
           {
            "marker": {
             "colorbar": {
              "outlinewidth": 0,
              "ticks": ""
             }
            },
            "type": "scatterpolar"
           }
          ],
          "scatterpolargl": [
           {
            "marker": {
             "colorbar": {
              "outlinewidth": 0,
              "ticks": ""
             }
            },
            "type": "scatterpolargl"
           }
          ],
          "scatterternary": [
           {
            "marker": {
             "colorbar": {
              "outlinewidth": 0,
              "ticks": ""
             }
            },
            "type": "scatterternary"
           }
          ],
          "surface": [
           {
            "colorbar": {
             "outlinewidth": 0,
             "ticks": ""
            },
            "colorscale": [
             [
              0,
              "#0d0887"
             ],
             [
              0.1111111111111111,
              "#46039f"
             ],
             [
              0.2222222222222222,
              "#7201a8"
             ],
             [
              0.3333333333333333,
              "#9c179e"
             ],
             [
              0.4444444444444444,
              "#bd3786"
             ],
             [
              0.5555555555555556,
              "#d8576b"
             ],
             [
              0.6666666666666666,
              "#ed7953"
             ],
             [
              0.7777777777777778,
              "#fb9f3a"
             ],
             [
              0.8888888888888888,
              "#fdca26"
             ],
             [
              1,
              "#f0f921"
             ]
            ],
            "type": "surface"
           }
          ],
          "table": [
           {
            "cells": {
             "fill": {
              "color": "#EBF0F8"
             },
             "line": {
              "color": "white"
             }
            },
            "header": {
             "fill": {
              "color": "#C8D4E3"
             },
             "line": {
              "color": "white"
             }
            },
            "type": "table"
           }
          ]
         },
         "layout": {
          "annotationdefaults": {
           "arrowcolor": "#2a3f5f",
           "arrowhead": 0,
           "arrowwidth": 1
          },
          "autotypenumbers": "strict",
          "coloraxis": {
           "colorbar": {
            "outlinewidth": 0,
            "ticks": ""
           }
          },
          "colorscale": {
           "diverging": [
            [
             0,
             "#8e0152"
            ],
            [
             0.1,
             "#c51b7d"
            ],
            [
             0.2,
             "#de77ae"
            ],
            [
             0.3,
             "#f1b6da"
            ],
            [
             0.4,
             "#fde0ef"
            ],
            [
             0.5,
             "#f7f7f7"
            ],
            [
             0.6,
             "#e6f5d0"
            ],
            [
             0.7,
             "#b8e186"
            ],
            [
             0.8,
             "#7fbc41"
            ],
            [
             0.9,
             "#4d9221"
            ],
            [
             1,
             "#276419"
            ]
           ],
           "sequential": [
            [
             0,
             "#0d0887"
            ],
            [
             0.1111111111111111,
             "#46039f"
            ],
            [
             0.2222222222222222,
             "#7201a8"
            ],
            [
             0.3333333333333333,
             "#9c179e"
            ],
            [
             0.4444444444444444,
             "#bd3786"
            ],
            [
             0.5555555555555556,
             "#d8576b"
            ],
            [
             0.6666666666666666,
             "#ed7953"
            ],
            [
             0.7777777777777778,
             "#fb9f3a"
            ],
            [
             0.8888888888888888,
             "#fdca26"
            ],
            [
             1,
             "#f0f921"
            ]
           ],
           "sequentialminus": [
            [
             0,
             "#0d0887"
            ],
            [
             0.1111111111111111,
             "#46039f"
            ],
            [
             0.2222222222222222,
             "#7201a8"
            ],
            [
             0.3333333333333333,
             "#9c179e"
            ],
            [
             0.4444444444444444,
             "#bd3786"
            ],
            [
             0.5555555555555556,
             "#d8576b"
            ],
            [
             0.6666666666666666,
             "#ed7953"
            ],
            [
             0.7777777777777778,
             "#fb9f3a"
            ],
            [
             0.8888888888888888,
             "#fdca26"
            ],
            [
             1,
             "#f0f921"
            ]
           ]
          },
          "colorway": [
           "#636efa",
           "#EF553B",
           "#00cc96",
           "#ab63fa",
           "#FFA15A",
           "#19d3f3",
           "#FF6692",
           "#B6E880",
           "#FF97FF",
           "#FECB52"
          ],
          "font": {
           "color": "#2a3f5f"
          },
          "geo": {
           "bgcolor": "white",
           "lakecolor": "white",
           "landcolor": "#E5ECF6",
           "showlakes": true,
           "showland": true,
           "subunitcolor": "white"
          },
          "hoverlabel": {
           "align": "left"
          },
          "hovermode": "closest",
          "mapbox": {
           "style": "light"
          },
          "paper_bgcolor": "white",
          "plot_bgcolor": "#E5ECF6",
          "polar": {
           "angularaxis": {
            "gridcolor": "white",
            "linecolor": "white",
            "ticks": ""
           },
           "bgcolor": "#E5ECF6",
           "radialaxis": {
            "gridcolor": "white",
            "linecolor": "white",
            "ticks": ""
           }
          },
          "scene": {
           "xaxis": {
            "backgroundcolor": "#E5ECF6",
            "gridcolor": "white",
            "gridwidth": 2,
            "linecolor": "white",
            "showbackground": true,
            "ticks": "",
            "zerolinecolor": "white"
           },
           "yaxis": {
            "backgroundcolor": "#E5ECF6",
            "gridcolor": "white",
            "gridwidth": 2,
            "linecolor": "white",
            "showbackground": true,
            "ticks": "",
            "zerolinecolor": "white"
           },
           "zaxis": {
            "backgroundcolor": "#E5ECF6",
            "gridcolor": "white",
            "gridwidth": 2,
            "linecolor": "white",
            "showbackground": true,
            "ticks": "",
            "zerolinecolor": "white"
           }
          },
          "shapedefaults": {
           "line": {
            "color": "#2a3f5f"
           }
          },
          "ternary": {
           "aaxis": {
            "gridcolor": "white",
            "linecolor": "white",
            "ticks": ""
           },
           "baxis": {
            "gridcolor": "white",
            "linecolor": "white",
            "ticks": ""
           },
           "bgcolor": "#E5ECF6",
           "caxis": {
            "gridcolor": "white",
            "linecolor": "white",
            "ticks": ""
           }
          },
          "title": {
           "x": 0.05
          },
          "xaxis": {
           "automargin": true,
           "gridcolor": "white",
           "linecolor": "white",
           "ticks": "",
           "title": {
            "standoff": 15
           },
           "zerolinecolor": "white",
           "zerolinewidth": 2
          },
          "yaxis": {
           "automargin": true,
           "gridcolor": "white",
           "linecolor": "white",
           "ticks": "",
           "title": {
            "standoff": 15
           },
           "zerolinecolor": "white",
           "zerolinewidth": 2
          }
         }
        },
        "title": {
         "text": "Hybrid UMAP: Text Embeddings + Tags + HDBSCAN Clusters"
        },
        "width": 600,
        "xaxis": {
         "anchor": "y",
         "domain": [
          0,
          1
         ],
         "title": {
          "text": "x"
         }
        },
        "yaxis": {
         "anchor": "x",
         "domain": [
          0,
          1
         ],
         "range": [
          -5,
          5
         ],
         "title": {
          "text": "y"
         }
        }
       }
      }
     },
     "metadata": {},
     "output_type": "display_data"
    }
   ],
   "source": [
    "utils.plot_clusters(clause_tags, forced_labels, hybrid_2d)"
   ]
  },
  {
   "cell_type": "code",
   "execution_count": 114,
   "id": "458a3cc3",
   "metadata": {},
   "outputs": [],
   "source": [
    "#save clause_tags \n",
    "\n",
    "clause_tags.to_excel(\"../data/clause_tags_with_clusters.xlsx\", index=False)"
   ]
  },
  {
   "cell_type": "markdown",
   "id": "92ebcdef",
   "metadata": {},
   "source": [
    "___"
   ]
  },
  {
   "cell_type": "markdown",
   "id": "6ce38b0f",
   "metadata": {},
   "source": [
    "# Training a Classifier"
   ]
  },
  {
   "cell_type": "code",
   "execution_count": 115,
   "id": "71c62f6e",
   "metadata": {},
   "outputs": [
    {
     "name": "stdout",
     "output_type": "stream",
     "text": [
      "(122, 768)\n"
     ]
    }
   ],
   "source": [
    "X_train, X_test, y_train, y_test = utils.prepare_cluster(clause_tags, model, tokenizer, forced_labels)\n"
   ]
  },
  {
   "cell_type": "code",
   "execution_count": 116,
   "id": "e2b65280",
   "metadata": {},
   "outputs": [
    {
     "name": "stdout",
     "output_type": "stream",
     "text": [
      "MLP Classifier:\n",
      "               precision    recall  f1-score   support\n",
      "\n",
      "           0       1.00      0.50      0.67         2\n",
      "           1       0.50      0.50      0.50         2\n",
      "           2       1.00      0.50      0.67         2\n",
      "           3       0.67      1.00      0.80         2\n",
      "           4       1.00      1.00      1.00         2\n",
      "           5       0.67      1.00      0.80         2\n",
      "           6       0.67      0.67      0.67         3\n",
      "           7       0.25      0.50      0.33         2\n",
      "           8       1.00      1.00      1.00         2\n",
      "           9       0.00      0.00      0.00         2\n",
      "          10       1.00      1.00      1.00         2\n",
      "\n",
      "    accuracy                           0.70        23\n",
      "   macro avg       0.70      0.70      0.68        23\n",
      "weighted avg       0.70      0.70      0.68        23\n",
      "\n"
     ]
    }
   ],
   "source": [
    "clf = MLPClassifier(hidden_layer_sizes=(128, 64), activation='relu', max_iter=500, alpha = 0.01, learning_rate= 'constant', solver = 'adam', random_state=42)\n",
    "clf.fit(X_train, y_train)\n",
    "\n",
    "y_pred = clf.predict(X_test)\n",
    "print(\"MLP Classifier:\\n\", classification_report(y_test, y_pred, zero_division=0))\n"
   ]
  },
  {
   "cell_type": "code",
   "execution_count": 117,
   "id": "b293dfe5",
   "metadata": {},
   "outputs": [],
   "source": [
    "#save the clustering model \n",
    "import pickle\n",
    "with open('clustering_model.pkl', 'wb') as f:\n",
    "    pickle.dump(clf, f)"
   ]
  },
  {
   "cell_type": "markdown",
   "id": "4dbd6263",
   "metadata": {},
   "source": [
    "____"
   ]
  },
  {
   "cell_type": "markdown",
   "id": "593b2c16",
   "metadata": {},
   "source": [
    "### Using the classifier in combination with semantic similarity "
   ]
  },
  {
   "cell_type": "code",
   "execution_count": 118,
   "id": "50cfe77d",
   "metadata": {},
   "outputs": [],
   "source": [
    "doc_to_use = '/Users/georgia/Documents/coding/Clause-Comparison/tclp/data/synth_data/untouched/000000015.txt'\n",
    "with open(doc_to_use, \"r\", encoding=\"utf-8\") as f:\n",
    "    query_text = f.read()"
   ]
  },
  {
   "cell_type": "code",
   "execution_count": 119,
   "id": "86ef5e49",
   "metadata": {},
   "outputs": [
    {
     "name": "stdout",
     "output_type": "stream",
     "text": [
      "Index(['Clause', 'Tag', 'CombinedText', 'PrimaryTag', 'HybridCluster'], dtype='object')\n"
     ]
    }
   ],
   "source": [
    "subset_docs, subset_names, cluster_subset_df = utils.perform_cluster(clf, query_text, tokenizer, model, clause_tags, embed = True)"
   ]
  },
  {
   "cell_type": "code",
   "execution_count": 120,
   "id": "06235452",
   "metadata": {},
   "outputs": [],
   "source": [
    "top_names_sem, top_scores_sem, top_texts = utils.get_embedding_matches_subset(\n",
    "    query_text=query_text,\n",
    "    documents_subset=subset_docs,\n",
    "    names_subset=subset_names,\n",
    "    tokenizer=tokenizer,\n",
    "    model=model,\n",
    "    method='cls',\n",
    "    k=5\n",
    ")\n"
   ]
  },
  {
   "cell_type": "markdown",
   "id": "cf9d2a0c",
   "metadata": {},
   "source": [
    "### Using keywords with semantic similarity"
   ]
  },
  {
   "cell_type": "code",
   "execution_count": 121,
   "id": "13daeddb",
   "metadata": {},
   "outputs": [],
   "source": [
    "bow_results = utils.find_top_similar_bow(\n",
    "    target_doc=query_text,\n",
    "    documents=docs,\n",
    "    file_names=names,\n",
    "    similarity_threshold=0.1, k =20\n",
    ")"
   ]
  },
  {
   "cell_type": "code",
   "execution_count": 122,
   "id": "172c4ee8",
   "metadata": {},
   "outputs": [],
   "source": [
    "top_docs = bow_results[\"Documents\"]\n",
    "top_names = bow_results[\"Top_Matches\"]"
   ]
  },
  {
   "cell_type": "code",
   "execution_count": null,
   "id": "d5d7fd68",
   "metadata": {},
   "outputs": [],
   "source": [
    "top_names_bow, top_scores_bow, top_texts_bow = utils.get_embedding_matches_subset(\n",
    "        query_text,\n",
    "        top_docs,\n",
    "        top_names,\n",
    "        tokenizer,\n",
    "        model,\n",
    "        method=\"cls\", k=5\n",
    "    )"
   ]
  },
  {
   "cell_type": "markdown",
   "id": "b02dec17",
   "metadata": {},
   "source": [
    "Now I am going to pass both of these results to an LLM for my final result"
   ]
  },
  {
   "cell_type": "code",
   "execution_count": null,
   "id": "91d1dee1",
   "metadata": {},
   "outputs": [],
   "source": [
    "## putting them into a shared dataframe \n",
    "df_cluster = pd.DataFrame({\n",
    "    \"text\": top_texts,\n",
    "    \"source_name\": top_names_sem,\n",
    "    \"score_cls\": top_scores_sem,\n",
    "    \"matched_by\": [\"cluster\"] * len(top_texts)\n",
    "}).head(5)  # Top 5 from cluster\n",
    "\n",
    "df_bow = pd.DataFrame({\n",
    "    \"text\": top_texts_bow,\n",
    "    \"source_name\": top_names_bow,\n",
    "    \"score_cls\": top_scores_bow,\n",
    "    \"matched_by\": [\"bow\"] * len(top_texts_bow)\n",
    "}).head(5)  # Top 5 from BOW\n",
    "\n",
    "# Step 2: Combine (without deduplicating)\n",
    "combined_df = pd.concat([df_cluster, df_bow], ignore_index=True)\n",
    "\n",
    "# Step 3: Sort if needed (e.g., by score)\n",
    "combined_df = combined_df.sort_values(by=\"score_cls\", ascending=False).reset_index(drop=True)"
   ]
  },
  {
   "cell_type": "code",
   "execution_count": null,
   "id": "8e0f5805",
   "metadata": {},
   "outputs": [
    {
     "data": {
      "text/html": [
       "<div>\n",
       "<style scoped>\n",
       "    .dataframe tbody tr th:only-of-type {\n",
       "        vertical-align: middle;\n",
       "    }\n",
       "\n",
       "    .dataframe tbody tr th {\n",
       "        vertical-align: top;\n",
       "    }\n",
       "\n",
       "    .dataframe thead th {\n",
       "        text-align: right;\n",
       "    }\n",
       "</style>\n",
       "<table border=\"1\" class=\"dataframe\">\n",
       "  <thead>\n",
       "    <tr style=\"text-align: right;\">\n",
       "      <th></th>\n",
       "      <th>text</th>\n",
       "      <th>source_name</th>\n",
       "      <th>score_cls</th>\n",
       "      <th>matched_by</th>\n",
       "    </tr>\n",
       "  </thead>\n",
       "  <tbody>\n",
       "    <tr>\n",
       "      <th>0</th>\n",
       "      <td>A clause requiring companies to carry out a cl...</td>\n",
       "      <td>General Condition to Commercial Insurance Poli...</td>\n",
       "      <td>0.975372</td>\n",
       "      <td>bow</td>\n",
       "    </tr>\n",
       "    <tr>\n",
       "      <th>1</th>\n",
       "      <td>Title: Employee Climate Engagement Provisions\\...</td>\n",
       "      <td>Employee Climate Engagement Provisions</td>\n",
       "      <td>0.974452</td>\n",
       "      <td>cluster</td>\n",
       "    </tr>\n",
       "    <tr>\n",
       "      <th>2</th>\n",
       "      <td>Model climate terms and conditions that an imp...</td>\n",
       "      <td>Climate Standard Transaction Terms</td>\n",
       "      <td>0.974165</td>\n",
       "      <td>bow</td>\n",
       "    </tr>\n",
       "    <tr>\n",
       "      <th>3</th>\n",
       "      <td>Title: Reducing Supply Chain Food Waste\\n\\nTex...</td>\n",
       "      <td>Reducing Supply Chain Food Waste</td>\n",
       "      <td>0.973549</td>\n",
       "      <td>cluster</td>\n",
       "    </tr>\n",
       "    <tr>\n",
       "      <th>4</th>\n",
       "      <td>Using supply chain contracts to extend positiv...</td>\n",
       "      <td>Sustainability Clauses in Supply Chain Contracts</td>\n",
       "      <td>0.973393</td>\n",
       "      <td>bow</td>\n",
       "    </tr>\n",
       "    <tr>\n",
       "      <th>5</th>\n",
       "      <td>Clauses for a shareholders' agreement which al...</td>\n",
       "      <td>Green Shareholders’ Agreement</td>\n",
       "      <td>0.971337</td>\n",
       "      <td>bow</td>\n",
       "    </tr>\n",
       "    <tr>\n",
       "      <th>6</th>\n",
       "      <td>Title: Climate Purchase Agreement and Underwri...</td>\n",
       "      <td>Climate Purchase Agreement and Underwriting Sp...</td>\n",
       "      <td>0.971115</td>\n",
       "      <td>cluster</td>\n",
       "    </tr>\n",
       "    <tr>\n",
       "      <th>7</th>\n",
       "      <td>A due diligence questionnaire (DDQ) that asks ...</td>\n",
       "      <td>Climate Change Due Diligence Questionnaire for...</td>\n",
       "      <td>0.970105</td>\n",
       "      <td>bow</td>\n",
       "    </tr>\n",
       "    <tr>\n",
       "      <th>8</th>\n",
       "      <td>Title: TV Production: Promotion of Sustainable...</td>\n",
       "      <td>TV Production: Promotion of Sustainable Consum...</td>\n",
       "      <td>0.969817</td>\n",
       "      <td>cluster</td>\n",
       "    </tr>\n",
       "    <tr>\n",
       "      <th>9</th>\n",
       "      <td>Title: Sustainability Clauses in Supply Chain ...</td>\n",
       "      <td>Sustainability Clauses in Supply Chain Contracts</td>\n",
       "      <td>0.969127</td>\n",
       "      <td>cluster</td>\n",
       "    </tr>\n",
       "  </tbody>\n",
       "</table>\n",
       "</div>"
      ],
      "text/plain": [
       "                                                text  \\\n",
       "0  A clause requiring companies to carry out a cl...   \n",
       "1  Title: Employee Climate Engagement Provisions\\...   \n",
       "2  Model climate terms and conditions that an imp...   \n",
       "3  Title: Reducing Supply Chain Food Waste\\n\\nTex...   \n",
       "4  Using supply chain contracts to extend positiv...   \n",
       "5  Clauses for a shareholders' agreement which al...   \n",
       "6  Title: Climate Purchase Agreement and Underwri...   \n",
       "7  A due diligence questionnaire (DDQ) that asks ...   \n",
       "8  Title: TV Production: Promotion of Sustainable...   \n",
       "9  Title: Sustainability Clauses in Supply Chain ...   \n",
       "\n",
       "                                         source_name  score_cls matched_by  \n",
       "0  General Condition to Commercial Insurance Poli...   0.975372        bow  \n",
       "1             Employee Climate Engagement Provisions   0.974452    cluster  \n",
       "2                 Climate Standard Transaction Terms   0.974165        bow  \n",
       "3                   Reducing Supply Chain Food Waste   0.973549    cluster  \n",
       "4   Sustainability Clauses in Supply Chain Contracts   0.973393        bow  \n",
       "5                      Green Shareholders’ Agreement   0.971337        bow  \n",
       "6  Climate Purchase Agreement and Underwriting Sp...   0.971115    cluster  \n",
       "7  Climate Change Due Diligence Questionnaire for...   0.970105        bow  \n",
       "8  TV Production: Promotion of Sustainable Consum...   0.969817    cluster  \n",
       "9   Sustainability Clauses in Supply Chain Contracts   0.969127    cluster  "
      ]
     },
     "execution_count": 73,
     "metadata": {},
     "output_type": "execute_result"
    }
   ],
   "source": [
    "combined_df"
   ]
  },
  {
   "cell_type": "markdown",
   "id": "91c00407",
   "metadata": {},
   "source": [
    "## Using an LLM "
   ]
  },
  {
   "cell_type": "code",
   "execution_count": null,
   "id": "82a15bc5",
   "metadata": {},
   "outputs": [],
   "source": [
    "query_text_short = query_text[:1000]"
   ]
  },
  {
   "cell_type": "code",
   "execution_count": null,
   "id": "24623c87",
   "metadata": {},
   "outputs": [],
   "source": [
    "messages = [\n",
    "    {\n",
    "        \"role\": \"system\",\n",
    "        \"content\": \"You are a legal AI assistant that helps review and select clauses for the uploaded document. You can only select from those clauses that are provided to you. You will receive clauses from a clustering model as well as a BOW model with semantic similarity. If the two models agree on a clause, pay close attention to that. You don't HAVE to select it, but it may be a good choice. I want you to assess the 10 clauses given for the contract and return the three best ones by giving me the name of the clause and the full text, as has been provided to you.\"\n",
    "    },\n",
    "    {\n",
    "        \"role\": \"user\",\n",
    "        \"content\": f\"Here's the contract:\\n\\n{query_text_short.strip()}\\n\\nI will send you some clauses next. For now, just confirm you have read the contract and are ready to receive the clauses. A short summary of the content of the contract would be fine.\"\n",
    "    }\n",
    "]"
   ]
  },
  {
   "cell_type": "markdown",
   "id": "49bb15ea",
   "metadata": {},
   "source": [
    "## Important note: this key is only valid for a set period of time"
   ]
  },
  {
   "cell_type": "code",
   "execution_count": null,
   "id": "27632962",
   "metadata": {},
   "outputs": [],
   "source": [
    "from openai import OpenAI\n",
    "\n",
    "client = OpenAI(\n",
    "    api_key=\"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\", \n",
    "    base_url = \"https://openrouter.ai/api/v1\"\n",
    ")"
   ]
  },
  {
   "cell_type": "code",
   "execution_count": null,
   "id": "ce4cd3cf",
   "metadata": {},
   "outputs": [],
   "source": [
    "response = client.chat.completions.create(\n",
    "    model=\"qwen/qwen-2.5-7b-instruct\", \n",
    "    messages= messages,\n",
    "    temperature=0.1,\n",
    "    max_tokens=1000\n",
    ")\n"
   ]
  },
  {
   "cell_type": "code",
   "execution_count": null,
   "id": "1dc77927",
   "metadata": {},
   "outputs": [
    {
     "name": "stdout",
     "output_type": "stream",
     "text": [
      "I have read the contract and am ready to receive the clauses. The contract is an agreement between Calibre Energy Inc. and Standard Drilling Inc., both Nevada corporations. It outlines the business interests of each party and the common officers and directors they share. The parties aim to clarify their separate interests to allow their shared officers and directors to manage their respective businesses effectively. Please go ahead and send the clauses.\n"
     ]
    }
   ],
   "source": [
    "print(response.choices[0].message.content)"
   ]
  },
  {
   "cell_type": "code",
   "execution_count": null,
   "id": "69decd62",
   "metadata": {},
   "outputs": [],
   "source": [
    "assistant_reply_1 = response.choices[0].message.content"
   ]
  },
  {
   "cell_type": "code",
   "execution_count": null,
   "id": "0cd8d93e",
   "metadata": {},
   "outputs": [],
   "source": [
    "messages.append({\"role\": \"assistant\", \"content\": assistant_reply_1})"
   ]
  },
  {
   "cell_type": "code",
   "execution_count": null,
   "id": "8e2ab650",
   "metadata": {},
   "outputs": [],
   "source": [
    "clause_block = \"Here are the 10 clauses:\\n\\n\"\n",
    "\n",
    "for i, row in combined_df.iterrows():\n",
    "    clause_block += (\n",
    "        f\"Clause {i+1}\\n\"\n",
    "        f\"Name: {row['source_name']}\\n\"\n",
    "        f\"Method: {row['matched_by']}\\n\"\n",
    "        f\"Score: {row['score_cls']:.3f}\\n\"\n",
    "        f\"Full Text:\\n{row['text']}\\n\\n\"\n",
    "    )\n",
    "\n",
    "clause_block += \"Please return the 3 most relevant clauses for the contract, with justification. DO NOT RECOMMEND ANY CLAUSES NOT EXPLICITLY GIVEN TO YOU. Include their names but you do not need to print the full texts. Rather, offer a short explanation as to why it was picked. Do not recommend the same clause twice.\"\n"
   ]
  },
  {
   "cell_type": "code",
   "execution_count": null,
   "id": "6af6b36a",
   "metadata": {},
   "outputs": [],
   "source": [
    "messages.append({\"role\": \"user\", \"content\": clause_block})"
   ]
  },
  {
   "cell_type": "code",
   "execution_count": null,
   "id": "a11c4f79",
   "metadata": {},
   "outputs": [],
   "source": [
    "response = client.chat.completions.create(\n",
    "    model=\"qwen/qwen-2.5-7b-instruct\",  \n",
    "    messages= messages,\n",
    "    temperature=0.1,\n",
    "    max_tokens=1000\n",
    ")"
   ]
  },
  {
   "cell_type": "code",
   "execution_count": null,
   "id": "393dcb09",
   "metadata": {},
   "outputs": [
    {
     "name": "stdout",
     "output_type": "stream",
     "text": [
      "Based on the provided clauses and the context of the contract between Calibre Energy Inc. and Standard Drilling Inc., here are the three most relevant clauses:\n",
      "\n",
      "1. **Clause 2: Employee Climate Engagement Provisions**\n",
      "   - **Justification:** This clause aligns well with the business interests of both parties, especially given their shared officers and directors. It ensures that employees are engaged and trained on sustainability and climate goals, which is crucial for aligning the workforce with the company's objectives. This can help in maintaining a consistent approach to sustainability across both organizations.\n",
      "\n",
      "2. **Clause 3: Climate Standard Transaction Terms**\n",
      "   - **Justification:** This clause provides a comprehensive framework for aligning the operations and management of the company with sustainability goals. It includes detailed provisions for setting and reviewing sustainability goals, carbon footprint management, and reporting requirements. Given the shared interests and common officers, this clause can help ensure that both parties are committed to achieving their sustainability goals and can monitor progress effectively.\n",
      "\n",
      "3. **Clause 9: TV Production: Promotion of Sustainable Consumption and Travel**\n",
      "   - **Justification:** While this clause is specific to TV production, it offers a model for promoting sustainable practices in media content. Given that the contract involves business operations and potentially public relations, incorporating sustainable practices can enhance the company's image and align with their shared sustainability goals. This clause can serve as a template for promoting responsible behavior in their operations and communications.\n",
      "\n",
      "These clauses are particularly relevant because they address key aspects of sustainability and corporate responsibility, which are important for both parties given their shared interests and common officers.\n"
     ]
    }
   ],
   "source": [
    "print(response.choices[0].message.content.strip())"
   ]
  },
  {
   "cell_type": "markdown",
   "id": "08b200c2",
   "metadata": {},
   "source": [
    "________"
   ]
  }
 ],
 "metadata": {
  "kernelspec": {
   "display_name": "tclp-iQ_dTQ3E-py3.10",
   "language": "python",
   "name": "python3"
  },
  "language_info": {
   "codemirror_mode": {
    "name": "ipython",
    "version": 3
   },
   "file_extension": ".py",
   "mimetype": "text/x-python",
   "name": "python",
   "nbconvert_exporter": "python",
   "pygments_lexer": "ipython3",
   "version": "3.10.15"
  }
 },
 "nbformat": 4,
 "nbformat_minor": 5
}
