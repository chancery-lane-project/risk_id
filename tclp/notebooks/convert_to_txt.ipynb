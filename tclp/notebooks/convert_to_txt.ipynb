{
 "cells": [
  {
   "cell_type": "markdown",
   "metadata": {},
   "source": [
    "## This is a file to convert all files to txt files "
   ]
  },
  {
   "cell_type": "code",
   "execution_count": 5,
   "metadata": {},
   "outputs": [],
   "source": [
    "import os\n",
    "import PyPDF2"
   ]
  },
  {
   "cell_type": "code",
   "execution_count": 6,
   "metadata": {},
   "outputs": [],
   "source": [
    "def pdf_to_text(pdf_path, txt_path):\n",
    "    # Open the PDF file\n",
    "    with open(pdf_path, 'rb') as pdf_file:\n",
    "        # Create a PDF reader object\n",
    "        pdf_reader = PyPDF2.PdfReader(pdf_file)\n",
    "        \n",
    "        # Initialize an empty string to hold the text\n",
    "        text = ''\n",
    "        \n",
    "        # Loop through all the pages and extract text\n",
    "        for page_num in range(len(pdf_reader.pages)):\n",
    "            page = pdf_reader.pages[page_num]\n",
    "            text += page.extract_text()\n",
    "        \n",
    "        # Write the extracted text to a .txt file\n",
    "        with open(txt_path, 'w', encoding='utf-8') as txt_file:\n",
    "            txt_file.write(text)"
   ]
  },
  {
   "cell_type": "code",
   "execution_count": 7,
   "metadata": {},
   "outputs": [],
   "source": [
    "pdf_folder = 'data/spend_contracts'\n",
    "txt_folder = 'data/spend_contracts_txt'\n",
    "os.makedirs(txt_folder, exist_ok=True)"
   ]
  },
  {
   "cell_type": "code",
   "execution_count": 8,
   "metadata": {},
   "outputs": [
    {
     "name": "stdout",
     "output_type": "stream",
     "text": [
      "Extracted text from cs07a05.pdf and saved to cs07a05.txt\n",
      "Extracted text from cs12gfi0401.pdf and saved to cs12gfi0401.txt\n",
      "Extracted text from award_letter_lot_2_storage_uk_final_redacted.pdf and saved to award_letter_lot_2_storage_uk_final_redacted.txt\n",
      "Extracted text from redacted_c260184_nhse_tat_contract_2425_v2_2_final_signed_1.pdf and saved to redacted_c260184_nhse_tat_contract_2425_v2_2_final_signed_1.txt\n",
      "Extracted text from cs0004.pdf and saved to cs0004.txt\n",
      "Extracted text from cs0010.pdf and saved to cs0010.txt\n"
     ]
    },
    {
     "name": "stderr",
     "output_type": "stream",
     "text": [
      "Multiple definitions in dictionary at byte 0x27533 for key /PageMode\n"
     ]
    },
    {
     "name": "stdout",
     "output_type": "stream",
     "text": [
      "Extracted text from aomr_lot_3_ir_contract_l_amp_w_signed_redacted.pdf and saved to aomr_lot_3_ir_contract_l_amp_w_signed_redacted.txt\n",
      "Extracted text from l0154_00058__redacted.pdf and saved to l0154_00058__redacted.txt\n",
      "Extracted text from proposed_sections.pdf and saved to proposed_sections.txt\n",
      "Extracted text from env6007138r_project_name_slbb_badger_mitigation_supplier_breheny_ltd_redacted.pdf and saved to env6007138r_project_name_slbb_badger_mitigation_supplier_breheny_ltd_redacted.txt\n",
      "Extracted text from 20241203_711402450_terms_and_conditions_final_redacted_osc.pdf and saved to 20241203_711402450_terms_and_conditions_final_redacted_osc.txt\n",
      "Extracted text from innovate_uk_business_connect_pqq_pr.pdf and saved to innovate_uk_business_connect_pqq_pr.txt\n",
      "Extracted text from core_terms_84838254_1.pdf and saved to core_terms_84838254_1.txt\n",
      "Extracted text from c19ewrsfwk09224_expert_witness_report_to_uk_c_redacted_1.pdf and saved to c19ewrsfwk09224_expert_witness_report_to_uk_c_redacted_1.txt\n",
      "Extracted text from wwf_uk_supplier_contract_sample_pack.pdf and saved to wwf_uk_supplier_contract_sample_pack.txt\n",
      "Extracted text from weed_control_contract_2025.pdf and saved to weed_control_contract_2025.txt\n",
      "Extracted text from 2d_leg_l009_chump_boneless_1.pdf and saved to 2d_leg_l009_chump_boneless_1.txt\n",
      "Extracted text from aomr_lot_3_ecsc_contract_floating_pennywort_and_vegetation_removal_24_25_v1_signed_sr_kw_redacted.pdf and saved to aomr_lot_3_ecsc_contract_floating_pennywort_and_vegetation_removal_24_25_v1_signed_sr_kw_redacted.txt\n",
      "Extracted text from 20240109_jointly_signed_kpmg_gd_ownership_ps355_rm1557_13_g_cloud_13_call_off_contract_v6_redacted.pdf and saved to 20240109_jointly_signed_kpmg_gd_ownership_ps355_rm1557_13_g_cloud_13_call_off_contract_v6_redacted.txt\n",
      "Extracted text from prj2053_london_liaison_amp_diversion_service_and_mhtr_itt_advert_v0_03.pdf and saved to prj2053_london_liaison_amp_diversion_service_and_mhtr_itt_advert_v0_03.txt\n",
      "Extracted text from cs0011.pdf and saved to cs0011.txt\n",
      "Extracted text from cs12gfi0602.pdf and saved to cs12gfi0602.txt\n",
      "Extracted text from cs0005.pdf and saved to cs0005.txt\n",
      "Extracted text from schedule_8_supplier_solution_84838291_1.pdf and saved to schedule_8_supplier_solution_84838291_1.txt\n",
      "Extracted text from ps24218_order_form_and_order_schedules_redacted_redacted.pdf and saved to ps24218_order_form_and_order_schedules_redacted_redacted.txt\n",
      "Extracted text from cs12gfi0400.pdf and saved to cs12gfi0400.txt\n",
      "Extracted text from cs07a04.pdf and saved to cs07a04.txt\n",
      "Extracted text from c297339_av_lampard_services_order_form_countersigend_redacted.pdf and saved to c297339_av_lampard_services_order_form_countersigend_redacted.txt\n",
      "Extracted text from ps314_techmodal_signed_gd_programme_service_redacted.pdf and saved to ps314_techmodal_signed_gd_programme_service_redacted.txt\n",
      "Extracted text from irm22_7606_i_rm_sc2_based_schedules_04_23_redacted.pdf and saved to irm22_7606_i_rm_sc2_based_schedules_04_23_redacted.txt\n",
      "Extracted text from c24762_etaffcsfnorth06_call_off_contract_award_letter_redacted.pdf and saved to c24762_etaffcsfnorth06_call_off_contract_award_letter_redacted.txt\n",
      "Extracted text from cs12gfi0402.pdf and saved to cs12gfi0402.txt\n",
      "Extracted text from form_of_tender.pdf and saved to form_of_tender.txt\n",
      "Extracted text from gss24387_contract_redacted.pdf and saved to gss24387_contract_redacted.txt\n",
      "Extracted text from po_p5133381_redacted.pdf and saved to po_p5133381_redacted.txt\n",
      "Extracted text from 2024_03_25_ey_variation5_extension_and_value_uplift_final_redacted.pdf and saved to 2024_03_25_ey_variation5_extension_and_value_uplift_final_redacted.txt\n",
      "Extracted text from cs0013.pdf and saved to cs0013.txt\n",
      "Extracted text from cs0007.pdf and saved to cs0007.txt\n",
      "Extracted text from 7_initial_heat_provision_options.pdf and saved to 7_initial_heat_provision_options.txt\n",
      "Extracted text from cr_4665_redacted.pdf and saved to cr_4665_redacted.txt\n",
      "Extracted text from schedule_15_charges_and_invoicing_84838293_1.pdf and saved to schedule_15_charges_and_invoicing_84838293_1.txt\n",
      "Extracted text from c27287_high_magnification_lenses_final_signed_redacted.pdf and saved to c27287_high_magnification_lenses_final_signed_redacted.txt\n",
      "Extracted text from sedgeberrow_amp_shipston_contract_data_forms_signed_redacted.pdf and saved to sedgeberrow_amp_shipston_contract_data_forms_signed_redacted.txt\n",
      "Extracted text from irm22_7606_i_rm_sc2_based_terms_and_conditions_edn_09_23_redacted.pdf and saved to irm22_7606_i_rm_sc2_based_terms_and_conditions_edn_09_23_redacted.txt\n",
      "Extracted text from nepw260624mris_life_wader_order_form_ne_standard_goods_services_tcs_signed_redacted.pdf and saved to nepw260624mris_life_wader_order_form_ne_standard_goods_services_tcs_signed_redacted.txt\n",
      "Extracted text from insurance_specification_2024.pdf and saved to insurance_specification_2024.txt\n",
      "Extracted text from se_rec_program_tranche_23_24_castle_sewer_design_and_build_works_nec4_ecsc_contract_signed_redacted.pdf and saved to se_rec_program_tranche_23_24_castle_sewer_design_and_build_works_nec4_ecsc_contract_signed_redacted.txt\n",
      "Extracted text from intelligent_email_security_saas_and_transfer_ii_rm1557_13_g_cloud_13_call_off_contract_finalv1_09122024_redacted.pdf and saved to intelligent_email_security_saas_and_transfer_ii_rm1557_13_g_cloud_13_call_off_contract_finalv1_09122024_redacted.txt\n",
      "Extracted text from kpmg_po_p5111835_0_redacted.pdf and saved to kpmg_po_p5111835_0_redacted.txt\n",
      "Extracted text from tate3022_rm6126_order_form_for_contract_between_buyers_and_suppliers_countersigned_281124_redacted.pdf and saved to tate3022_rm6126_order_form_for_contract_between_buyers_and_suppliers_countersigned_281124_redacted.txt\n",
      "Extracted text from ecs_signed_aomr_lot_2_meica_primrose_screen_13_12_24_redacted.pdf and saved to ecs_signed_aomr_lot_2_meica_primrose_screen_13_12_24_redacted.txt\n",
      "Extracted text from marsh_road_2024_redacted.pdf and saved to marsh_road_2024_redacted.txt\n",
      "Extracted text from po_82_4050947823_0_us_redacted.pdf and saved to po_82_4050947823_0_us_redacted.txt\n",
      "Extracted text from trp_712620450_statement_of_requirements_acronym_and_abbreviations_list.pdf and saved to trp_712620450_statement_of_requirements_acronym_and_abbreviations_list.txt\n",
      "Extracted text from standard_services_agreement_and_t_cs.pdf and saved to standard_services_agreement_and_t_cs.txt\n",
      "Extracted text from short_form_contract_v1_4_tpap_ho_sigend_redacted.pdf and saved to short_form_contract_v1_4_tpap_ho_sigend_redacted.txt\n",
      "Extracted text from ps24197_redacted.pdf and saved to ps24197_redacted.txt\n",
      "Extracted text from 4_repair_refurbish_replace_consultation_document.pdf and saved to 4_repair_refurbish_replace_consultation_document.txt\n",
      "Extracted text from cs12gfi0601.pdf and saved to cs12gfi0601.txt\n",
      "Extracted text from cs0006.pdf and saved to cs0006.txt\n",
      "Extracted text from cs0012.pdf and saved to cs0012.txt\n",
      "Extracted text from rm6259_framework_schedule_6_order_form_template_and_call_off_schedules_v1_ukhsa_esri_uk__redacted.pdf and saved to rm6259_framework_schedule_6_order_form_template_and_call_off_schedules_v1_ukhsa_esri_uk__redacted.txt\n",
      "Extracted text from signed_contract_2024_redacted.pdf and saved to signed_contract_2024_redacted.txt\n",
      "Extracted text from cs12gfi0403.pdf and saved to cs12gfi0403.txt\n",
      "Extracted text from 1_harlington_location_plan.pdf and saved to 1_harlington_location_plan.txt\n",
      "Extracted text from po_85_4040036169_0_us_redacted.pdf and saved to po_85_4040036169_0_us_redacted.txt\n",
      "Extracted text from tint3000_framework_schedule_6_contract_order_form_dcon_counter_signed_redacted.pdf and saved to tint3000_framework_schedule_6_contract_order_form_dcon_counter_signed_redacted.txt\n",
      "Extracted text from sfpd_limited_2023cas010_strutt_memorial_ground_tennis_courts_dwg_011_a_25082023.pdf and saved to sfpd_limited_2023cas010_strutt_memorial_ground_tennis_courts_dwg_011_a_25082023.txt\n",
      "Extracted text from cs07a03.pdf and saved to cs07a03.txt\n",
      "Extracted text from tender_brief_final.pdf and saved to tender_brief_final.txt\n",
      "Extracted text from be24085_request_for_proposal_questions_rfpq.pdf and saved to be24085_request_for_proposal_questions_rfpq.txt\n",
      "Extracted text from harlington_refurbishment_tender_architect_brief.pdf and saved to harlington_refurbishment_tender_architect_brief.txt\n",
      "Extracted text from cs2601.pdf and saved to cs2601.txt\n",
      "Extracted text from proc_899_2024_06_letter_of_appointment_iff.pdf and saved to proc_899_2024_06_letter_of_appointment_iff.txt\n",
      "Extracted text from ecosf4_fishtek_contract__redacted.pdf and saved to ecosf4_fishtek_contract__redacted.txt\n",
      "Extracted text from cs0002.pdf and saved to cs0002.txt\n",
      "Extracted text from 712391451_al_udeid_white_fleet_master_contract_redacted.pdf and saved to 712391451_al_udeid_white_fleet_master_contract_redacted.txt\n",
      "Extracted text from 20240522_df_126_002_wargaming_catalogue_can_rm1557_13_g_cloud_13_call_off_contract_valcon_redacted_osc.pdf and saved to 20240522_df_126_002_wargaming_catalogue_can_rm1557_13_g_cloud_13_call_off_contract_valcon_redacted_osc.txt\n",
      "Extracted text from research_outcomes_collection_system_expression_of_interest_ddat24525.pdf and saved to research_outcomes_collection_system_expression_of_interest_ddat24525.txt\n",
      "Extracted text from be24262_redacted_po.pdf and saved to be24262_redacted_po.txt\n",
      "Extracted text from ps354_inform_gd_change_communication_redacted.pdf and saved to ps354_inform_gd_change_communication_redacted.txt\n",
      "Extracted text from cs0003.pdf and saved to cs0003.txt\n",
      "Extracted text from cs2600.pdf and saved to cs2600.txt\n",
      "Extracted text from rm6187_vpas_extension_all_staff_fully_signed_1__redacted.pdf and saved to rm6187_vpas_extension_all_staff_fully_signed_1__redacted.txt\n",
      "Extracted text from cs12gfi0406.pdf and saved to cs12gfi0406.txt\n",
      "Extracted text from airbus_legal_panel_subsequent_contract_letter__redacted.pdf and saved to airbus_legal_panel_subsequent_contract_letter__redacted.txt\n",
      "Extracted text from cs07a02.pdf and saved to cs07a02.txt\n",
      "Extracted text from spectrophotometer_document_pdf.pdf and saved to spectrophotometer_document_pdf.txt\n",
      "Extracted text from wc1400748_eoi_rev_2.pdf and saved to wc1400748_eoi_rev_2.txt\n",
      "Extracted text from published_pin.pdf and saved to published_pin.txt\n",
      "Extracted text from 23_02334_ful_dn.pdf and saved to 23_02334_ful_dn.txt\n",
      "Extracted text from expression_of_interest_form_wc1143143.pdf and saved to expression_of_interest_form_wc1143143.txt\n",
      "Extracted text from btb_war_deed_of_variation_signed_redacted.pdf and saved to btb_war_deed_of_variation_signed_redacted.txt\n",
      "Extracted text from signed_order_form_ne_standard_goods_services_terms_and_conditions_for_shep_purchase_003__redacted.pdf and saved to signed_order_form_ne_standard_goods_services_terms_and_conditions_for_shep_purchase_003__redacted.txt\n",
      "Extracted text from 20241211_contract_712018450_proofing_terms_redacted_osc.pdf and saved to 20241211_contract_712018450_proofing_terms_redacted_osc.txt\n",
      "Extracted text from cs0001.pdf and saved to cs0001.txt\n",
      "Extracted text from cs18df539a.pdf and saved to cs18df539a.txt\n",
      "Extracted text from redacted_con_24552_framework_schedule_6.pdf and saved to redacted_con_24552_framework_schedule_6.txt\n",
      "Extracted text from proc_899_2024_13_rm6126_order_form_bit_signed_redacted.pdf and saved to proc_899_2024_13_rm6126_order_form_bit_signed_redacted.txt\n",
      "Extracted text from 709923450_project_chricey_rm6259_framework_schedule_6_order_form_final_redacted.pdf and saved to 709923450_project_chricey_rm6259_framework_schedule_6_order_form_final_redacted.txt\n",
      "Extracted text from ecosf4_wsp_contract__redacted.pdf and saved to ecosf4_wsp_contract__redacted.txt\n",
      "Extracted text from sfpd_limited_2023cas002_strutt_memorial_ground_tennis_courts_er_02_09122024.pdf and saved to sfpd_limited_2023cas002_strutt_memorial_ground_tennis_courts_er_02_09122024.txt\n",
      "Extracted text from vehicle_hire_contract_fv_28_11_2024_redacted_redacted.pdf and saved to vehicle_hire_contract_fv_28_11_2024_redacted_redacted.txt\n",
      "Extracted text from bis_phase_2_tender_pm2_supplier_2_redacted.pdf and saved to bis_phase_2_tender_pm2_supplier_2_redacted.txt\n",
      "Extracted text from trp_712620450_statement_of_requirements_definitions.pdf and saved to trp_712620450_statement_of_requirements_definitions.txt\n",
      "Extracted text from po_85_4040035852_0_us_redacted.pdf and saved to po_85_4040035852_0_us_redacted.txt\n",
      "Extracted text from hook_community_hall_specification.pdf and saved to hook_community_hall_specification.txt\n",
      "Extracted text from f06_2_swmh01_swmh02.pdf and saved to f06_2_swmh01_swmh02.txt\n",
      "Extracted text from 1_notice_of_invitation_to_tender_ecitb_scholarship_programme_2024.pdf and saved to 1_notice_of_invitation_to_tender_ecitb_scholarship_programme_2024.txt\n",
      "Extracted text from cefas23_50_software_form_of_award_adobe_signed2_redacted.pdf and saved to cefas23_50_software_form_of_award_adobe_signed2_redacted.txt\n",
      "Extracted text from ea_contract_tool_rev_1_9_2a_hockwold_wissey_detailed_design_psc_v2_jacobs_signed___ea_signed_redacted.pdf and saved to ea_contract_tool_rev_1_9_2a_hockwold_wissey_detailed_design_psc_v2_jacobs_signed___ea_signed_redacted.txt\n",
      "Extracted text from proc_899_2024_05_rm6126_order_form_djs_redacted.pdf and saved to proc_899_2024_05_rm6126_order_form_djs_redacted.txt\n",
      "Extracted text from detailed_plans_central_area_toilets_renovations.pdf and saved to detailed_plans_central_area_toilets_renovations.txt\n",
      "Extracted text from cpd4124192_annex_b_mid_tier_award_form_v1_0_redacted.pdf and saved to cpd4124192_annex_b_mid_tier_award_form_v1_0_redacted.txt\n",
      "Extracted text from po_88_4070387871_0_us_redacted.pdf and saved to po_88_4070387871_0_us_redacted.txt\n",
      "Extracted text from proc_899_2024_12_letter_of_appointment_tba.pdf and saved to proc_899_2024_12_letter_of_appointment_tba.txt\n",
      "Extracted text from be24142_redacted_award_form.pdf and saved to be24142_redacted_award_form.txt\n",
      "Extracted text from cs12gfi0405.pdf and saved to cs12gfi0405.txt\n",
      "Extracted text from bis_phase_2_tender_pm1_supplier_8_redacted.pdf and saved to bis_phase_2_tender_pm1_supplier_8_redacted.txt\n",
      "Extracted text from cs07a01.pdf and saved to cs07a01.txt\n",
      "Extracted text from schedule_31_processing_personal_data_84838225_2.pdf and saved to schedule_31_processing_personal_data_84838225_2.txt\n",
      "Extracted text from sfpd_limited_2023cas010_strutt_memorial_ground_tennis_courts_dwg_015_a_25082023.pdf and saved to sfpd_limited_2023cas010_strutt_memorial_ground_tennis_courts_dwg_015_a_25082023.txt\n",
      "Extracted text from cs20.pdf and saved to cs20.txt\n",
      "Extracted text from 441_b_010.pdf and saved to 441_b_010.txt\n"
     ]
    },
    {
     "name": "stderr",
     "output_type": "stream",
     "text": [
      "Multiple definitions in dictionary at byte 0x1a3d5 for key /PageMode\n"
     ]
    },
    {
     "name": "stdout",
     "output_type": "stream",
     "text": [
      "Extracted text from 241209_con_7110_desnz_besa_hntas_shadow_training_provider_agreement_award_form_and_schedules_redacted.pdf and saved to 241209_con_7110_desnz_besa_hntas_shadow_training_provider_agreement_award_form_and_schedules_redacted.txt\n",
      "Extracted text from po_85_4040036941_0_us_redacted.pdf and saved to po_85_4040036941_0_us_redacted.txt\n",
      "Extracted text from j1881_04.pdf and saved to j1881_04.txt\n"
     ]
    },
    {
     "name": "stderr",
     "output_type": "stream",
     "text": [
      "Multiple definitions in dictionary at byte 0x1d76d for key /PageMode\n"
     ]
    },
    {
     "name": "stdout",
     "output_type": "stream",
     "text": [
      "Extracted text from request_for_quotation.pdf and saved to request_for_quotation.txt\n",
      "Extracted text from j1881_10.pdf and saved to j1881_10.txt\n",
      "Extracted text from cs12gfi11.pdf and saved to cs12gfi11.txt\n",
      "Extracted text from 3_feasibility_study.pdf and saved to 3_feasibility_study.txt\n",
      "Extracted text from proc_899_2024_14_letter_of_appointment_thinks.pdf and saved to proc_899_2024_14_letter_of_appointment_thinks.txt\n",
      "Extracted text from proc_899_2024_08_letter_of_appointment_jigsaw.pdf and saved to proc_899_2024_08_letter_of_appointment_jigsaw.txt\n",
      "Extracted text from 711279452_itt_emdad_redacted.pdf and saved to 711279452_itt_emdad_redacted.txt\n",
      "Extracted text from main_tender_document_amesbury_town_council.pdf and saved to main_tender_document_amesbury_town_council.txt\n",
      "Extracted text from wfsr_fsa_contract_2024_redacted.pdf and saved to wfsr_fsa_contract_2024_redacted.txt\n",
      "Extracted text from redacted_c310852_approved_responsible_clinician_lot_4_1.pdf and saved to redacted_c310852_approved_responsible_clinician_lot_4_1.txt\n",
      "Extracted text from cs12gfi0502.pdf and saved to cs12gfi0502.txt\n",
      "Extracted text from cs04a0.pdf and saved to cs04a0.txt\n",
      "Extracted text from po_standard_tcs_final_2.pdf and saved to po_standard_tcs_final_2.txt\n",
      "Extracted text from ukhsa_softcat_mural_nhs_sbs_order_form_121124_002_1__redacted_1_1.pdf and saved to ukhsa_softcat_mural_nhs_sbs_order_form_121124_002_1__redacted_1_1.txt\n",
      "Extracted text from 14_rm6187_call_off_schedule_7__key_supplier_staff.pdf and saved to 14_rm6187_call_off_schedule_7__key_supplier_staff.txt\n",
      "Extracted text from oregin_conditions_of_contract_redacted.pdf and saved to oregin_conditions_of_contract_redacted.txt\n",
      "Extracted text from ltm_supplier_engagment_slides_janfeb24.pdf and saved to ltm_supplier_engagment_slides_janfeb24.txt\n",
      "Extracted text from be24243_redacted.pdf and saved to be24243_redacted.txt\n",
      "Extracted text from 07_rm6187_joint_schedule_6__key_subcontractors.pdf and saved to 07_rm6187_joint_schedule_6__key_subcontractors.txt\n",
      "Extracted text from natural_england_east_dartmoor_nnr_wild_water_project_tender_2024.pdf and saved to natural_england_east_dartmoor_nnr_wild_water_project_tender_2024.txt\n",
      "Extracted text from redacted_master_provision_of_interim_strategic_sealift__12_12_2024_.pdf and saved to redacted_master_provision_of_interim_strategic_sealift__12_12_2024_.txt\n",
      "Extracted text from variation_22_yr_5_extension_ceo_signed_08092023_redacted.pdf and saved to variation_22_yr_5_extension_ceo_signed_08092023_redacted.txt\n",
      "Extracted text from 20240802_711490451_ccs_ts3_contract_redacted.pdf and saved to 20240802_711490451_ccs_ts3_contract_redacted.txt\n",
      "Extracted text from dstl0000030109_redacted_final.pdf and saved to dstl0000030109_redacted_final.txt\n"
     ]
    },
    {
     "name": "stderr",
     "output_type": "stream",
     "text": [
      "Multiple definitions in dictionary at byte 0x1c922 for key /PageMode\n",
      "Multiple definitions in dictionary at byte 0x19f1b for key /PageMode\n"
     ]
    },
    {
     "name": "stdout",
     "output_type": "stream",
     "text": [
      "Extracted text from 21_5931pm_prelims_2024_08_20.pdf and saved to 21_5931pm_prelims_2024_08_20.txt\n",
      "Extracted text from j1881_11.pdf and saved to j1881_11.txt\n",
      "Extracted text from j1881_05.pdf and saved to j1881_05.txt\n"
     ]
    },
    {
     "name": "stderr",
     "output_type": "stream",
     "text": [
      "Multiple definitions in dictionary at byte 0x3dfb4 for key /PageMode\n"
     ]
    },
    {
     "name": "stdout",
     "output_type": "stream",
     "text": [
      "Extracted text from 441_b_011.pdf and saved to 441_b_011.txt\n",
      "Extracted text from proc_899_2024_11_letter_of_appointment_revealing_reality.pdf and saved to proc_899_2024_11_letter_of_appointment_revealing_reality.txt\n",
      "Extracted text from be24263_redacted_po.pdf and saved to be24263_redacted_po.txt\n",
      "Extracted text from 014519_2024_fats.pdf and saved to 014519_2024_fats.txt\n",
      "Extracted text from 20241001_rm6179_order_form_v2_m_amp_c_signed_redacted.pdf and saved to 20241001_rm6179_order_form_v2_m_amp_c_signed_redacted.txt\n",
      "Extracted text from letter_tender_submissions.pdf and saved to letter_tender_submissions.txt\n",
      "Extracted text from proc_899_2024_04_letter_of_appointment_blue_marble.pdf and saved to proc_899_2024_04_letter_of_appointment_blue_marble.txt\n",
      "Extracted text from c245831_ukhsa_conditions_of_contract_dried_blood_spot_collection_and_preservation_cards_fully_signed_redacted.pdf and saved to c245831_ukhsa_conditions_of_contract_dried_blood_spot_collection_and_preservation_cards_fully_signed_redacted.txt\n",
      "Extracted text from rm6269_contract_project_trent_redacted.pdf and saved to rm6269_contract_project_trent_redacted.txt\n"
     ]
    },
    {
     "name": "stderr",
     "output_type": "stream",
     "text": [
      "Multiple definitions in dictionary at byte 0x26c7e for key /PageMode\n"
     ]
    },
    {
     "name": "stdout",
     "output_type": "stream",
     "text": [
      "Extracted text from c284219_mid_tier_contract_final_redacted.pdf and saved to c284219_mid_tier_contract_final_redacted.txt\n",
      "Extracted text from j1881_07.pdf and saved to j1881_07.txt\n",
      "Extracted text from proc_899_2024_07_rm6126_order_form_ipsos_redacted.pdf and saved to proc_899_2024_07_rm6126_order_form_ipsos_redacted.txt\n",
      "Extracted text from cs12gfi12.pdf and saved to cs12gfi12.txt\n",
      "Extracted text from pheonix_po_redacted.pdf and saved to pheonix_po_redacted.txt\n",
      "Extracted text from cs12gfi0703.pdf and saved to cs12gfi0703.txt\n",
      "Extracted text from anglia_ruskin_contract_variation_final__redacted.pdf and saved to anglia_ruskin_contract_variation_final__redacted.txt\n",
      "Extracted text from proc_899_2024_04_rm6126_order_form_blue_marble_signed_redacted.pdf and saved to proc_899_2024_04_rm6126_order_form_blue_marble_signed_redacted.txt\n",
      "Extracted text from bis_migtation___nec4_psc___cps_nafra_n2_crt___redacted.pdf and saved to bis_migtation___nec4_psc___cps_nafra_n2_crt___redacted.txt\n",
      "Extracted text from gss24910_contract_redacted.pdf and saved to gss24910_contract_redacted.txt\n",
      "Extracted text from schedule_24_reports_and_records_84838333_1.pdf and saved to schedule_24_reports_and_records_84838333_1.txt\n",
      "Extracted text from app_levy_2425_c24559_020.pdf and saved to app_levy_2425_c24559_020.txt\n",
      "Extracted text from cs12gfi0501.pdf and saved to cs12gfi0501.txt\n",
      "Extracted text from short_order_contract_ortho_final_signed__redacted.pdf and saved to short_order_contract_ortho_final_signed__redacted.txt\n",
      "Extracted text from 241209_con_7063_desnz_erm_nzm_modelling_contract_award_form_and_schedules_v1_redacted.pdf and saved to 241209_con_7063_desnz_erm_nzm_modelling_contract_award_form_and_schedules_v1_redacted.txt\n",
      "Extracted text from orr_ct_24_66_rm1557_14_g_cloud_14_call_off_contract_final_signed_by_both_parties_redacted.pdf and saved to orr_ct_24_66_rm1557_14_g_cloud_14_call_off_contract_final_signed_by_both_parties_redacted.txt\n",
      "Extracted text from engineering_inspection_schedule.pdf and saved to engineering_inspection_schedule.txt\n",
      "Extracted text from cs12gfi0702.pdf and saved to cs12gfi0702.txt\n",
      "Extracted text from contract_award_letter_centiel_redacted.pdf and saved to contract_award_letter_centiel_redacted.txt\n",
      "Extracted text from 711857455_dinfocom_0272_sas_viya_licenses_redacted.pdf and saved to 711857455_dinfocom_0272_sas_viya_licenses_redacted.txt\n",
      "Extracted text from be24260_redacted.pdf and saved to be24260_redacted.txt\n",
      "Extracted text from final_thomastelford_c283339_neclicences24_25_contract_v1_0_redacted.pdf and saved to final_thomastelford_c283339_neclicences24_25_contract_v1_0_redacted.txt\n"
     ]
    },
    {
     "name": "stderr",
     "output_type": "stream",
     "text": [
      "Multiple definitions in dictionary at byte 0x270f4 for key /PageMode\n"
     ]
    },
    {
     "name": "stdout",
     "output_type": "stream",
     "text": [
      "Extracted text from form_of_agreement_orr_signed_redacted.pdf and saved to form_of_agreement_orr_signed_redacted.txt\n",
      "Extracted text from cs12gfi13.pdf and saved to cs12gfi13.txt\n",
      "Extracted text from j1881_06.pdf and saved to j1881_06.txt\n",
      "Extracted text from ps24246_mid_tier_award_form_terms_redacted__redacted_final.pdf and saved to ps24246_mid_tier_award_form_terms_redacted__redacted_final.txt\n",
      "Extracted text from hmp_dovegate_how_to_submit_expression_of_interest.pdf and saved to hmp_dovegate_how_to_submit_expression_of_interest.txt\n",
      "Extracted text from c290239_web_content_editing_and_copyright_redacted.pdf and saved to c290239_web_content_editing_and_copyright_redacted.txt\n",
      "Extracted text from cs22.pdf and saved to cs22.txt\n",
      "Extracted text from redacted_gld023_2024_schedule_20_specification.pdf and saved to redacted_gld023_2024_schedule_20_specification.txt\n",
      "Extracted text from land_map.pdf and saved to land_map.txt\n",
      "Extracted text from rm1557_13_g_cloud_13_call_off_contract_v15_redacted_14052024.pdf and saved to rm1557_13_g_cloud_13_call_off_contract_v15_redacted_14052024.txt\n",
      "Extracted text from gss24920_contract_redacted.pdf and saved to gss24920_contract_redacted.txt\n"
     ]
    },
    {
     "name": "stderr",
     "output_type": "stream",
     "text": [
      "Multiple definitions in dictionary at byte 0x29412 for key /PageMode\n"
     ]
    },
    {
     "name": "stdout",
     "output_type": "stream",
     "text": [
      "Extracted text from appendix_c_building_agreement.pdf and saved to appendix_c_building_agreement.txt\n",
      "Extracted text from cs12gfi0302.pdf and saved to cs12gfi0302.txt\n",
      "Extracted text from rm6277_variation_cs22522_006_fully_signed_redacted.pdf and saved to rm6277_variation_cs22522_006_fully_signed_redacted.txt\n",
      "Extracted text from award_email_re_subsequent_contract__redacted.pdf and saved to award_email_re_subsequent_contract__redacted.txt\n",
      "Extracted text from j1881_02.pdf and saved to j1881_02.txt\n",
      "Extracted text from 441_b_002.pdf and saved to 441_b_002.txt\n",
      "Extracted text from order_form_ne_standard_goods_services_terms_and_conditions_fbsab_sssddv2024_envisionsigned_redacted.pdf and saved to order_form_ne_standard_goods_services_terms_and_conditions_fbsab_sssddv2024_envisionsigned_redacted.txt\n",
      "Extracted text from final_c292306_colindale_lphw_pipework_upgrade_doc_4a_nec_3_ecc_opta_part_1_and_2_v1_redacted.pdf and saved to final_c292306_colindale_lphw_pipework_upgrade_doc_4a_nec_3_ecc_opta_part_1_and_2_v1_redacted.txt\n",
      "Extracted text from law_360_contract_signed_lexisnexis_redacted_copy_redacted.pdf and saved to law_360_contract_signed_lexisnexis_redacted_copy_redacted.txt\n",
      "Extracted text from proc_899_2024_05_letter_of_appointment_djs.pdf and saved to proc_899_2024_05_letter_of_appointment_djs.txt\n",
      "Extracted text from htc_invite_to_tender_prospect_street_rec_area_dec_2024.pdf and saved to htc_invite_to_tender_prospect_street_rec_area_dec_2024.txt\n",
      "Extracted text from cs07b02.pdf and saved to cs07b02.txt\n",
      "Extracted text from uk_spf___branding_and_publicity_v6_1.pdf and saved to uk_spf___branding_and_publicity_v6_1.txt\n",
      "Extracted text from cs10a.pdf and saved to cs10a.txt\n"
     ]
    },
    {
     "name": "stderr",
     "output_type": "stream",
     "text": [
      "unknown widths : \n",
      "[0, IndirectObject(160, 0, 4432428864)]\n",
      "unknown widths : \n",
      "[0, IndirectObject(164, 0, 4432428864)]\n",
      "unknown widths : \n",
      "[0, IndirectObject(168, 0, 4432428864)]\n",
      "unknown widths : \n",
      "[0, IndirectObject(126, 0, 4432428864)]\n",
      "unknown widths : \n",
      "[0, IndirectObject(129, 0, 4432428864)]\n",
      "unknown widths : \n",
      "[0, IndirectObject(132, 0, 4432428864)]\n",
      "unknown widths : \n",
      "[0, IndirectObject(135, 0, 4432428864)]\n"
     ]
    },
    {
     "name": "stdout",
     "output_type": "stream",
     "text": [
      "Extracted text from se1151_creating_a_leadership_community_supplier_engagement_q_amp_a_s1_2_amp_3.pdf and saved to se1151_creating_a_leadership_community_supplier_engagement_q_amp_a_s1_2_amp_3.txt\n",
      "Extracted text from cafe_operator_eoi_final2_v1.pdf and saved to cafe_operator_eoi_final2_v1.txt\n",
      "Extracted text from defra_scah_cost_partner_prog_contract__redacted.pdf and saved to defra_scah_cost_partner_prog_contract__redacted.txt\n",
      "Extracted text from proc_899_2024_02_letter_of_appointment_alma.pdf and saved to proc_899_2024_02_letter_of_appointment_alma.txt\n",
      "Extracted text from cs0303.pdf and saved to cs0303.txt\n",
      "Extracted text from cs0302.pdf and saved to cs0302.txt\n",
      "Extracted text from sfpd_limited_2023cas002_strutt_memorial_ground_tennis_courts_dwg_010_b_04102023.pdf and saved to sfpd_limited_2023cas002_strutt_memorial_ground_tennis_courts_dwg_010_b_04102023.txt\n",
      "Extracted text from 20241120_final_rm1557_14_g_cloud_14_call_off_contract_v2_1_21_11_24_redacted.pdf and saved to 20241120_final_rm1557_14_g_cloud_14_call_off_contract_v2_1_21_11_24_redacted.txt\n",
      "Extracted text from 2_3_6_pa_consulting_response_redacted.pdf and saved to 2_3_6_pa_consulting_response_redacted.txt\n",
      "Extracted text from edc_1000_0005_resident_connections_study_and_action_plan_ambit_studios_limited_redacted.pdf and saved to edc_1000_0005_resident_connections_study_and_action_plan_ambit_studios_limited_redacted.txt\n",
      "Extracted text from cs07b03.pdf and saved to cs07b03.txt\n",
      "Extracted text from mft_2024_27_inf_5_rm1557_13_g_cloud_13_call_off_contract_v6_0_v1_002.pdf and saved to mft_2024_27_inf_5_rm1557_13_g_cloud_13_call_off_contract_v6_0_v1_002.txt\n",
      "Extracted text from ps24149_consultancy_services_on_data_landscaping_mid_tier_redacted_contract.pdf and saved to ps24149_consultancy_services_on_data_landscaping_mid_tier_redacted_contract.txt\n"
     ]
    },
    {
     "name": "stderr",
     "output_type": "stream",
     "text": [
      "Multiple definitions in dictionary at byte 0x2381e for key /PageMode\n"
     ]
    },
    {
     "name": "stdout",
     "output_type": "stream",
     "text": [
      "Extracted text from redacted_hmrc_nwt_short_form_contract_sr1923529188.pdf and saved to redacted_hmrc_nwt_short_form_contract_sr1923529188.txt\n",
      "Extracted text from existing_plans_and_elevations.pdf and saved to existing_plans_and_elevations.txt\n",
      "Extracted text from po_88_4070386817_0_us_redacted.pdf and saved to po_88_4070386817_0_us_redacted.txt\n",
      "Extracted text from cs12gfi02.pdf and saved to cs12gfi02.txt\n",
      "Extracted text from east_farleigh_soc_obc_psc_v3_2_signed_redacted.pdf and saved to east_farleigh_soc_obc_psc_v3_2_signed_redacted.txt\n"
     ]
    },
    {
     "name": "stderr",
     "output_type": "stream",
     "text": [
      "Multiple definitions in dictionary at byte 0x24420 for key /PageMode\n"
     ]
    },
    {
     "name": "stdout",
     "output_type": "stream",
     "text": [
      "Extracted text from tender_return_from_april_2025.pdf and saved to tender_return_from_april_2025.txt\n",
      "Extracted text from dhsc_market_consultation.pdf and saved to dhsc_market_consultation.txt\n",
      "Extracted text from po_82_gss24927_0_us_redacted.pdf and saved to po_82_gss24927_0_us_redacted.txt\n",
      "Extracted text from j1881_03.pdf and saved to j1881_03.txt\n",
      "Extracted text from pr_26967_redacted.pdf and saved to pr_26967_redacted.txt\n",
      "Extracted text from ukef_support_and_hosting_agreement_2025_redacted.pdf and saved to ukef_support_and_hosting_agreement_2025_redacted.txt\n",
      "Extracted text from cs27.pdf and saved to cs27.txt\n",
      "Extracted text from redacted_award_letter_ps_24_113.pdf and saved to redacted_award_letter_ps_24_113.txt\n",
      "Extracted text from 2b_chuck_b037_feather_split_and_fully_trimmed_infraspinatus.pdf and saved to 2b_chuck_b037_feather_split_and_fully_trimmed_infraspinatus.txt\n",
      "Extracted text from cs25.pdf and saved to cs25.txt\n",
      "Extracted text from schedule_of_works.pdf and saved to schedule_of_works.txt\n",
      "Extracted text from po_dstl0000030919_final.pdf and saved to po_dstl0000030919_final.txt\n",
      "Extracted text from cs19.pdf and saved to cs19.txt\n",
      "Extracted text from rm6187_joint_schedule_11__processing_data_deloitte_transition_and_exit_services_esmcp_redacted.pdf and saved to rm6187_joint_schedule_11__processing_data_deloitte_transition_and_exit_services_esmcp_redacted.txt\n"
     ]
    },
    {
     "name": "stderr",
     "output_type": "stream",
     "text": [
      "Multiple definitions in dictionary at byte 0x22e6b for key /PageMode\n"
     ]
    },
    {
     "name": "stdout",
     "output_type": "stream",
     "text": [
      "Extracted text from 2f_pork_collar_boneless_1008_2.pdf and saved to 2f_pork_collar_boneless_1008_2.txt\n",
      "Extracted text from po_85_4040036555_0_us_1__redacted.pdf and saved to po_85_4040036555_0_us_1__redacted.txt\n",
      "Extracted text from j1881_01.pdf and saved to j1881_01.txt\n",
      "Extracted text from sssna_call_off_contract_and_of_ddat24544_dec_24_th_signed_redacted.pdf and saved to sssna_call_off_contract_and_of_ddat24544_dec_24_th_signed_redacted.txt\n",
      "Extracted text from sial_paris_stand_2024_catering_tender.pdf and saved to sial_paris_stand_2024_catering_tender.txt\n",
      "Extracted text from f05_2_boscawen_park_pond_truro_12_03_19.pdf and saved to f05_2_boscawen_park_pond_truro_12_03_19.txt\n",
      "Extracted text from 20241024_standard_notice_of__contract_award_m_amp_c_redacted.pdf and saved to 20241024_standard_notice_of__contract_award_m_amp_c_redacted.txt\n",
      "Extracted text from 5_condition_survey_full_file.pdf and saved to 5_condition_survey_full_file.txt\n",
      "Extracted text from cs07b01.pdf and saved to cs07b01.txt\n",
      "Extracted text from pr_2024_107_adobe_creative_cloud_and_stock_signed_both_parties_redaced_contract_26_11_2024.pdf and saved to pr_2024_107_adobe_creative_cloud_and_stock_signed_both_parties_redaced_contract_26_11_2024.txt\n",
      "Extracted text from po_dstl0000031317_clean.pdf and saved to po_dstl0000031317_clean.txt\n",
      "Extracted text from cs10b.pdf and saved to cs10b.txt\n",
      "Extracted text from wtw_framework_schedule_6_redacted.pdf and saved to wtw_framework_schedule_6_redacted.txt\n",
      "Extracted text from cs0301.pdf and saved to cs0301.txt\n",
      "Extracted text from gss24904_contract_redacted.pdf and saved to gss24904_contract_redacted.txt\n",
      "Extracted text from appendix_4_layout_of_playpark_showing_extension_and_gate_positions.pdf and saved to appendix_4_layout_of_playpark_showing_extension_and_gate_positions.txt\n",
      "Extracted text from rule_of_tender_for_land_management.pdf and saved to rule_of_tender_for_land_management.txt\n",
      "Extracted text from cs10c.pdf and saved to cs10c.txt\n",
      "Extracted text from mhap_contract_l2_winterhead_redacted.pdf and saved to mhap_contract_l2_winterhead_redacted.txt\n",
      "Extracted text from phcp_management_contract_invitation_241209.pdf and saved to phcp_management_contract_invitation_241209.txt\n",
      "Extracted text from po_85_4040037089_0_us_redacted.pdf and saved to po_85_4040037089_0_us_redacted.txt\n",
      "Extracted text from schedule_29_key_personnel_84711226_2.pdf and saved to schedule_29_key_personnel_84711226_2.txt\n",
      "Extracted text from cs12gfi01.pdf and saved to cs12gfi01.txt\n",
      "Extracted text from gss24898_redacted_po.pdf and saved to gss24898_redacted_po.txt\n",
      "Extracted text from aecom_contract_redacted.pdf and saved to aecom_contract_redacted.txt\n",
      "Extracted text from 20240820_rm1557_13_dobus_call_off_contract_redacted_osc.pdf and saved to 20240820_rm1557_13_dobus_call_off_contract_redacted_osc.txt\n",
      "Extracted text from mhap_contract_lot1_tewv_redacted.pdf and saved to mhap_contract_lot1_tewv_redacted.txt\n",
      "Extracted text from proc_899_2024_06_rm6126_order_form_iff_12_nov_redacted.pdf and saved to proc_899_2024_06_rm6126_order_form_iff_12_nov_redacted.txt\n",
      "Extracted text from wc1383775_expression_of_interest_form.pdf and saved to wc1383775_expression_of_interest_form.txt\n",
      "Extracted text from type_c_joint_schedule_05_key_subcontractors_offsen_co1_v0_3_redacted.pdf and saved to type_c_joint_schedule_05_key_subcontractors_offsen_co1_v0_3_redacted.txt\n",
      "Extracted text from nec4_psc_construction_professional_services_pso_senior_specialist_v2_signed_by_mml_17_jul_2024_as__redacted.pdf and saved to nec4_psc_construction_professional_services_pso_senior_specialist_v2_signed_by_mml_17_jul_2024_as__redacted.txt\n",
      "Extracted text from cs18.pdf and saved to cs18.txt\n",
      "Extracted text from 2e_loin_l044_rack_seven_rib_cap_and_fat_removed.pdf and saved to 2e_loin_l044_rack_seven_rib_cap_and_fat_removed.txt\n",
      "Extracted text from gss24389_contract_redacted.pdf and saved to gss24389_contract_redacted.txt\n",
      "Extracted text from cs24.pdf and saved to cs24.txt\n",
      "Extracted text from rm1557_14_attachment_10_call_off_contract_final_redacted.pdf and saved to rm1557_14_attachment_10_call_off_contract_final_redacted.txt\n",
      "Extracted text from be24035_request_for_proposal_questions_rfpq.pdf and saved to be24035_request_for_proposal_questions_rfpq.txt\n",
      "Extracted text from cs15.pdf and saved to cs15.txt\n",
      "Extracted text from smart_and_secure_electricity_systems_sses_technical_services_con_6175_redacted.pdf and saved to smart_and_secure_electricity_systems_sses_technical_services_con_6175_redacted.txt\n",
      "Extracted text from cs01.pdf and saved to cs01.txt\n",
      "Extracted text from tmar3126_award_letter_v1_0_redacted.pdf and saved to tmar3126_award_letter_v1_0_redacted.txt\n",
      "Extracted text from proc_899_2024_14_rm6126_order_form_thinks_signed_redacted.pdf and saved to proc_899_2024_14_rm6126_order_form_thinks_signed_redacted.txt\n",
      "Extracted text from cs04a02.pdf and saved to cs04a02.txt\n",
      "Extracted text from description_of_types_of_grass_cutting_by_section.pdf and saved to description_of_types_of_grass_cutting_by_section.txt\n",
      "Extracted text from 711934451_contract_redacted.pdf and saved to 711934451_contract_redacted.txt\n",
      "Extracted text from c82919_08_07_2022_covid_19_programme_01_order_form_v1_0f_24jun22_final.pdf and saved to c82919_08_07_2022_covid_19_programme_01_order_form_v1_0f_24jun22_final.txt\n",
      "Extracted text from innovate_uk_business_connect_pqq_digital.pdf and saved to innovate_uk_business_connect_pqq_digital.txt\n",
      "Extracted text from po_82_4050950479_0_us_redacted.pdf and saved to po_82_4050950479_0_us_redacted.txt\n",
      "Extracted text from proc_899_2024_09_rm6126_order_form_london_economics_signed_redacted.pdf and saved to proc_899_2024_09_rm6126_order_form_london_economics_signed_redacted.txt\n"
     ]
    },
    {
     "name": "stderr",
     "output_type": "stream",
     "text": [
      "Multiple definitions in dictionary at byte 0x23fe3 for key /PageMode\n"
     ]
    },
    {
     "name": "stdout",
     "output_type": "stream",
     "text": [
      "Extracted text from annex_3_mott_macdonald_purchase_order_terms_and_conditions.pdf and saved to annex_3_mott_macdonald_purchase_order_terms_and_conditions.txt\n",
      "Extracted text from proposed_plans_and_elevations_1.pdf and saved to proposed_plans_and_elevations_1.txt\n",
      "Extracted text from attachment_6b_order_form_redacted.pdf and saved to attachment_6b_order_form_redacted.txt\n",
      "Extracted text from 17_rm6187_call_off_schedule_14__service_levels.pdf and saved to 17_rm6187_call_off_schedule_14__service_levels.txt\n",
      "Extracted text from rm1557_13_g_cloud_13_call_off_contract_la_mod_accelerate_redacted.pdf and saved to rm1557_13_g_cloud_13_call_off_contract_la_mod_accelerate_redacted.txt\n",
      "Extracted text from cs12gfi1402.pdf and saved to cs12gfi1402.txt\n",
      "Extracted text from po_85_4040037036_0_us_redacted.pdf and saved to po_85_4040037036_0_us_redacted.txt\n",
      "Extracted text from schedule_9_commercially_sensitive_information_84711173_1.pdf and saved to schedule_9_commercially_sensitive_information_84711173_1.txt\n",
      "Extracted text from env0005488c_went_outfall_refurbishment_ecc_ese_ea_contract_redacted.pdf and saved to env0005488c_went_outfall_refurbishment_ecc_ese_ea_contract_redacted.txt\n",
      "Extracted text from calender_of_events.pdf and saved to calender_of_events.txt\n",
      "Extracted text from project_27356_redacted_contract.pdf and saved to project_27356_redacted_contract.txt\n",
      "Extracted text from ddat24369_aw4_1_dps_schedule_6_order_form_template_and_order_schedules_v1_0_1_redacted.pdf and saved to ddat24369_aw4_1_dps_schedule_6_order_form_template_and_order_schedules_v1_0_1_redacted.txt\n",
      "Extracted text from schedule_16_payments_on_termination_84838265_1.pdf and saved to schedule_16_payments_on_termination_84838265_1.txt\n",
      "Extracted text from enclosure_3_template_nda.pdf and saved to enclosure_3_template_nda.txt\n",
      "Extracted text from edvs_purchase_contract_v2_0_redacted__redacted.pdf and saved to edvs_purchase_contract_v2_0_redacted__redacted.txt\n",
      "Extracted text from po_85_4040037080_0_us_redacted.pdf and saved to po_85_4040037080_0_us_redacted.txt\n",
      "Extracted text from cs04c01.pdf and saved to cs04c01.txt\n",
      "Extracted text from cs14.pdf and saved to cs14.txt\n",
      "Extracted text from po_88_4070387506_0_us_redacted.pdf and saved to po_88_4070387506_0_us_redacted.txt\n",
      "Extracted text from cs28.pdf and saved to cs28.txt\n",
      "Extracted text from c219957_ukhsa_conditions_of_contract_bespoke_msciii_cabinet_fully_signed_redacted.pdf and saved to c219957_ukhsa_conditions_of_contract_bespoke_msciii_cabinet_fully_signed_redacted.txt\n",
      "Extracted text from signed_contract.pdf and saved to signed_contract.txt\n",
      "Extracted text from cs02.pdf and saved to cs02.txt\n",
      "Extracted text from cs16.pdf and saved to cs16.txt\n",
      "Extracted text from cs04c03.pdf and saved to cs04c03.txt\n",
      "Extracted text from tender_issue_tabernacle_church_zones.pdf and saved to tender_issue_tabernacle_church_zones.txt\n",
      "Extracted text from redacted_schedule_6_order_form_v2_0.pdf and saved to redacted_schedule_6_order_form_v2_0.txt\n",
      "Extracted text from redacted_c307483_ld_to_support_the_co_production_of_national_policy_and_strategy_nhs_providers_v1_final_002_1.pdf and saved to redacted_c307483_ld_to_support_the_co_production_of_national_policy_and_strategy_nhs_providers_v1_final_002_1.txt\n",
      "Extracted text from 26353_signed_contract_schedule_6_final_redacted_1.pdf and saved to 26353_signed_contract_schedule_6_final_redacted_1.txt\n",
      "Extracted text from cs04a01.pdf and saved to cs04a01.txt\n",
      "Extracted text from rm1557_13_g_cloud_13_call_off_contract_pixel_synergy_programme_procurement_and_commercial_service_2025_final_for_issue_07_11_24_redacted.pdf and saved to rm1557_13_g_cloud_13_call_off_contract_pixel_synergy_programme_procurement_and_commercial_service_2025_final_for_issue_07_11_24_redacted.txt\n",
      "Extracted text from redacted_c312438_beruku_identity_ltd_contract_1.pdf and saved to redacted_c312438_beruku_identity_ltd_contract_1.txt\n",
      "Extracted text from footpaths_contract_2025.pdf and saved to footpaths_contract_2025.txt\n",
      "Extracted text from gss24410_contract_redacted.pdf and saved to gss24410_contract_redacted.txt\n",
      "Extracted text from ddat24500_g_cloud_14_call_off_contract_fully_signed_redacted.pdf and saved to ddat24500_g_cloud_14_call_off_contract_fully_signed_redacted.txt\n",
      "Extracted text from 20230106_ps264_mosaic_island_ltd_redacted_for_transparency.pdf and saved to 20230106_ps264_mosaic_island_ltd_redacted_for_transparency.txt\n",
      "Extracted text from stand_build_tender_brief.pdf and saved to stand_build_tender_brief.txt\n",
      "Extracted text from proc_899_2024_07_letter_of_appointment_ipsos.pdf and saved to proc_899_2024_07_letter_of_appointment_ipsos.txt\n",
      "Extracted text from hmp_risley_key_tagging_po_redacted.pdf and saved to hmp_risley_key_tagging_po_redacted.txt\n",
      "Extracted text from variation_26_redacted.pdf and saved to variation_26_redacted.txt\n",
      "Extracted text from ddat24431_order_form_countersigned_redacted.pdf and saved to ddat24431_order_form_countersigned_redacted.txt\n",
      "Extracted text from redacted_alcatel_2_successful_award_letter.pdf and saved to redacted_alcatel_2_successful_award_letter.txt\n",
      "Extracted text from cs12gfi1401.pdf and saved to cs12gfi1401.txt\n",
      "Extracted text from redaction_fully_signed_uk_sbs_ddat24559_dell_sssna_call_off_contract_ukri_dec_24_th_signed_redacted.pdf and saved to redaction_fully_signed_uk_sbs_ddat24559_dell_sssna_call_off_contract_ukri_dec_24_th_signed_redacted.txt\n",
      "Extracted text from po_redacted_gss24938.pdf and saved to po_redacted_gss24938.txt\n",
      "Extracted text from proc_899_2024_10_rm6126_order_form_natcen_12_11_24_redacted.pdf and saved to proc_899_2024_10_rm6126_order_form_natcen_12_11_24_redacted.txt\n",
      "Extracted text from proc_899_2024_09_letter_of_appointment_london_economics.pdf and saved to proc_899_2024_09_letter_of_appointment_london_economics.txt\n",
      "Extracted text from oak_market_impact_assessment_background_10_december.pdf and saved to oak_market_impact_assessment_background_10_december.txt\n",
      "Extracted text from irm23_7634_sc2_based_terms_and_conditions_transparency.pdf and saved to irm23_7634_sc2_based_terms_and_conditions_transparency.txt\n",
      "Extracted text from cs04a00.pdf and saved to cs04a00.txt\n",
      "Extracted text from comms_amp_camps_framework_content_creation.pdf and saved to comms_amp_camps_framework_content_creation.txt\n",
      "Extracted text from tefos_p3_redacted_contract.pdf and saved to tefos_p3_redacted_contract.txt\n",
      "Extracted text from signed_contract_6868_gcloud13_home_office_redacted_final_02_09_24.pdf and saved to signed_contract_6868_gcloud13_home_office_redacted_final_02_09_24.txt\n",
      "Extracted text from 708901450_sch_10_17_defstan_68_284_part_02_ca_r.pdf and saved to 708901450_sch_10_17_defstan_68_284_part_02_ca_r.txt\n",
      "Extracted text from aomr_lot_3_ir_contract_rsc_signed_redacted.pdf and saved to aomr_lot_3_ir_contract_rsc_signed_redacted.txt\n",
      "Extracted text from cs04c02.pdf and saved to cs04c02.txt\n",
      "Extracted text from cs17.pdf and saved to cs17.txt\n",
      "Extracted text from rm1043_8_framework_schedule_6_order_form_template_statement_of_work_template_and_call_off_schedules_v3_0_bjss_amends_final_redacted.pdf and saved to rm1043_8_framework_schedule_6_order_form_template_statement_of_work_template_and_call_off_schedules_v3_0_bjss_amends_final_redacted.txt\n",
      "Extracted text from skinningrove_fas_ecc_ese_signed__redacted.pdf and saved to skinningrove_fas_ecc_ese_signed__redacted.txt\n",
      "Extracted text from cs13.pdf and saved to cs13.txt\n",
      "Extracted text from rm6187_ps290_korn_ferry_mcf3_framework_schedule_6__order_form_osc_hl_signed_redacted_for_transparency.pdf and saved to rm6187_ps290_korn_ferry_mcf3_framework_schedule_6__order_form_osc_hl_signed_redacted_for_transparency.txt\n",
      "Extracted text from order_form_ne_standard_goods_services_terms_and_conditions_supply_tree_planting_stock_for_litr_aw_24_25_redacted.pdf and saved to order_form_ne_standard_goods_services_terms_and_conditions_supply_tree_planting_stock_for_litr_aw_24_25_redacted.txt\n",
      "Extracted text from cs12gfi1001.pdf and saved to cs12gfi1001.txt\n",
      "Extracted text from fs101227_variation_24_lots_1_6_fully_signed_redacted.pdf and saved to fs101227_variation_24_lots_1_6_fully_signed_redacted.txt\n",
      "Extracted text from cs04a04.pdf and saved to cs04a04.txt\n",
      "Extracted text from 6_auditorium_ceiling_inspection_report.pdf and saved to 6_auditorium_ceiling_inspection_report.txt\n",
      "Extracted text from 20240104_ps356_kpmg_gd_strategic_support_ps356_rm1557_13_g_cloud_13_call_off_contract_v12_fully_signed_redacted_for_transparency.pdf and saved to 20240104_ps356_kpmg_gd_strategic_support_ps356_rm1557_13_g_cloud_13_call_off_contract_v12_fully_signed_redacted_for_transparency.txt\n",
      "Extracted text from grass_cutting_contract_2025.pdf and saved to grass_cutting_contract_2025.txt\n",
      "Extracted text from 560_17_proposed_sections_2_2_and_3_3_1_50_a2.pdf and saved to 560_17_proposed_sections_2_2_and_3_3_1_50_a2.txt\n",
      "Extracted text from redacted_po_82_4050974935_0_us_redacted.pdf and saved to redacted_po_82_4050974935_0_us_redacted.txt\n",
      "Extracted text from enclosure_1_consultancy_agreement_csp.pdf and saved to enclosure_1_consultancy_agreement_csp.txt\n",
      "Extracted text from gov_short_form_terms_and_condition_cps_pr_2024_126_video_conferencing_compute_devices_redacted.pdf and saved to gov_short_form_terms_and_condition_cps_pr_2024_126_video_conferencing_compute_devices_redacted.txt\n",
      "Extracted text from ddat24464_g_cloud_14_call_off_contract_wp_redacted.pdf and saved to ddat24464_g_cloud_14_call_off_contract_wp_redacted.txt\n",
      "Extracted text from redacted_final_contract_user_research_participant_v0_28_11_2024.pdf and saved to redacted_final_contract_user_research_participant_v0_28_11_2024.txt\n",
      "Extracted text from proc_899_2024_12_rm6126_order_form_tba_signed_redacted.pdf and saved to proc_899_2024_12_rm6126_order_form_tba_signed_redacted.txt\n",
      "Extracted text from proc_899_2024_13_letter_of_appointment_bit.pdf and saved to proc_899_2024_13_letter_of_appointment_bit.txt\n",
      "Extracted text from proc_899_2024_02_rm6126_order_form_alma_signed_redacted.pdf and saved to proc_899_2024_02_rm6126_order_form_alma_signed_redacted.txt\n",
      "Extracted text from enclosure_2_deed_of_assignment_of_intellectual_property_rights.pdf and saved to enclosure_2_deed_of_assignment_of_intellectual_property_rights.txt\n",
      "Extracted text from award_letter_redacted.pdf and saved to award_letter_redacted.txt\n",
      "Extracted text from schedule_1_definitions_84711149_6_84838217_1.pdf and saved to schedule_1_definitions_84711149_6_84838217_1.txt\n",
      "Extracted text from freshworks_cabinet_office_fs_gcloud_14_contract_nov_2024_redacted_v1.pdf and saved to freshworks_cabinet_office_fs_gcloud_14_contract_nov_2024_redacted_v1.txt\n",
      "Extracted text from ddat24398_g_cloud_contract_fully_signed_redacted.pdf and saved to ddat24398_g_cloud_contract_fully_signed_redacted.txt\n",
      "Extracted text from cs12gfi0901.pdf and saved to cs12gfi0901.txt\n",
      "Extracted text from pre_construction_information.pdf and saved to pre_construction_information.txt\n",
      "Extracted text from 8_harlington_asbestos_report.pdf and saved to 8_harlington_asbestos_report.txt\n",
      "Extracted text from 20230523_rm1557_13_ps229_g_cloud_13_call_off_contract_v3_0_os_countersigned_redacted_for_transparency.pdf and saved to 20230523_rm1557_13_ps229_g_cloud_13_call_off_contract_v3_0_os_countersigned_redacted_for_transparency.txt\n",
      "Extracted text from proc_899_2024_01_letter_of_appointment_accent.pdf and saved to proc_899_2024_01_letter_of_appointment_accent.txt\n",
      "Extracted text from po_redacted_001.pdf and saved to po_redacted_001.txt\n",
      "Extracted text from po_87_4060297057_0_us_redacted.pdf and saved to po_87_4060297057_0_us_redacted.txt\n",
      "Extracted text from cs04a05.pdf and saved to cs04a05.txt\n",
      "Extracted text from sourcing_fusion_supplier_guidance_general_tender_or_quote_submission.pdf and saved to sourcing_fusion_supplier_guidance_general_tender_or_quote_submission.txt\n",
      "Extracted text from cs27iss.pdf and saved to cs27iss.txt\n",
      "Extracted text from cs12.pdf and saved to cs12.txt\n",
      "Extracted text from cs06.pdf and saved to cs06.txt\n",
      "Extracted text from ddat24429_contract_redacted.pdf and saved to ddat24429_contract_redacted.txt\n",
      "Extracted text from trp_712620450_sc2_schedules_redacted_o.pdf and saved to trp_712620450_sc2_schedules_redacted_o.txt\n",
      "Extracted text from construction_phase_plan_cmd_2015.pdf and saved to construction_phase_plan_cmd_2015.txt\n",
      "Extracted text from cs12gfi1002.pdf and saved to cs12gfi1002.txt\n"
     ]
    },
    {
     "name": "stderr",
     "output_type": "stream",
     "text": [
      "Multiple definitions in dictionary at byte 0x191a9 for key /PageMode\n"
     ]
    },
    {
     "name": "stdout",
     "output_type": "stream",
     "text": [
      "Extracted text from ps254_digital_strategy_delivery_g_cloud_13_redacted.pdf and saved to ps254_digital_strategy_delivery_g_cloud_13_redacted.txt\n",
      "Extracted text from cs24a.pdf and saved to cs24a.txt\n",
      "Extracted text from j1881_08.pdf and saved to j1881_08.txt\n",
      "Extracted text from rm6125_client_call_off_contract_letter_of_appointment_and_schedules_redacted.pdf and saved to rm6125_client_call_off_contract_letter_of_appointment_and_schedules_redacted.txt\n",
      "Extracted text from 708901450_schedule_10_21_2_of_2.pdf and saved to 708901450_schedule_10_21_2_of_2.txt\n",
      "Extracted text from national_numeracy_programme_scale_up_phase_national_distribution_of_teaching_and_learning_materials_final.pdf and saved to national_numeracy_programme_scale_up_phase_national_distribution_of_teaching_and_learning_materials_final.txt\n",
      "Extracted text from wc1349113_expression_of_interest_form_rev3_pdf.pdf and saved to wc1349113_expression_of_interest_form_rev3_pdf.txt\n",
      "Extracted text from 20240807_framework_schedule_kia_sportage_phev_redacted.pdf and saved to 20240807_framework_schedule_kia_sportage_phev_redacted.txt\n",
      "Extracted text from framework_schedule_6_order_form_template_and_call_off_schedules_v3_7_rm6179_ld_redacted.pdf and saved to framework_schedule_6_order_form_template_and_call_off_schedules_v3_7_rm6179_ld_redacted.txt\n",
      "Extracted text from pep_app_b_programme_master_programme_being_developed.pdf and saved to pep_app_b_programme_master_programme_being_developed.txt\n",
      "Extracted text from specification.pdf and saved to specification.txt\n",
      "Extracted text from 20241124_rm1557_14_g_cloud_14_call_off_contract_v2_0_metataxis_cqc_id_126_v_redacted.pdf and saved to 20241124_rm1557_14_g_cloud_14_call_off_contract_v2_0_metataxis_cqc_id_126_v_redacted.txt\n",
      "Extracted text from north_east_hub_south_elmsall_fas_ese_option_c_ecc_contract_bam_signed_redacted.pdf and saved to north_east_hub_south_elmsall_fas_ese_option_c_ecc_contract_bam_signed_redacted.txt\n",
      "Extracted text from ddat24140_rm6259_order_form_desnz_redacted.pdf and saved to ddat24140_rm6259_order_form_desnz_redacted.txt\n",
      "Extracted text from fully_signed_contract_redacted.pdf and saved to fully_signed_contract_redacted.txt\n",
      "Extracted text from itt_flowmark_digital_app_1.pdf and saved to itt_flowmark_digital_app_1.txt\n",
      "Extracted text from 708901450_schedule_00_6_of_10.pdf and saved to 708901450_schedule_00_6_of_10.txt\n",
      "Extracted text from 7013377450_g_cloud_contract_redacted.pdf and saved to 7013377450_g_cloud_contract_redacted.txt\n",
      "Extracted text from award_form_storage_uk_stockpile_maintenance_and_deployment_2024_final_redacted.pdf and saved to award_form_storage_uk_stockpile_maintenance_and_deployment_2024_final_redacted.txt\n",
      "Extracted text from midlands_core_trans_ecc_pm_csm_psc_fully_signed_redacted.pdf and saved to midlands_core_trans_ecc_pm_csm_psc_fully_signed_redacted.txt\n",
      "Extracted text from pa_pa0000002315_0_signed_redacted_final.pdf and saved to pa_pa0000002315_0_signed_redacted_final.txt\n",
      "Extracted text from cs12gfi0902.pdf and saved to cs12gfi0902.txt\n",
      "Extracted text from order_form_ne_standard_peak_2g2_paa_ne_signed_redacted.pdf and saved to order_form_ne_standard_peak_2g2_paa_ne_signed_redacted.txt\n",
      "Extracted text from cs04b.pdf and saved to cs04b.txt\n"
     ]
    },
    {
     "name": "stderr",
     "output_type": "stream",
     "text": [
      "Multiple definitions in dictionary at byte 0x19a6f for key /PageMode\n"
     ]
    },
    {
     "name": "stdout",
     "output_type": "stream",
     "text": [
      "Extracted text from nec4_psc_ea_cdm_advisors_se_hub_contract_wsp_ea_signed_redacted.pdf and saved to nec4_psc_ea_cdm_advisors_se_hub_contract_wsp_ea_signed_redacted.txt\n",
      "Extracted text from app_levy_2425_c24791_031.pdf and saved to app_levy_2425_c24791_031.txt\n",
      "Extracted text from j1881_09.pdf and saved to j1881_09.txt\n",
      "Extracted text from cs04a06.pdf and saved to cs04a06.txt\n",
      "Extracted text from redacted_se_ita_detectedx_contract_1_8_23_v0_4_1_84_3.pdf and saved to redacted_se_ita_detectedx_contract_1_8_23_v0_4_1_84_3.txt\n",
      "Extracted text from cs05.pdf and saved to cs05.txt\n",
      "Extracted text from cs04c04.pdf and saved to cs04c04.txt\n",
      "Extracted text from cs11.pdf and saved to cs11.txt\n",
      "Extracted text from iukbc_digitalservices_tender_25.pdf and saved to iukbc_digitalservices_tender_25.txt\n",
      "Extracted text from valiantys_cloud_migration_contract.pdf and saved to valiantys_cloud_migration_contract.txt\n",
      "Extracted text from po_redacted.pdf and saved to po_redacted.txt\n",
      "Extracted text from 20241111_cqc_rcco_148_rm6102_contract_order_form_and_contract_terms_redacted.pdf and saved to 20241111_cqc_rcco_148_rm6102_contract_order_form_and_contract_terms_redacted.txt\n",
      "Extracted text from redacted_po.pdf and saved to redacted_po.txt\n",
      "Extracted text from dnstar_licences_24_25_redacted.pdf and saved to dnstar_licences_24_25_redacted.txt\n",
      "Extracted text from maps_updated_dec_24.pdf and saved to maps_updated_dec_24.txt\n",
      "Extracted text from tender_submission_scope_of_works_v3.pdf and saved to tender_submission_scope_of_works_v3.txt\n",
      "Extracted text from tender_specification_document.pdf and saved to tender_specification_document.txt\n",
      "Extracted text from be24255_redacted_po.pdf and saved to be24255_redacted_po.txt\n",
      "Extracted text from ipo_pricing_matrix.pdf and saved to ipo_pricing_matrix.txt\n",
      "Extracted text from 2_3_4_pa_consulting_response_redacted.pdf and saved to 2_3_4_pa_consulting_response_redacted.txt\n",
      "Extracted text from wyca_toms_master_2024.pdf and saved to wyca_toms_master_2024.txt\n",
      "Extracted text from core_terms_v3_0.pdf and saved to core_terms_v3_0.txt\n",
      "Extracted text from 040624_con_6299_mid_tier_award_form_desnz_victoria_bid_final_redacted.pdf and saved to 040624_con_6299_mid_tier_award_form_desnz_victoria_bid_final_redacted.txt\n",
      "Extracted text from tender_form_final.pdf and saved to tender_form_final.txt\n",
      "Extracted text from be24268_redacted_po.pdf and saved to be24268_redacted_po.txt\n",
      "Extracted text from proc_899_2024_03_rm6126_order_form_basis_redacted.pdf and saved to proc_899_2024_03_rm6126_order_form_basis_redacted.txt\n",
      "Extracted text from c304981_hazardous_waste_contract_redacted.pdf and saved to c304981_hazardous_waste_contract_redacted.txt\n",
      "Extracted text from redacted_gld023_2024_order_form_director_of_legal_operations_signed.pdf and saved to redacted_gld023_2024_order_form_director_of_legal_operations_signed.txt\n",
      "Extracted text from innovate_uk_business_connect_pqq.pdf and saved to innovate_uk_business_connect_pqq.txt\n",
      "Extracted text from short_form_contract_v1_6_impact_of_collaboration_agreements_between_ph_and_es_final_redacted.pdf and saved to short_form_contract_v1_6_impact_of_collaboration_agreements_between_ph_and_es_final_redacted.txt\n",
      "Extracted text from cs02a01.pdf and saved to cs02a01.txt\n",
      "Extracted text from redacted_contract.pdf and saved to redacted_contract.txt\n",
      "Extracted text from schedule_17_benchmarking_84838329_1.pdf and saved to schedule_17_benchmarking_84838329_1.txt\n",
      "Extracted text from proc_899_2024_03_letter_of_appointment_basis_social.pdf and saved to proc_899_2024_03_letter_of_appointment_basis_social.txt\n",
      "Extracted text from 202408_contractor__ios__health_and_safety_requirements_final.pdf and saved to 202408_contractor__ios__health_and_safety_requirements_final.txt\n",
      "Extracted text from 06032024_bms_transparency.pdf and saved to 06032024_bms_transparency.txt\n",
      "Extracted text from rm6187_framework_schedule_6_order_form_and_call_off_schedules_deloitte_transition_and_exit_services_esmcp_redacted.pdf and saved to rm6187_framework_schedule_6_order_form_and_call_off_schedules_deloitte_transition_and_exit_services_esmcp_redacted.txt\n",
      "Extracted text from contract_redacted.pdf and saved to contract_redacted.txt\n",
      "Extracted text from bidder_pack_procurement_specific_requirements.pdf and saved to bidder_pack_procurement_specific_requirements.txt\n",
      "Extracted text from mhap_contract_l3_cnwl_redacted.pdf and saved to mhap_contract_l3_cnwl_redacted.txt\n",
      "Extracted text from schedule_12_software_84838263_1.pdf and saved to schedule_12_software_84838263_1.txt\n",
      "Extracted text from appendix_e_scope_of_works_chp_lthw_heat_recovery_pm_design.pdf and saved to appendix_e_scope_of_works_chp_lthw_heat_recovery_pm_design.txt\n",
      "Extracted text from redaction_po_88_4070396621_0_us_1__redacted.pdf and saved to redaction_po_88_4070396621_0_us_1__redacted.txt\n",
      "Extracted text from proc_899_2024_11_cma_esro_ltd_order_form_redacted.pdf and saved to proc_899_2024_11_cma_esro_ltd_order_form_redacted.txt\n",
      "Extracted text from 441_p_005.pdf and saved to 441_p_005.txt\n",
      "Extracted text from annex_1_elevations.pdf and saved to annex_1_elevations.txt\n",
      "Extracted text from briefing_notice_hmrc__ccaas_v1_0.pdf and saved to briefing_notice_hmrc__ccaas_v1_0.txt\n"
     ]
    },
    {
     "name": "stderr",
     "output_type": "stream",
     "text": [
      "Multiple definitions in dictionary at byte 0x39c66 for key /PageMode\n"
     ]
    },
    {
     "name": "stdout",
     "output_type": "stream",
     "text": [
      "Extracted text from official_history_of_the_uk_strategic_nuclear_deterrent_volume_iii_short_form_contract_lsee_review_redacted.pdf and saved to official_history_of_the_uk_strategic_nuclear_deterrent_volume_iii_short_form_contract_lsee_review_redacted.txt\n",
      "Extracted text from order_form_ne_standard_goods_amp_services_terms_and_conditions_remedies_audit_signed_by_ne_and_pkf_redacted.pdf and saved to order_form_ne_standard_goods_amp_services_terms_and_conditions_remedies_audit_signed_by_ne_and_pkf_redacted.txt\n",
      "Extracted text from type_c_joint_schedule_09_key_personnel_offsen_co1_v0_3_redacted.pdf and saved to type_c_joint_schedule_09_key_personnel_offsen_co1_v0_3_redacted.txt\n",
      "Extracted text from 025369_2024_fats_award_f14.pdf and saved to 025369_2024_fats_award_f14.txt\n",
      "Extracted text from proc_899_2024_15_letter_of_appointment_verian.pdf and saved to proc_899_2024_15_letter_of_appointment_verian.txt\n",
      "Extracted text from cs02a02.pdf and saved to cs02a02.txt\n",
      "Extracted text from type_c_framework_schedule_3_programme_management_offsen_v0_3.pdf and saved to type_c_framework_schedule_3_programme_management_offsen_v0_3.txt\n",
      "Extracted text from framework_schedule_6_order_form_template_and_call_off_schedules_products_redacted.pdf and saved to framework_schedule_6_order_form_template_and_call_off_schedules_products_redacted.txt\n",
      "Extracted text from final_contract_coal_records_management_redacted_29052024.pdf and saved to final_contract_coal_records_management_redacted_29052024.txt\n",
      "Extracted text from cs12gfi12aa.pdf and saved to cs12gfi12aa.txt\n",
      "Extracted text from wc1168880_wc1166902_eoi_rev_2.pdf and saved to wc1168880_wc1166902_eoi_rev_2.txt\n",
      "Extracted text from po_dstl0000031050_0_redacted_final.pdf and saved to po_dstl0000031050_0_redacted_final.txt\n",
      "Extracted text from ecm_6699_redacted_contract.pdf and saved to ecm_6699_redacted_contract.txt\n",
      "Extracted text from cefas24_95_beems_short_form_contract_mss_ltd_1st_ranked_complete_redacted.pdf and saved to cefas24_95_beems_short_form_contract_mss_ltd_1st_ranked_complete_redacted.txt\n",
      "Extracted text from redacted_c310849_approved_responsible_clinician_lot_1.pdf and saved to redacted_c310849_approved_responsible_clinician_lot_1.txt\n",
      "Extracted text from proc_899_2024_08_rm6126_order_form_jigsaw_redacted.pdf and saved to proc_899_2024_08_rm6126_order_form_jigsaw_redacted.txt\n",
      "Extracted text from 20221216_sor_uk_patent_redacted.pdf and saved to 20221216_sor_uk_patent_redacted.txt\n",
      "Extracted text from spring_gardens_hydrobrake_replacement_contract_documents_signed_redacted.pdf and saved to spring_gardens_hydrobrake_replacement_contract_documents_signed_redacted.txt\n",
      "Extracted text from redacted_c310851_approved_responsible_clinician_lot_3.pdf and saved to redacted_c310851_approved_responsible_clinician_lot_3.txt\n",
      "Extracted text from ukhsa004_gott_dps_call_off_award_form_redacted_redacted.pdf and saved to ukhsa004_gott_dps_call_off_award_form_redacted_redacted.txt\n",
      "Extracted text from 3707_01.pdf and saved to 3707_01.txt\n",
      "Extracted text from appendix_6_nznw_intelligence_tool_procurement_requirements_specificationv3.pdf and saved to appendix_6_nznw_intelligence_tool_procurement_requirements_specificationv3.txt\n",
      "Extracted text from rfp_1088_28_tablets_and_cases_09_12.pdf and saved to rfp_1088_28_tablets_and_cases_09_12.txt\n",
      "Extracted text from _final_version__provision_of_interim_strategic_sealift__11_12_2024_redacted_.pdf and saved to _final_version__provision_of_interim_strategic_sealift__11_12_2024_redacted_.txt\n",
      "Extracted text from bespoke_certificate_and_tanscript_paper_and_holograms.pdf and saved to bespoke_certificate_and_tanscript_paper_and_holograms.txt\n",
      "Extracted text from bespoke_equipment_redacted.pdf and saved to bespoke_equipment_redacted.txt\n",
      "Extracted text from pr2024_097_vrr_and_ge_platform_contract_signed_by_both_parties_03.pdf and saved to pr2024_097_vrr_and_ge_platform_contract_signed_by_both_parties_03.txt\n",
      "Extracted text from comms_amp_camps_framework_pr.pdf and saved to comms_amp_camps_framework_pr.txt\n",
      "Extracted text from po_88_gss24949_0_us_redacted.pdf and saved to po_88_gss24949_0_us_redacted.txt\n",
      "Extracted text from mhap_contract_lot4_winterhead_redacted.pdf and saved to mhap_contract_lot4_winterhead_redacted.txt\n",
      "Extracted text from type_c_call_off_1_call_off_schedule_4_project_plan_and_testing_offsen_v0_3_redacted.pdf and saved to type_c_call_off_1_call_off_schedule_4_project_plan_and_testing_offsen_v0_3_redacted.txt\n",
      "Extracted text from po_89_4080026960_0_us_redacted.pdf and saved to po_89_4080026960_0_us_redacted.txt\n",
      "Extracted text from rm6187_call_off_schedule_7__key_supplier_staff_deloitte_transition_and_exit_services_esmcp.pdf and saved to rm6187_call_off_schedule_7__key_supplier_staff_deloitte_transition_and_exit_services_esmcp.txt\n"
     ]
    },
    {
     "name": "stderr",
     "output_type": "stream",
     "text": [
      "Multiple definitions in dictionary at byte 0x70a2b for key /PageMode\n"
     ]
    },
    {
     "name": "stdout",
     "output_type": "stream",
     "text": [
      "Extracted text from horniman_standard_terms_and_conditions.pdf and saved to horniman_standard_terms_and_conditions.txt\n",
      "Extracted text from 20241209_patient_assessment_devices.pdf and saved to 20241209_patient_assessment_devices.txt\n",
      "Extracted text from a045358_25_01_vds_annual_invoice_redacted.pdf and saved to a045358_25_01_vds_annual_invoice_redacted.txt\n",
      "Extracted text from wwf_uk_tender_specification_illegal_trade_in_pangolins_in_south_asia.pdf and saved to wwf_uk_tender_specification_illegal_trade_in_pangolins_in_south_asia.txt\n",
      "Extracted text from be24162_redacted_contract.pdf and saved to be24162_redacted_contract.txt\n",
      "Extracted text from annex_a_creative_agency_scope.pdf and saved to annex_a_creative_agency_scope.txt\n",
      "Extracted text from 20240522_df_126_001_wargaming_catalogue_can_rm1557_13_g_cloud_13_call_off_contract_envitia_redacted_osc.pdf and saved to 20240522_df_126_001_wargaming_catalogue_can_rm1557_13_g_cloud_13_call_off_contract_envitia_redacted_osc.txt\n",
      "Extracted text from elmer_gi_lot_1_civil_engineering_nec4_ecsc_v3_contract_award_redacted.pdf and saved to elmer_gi_lot_1_civil_engineering_nec4_ecsc_v3_contract_award_redacted.txt\n",
      "Extracted text from 2_3_2__pa_consulting_response_vfinal_redacted.pdf and saved to 2_3_2__pa_consulting_response_vfinal_redacted.txt\n",
      "Extracted text from schedule_5_security_management_84838253_1.pdf and saved to schedule_5_security_management_84838253_1.txt\n",
      "Extracted text from 1728_dell_equipment_for_nhs_norfolk_waveney_icb_order_form_draft_fully_signed_redacted.pdf and saved to 1728_dell_equipment_for_nhs_norfolk_waveney_icb_order_form_draft_fully_signed_redacted.txt\n"
     ]
    },
    {
     "name": "stderr",
     "output_type": "stream",
     "text": [
      "Multiple definitions in dictionary at byte 0x3aefb for key /PageMode\n"
     ]
    },
    {
     "name": "stdout",
     "output_type": "stream",
     "text": [
      "Extracted text from invitation_to_tender_pip_101224.pdf and saved to invitation_to_tender_pip_101224.txt\n",
      "Extracted text from proposed_services_plans.pdf and saved to proposed_services_plans.txt\n",
      "Extracted text from pep_app_c_risk_register.pdf and saved to pep_app_c_risk_register.txt\n",
      "Extracted text from lsrs383_open_source_intelligence_project_nigeria_contract_signed_redacted_contract.pdf and saved to lsrs383_open_source_intelligence_project_nigeria_contract_signed_redacted_contract.txt\n",
      "Extracted text from order_form_prf01_78_defra_csa_redacted_1.pdf and saved to order_form_prf01_78_defra_csa_redacted_1.txt\n",
      "Extracted text from rics_redacted.pdf and saved to rics_redacted.txt\n",
      "Extracted text from 10008_hmp_wymott_temp_accom_project_partnering_agreement_final_redacted.pdf and saved to 10008_hmp_wymott_temp_accom_project_partnering_agreement_final_redacted.txt\n",
      "Extracted text from schedule_7_authority_responsibilities_84838258_1.pdf and saved to schedule_7_authority_responsibilities_84838258_1.txt\n",
      "Extracted text from proc_899_2024_01_rm6126_order_form_accent_redacted.pdf and saved to proc_899_2024_01_rm6126_order_form_accent_redacted.txt\n",
      "Extracted text from itt_flow_o_amp_m_delivery_final.pdf and saved to itt_flow_o_amp_m_delivery_final.txt\n",
      "Extracted text from 708901450_schedule_10_gfi_1.pdf and saved to 708901450_schedule_10_gfi_1.txt\n",
      "Extracted text from 241111_ddat24428_data_visualisation_analyst_contract_002__redacted.pdf and saved to 241111_ddat24428_data_visualisation_analyst_contract_002__redacted.txt\n",
      "Extracted text from proc_899_2024_15_rm6126_order_form_verian_redacted.pdf and saved to proc_899_2024_15_rm6126_order_form_verian_redacted.txt\n",
      "Extracted text from service_level_agreement_matrix_24_26_order_form_1__redacted.pdf and saved to service_level_agreement_matrix_24_26_order_form_1__redacted.txt\n",
      "Extracted text from ps24188_hiring_legal_services_rm6179_redacted_contract.pdf and saved to ps24188_hiring_legal_services_rm6179_redacted_contract.txt\n",
      "Extracted text from cs0008.pdf and saved to cs0008.txt\n",
      "Extracted text from redacted_labtech_maintenance_schedule_7_appendix_1_order_form_approved.pdf and saved to redacted_labtech_maintenance_schedule_7_appendix_1_order_form_approved.txt\n",
      "Extracted text from cr_4660_redacted.pdf and saved to cr_4660_redacted.txt\n",
      "Extracted text from contract_variation_25_year_5_costs_signed__redacted.pdf and saved to contract_variation_25_year_5_costs_signed__redacted.txt\n",
      "Extracted text from sfpd_limited_2023cas002_strutt_memorial_ground_tennis_courts_dwg_013_b_07112024.pdf and saved to sfpd_limited_2023cas002_strutt_memorial_ground_tennis_courts_dwg_013_b_07112024.txt\n",
      "Extracted text from 20241203_engagement_letter_dorrington_academy_trust_pmo_lot2_18_signed_redacted.pdf and saved to 20241203_engagement_letter_dorrington_academy_trust_pmo_lot2_18_signed_redacted.txt\n",
      "Extracted text from thre0040_schedule_8_countersigned_redacted.pdf and saved to thre0040_schedule_8_countersigned_redacted.txt\n",
      "Extracted text from expression_of_interest_form_wc1064330.pdf and saved to expression_of_interest_form_wc1064330.txt\n",
      "Extracted text from hog_cliff_site_safety_statement.pdf and saved to hog_cliff_site_safety_statement.txt\n",
      "Extracted text from 2_harlington_floor_plans.pdf and saved to 2_harlington_floor_plans.txt\n",
      "Extracted text from 13_rm6187_call_off_schedule_5__pricing_details.pdf and saved to 13_rm6187_call_off_schedule_5__pricing_details.txt\n",
      "Extracted text from redacted_c294619_sharpe_pritchard_contract.pdf and saved to redacted_c294619_sharpe_pritchard_contract.txt\n",
      "Extracted text from type_c_joint_schedule_13_social_value_offsen_co1_v0_3.pdf and saved to type_c_joint_schedule_13_social_value_offsen_co1_v0_3.txt\n",
      "Extracted text from proc_899_2024_10_letter_of_appointment_natcen.pdf and saved to proc_899_2024_10_letter_of_appointment_natcen.txt\n",
      "Extracted text from bis_phase_2_tender_pm2_supplier_6_redacted.pdf and saved to bis_phase_2_tender_pm2_supplier_6_redacted.txt\n",
      "Extracted text from type_c_joint_schedule_02_change_forms_offsen_co1_v0_3_redacted.pdf and saved to type_c_joint_schedule_02_change_forms_offsen_co1_v0_3_redacted.txt\n"
     ]
    },
    {
     "name": "stderr",
     "output_type": "stream",
     "text": [
      "Multiple definitions in dictionary at byte 0x3d552 for key /PageMode\n"
     ]
    },
    {
     "name": "stdout",
     "output_type": "stream",
     "text": [
      "Extracted text from hire_of_hgvs_redacted_contract.pdf and saved to hire_of_hgvs_redacted_contract.txt\n",
      "Extracted text from 021698_2024_fats_award_intention_f03.pdf and saved to 021698_2024_fats_award_intention_f03.txt\n",
      "Extracted text from schedule_34_management_of_inbound_contracts_84838296_1.pdf and saved to schedule_34_management_of_inbound_contracts_84838296_1.txt\n",
      "Extracted text from 1_example_of_a_fusion_menu_anuga_2023_menu.pdf and saved to 1_example_of_a_fusion_menu_anuga_2023_menu.txt\n",
      "Extracted text from ps24147_uksac24_0055_unlocking_space_for_investment_business_and_investor_pathways_dps_schedule_6_redacted_contract.pdf and saved to ps24147_uksac24_0055_unlocking_space_for_investment_business_and_investor_pathways_dps_schedule_6_redacted_contract.txt\n",
      "Extracted text from greenwater_fsa_contract_2024_redacted.pdf and saved to greenwater_fsa_contract_2024_redacted.txt\n",
      "Extracted text from itt_sep_ii_it_equipment_001.pdf and saved to itt_sep_ii_it_equipment_001.txt\n",
      "Extracted text from cr_4672_redacted.pdf and saved to cr_4672_redacted.txt\n",
      "Extracted text from bis_phase_2_tender_pm2_supplier_1_redacted.pdf and saved to bis_phase_2_tender_pm2_supplier_1_redacted.txt\n",
      "Extracted text from cs12gfi1302.pdf and saved to cs12gfi1302.txt\n",
      "Extracted text from itt_attachment_4a_nhs_sc_framework_agreement_for_goods.pdf and saved to itt_attachment_4a_nhs_sc_framework_agreement_for_goods.txt\n",
      "Extracted text from 2c_fillet_b002_fillet_ex_chain.pdf and saved to 2c_fillet_b002_fillet_ex_chain.txt\n",
      "Extracted text from schedule_18_financial_distress_84838330_1.pdf and saved to schedule_18_financial_distress_84838330_1.txt\n",
      "Extracted text from f05_4_boscawen_park_truro_12_03_19.pdf and saved to f05_4_boscawen_park_truro_12_03_19.txt\n",
      "Extracted text from redated_contract_license_subscription_for_govdelivery_saas_with_technical_support_redacted.pdf and saved to redated_contract_license_subscription_for_govdelivery_saas_with_technical_support_redacted.txt\n",
      "Extracted text from 441_p_002.pdf and saved to 441_p_002.txt\n",
      "Extracted text from 560_16_proposed_section_1_1_1_50_a2.pdf and saved to 560_16_proposed_section_1_1_1_50_a2.txt\n",
      "Extracted text from ukhsa_g_cloud_call_off_contract_linkedin_uk_health_security_agency_final_redacted.pdf and saved to ukhsa_g_cloud_call_off_contract_linkedin_uk_health_security_agency_final_redacted.txt\n",
      "Extracted text from cs0009.pdf and saved to cs0009.txt\n",
      "Extracted text from 20240723_712338450_sc1a_tender_single_source.pdf and saved to 20240723_712338450_sc1a_tender_single_source.txt\n",
      "Extracted text from tca_3_7_1715_itt.pdf and saved to tca_3_7_1715_itt.txt\n",
      "Extracted text from cs12gfi0801.pdf and saved to cs12gfi0801.txt\n",
      "Extracted text from stc_christmaslightinglocations.pdf and saved to stc_christmaslightinglocations.txt\n",
      "Extracted text from thre0031_arup_schedule_8_form_of_agreement_countersigned_redacted.pdf and saved to thre0031_arup_schedule_8_form_of_agreement_countersigned_redacted.txt\n",
      "Extracted text from signed_ebsco_collection_service_10__redacted.pdf and saved to signed_ebsco_collection_service_10__redacted.txt\n",
      "Done!\n"
     ]
    }
   ],
   "source": [
    "for pdf_file in os.listdir(pdf_folder):\n",
    "    #check if it is a pdf \n",
    "    if not pdf_file.endswith('.pdf'):\n",
    "        continue\n",
    "    pdf_path = os.path.join(pdf_folder, pdf_file)\n",
    "    txt_file = pdf_file.replace('.pdf', '.txt')\n",
    "    txt_path = os.path.join(txt_folder, txt_file)\n",
    "    pdf_to_text(pdf_path, txt_path)\n",
    "    print(f'Extracted text from {pdf_file} and saved to {txt_file}')\n",
    "    \n",
    "print('Done!')"
   ]
  },
  {
   "cell_type": "code",
   "execution_count": null,
   "metadata": {},
   "outputs": [],
   "source": []
  }
 ],
 "metadata": {
  "kernelspec": {
   "display_name": "tclp-RQX4Kh8g-py3.10",
   "language": "python",
   "name": "python3"
  },
  "language_info": {
   "codemirror_mode": {
    "name": "ipython",
    "version": 3
   },
   "file_extension": ".py",
   "mimetype": "text/x-python",
   "name": "python",
   "nbconvert_exporter": "python",
   "pygments_lexer": "ipython3",
   "version": "-1.-1.-1"
  }
 },
 "nbformat": 4,
 "nbformat_minor": 2
}
