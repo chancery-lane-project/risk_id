{
 "cells": [
  {
   "cell_type": "code",
   "execution_count": 1,
   "id": "162397e3",
   "metadata": {},
   "outputs": [],
   "source": [
    "import numpy as np\n",
    "import pandas as pd\n",
    "\n",
    "from tclp.clause_recommender import utils\n",
    "from tqdm import tqdm \n",
    "import umap.umap_ as umap\n",
    "\n",
    "import matplotlib.pyplot as plt\n",
    "import seaborn as sns\n",
    "\n",
    "from sklearn.neural_network import MLPClassifier\n",
    "from sklearn.metrics import classification_report"
   ]
  },
  {
   "cell_type": "code",
   "execution_count": 2,
   "id": "0c579a33",
   "metadata": {},
   "outputs": [],
   "source": [
    "model_path = \"../CC_BERT/CC_model\"\n",
    "embeddings_dir = \"../CC_BERT/CC_embeddings\"\n",
    "clause_folder = \"../data/cleaned_content\"\n",
    "clause_html = '../data/clause_boxes'"
   ]
  },
  {
   "cell_type": "code",
   "execution_count": 3,
   "id": "a907ae55",
   "metadata": {},
   "outputs": [
    {
     "name": "stderr",
     "output_type": "stream",
     "text": [
      "/Users/georgia/Library/Caches/pypoetry/virtualenvs/tclp-iQ_dTQ3E-py3.10/lib/python3.10/site-packages/torch/_utils.py:831: UserWarning: TypedStorage is deprecated. It will be removed in the future and UntypedStorage will be the only storage class. This should only matter to you if you are using storages directly.  To access UntypedStorage directly, use tensor.untyped_storage() instead of tensor.storage()\n",
      "  return self.fget.__get__(instance, owner)()\n",
      "Some weights of RobertaModel were not initialized from the model checkpoint at ../CC_BERT/CC_model and are newly initialized: ['roberta.pooler.dense.bias', 'roberta.pooler.dense.weight']\n",
      "You should probably TRAIN this model on a down-stream task to be able to use it for predictions and inference.\n"
     ]
    }
   ],
   "source": [
    "tokenizer, model, names, docs, final_df = utils.getting_started(model_path, clause_folder, clause_html)"
   ]
  },
  {
   "cell_type": "markdown",
   "id": "344b5b88",
   "metadata": {},
   "source": [
    "# Playing around with multilabel tagging"
   ]
  },
  {
   "cell_type": "code",
   "execution_count": 4,
   "id": "03ded0f5",
   "metadata": {},
   "outputs": [],
   "source": [
    "clause_tags = pd.read_excel(\"../data/clause_tags.xlsx\")"
   ]
  },
  {
   "cell_type": "code",
   "execution_count": 7,
   "id": "fef461e8",
   "metadata": {},
   "outputs": [
    {
     "data": {
      "text/html": [
       "<div>\n",
       "<style scoped>\n",
       "    .dataframe tbody tr th:only-of-type {\n",
       "        vertical-align: middle;\n",
       "    }\n",
       "\n",
       "    .dataframe tbody tr th {\n",
       "        vertical-align: top;\n",
       "    }\n",
       "\n",
       "    .dataframe thead th {\n",
       "        text-align: right;\n",
       "    }\n",
       "</style>\n",
       "<table border=\"1\" class=\"dataframe\">\n",
       "  <thead>\n",
       "    <tr style=\"text-align: right;\">\n",
       "      <th></th>\n",
       "      <th>Name</th>\n",
       "      <th>Title</th>\n",
       "      <th>Excerpt</th>\n",
       "      <th>Jurisdiction</th>\n",
       "      <th>Updated</th>\n",
       "      <th>URL</th>\n",
       "      <th>Matched Filename</th>\n",
       "      <th>Document</th>\n",
       "    </tr>\n",
       "  </thead>\n",
       "  <tbody>\n",
       "    <tr>\n",
       "      <th>0</th>\n",
       "      <td>Griff's Clause</td>\n",
       "      <td>Template Board Paper for Significant Contracts...</td>\n",
       "      <td>Template board papers with detailed prompts fo...</td>\n",
       "      <td>England &amp; Wales</td>\n",
       "      <td>2024-09-10 10:34:38</td>\n",
       "      <td>https://chancerylaneproject.org/clauses/templa...</td>\n",
       "      <td>Template_Board_Paper_for_Significant_Contracts...</td>\n",
       "      <td>1. Strategy implications Alignment 1.1 The pro...</td>\n",
       "    </tr>\n",
       "    <tr>\n",
       "      <th>1</th>\n",
       "      <td>Bella's Clause</td>\n",
       "      <td>Management Equity Ratchet Terms</td>\n",
       "      <td>A template clause for inclusion in investment ...</td>\n",
       "      <td>England &amp; Wales</td>\n",
       "      <td>2024-09-10 10:41:23</td>\n",
       "      <td>https://chancerylaneproject.org/clauses/manage...</td>\n",
       "      <td>Management_Equity_Ratchet_Terms.txt</td>\n",
       "      <td>1. Conversion Rights 1.1(see Definitions)1.2 T...</td>\n",
       "    </tr>\n",
       "    <tr>\n",
       "      <th>2</th>\n",
       "      <td>Chloe's Clause</td>\n",
       "      <td>Environmental Business Charter</td>\n",
       "      <td>The Environmental Business Charter – a “soft t...</td>\n",
       "      <td>England &amp; Wales</td>\n",
       "      <td>2024-09-10 10:41:31</td>\n",
       "      <td>https://chancerylaneproject.org/clauses/enviro...</td>\n",
       "      <td>Environmental_Business_Charter.txt</td>\n",
       "      <td>1. Join the[Net Zero Lawyer’s Alliance / the L...</td>\n",
       "    </tr>\n",
       "    <tr>\n",
       "      <th>3</th>\n",
       "      <td>Matthew's Clause</td>\n",
       "      <td>Late Payment – Green Interest Remedies</td>\n",
       "      <td>Creative interest rate remedies by which payme...</td>\n",
       "      <td>England &amp; Wales</td>\n",
       "      <td>2024-09-10 10:43:45</td>\n",
       "      <td>https://chancerylaneproject.org/clauses/late-p...</td>\n",
       "      <td>Late_Payment_–_Green_Interest_Remedies.txt</td>\n",
       "      <td>1. If[Party 2]fails to make a payment due to[P...</td>\n",
       "    </tr>\n",
       "    <tr>\n",
       "      <th>4</th>\n",
       "      <td>Soren's Clause</td>\n",
       "      <td>Land: Sustainable Soil Management</td>\n",
       "      <td>A set of sustainable soil management obligatio...</td>\n",
       "      <td>England &amp; Wales</td>\n",
       "      <td>2024-10-02 14:16:08</td>\n",
       "      <td>https://chancerylaneproject.org/clauses/land-s...</td>\n",
       "      <td>Land__Sustainable_Soil_Management.txt</td>\n",
       "      <td>(A)[Consider including Eddie’s Recitals(Climat...</td>\n",
       "    </tr>\n",
       "    <tr>\n",
       "      <th>...</th>\n",
       "      <td>...</td>\n",
       "      <td>...</td>\n",
       "      <td>...</td>\n",
       "      <td>...</td>\n",
       "      <td>...</td>\n",
       "      <td>...</td>\n",
       "      <td>...</td>\n",
       "      <td>...</td>\n",
       "    </tr>\n",
       "    <tr>\n",
       "      <th>117</th>\n",
       "      <td>Emilia's Protocols</td>\n",
       "      <td>Green Litigation and Arbitration Protocols</td>\n",
       "      <td>Two similar protocols (litigation and arbitrat...</td>\n",
       "      <td>England &amp; Wales</td>\n",
       "      <td>2024-09-10 10:42:57</td>\n",
       "      <td>https://chancerylaneproject.org/clauses/green-...</td>\n",
       "      <td>Green_Litigation_and_Arbitration_Protocols.txt</td>\n",
       "      <td>&lt;p&gt;hello&lt;/p&gt;\\n\\n1. The parties[have signed up ...</td>\n",
       "    </tr>\n",
       "    <tr>\n",
       "      <th>118</th>\n",
       "      <td>Mary's Clause</td>\n",
       "      <td>JCT Energy Efficiency and Environmental Obliga...</td>\n",
       "      <td>This clause amends the JCT’s standard Design a...</td>\n",
       "      <td>England &amp; Wales</td>\n",
       "      <td>2024-09-10 10:39:02</td>\n",
       "      <td>https://chancerylaneproject.org/clauses/jct-en...</td>\n",
       "      <td>JCT_Energy_Efficiency_and_Environmental_Obliga...</td>\n",
       "      <td>1. to use sustainable materials and avoid the ...</td>\n",
       "    </tr>\n",
       "    <tr>\n",
       "      <th>119</th>\n",
       "      <td>Emilio's Checklist</td>\n",
       "      <td>Climate Policy Footprint</td>\n",
       "      <td>A checklist that requests one-off or repeated ...</td>\n",
       "      <td>England &amp; Wales</td>\n",
       "      <td>2024-09-10 10:36:13</td>\n",
       "      <td>https://chancerylaneproject.org/clauses/climat...</td>\n",
       "      <td>Climate_Policy_Footprint.txt</td>\n",
       "      <td>1.1 Details of the Company’s climate policy en...</td>\n",
       "    </tr>\n",
       "    <tr>\n",
       "      <th>120</th>\n",
       "      <td>Luna's Clause</td>\n",
       "      <td>Net Zero Aligned Construction Modifications</td>\n",
       "      <td>A clause that incentivises building contractor...</td>\n",
       "      <td>England &amp; Wales</td>\n",
       "      <td>2024-09-10 10:39:28</td>\n",
       "      <td>https://chancerylaneproject.org/clauses/net-ze...</td>\n",
       "      <td>Net_Zero_Aligned_Construction_Modifications.txt</td>\n",
       "      <td>1. Contractor’s Net Zero obligations The Contr...</td>\n",
       "    </tr>\n",
       "    <tr>\n",
       "      <th>121</th>\n",
       "      <td>Javier's Clause</td>\n",
       "      <td>Stakeholder Company Climate Questionnaire</td>\n",
       "      <td>A questionnaire for a third party to put to a ...</td>\n",
       "      <td>England &amp; Wales</td>\n",
       "      <td>2024-09-10 10:35:26</td>\n",
       "      <td>https://chancerylaneproject.org/clauses/stakeh...</td>\n",
       "      <td>Stakeholder_Company_Climate_Questionnaire.txt</td>\n",
       "      <td>1. How do the board and senior management(incl...</td>\n",
       "    </tr>\n",
       "  </tbody>\n",
       "</table>\n",
       "<p>122 rows × 8 columns</p>\n",
       "</div>"
      ],
      "text/plain": [
       "                   Name                                              Title  \\\n",
       "0        Griff's Clause  Template Board Paper for Significant Contracts...   \n",
       "1        Bella's Clause                    Management Equity Ratchet Terms   \n",
       "2        Chloe's Clause                     Environmental Business Charter   \n",
       "3      Matthew's Clause             Late Payment – Green Interest Remedies   \n",
       "4        Soren's Clause                  Land: Sustainable Soil Management   \n",
       "..                  ...                                                ...   \n",
       "117  Emilia's Protocols         Green Litigation and Arbitration Protocols   \n",
       "118       Mary's Clause  JCT Energy Efficiency and Environmental Obliga...   \n",
       "119  Emilio's Checklist                           Climate Policy Footprint   \n",
       "120       Luna's Clause        Net Zero Aligned Construction Modifications   \n",
       "121     Javier's Clause          Stakeholder Company Climate Questionnaire   \n",
       "\n",
       "                                               Excerpt     Jurisdiction  \\\n",
       "0    Template board papers with detailed prompts fo...  England & Wales   \n",
       "1    A template clause for inclusion in investment ...  England & Wales   \n",
       "2    The Environmental Business Charter – a “soft t...  England & Wales   \n",
       "3    Creative interest rate remedies by which payme...  England & Wales   \n",
       "4    A set of sustainable soil management obligatio...  England & Wales   \n",
       "..                                                 ...              ...   \n",
       "117  Two similar protocols (litigation and arbitrat...  England & Wales   \n",
       "118  This clause amends the JCT’s standard Design a...  England & Wales   \n",
       "119  A checklist that requests one-off or repeated ...  England & Wales   \n",
       "120  A clause that incentivises building contractor...  England & Wales   \n",
       "121  A questionnaire for a third party to put to a ...  England & Wales   \n",
       "\n",
       "                 Updated                                                URL  \\\n",
       "0    2024-09-10 10:34:38  https://chancerylaneproject.org/clauses/templa...   \n",
       "1    2024-09-10 10:41:23  https://chancerylaneproject.org/clauses/manage...   \n",
       "2    2024-09-10 10:41:31  https://chancerylaneproject.org/clauses/enviro...   \n",
       "3    2024-09-10 10:43:45  https://chancerylaneproject.org/clauses/late-p...   \n",
       "4    2024-10-02 14:16:08  https://chancerylaneproject.org/clauses/land-s...   \n",
       "..                   ...                                                ...   \n",
       "117  2024-09-10 10:42:57  https://chancerylaneproject.org/clauses/green-...   \n",
       "118  2024-09-10 10:39:02  https://chancerylaneproject.org/clauses/jct-en...   \n",
       "119  2024-09-10 10:36:13  https://chancerylaneproject.org/clauses/climat...   \n",
       "120  2024-09-10 10:39:28  https://chancerylaneproject.org/clauses/net-ze...   \n",
       "121  2024-09-10 10:35:26  https://chancerylaneproject.org/clauses/stakeh...   \n",
       "\n",
       "                                      Matched Filename  \\\n",
       "0    Template_Board_Paper_for_Significant_Contracts...   \n",
       "1                  Management_Equity_Ratchet_Terms.txt   \n",
       "2                   Environmental_Business_Charter.txt   \n",
       "3           Late_Payment_–_Green_Interest_Remedies.txt   \n",
       "4                Land__Sustainable_Soil_Management.txt   \n",
       "..                                                 ...   \n",
       "117     Green_Litigation_and_Arbitration_Protocols.txt   \n",
       "118  JCT_Energy_Efficiency_and_Environmental_Obliga...   \n",
       "119                       Climate_Policy_Footprint.txt   \n",
       "120    Net_Zero_Aligned_Construction_Modifications.txt   \n",
       "121      Stakeholder_Company_Climate_Questionnaire.txt   \n",
       "\n",
       "                                              Document  \n",
       "0    1. Strategy implications Alignment 1.1 The pro...  \n",
       "1    1. Conversion Rights 1.1(see Definitions)1.2 T...  \n",
       "2    1. Join the[Net Zero Lawyer’s Alliance / the L...  \n",
       "3    1. If[Party 2]fails to make a payment due to[P...  \n",
       "4    (A)[Consider including Eddie’s Recitals(Climat...  \n",
       "..                                                 ...  \n",
       "117  <p>hello</p>\\n\\n1. The parties[have signed up ...  \n",
       "118  1. to use sustainable materials and avoid the ...  \n",
       "119  1.1 Details of the Company’s climate policy en...  \n",
       "120  1. Contractor’s Net Zero obligations The Contr...  \n",
       "121  1. How do the board and senior management(incl...  \n",
       "\n",
       "[122 rows x 8 columns]"
      ]
     },
     "execution_count": 7,
     "metadata": {},
     "output_type": "execute_result"
    }
   ],
   "source": [
    "final_df"
   ]
  },
  {
   "cell_type": "code",
   "execution_count": 8,
   "id": "3ca440ee",
   "metadata": {},
   "outputs": [
    {
     "name": "stdout",
     "output_type": "stream",
     "text": [
      "Fuzzy match: 'ESG-Based Performance Conditions for Employee Incentive Awards' matched to 'environmental_social_and_governance_esg_based_performance_conditions_for_employee_incentive_awards'\n",
      "Fuzzy match: 'MMC and Net Zero Provisions for Construction or Development Agreements' matched to 'modern_methods_of_construction_mmc_and_net_zero_provisions_for_construction_or_development_agreements'\n",
      "Fuzzy match: 'Net Zero Obligations in FIDIC EPC Contracts' matched to 'net_zero_obligations_in_fidic_engineering_procurement_and_construction_epc_contracts'\n",
      "Fuzzy match: 'Sustainability KPIs in Construction Works Task Orders' matched to 'sustainability_key_performance_indicators_in_construction_works_task_orders'\n"
     ]
    }
   ],
   "source": [
    "clause_tags = utils.prepare_clause_tags(clause_tags, final_df)"
   ]
  },
  {
   "cell_type": "code",
   "execution_count": 9,
   "id": "55de547c",
   "metadata": {},
   "outputs": [
    {
     "name": "stderr",
     "output_type": "stream",
     "text": [
      "100%|██████████| 122/122 [00:14<00:00,  8.59it/s]\n"
     ]
    }
   ],
   "source": [
    "texts = clause_tags['CombinedText'].tolist()\n",
    "embeddings = np.vstack([\n",
    "    utils.encode_text(text, tokenizer, model, method='cls') for text in tqdm(texts)\n",
    "])"
   ]
  },
  {
   "cell_type": "code",
   "execution_count": null,
   "id": "6b6e1d59",
   "metadata": {},
   "outputs": [],
   "source": [
    "#save embeddings to file\n"
   ]
  },
  {
   "cell_type": "code",
   "execution_count": 10,
   "id": "ab478090",
   "metadata": {},
   "outputs": [
    {
     "name": "stderr",
     "output_type": "stream",
     "text": [
      "/Users/georgia/Library/Caches/pypoetry/virtualenvs/tclp-iQ_dTQ3E-py3.10/lib/python3.10/site-packages/umap/umap_.py:1952: UserWarning: n_jobs value 1 overridden to 1 by setting random_state. Use no seed for parallelism.\n",
      "  warn(\n"
     ]
    }
   ],
   "source": [
    "reducer = umap.UMAP(random_state=42)\n",
    "embedding_2d = reducer.fit_transform(embeddings)\n"
   ]
  },
  {
   "cell_type": "code",
   "execution_count": 11,
   "id": "62b53ae9",
   "metadata": {},
   "outputs": [
    {
     "data": {
      "image/png": "[encoded data removed]",
      "text/plain": [
       "<Figure size 1000x800 with 1 Axes>"
      ]
     },
     "metadata": {},
     "output_type": "display_data"
    }
   ],
   "source": [
    "plt.figure(figsize=(10, 8))\n",
    "sns.scatterplot(\n",
    "    x=embedding_2d[:, 0],\n",
    "    y=embedding_2d[:, 1],\n",
    "    hue=clause_tags['PrimaryTag'],\n",
    "    palette='tab20',\n",
    "    s=50,\n",
    "    alpha=0.8\n",
    ")\n",
    "plt.title(\"UMAP of TCLP Clauses by Primary Tag\")\n",
    "plt.legend(bbox_to_anchor=(1.05, 1), loc='upper left')\n",
    "plt.tight_layout()\n",
    "plt.show()\n"
   ]
  },
  {
   "cell_type": "code",
   "execution_count": 12,
   "id": "08feeb31",
   "metadata": {},
   "outputs": [
    {
     "data": {
      "application/vnd.plotly.v1+json": {
       "config": {
        "plotlyServerURL": "https://plot.ly"
       },
       "data": [
        {
         "customdata": [
          [
           "A Beginner’s Guide and Checklist for Accessing Sustainability-Linked Loans (SLLs)",
           [
            "Finance",
            "Net Zero"
           ]
          ],
          [
           "Capital Markets ESG Due Diligence Questionnaire",
           [
            "Finance",
            "Reporting",
            "ESG"
           ]
          ],
          [
           "Climate Purchase Agreement and Underwriting Sponsor Warranties",
           [
            "Finance",
            "Governance",
            "Net Zero",
            "Contracts"
           ]
          ],
          [
           "Climate Standard Transaction Terms",
           [
            "Finance",
            "Net Zero",
            "Contracts"
           ]
          ],
          [
           "Climate-Related Disclosure in Loans",
           [
            "Finance",
            "Reporting",
            "Net Zero"
           ]
          ],
          [
           "Debt Finance Clauses (and LMA Facility Amendments) Promoting Sustainable Water Usage",
           [
            "Finance",
            "Net Zero"
           ]
          ],
          [
           "Environmental Targets for a Limited Partnership Agreement",
           [
            "Finance",
            "ESG",
            "Net Zero"
           ]
          ],
          [
           "ESG-Linked Pricing Adjustment for Derivatives Transactions",
           [
            "Finance",
            "ESG",
            "Net Zero"
           ]
          ],
          [
           "Facility Agreement Clauses Promoting Sustainability-Linked Loans within the Cement Industry",
           [
            "Finance",
            "Construction",
            "Net Zero"
           ]
          ],
          [
           "GHG Emissions Management Plans in Infrastructure and Construction Project Finance",
           [
            "Finance",
            "Construction",
            "Net Zero"
           ]
          ],
          [
           "Green Investment Obligations",
           [
            "Finance",
            "Governance",
            "Net Zero"
           ]
          ],
          [
           "Green Loan “Starter Pack”",
           [
            "Finance",
            "Net Zero"
           ]
          ],
          [
           "Green or Sustainability-Linked Lending Requirement",
           [
            "Finance",
            "Net Zero",
            "ESG"
           ]
          ],
          [
           "Interest Ratchet Clause for Carbon Saving",
           [
            "Finance",
            "Net Zero",
            "Incentives"
           ]
          ],
          [
           "Late Payment – Green Interest Remedies",
           [
            "Finance",
            "Net Zero",
            "Incentives"
           ]
          ],
          [
           "Management Equity Ratchet Terms",
           [
            "Finance",
            "ESG",
            "Incentives"
           ]
          ],
          [
           "Net Zero Convertible Loan Note",
           [
            "Finance",
            "Net Zero",
            "ESG"
           ]
          ],
          [
           "Sustainability-Linked Loans",
           [
            "Finance",
            "Lending",
            "ESG"
           ]
          ]
         ],
         "hovertemplate": "color=Finance<br>x=%{x}<br>y=%{y}<br>Clause=%{customdata[0]}<br>Tags=%{customdata[1]}<extra></extra>",
         "legendgroup": "Finance",
         "marker": {
          "color": "#636efa",
          "symbol": "circle"
         },
         "mode": "markers",
         "name": "Finance",
         "orientation": "v",
         "showlegend": true,
         "type": "scatter",
         "x": {
          "bdata": "WnqLQD0860BsMEBB3iMeQbFwsEBvh4NAR+6YQAv2HkEXAJNA2m00QcOBAEEDkoxA3k3/QP/FCEF4TohAp7QHQXwcOUHgIs5A",
          "dtype": "f4"
         },
         "xaxis": "x",
         "y": {
          "bdata": "hHrhQLw0tkAEFfBAi1fqQMsIx0CNUsxAF0TWQLTlqEDqZNJAodirQEmOvkBx5dZAyTzuQLe78kAfZdhA5V7vQH3DtUAZaN5A",
          "dtype": "f4"
         },
         "yaxis": "y"
        },
        {
         "customdata": [
          [
           "Allocating Scope 1, 2 and 3 Emissions for Leased Assets",
           [
            "Lease",
            "Reporting",
            "Net Zero"
           ]
          ],
          [
           "Commercial Lease: Alterations (improve environmental performance)",
           [
            "Lease",
            "Net Zero",
            "Contracts"
           ]
          ],
          [
           "Commercial Lease: Repairs and Alterations (circular economy)",
           [
            "Lease",
            "Net Zero",
            "Contracts"
           ]
          ],
          [
           "Green Assured Shorthold Tenancy (AST) Clauses",
           [
            "Lease",
            "Net Zero",
            "Renewables",
            "Incentives"
           ]
          ],
          [
           "Green Residential Lease Clauses",
           [
            "Lease",
            "Net Zero"
           ]
          ],
          [
           "Green Service Charge Provisions for Commercial Leases",
           [
            "Lease",
            "Net Zero",
            "Governance"
           ]
          ],
          [
           "Landlord and Tenant Obligations to Create Additionality in Renewable Electricity Generation",
           [
            "Lease",
            "Renewables",
            "Net Zero"
           ]
          ],
          [
           "Lease: Renewable Energy Obligations",
           [
            "Lease",
            "Net Zero",
            "Renewables"
           ]
          ]
         ],
         "hovertemplate": "color=Lease<br>x=%{x}<br>y=%{y}<br>Clause=%{customdata[0]}<br>Tags=%{customdata[1]}<extra></extra>",
         "legendgroup": "Lease",
         "marker": {
          "color": "#EF553B",
          "symbol": "circle"
         },
         "mode": "markers",
         "name": "Lease",
         "orientation": "v",
         "showlegend": true,
         "type": "scatter",
         "x": {
          "bdata": "YMuJQHLzEkH1SKdAJk7mQI/FDkEvqkBBDqsdQbxzmUA=",
          "dtype": "f4"
         },
         "xaxis": "x",
         "y": {
          "bdata": "Z67PQKQJzUANvcpAS57ZQPAMzUDovO9An4DSQMMJ1EA=",
          "dtype": "f4"
         },
         "yaxis": "y"
        },
        {
         "customdata": [
          [
           "Auditing Water Usage in Supply Chains",
           [
            "Supply Chain",
            "Net Zero",
            "Reporting"
           ]
          ],
          [
           "Carbon Contract Clauses for Environmental Performance, and Associated Incentives and Remedies",
           [
            "Supply Chain",
            "Contracts",
            "Net Zero",
            "Incentives"
           ]
          ],
          [
           "Carbon Footprint Reduction – Mutual Notification Right (Carbon Footprint Reduction Notice)",
           [
            "Supply Chain",
            "Contracts",
            "Net Zero"
           ]
          ],
          [
           "Circular Economy Product Design Obligation",
           [
            "Supply Chain",
            "Net Zero",
            "Incentives"
           ]
          ],
          [
           "Climate Change Due Diligence Questionnaire for Suppliers",
           [
            "Supply Chain",
            "Reporting",
            "Net Zero"
           ]
          ],
          [
           "Climate-Linked Product Surveillance",
           [
            "Supply Chain",
            "Net Zero",
            "Contracts"
           ]
          ],
          [
           "Green Supplier Agreement Terms",
           [
            "Supply Chain",
            "Net Zero",
            "Contracts"
           ]
          ],
          [
           "Net Zero Target Supply Chain Cascade Clauses",
           [
            "Supply Chain",
            "Net Zero",
            "Contracts"
           ]
          ],
          [
           "Reducing Supply Chain Food Waste",
           [
            "Supply Chain",
            "Food",
            "ESG"
           ]
          ],
          [
           "Supplier Environmental Threshold Obligations",
           [
            "Supply Chain",
            "Emissions",
            "Contracts"
           ]
          ],
          [
           "Supply Chain Emissions Scorecard",
           [
            "Supply Chain",
            "Reporting",
            "Risk"
           ]
          ],
          [
           "Supply Chain Sustainable Land Use Clause and Questionnaire",
           [
            "Supply Chain",
            "Land Use",
            "ESG"
           ]
          ],
          [
           "Supply: Renewable Energy Requirements",
           [
            "Supply Chain",
            "Renewable Energy"
           ]
          ],
          [
           "Supply: Termination for Greener Supplier",
           [
            "Supply Chain",
            "Contracts",
            "Termination"
           ]
          ],
          [
           "Sustainability Clauses in Supply Chain Contracts",
           [
            "Supply Chain",
            "ESG",
            "Contracts"
           ]
          ],
          [
           "Target Product Carbon Footprint (Schedule for Consumer Goods Contracts)",
           [
            "Supply Chain",
            "Scope 3",
            "Emissions"
           ]
          ],
          [
           "The ‘Green Supplier’ Contract – A Standardised Contractual Pricing Model",
           [
            "Supply Chain",
            "Emissions",
            "Incentives"
           ]
          ],
          [
           "The Net Zero Standard for Suppliers",
           [
            "Supply Chain",
            "Emissions",
            "Reporting"
           ]
          ]
         ],
         "hovertemplate": "color=Supply Chain<br>x=%{x}<br>y=%{y}<br>Clause=%{customdata[0]}<br>Tags=%{customdata[1]}<extra></extra>",
         "legendgroup": "Supply Chain",
         "marker": {
          "color": "#00cc96",
          "symbol": "circle"
         },
         "mode": "markers",
         "name": "Supply Chain",
         "orientation": "v",
         "showlegend": true,
         "type": "scatter",
         "x": {
          "bdata": "jsE+QRwxGkHL4i9BD4/nQIPaM0HMEz1BGMQoQUDiH0HbDT5Bj8opQSEhikAm/QZB/G2rQPr58ECNjEFBovAMQc06z0AVxjpB",
          "dtype": "f4"
         },
         "xaxis": "x",
         "y": {
          "bdata": "9nbOQDHR3kAQuttA+mfLQPL6/EB4M/RA6D/NQGgC20C0+/xAiEDrQJhv40Cor71AnkffQNL/3UAmUOxAgiXoQIFz10DkeMBA",
          "dtype": "f4"
         },
         "yaxis": "y"
        },
        {
         "customdata": [
          [
           "Avoiding Excessive Paperwork in Dispute Resolution",
           [
            "Dispute Resolution",
            "Net Zero"
           ]
          ],
          [
           "Green Litigation and Arbitration Protocols",
           [
            "Dispute Resolution",
            "Governance",
            "Net Zero"
           ]
          ],
          [
           "Low Carbon Arbitrations",
           [
            "Dispute Resolution",
            "Net Zero"
           ]
          ]
         ],
         "hovertemplate": "color=Dispute Resolution<br>x=%{x}<br>y=%{y}<br>Clause=%{customdata[0]}<br>Tags=%{customdata[1]}<extra></extra>",
         "legendgroup": "Dispute Resolution",
         "marker": {
          "color": "#ab63fa",
          "symbol": "circle"
         },
         "mode": "markers",
         "name": "Dispute Resolution",
         "orientation": "v",
         "showlegend": true,
         "type": "scatter",
         "x": {
          "bdata": "j1ICQRI2DEHzxTtB",
          "dtype": "f4"
         },
         "xaxis": "x",
         "y": {
          "bdata": "SCW4QMZ3w0BdOPpA",
          "dtype": "f4"
         },
         "yaxis": "y"
        },
        {
         "customdata": [
          [
           "Benchmarking of Project Greenhouse Gas Emissions",
           [
            "Construction",
            "Net Zero",
            "Supply Chain"
           ]
          ],
          [
           "Climate Aligned Construction Waste Management",
           [
            "Construction",
            "Net Zero"
           ]
          ],
          [
           "Climate Standard of Care (Construction)",
           [
            "Construction",
            "Net Zero"
           ]
          ],
          [
           "Climate-Resilient Landscape Design Contracts",
           [
            "Construction",
            "Land Use",
            "Biodiversity"
           ]
          ],
          [
           "Construction: Procuring Materials and Carbon Budgets",
           [
            "Construction",
            "Net Zero",
            "Contracts"
           ]
          ],
          [
           "JCT Energy Efficiency and Environmental Obligations",
           [
            "Construction",
            "Net Zero",
            "Contracts"
           ]
          ],
          [
           "MMC and Net Zero Provisions for Construction or Development Agreements",
           [
            "Construction",
            "Net Zero",
            "Contracts"
           ]
          ],
          [
           "Net Zero Aligned Construction Modifications",
           [
            "Construction",
            "Net Zero"
           ]
          ],
          [
           "Net Zero Obligations in FIDIC EPC Contracts",
           [
            "Construction",
            "Net Zero",
            "Contracts"
           ]
          ],
          [
           "Subcontractor/ Supplier Self-Assessment Climate Questionnaire (Construction)",
           [
            "Construction",
            "Supply Chain",
            "ESG"
           ]
          ],
          [
           "Sustainability Enterprise Delivery Measures within Construction Works Task Orders",
           [
            "Construction",
            "Metrics",
            "Resilience"
           ]
          ],
          [
           "Sustainability KPIs in Construction Works Task Orders",
           [
            "Construction",
            "Metrics",
            "ESG"
           ]
          ],
          [
           "Sustainable On Site Working Practices",
           [
            "Construction",
            "Energy Efficiency"
           ]
          ]
         ],
         "hovertemplate": "color=Construction<br>x=%{x}<br>y=%{y}<br>Clause=%{customdata[0]}<br>Tags=%{customdata[1]}<extra></extra>",
         "legendgroup": "Construction",
         "marker": {
          "color": "#FFA15A",
          "symbol": "circle"
         },
         "mode": "markers",
         "name": "Construction",
         "orientation": "v",
         "showlegend": true,
         "type": "scatter",
         "x": {
          "bdata": "8MY6QS87KUGkDdtAyhCHQHedOEEZVgJBRkArQWGyLkHGvxJB9r+BQLPK6kBIaa1A2XA7QQ==",
          "dtype": "f4"
         },
         "xaxis": "x",
         "y": {
          "bdata": "CznBQNKCw0Bt2NZARm/VQERE10BCjr1AYVLTQDkV0UBVFeRAWuHbQHtEzUDwf9RAYhXIQA==",
          "dtype": "f4"
         },
         "yaxis": "y"
        },
        {
         "customdata": [
          [
           "Board Minutes: Consideration of Climate Change Factors",
           [
            "Governance",
            "Net Zero"
           ]
          ],
          [
           "Board Paper Implementing Net Zero for SMEs",
           [
            "Governance",
            "Net Zero"
           ]
          ],
          [
           "Climate Lobbying and Responsible Investments: Policy Requirements",
           [
            "Governance",
            "Net Zero",
            "Finance"
           ]
          ],
          [
           "Environmental Business Charter",
           [
            "Governance",
            "Net Zero"
           ]
          ],
          [
           "ESG Aligned Company Articles",
           [
            "Governance",
            "ESG",
            "Net Zero"
           ]
          ],
          [
           "Green Company Articles",
           [
            "Governance",
            "Net Zero"
           ]
          ],
          [
           "Green Shareholders’ Agreement (Short Form for SMEs)",
           [
            "Governance",
            "SMEs",
            "Net Zero"
           ]
          ],
          [
           "Green Shareholders’ Agreement",
           [
            "Governance",
            "Net Zero",
            "ESG"
           ]
          ],
          [
           "Indigenous/ Local Knowledge in Board Director Appointments",
           [
            "Governance",
            "ESG"
           ]
          ],
          [
           "Net Zero Within Company Whistleblowing Policies",
           [
            "Governance",
            "Net Zero",
            "Employment"
           ]
          ],
          [
           "Paris Aligned Company Articles",
           [
            "Governance",
            "ESG",
            "Net Zero"
           ]
          ],
          [
           "Shareholder Resolutions Relating to a Company’s Climate Change Commitments",
           [
            "Governance",
            "Net Zero",
            "Reporting"
           ]
          ],
          [
           "Sustainability Reporting Clause for the Constitution of a Private Limited Company",
           [
            "Governance",
            "Reporting",
            "ESG"
           ]
          ],
          [
           "Template Board Paper for Significant Contracts/ Transactions",
           [
            "Governance",
            "Risk",
            "Contracts"
           ]
          ]
         ],
         "hovertemplate": "color=Governance<br>x=%{x}<br>y=%{y}<br>Clause=%{customdata[0]}<br>Tags=%{customdata[1]}<extra></extra>",
         "legendgroup": "Governance",
         "marker": {
          "color": "#19d3f3",
          "symbol": "circle"
         },
         "mode": "markers",
         "name": "Governance",
         "orientation": "v",
         "showlegend": true,
         "type": "scatter",
         "x": {
          "bdata": "EGDbQD9ZtUAIkQZB63vwQA10JEE1PChBFOwgQUcyGUEt3C1BAXE5Qe+rK0GikBdBpS8dQelr70A=",
          "dtype": "f4"
         },
         "xaxis": "x",
         "y": {
          "bdata": "aOK0QNq2xED8/bFAf6DBQDnvqkDodOpAdtzjQHTC6kD4CvVAP8f4QCDG/UDsWvNAIK3lQM5gtkA=",
          "dtype": "f4"
         },
         "yaxis": "y"
        },
        {
         "customdata": [
          [
           "Climate Change Clauses for Heads of Terms",
           [
            "Contracts",
            "Net Zero"
           ]
          ],
          [
           "Climate Contract Risk Sharing (ex Force Majeure)",
           [
            "Contracts",
            "Net Zero",
            "Dispute Resolution"
           ]
          ],
          [
           "Climate Purposed NDA Terms (Confidentiality Agreement)",
           [
            "Contracts",
            "Net Zero"
           ]
          ],
          [
           "Climate Recitals",
           [
            "Contracts",
            "Net Zero"
           ]
          ],
          [
           "Climate-Linked Contractual Discretions",
           [
            "Contracts",
            "Net Zero",
            "Incentives"
           ]
          ],
          [
           "Coolerplate Clauses (Climate Aligned Boilerplate)",
           [
            "Contracts",
            "Net Zero"
           ]
          ],
          [
           "Green Termination Provision (Short Form)",
           [
            "Contracts",
            "Net Zero",
            "Procurement"
           ]
          ],
          [
           "Green Transaction Execution Protocols",
           [
            "Contracts",
            "Net Zero"
           ]
          ],
          [
           "Intellectual Property: Free Licence for Climate Purposes",
           [
            "Contracts",
            "ESG"
           ]
          ],
          [
           "Sponsorship Agreement: Net Zero Outcome",
           [
            "Contracts",
            "Net Zero",
            "Marketing"
           ]
          ]
         ],
         "hovertemplate": "color=Contracts<br>x=%{x}<br>y=%{y}<br>Clause=%{customdata[0]}<br>Tags=%{customdata[1]}<extra></extra>",
         "legendgroup": "Contracts",
         "marker": {
          "color": "#FF6692",
          "symbol": "circle"
         },
         "mode": "markers",
         "name": "Contracts",
         "orientation": "v",
         "showlegend": true,
         "type": "scatter",
         "x": {
          "bdata": "B7npQBOJOkGa9iBBm82RQOlB50DnORxB/DL1QJYq4UDFdCFBj3skQQ==",
          "dtype": "f4"
         },
         "xaxis": "x",
         "y": {
          "bdata": "HD6xQEQR50BabrpA40bcQN8+y0BQv8pAhQS9QOwYvEBck8tA7IvOQA==",
          "dtype": "f4"
         },
         "yaxis": "y"
        },
        {
         "customdata": [
          [
           "Climate Checklist for Prospectuses and Other Public Offering Documents",
           [
            "Reporting",
            "Net Zero",
            "Finance"
           ]
          ],
          [
           "Climate Policy Footprint",
           [
            "Reporting",
            "Governance",
            "Net Zero"
           ]
          ],
          [
           "CLLS Certificate of Title: Climate Change Disclosures",
           [
            "Reporting",
            "Real Estate",
            "Net Zero"
           ]
          ],
          [
           "Film Production: Carbon Footprint Disclosure",
           [
            "Reporting",
            "Contracts",
            "Net Zero"
           ]
          ],
          [
           "Report on Title – Climate Change Clauses",
           [
            "Reporting",
            "Real Estate",
            "Risk"
           ]
          ]
         ],
         "hovertemplate": "color=Reporting<br>x=%{x}<br>y=%{y}<br>Clause=%{customdata[0]}<br>Tags=%{customdata[1]}<extra></extra>",
         "legendgroup": "Reporting",
         "marker": {
          "color": "#B6E880",
          "symbol": "circle"
         },
         "mode": "markers",
         "name": "Reporting",
         "orientation": "v",
         "showlegend": true,
         "type": "scatter",
         "x": {
          "bdata": "XM0ZQQ/SM0G4ZPlAvECAQB1W+EA=",
          "dtype": "f4"
         },
         "xaxis": "x",
         "y": {
          "bdata": "cnOpQKg1tUCEJNVAOlzVQJA4zkA=",
          "dtype": "f4"
         },
         "yaxis": "y"
        },
        {
         "customdata": [
          [
           "Climate Due Diligence Questionnaire for M&A Transactions",
           [
            "M&A",
            "Reporting",
            "Net Zero"
           ]
          ],
          [
           "Green Acquisition Obligations",
           [
            "M&A",
            "Net Zero",
            "Incentives"
           ]
          ],
          [
           "Net Zero Completion Adjustment Clause",
           [
            "M&A",
            "Finance",
            "Net Zero",
            "Incentives"
           ]
          ],
          [
           "SPA/ Investment Agreement: Disclosure of Climate Change Plans",
           [
            "M&A",
            "Disclosure",
            "Net Zero"
           ]
          ]
         ],
         "hovertemplate": "color=M&A<br>x=%{x}<br>y=%{y}<br>Clause=%{customdata[0]}<br>Tags=%{customdata[1]}<extra></extra>",
         "legendgroup": "M&A",
         "marker": {
          "color": "#FF97FF",
          "symbol": "circle"
         },
         "mode": "markers",
         "name": "M&A",
         "orientation": "v",
         "showlegend": true,
         "type": "scatter",
         "x": {
          "bdata": "pwD+QGRrPUGukgVB2t8wQQ==",
          "dtype": "f4"
         },
         "xaxis": "x",
         "y": {
          "bdata": "Nj+xQP1CuEBR2+pAyQ4AQQ==",
          "dtype": "f4"
         },
         "yaxis": "y"
        },
        {
         "customdata": [
          [
           "Climate-Related Knowledge Sharing Between Insurer and Insured",
           [
            "Insurance",
            "Net Zero",
            "Governance"
           ]
          ],
          [
           "Climate-Related Liability Cover (Commercial Insureds)",
           [
            "Insurance",
            "Net Zero",
            "Dispute Resolution"
           ]
          ],
          [
           "Condition to Liability Cover for Climate-Related Claims (Commercial Insureds)",
           [
            "Insurance",
            "Net Zero",
            "Governance"
           ]
          ],
          [
           "General Condition to Commercial Insurance Policies: Climate Change Risk Assessment",
           [
            "Insurance",
            "Net Zero",
            "Governance"
           ]
          ],
          [
           "Green Dispute Reporting in After the Event Insurance Policies",
           [
            "Insurance",
            "Dispute Resolution",
            "Governance"
           ]
          ],
          [
           "Incentives for Insured Parties to Disclose and Meet GHG Emissions Targets",
           [
            "Insurance",
            "Net Zero",
            "Incentives"
           ]
          ],
          [
           "Insurance Premium Adjustment for D&O Climate-related Financial Disclosures",
           [
            "Insurance",
            "Net Zero",
            "Reporting",
            "Governance"
           ]
          ],
          [
           "Insurance: Disclosure and Mitigation of Pending Climate Change Litigation",
           [
            "Insurance",
            "Dispute Resolution",
            "Governance"
           ]
          ],
          [
           "Parametric Insurance Incentives for the Protection of Coral Reefs",
           [
            "Insurance",
            "Biodiversity",
            "Adaptation"
           ]
          ],
          [
           "Repair or Refurbishment in Insurance Claims",
           [
            "Insurance",
            "Circular Economy"
           ]
          ]
         ],
         "hovertemplate": "color=Insurance<br>x=%{x}<br>y=%{y}<br>Clause=%{customdata[0]}<br>Tags=%{customdata[1]}<extra></extra>",
         "legendgroup": "Insurance",
         "marker": {
          "color": "#FECB52",
          "symbol": "circle"
         },
         "mode": "markers",
         "name": "Insurance",
         "orientation": "v",
         "showlegend": true,
         "type": "scatter",
         "x": {
          "bdata": "V+cSQXh3LkFaYs1AbqcmQcxmLkF6xSVBEAUxQTmRL0FsGsFAY/DbQA==",
          "dtype": "f4"
         },
         "xaxis": "x",
         "y": {
          "bdata": "aCbiQPtcrkDK2OdAaHWtQDykuEDNTKhAuoW0QIKIrUDQ9uNA8GDiQA==",
          "dtype": "f4"
         },
         "yaxis": "y"
        },
        {
         "customdata": [
          [
           "Conservation Covenant for Soil Preservation and Enhancement",
           [
            "Land Use",
            "Biodiversity",
            "Net Zero"
           ]
          ],
          [
           "Heads of Terms for Landowner Collaboration on Environmental Schemes",
           [
            "Land Use",
            "Finance",
            "Net Zero",
            "Incentives"
           ]
          ],
          [
           "Land: Sustainable Soil Management",
           [
            "Land Use",
            "ESG"
           ]
          ],
          [
           "Net Zero Land Promotion Agreement",
           [
            "Land Use",
            "Net Zero",
            "Planning"
           ]
          ],
          [
           "Promotion of Carbon Sinks and Ecological Restoration in Lettings of Rural Land",
           [
            "Land Use",
            "Biodiversity",
            "Carbon Removal"
           ]
          ],
          [
           "Promotion of Regenerative Farming Methods through Profit of Pasturage Agreements",
           [
            "Land Use",
            "Agriculture",
            "Biodiversity"
           ]
          ]
         ],
         "hovertemplate": "color=Land Use<br>x=%{x}<br>y=%{y}<br>Clause=%{customdata[0]}<br>Tags=%{customdata[1]}<extra></extra>",
         "legendgroup": "Land Use",
         "marker": {
          "color": "#636efa",
          "symbol": "circle"
         },
         "mode": "markers",
         "name": "Land Use",
         "orientation": "v",
         "showlegend": true,
         "type": "scatter",
         "x": {
          "bdata": "0ZgWQW/OGUFnkA1B/YEmQcDQ2kDPMdRA",
          "dtype": "f4"
         },
         "xaxis": "x",
         "y": {
          "bdata": "JkfOQL5P1EAFY75AFHTbQCdpzECcrshA",
          "dtype": "f4"
         },
         "yaxis": "y"
        },
        {
         "customdata": [
          [
           "Employee Climate Engagement Provisions",
           [
            "Employment",
            "Net Zero",
            "Governance"
           ]
          ],
          [
           "Employer-Employee Environmental Obligations",
           [
            "Employment",
            "Net Zero"
           ]
          ],
          [
           "ESG-Based Performance Conditions for Employee Incentive Awards",
           [
            "Employment",
            "ESG",
            "Net Zero"
           ]
          ],
          [
           "Net Zero Culture Employment Handbook",
           [
            "Employment",
            "Net Zero",
            "Governance"
           ]
          ]
         ],
         "hovertemplate": "color=Employment<br>x=%{x}<br>y=%{y}<br>Clause=%{customdata[0]}<br>Tags=%{customdata[1]}<extra></extra>",
         "legendgroup": "Employment",
         "marker": {
          "color": "#EF553B",
          "symbol": "circle"
         },
         "mode": "markers",
         "name": "Employment",
         "orientation": "v",
         "showlegend": true,
         "type": "scatter",
         "x": {
          "bdata": "Uw0xQZlbuUDJ2gNBBwgxQQ==",
          "dtype": "f4"
         },
         "xaxis": "x",
         "y": {
          "bdata": "CiDwQIfGykDCBNhAE/D5QA==",
          "dtype": "f4"
         },
         "yaxis": "y"
        },
        {
         "customdata": [
          [
           "Entire Business Net Zero Objectives",
           [
            "Net Zero",
            "Governance"
           ]
          ]
         ],
         "hovertemplate": "color=Net Zero<br>x=%{x}<br>y=%{y}<br>Clause=%{customdata[0]}<br>Tags=%{customdata[1]}<extra></extra>",
         "legendgroup": "Net Zero",
         "marker": {
          "color": "#00cc96",
          "symbol": "circle"
         },
         "mode": "markers",
         "name": "Net Zero",
         "orientation": "v",
         "showlegend": true,
         "type": "scatter",
         "x": {
          "bdata": "5U8hQQ==",
          "dtype": "f4"
         },
         "xaxis": "x",
         "y": {
          "bdata": "r+7yQA==",
          "dtype": "f4"
         },
         "yaxis": "y"
        },
        {
         "customdata": [
          [
           "Gain-Share Incentive for Reducing GHG Emissions",
           [
            "Incentives",
            "Net Zero",
            "Contracts"
           ]
          ]
         ],
         "hovertemplate": "color=Incentives<br>x=%{x}<br>y=%{y}<br>Clause=%{customdata[0]}<br>Tags=%{customdata[1]}<extra></extra>",
         "legendgroup": "Incentives",
         "marker": {
          "color": "#ab63fa",
          "symbol": "circle"
         },
         "mode": "markers",
         "name": "Incentives",
         "orientation": "v",
         "showlegend": true,
         "type": "scatter",
         "x": {
          "bdata": "DTCfQA==",
          "dtype": "f4"
         },
         "xaxis": "x",
         "y": {
          "bdata": "03zQQA==",
          "dtype": "f4"
         },
         "yaxis": "y"
        },
        {
         "customdata": [
          [
           "Greener and More Efficient HGVs in Road and Multimodal Transport Agreements",
           [
            "Transport",
            "Net Zero",
            "Supply Chain"
           ]
          ],
          [
           "Open Source Data Sharing: Enabling Sustainable Mobility for Cities",
           [
            "Transport",
            "Data",
            "ESG"
           ]
          ]
         ],
         "hovertemplate": "color=Transport<br>x=%{x}<br>y=%{y}<br>Clause=%{customdata[0]}<br>Tags=%{customdata[1]}<extra></extra>",
         "legendgroup": "Transport",
         "marker": {
          "color": "#FFA15A",
          "symbol": "circle"
         },
         "mode": "markers",
         "name": "Transport",
         "orientation": "v",
         "showlegend": true,
         "type": "scatter",
         "x": {
          "bdata": "RoLGQKFKKEE=",
          "dtype": "f4"
         },
         "xaxis": "x",
         "y": {
          "bdata": "6YjdQIg86EA=",
          "dtype": "f4"
         },
         "yaxis": "y"
        },
        {
         "customdata": [
          [
           "Securing Net Zero in Planning Development Projects",
           [
            "Planning",
            "Net Zero",
            "Construction"
           ]
          ]
         ],
         "hovertemplate": "color=Planning<br>x=%{x}<br>y=%{y}<br>Clause=%{customdata[0]}<br>Tags=%{customdata[1]}<extra></extra>",
         "legendgroup": "Planning",
         "marker": {
          "color": "#19d3f3",
          "symbol": "circle"
         },
         "mode": "markers",
         "name": "Planning",
         "orientation": "v",
         "showlegend": true,
         "type": "scatter",
         "x": {
          "bdata": "7DQ3QQ==",
          "dtype": "f4"
         },
         "xaxis": "x",
         "y": {
          "bdata": "2CjZQA==",
          "dtype": "f4"
         },
         "yaxis": "y"
        },
        {
         "customdata": [
          [
           "SME’s Net Zero Objectives",
           [
            "SME",
            "Contracts",
            "Net Zero"
           ]
          ]
         ],
         "hovertemplate": "color=SME<br>x=%{x}<br>y=%{y}<br>Clause=%{customdata[0]}<br>Tags=%{customdata[1]}<extra></extra>",
         "legendgroup": "SME",
         "marker": {
          "color": "#FF6692",
          "symbol": "circle"
         },
         "mode": "markers",
         "name": "SME",
         "orientation": "v",
         "showlegend": true,
         "type": "scatter",
         "x": {
          "bdata": "EN+eQA==",
          "dtype": "f4"
         },
         "xaxis": "x",
         "y": {
          "bdata": "BAnbQA==",
          "dtype": "f4"
         },
         "yaxis": "y"
        },
        {
         "customdata": [
          [
           "Stakeholder Company Climate Questionnaire",
           [
            "ESG",
            "Disclosure",
            "Governance"
           ]
          ]
         ],
         "hovertemplate": "color=ESG<br>x=%{x}<br>y=%{y}<br>Clause=%{customdata[0]}<br>Tags=%{customdata[1]}<extra></extra>",
         "legendgroup": "ESG",
         "marker": {
          "color": "#B6E880",
          "symbol": "circle"
         },
         "mode": "markers",
         "name": "ESG",
         "orientation": "v",
         "showlegend": true,
         "type": "scatter",
         "x": {
          "bdata": "5eP0QA==",
          "dtype": "f4"
         },
         "xaxis": "x",
         "y": {
          "bdata": "IsSvQA==",
          "dtype": "f4"
         },
         "yaxis": "y"
        },
        {
         "customdata": [
          [
           "Transparent Sourcing of Greener, Fairer Renewable Energy",
           [
            "Renewable Energy",
            "Supply Chain",
            "ESG"
           ]
          ]
         ],
         "hovertemplate": "color=Renewable Energy<br>x=%{x}<br>y=%{y}<br>Clause=%{customdata[0]}<br>Tags=%{customdata[1]}<extra></extra>",
         "legendgroup": "Renewable Energy",
         "marker": {
          "color": "#FF97FF",
          "symbol": "circle"
         },
         "mode": "markers",
         "name": "Renewable Energy",
         "orientation": "v",
         "showlegend": true,
         "type": "scatter",
         "x": {
          "bdata": "NyU2QQ==",
          "dtype": "f4"
         },
         "xaxis": "x",
         "y": {
          "bdata": "4SDOQA==",
          "dtype": "f4"
         },
         "yaxis": "y"
        },
        {
         "customdata": [
          [
           "TV Production: Promotion of Sustainable Consumption and Travel",
           [
            "Media",
            "Consumption",
            "Transport"
           ]
          ]
         ],
         "hovertemplate": "color=Media<br>x=%{x}<br>y=%{y}<br>Clause=%{customdata[0]}<br>Tags=%{customdata[1]}<extra></extra>",
         "legendgroup": "Media",
         "marker": {
          "color": "#FECB52",
          "symbol": "circle"
         },
         "mode": "markers",
         "name": "Media",
         "orientation": "v",
         "showlegend": true,
         "type": "scatter",
         "x": {
          "bdata": "7e85QQ==",
          "dtype": "f4"
         },
         "xaxis": "x",
         "y": {
          "bdata": "Z4H/QA==",
          "dtype": "f4"
         },
         "yaxis": "y"
        }
       ],
       "layout": {
        "legend": {
         "title": {
          "text": "color"
         },
         "tracegroupgap": 0
        },
        "template": {
         "data": {
          "bar": [
           {
            "error_x": {
             "color": "#2a3f5f"
            },
            "error_y": {
             "color": "#2a3f5f"
            },
            "marker": {
             "line": {
              "color": "#E5ECF6",
              "width": 0.5
             },
             "pattern": {
              "fillmode": "overlay",
              "size": 10,
              "solidity": 0.2
             }
            },
            "type": "bar"
           }
          ],
          "barpolar": [
           {
            "marker": {
             "line": {
              "color": "#E5ECF6",
              "width": 0.5
             },
             "pattern": {
              "fillmode": "overlay",
              "size": 10,
              "solidity": 0.2
             }
            },
            "type": "barpolar"
           }
          ],
          "carpet": [
           {
            "aaxis": {
             "endlinecolor": "#2a3f5f",
             "gridcolor": "white",
             "linecolor": "white",
             "minorgridcolor": "white",
             "startlinecolor": "#2a3f5f"
            },
            "baxis": {
             "endlinecolor": "#2a3f5f",
             "gridcolor": "white",
             "linecolor": "white",
             "minorgridcolor": "white",
             "startlinecolor": "#2a3f5f"
            },
            "type": "carpet"
           }
          ],
          "choropleth": [
           {
            "colorbar": {
             "outlinewidth": 0,
             "ticks": ""
            },
            "type": "choropleth"
           }
          ],
          "contour": [
           {
            "colorbar": {
             "outlinewidth": 0,
             "ticks": ""
            },
            "colorscale": [
             [
              0,
              "#0d0887"
             ],
             [
              0.1111111111111111,
              "#46039f"
             ],
             [
              0.2222222222222222,
              "#7201a8"
             ],
             [
              0.3333333333333333,
              "#9c179e"
             ],
             [
              0.4444444444444444,
              "#bd3786"
             ],
             [
              0.5555555555555556,
              "#d8576b"
             ],
             [
              0.6666666666666666,
              "#ed7953"
             ],
             [
              0.7777777777777778,
              "#fb9f3a"
             ],
             [
              0.8888888888888888,
              "#fdca26"
             ],
             [
              1,
              "#f0f921"
             ]
            ],
            "type": "contour"
           }
          ],
          "contourcarpet": [
           {
            "colorbar": {
             "outlinewidth": 0,
             "ticks": ""
            },
            "type": "contourcarpet"
           }
          ],
          "heatmap": [
           {
            "colorbar": {
             "outlinewidth": 0,
             "ticks": ""
            },
            "colorscale": [
             [
              0,
              "#0d0887"
             ],
             [
              0.1111111111111111,
              "#46039f"
             ],
             [
              0.2222222222222222,
              "#7201a8"
             ],
             [
              0.3333333333333333,
              "#9c179e"
             ],
             [
              0.4444444444444444,
              "#bd3786"
             ],
             [
              0.5555555555555556,
              "#d8576b"
             ],
             [
              0.6666666666666666,
              "#ed7953"
             ],
             [
              0.7777777777777778,
              "#fb9f3a"
             ],
             [
              0.8888888888888888,
              "#fdca26"
             ],
             [
              1,
              "#f0f921"
             ]
            ],
            "type": "heatmap"
           }
          ],
          "histogram": [
           {
            "marker": {
             "pattern": {
              "fillmode": "overlay",
              "size": 10,
              "solidity": 0.2
             }
            },
            "type": "histogram"
           }
          ],
          "histogram2d": [
           {
            "colorbar": {
             "outlinewidth": 0,
             "ticks": ""
            },
            "colorscale": [
             [
              0,
              "#0d0887"
             ],
             [
              0.1111111111111111,
              "#46039f"
             ],
             [
              0.2222222222222222,
              "#7201a8"
             ],
             [
              0.3333333333333333,
              "#9c179e"
             ],
             [
              0.4444444444444444,
              "#bd3786"
             ],
             [
              0.5555555555555556,
              "#d8576b"
             ],
             [
              0.6666666666666666,
              "#ed7953"
             ],
             [
              0.7777777777777778,
              "#fb9f3a"
             ],
             [
              0.8888888888888888,
              "#fdca26"
             ],
             [
              1,
              "#f0f921"
             ]
            ],
            "type": "histogram2d"
           }
          ],
          "histogram2dcontour": [
           {
            "colorbar": {
             "outlinewidth": 0,
             "ticks": ""
            },
            "colorscale": [
             [
              0,
              "#0d0887"
             ],
             [
              0.1111111111111111,
              "#46039f"
             ],
             [
              0.2222222222222222,
              "#7201a8"
             ],
             [
              0.3333333333333333,
              "#9c179e"
             ],
             [
              0.4444444444444444,
              "#bd3786"
             ],
             [
              0.5555555555555556,
              "#d8576b"
             ],
             [
              0.6666666666666666,
              "#ed7953"
             ],
             [
              0.7777777777777778,
              "#fb9f3a"
             ],
             [
              0.8888888888888888,
              "#fdca26"
             ],
             [
              1,
              "#f0f921"
             ]
            ],
            "type": "histogram2dcontour"
           }
          ],
          "mesh3d": [
           {
            "colorbar": {
             "outlinewidth": 0,
             "ticks": ""
            },
            "type": "mesh3d"
           }
          ],
          "parcoords": [
           {
            "line": {
             "colorbar": {
              "outlinewidth": 0,
              "ticks": ""
             }
            },
            "type": "parcoords"
           }
          ],
          "pie": [
           {
            "automargin": true,
            "type": "pie"
           }
          ],
          "scatter": [
           {
            "fillpattern": {
             "fillmode": "overlay",
             "size": 10,
             "solidity": 0.2
            },
            "type": "scatter"
           }
          ],
          "scatter3d": [
           {
            "line": {
             "colorbar": {
              "outlinewidth": 0,
              "ticks": ""
             }
            },
            "marker": {
             "colorbar": {
              "outlinewidth": 0,
              "ticks": ""
             }
            },
            "type": "scatter3d"
           }
          ],
          "scattercarpet": [
           {
            "marker": {
             "colorbar": {
              "outlinewidth": 0,
              "ticks": ""
             }
            },
            "type": "scattercarpet"
           }
          ],
          "scattergeo": [
           {
            "marker": {
             "colorbar": {
              "outlinewidth": 0,
              "ticks": ""
             }
            },
            "type": "scattergeo"
           }
          ],
          "scattergl": [
           {
            "marker": {
             "colorbar": {
              "outlinewidth": 0,
              "ticks": ""
             }
            },
            "type": "scattergl"
           }
          ],
          "scattermap": [
           {
            "marker": {
             "colorbar": {
              "outlinewidth": 0,
              "ticks": ""
             }
            },
            "type": "scattermap"
           }
          ],
          "scattermapbox": [
           {
            "marker": {
             "colorbar": {
              "outlinewidth": 0,
              "ticks": ""
             }
            },
            "type": "scattermapbox"
           }
          ],
          "scatterpolar": [
           {
            "marker": {
             "colorbar": {
              "outlinewidth": 0,
              "ticks": ""
             }
            },
            "type": "scatterpolar"
           }
          ],
          "scatterpolargl": [
           {
            "marker": {
             "colorbar": {
              "outlinewidth": 0,
              "ticks": ""
             }
            },
            "type": "scatterpolargl"
           }
          ],
          "scatterternary": [
           {
            "marker": {
             "colorbar": {
              "outlinewidth": 0,
              "ticks": ""
             }
            },
            "type": "scatterternary"
           }
          ],
          "surface": [
           {
            "colorbar": {
             "outlinewidth": 0,
             "ticks": ""
            },
            "colorscale": [
             [
              0,
              "#0d0887"
             ],
             [
              0.1111111111111111,
              "#46039f"
             ],
             [
              0.2222222222222222,
              "#7201a8"
             ],
             [
              0.3333333333333333,
              "#9c179e"
             ],
             [
              0.4444444444444444,
              "#bd3786"
             ],
             [
              0.5555555555555556,
              "#d8576b"
             ],
             [
              0.6666666666666666,
              "#ed7953"
             ],
             [
              0.7777777777777778,
              "#fb9f3a"
             ],
             [
              0.8888888888888888,
              "#fdca26"
             ],
             [
              1,
              "#f0f921"
             ]
            ],
            "type": "surface"
           }
          ],
          "table": [
           {
            "cells": {
             "fill": {
              "color": "#EBF0F8"
             },
             "line": {
              "color": "white"
             }
            },
            "header": {
             "fill": {
              "color": "#C8D4E3"
             },
             "line": {
              "color": "white"
             }
            },
            "type": "table"
           }
          ]
         },
         "layout": {
          "annotationdefaults": {
           "arrowcolor": "#2a3f5f",
           "arrowhead": 0,
           "arrowwidth": 1
          },
          "autotypenumbers": "strict",
          "coloraxis": {
           "colorbar": {
            "outlinewidth": 0,
            "ticks": ""
           }
          },
          "colorscale": {
           "diverging": [
            [
             0,
             "#8e0152"
            ],
            [
             0.1,
             "#c51b7d"
            ],
            [
             0.2,
             "#de77ae"
            ],
            [
             0.3,
             "#f1b6da"
            ],
            [
             0.4,
             "#fde0ef"
            ],
            [
             0.5,
             "#f7f7f7"
            ],
            [
             0.6,
             "#e6f5d0"
            ],
            [
             0.7,
             "#b8e186"
            ],
            [
             0.8,
             "#7fbc41"
            ],
            [
             0.9,
             "#4d9221"
            ],
            [
             1,
             "#276419"
            ]
           ],
           "sequential": [
            [
             0,
             "#0d0887"
            ],
            [
             0.1111111111111111,
             "#46039f"
            ],
            [
             0.2222222222222222,
             "#7201a8"
            ],
            [
             0.3333333333333333,
             "#9c179e"
            ],
            [
             0.4444444444444444,
             "#bd3786"
            ],
            [
             0.5555555555555556,
             "#d8576b"
            ],
            [
             0.6666666666666666,
             "#ed7953"
            ],
            [
             0.7777777777777778,
             "#fb9f3a"
            ],
            [
             0.8888888888888888,
             "#fdca26"
            ],
            [
             1,
             "#f0f921"
            ]
           ],
           "sequentialminus": [
            [
             0,
             "#0d0887"
            ],
            [
             0.1111111111111111,
             "#46039f"
            ],
            [
             0.2222222222222222,
             "#7201a8"
            ],
            [
             0.3333333333333333,
             "#9c179e"
            ],
            [
             0.4444444444444444,
             "#bd3786"
            ],
            [
             0.5555555555555556,
             "#d8576b"
            ],
            [
             0.6666666666666666,
             "#ed7953"
            ],
            [
             0.7777777777777778,
             "#fb9f3a"
            ],
            [
             0.8888888888888888,
             "#fdca26"
            ],
            [
             1,
             "#f0f921"
            ]
           ]
          },
          "colorway": [
           "#636efa",
           "#EF553B",
           "#00cc96",
           "#ab63fa",
           "#FFA15A",
           "#19d3f3",
           "#FF6692",
           "#B6E880",
           "#FF97FF",
           "#FECB52"
          ],
          "font": {
           "color": "#2a3f5f"
          },
          "geo": {
           "bgcolor": "white",
           "lakecolor": "white",
           "landcolor": "#E5ECF6",
           "showlakes": true,
           "showland": true,
           "subunitcolor": "white"
          },
          "hoverlabel": {
           "align": "left"
          },
          "hovermode": "closest",
          "mapbox": {
           "style": "light"
          },
          "paper_bgcolor": "white",
          "plot_bgcolor": "#E5ECF6",
          "polar": {
           "angularaxis": {
            "gridcolor": "white",
            "linecolor": "white",
            "ticks": ""
           },
           "bgcolor": "#E5ECF6",
           "radialaxis": {
            "gridcolor": "white",
            "linecolor": "white",
            "ticks": ""
           }
          },
          "scene": {
           "xaxis": {
            "backgroundcolor": "#E5ECF6",
            "gridcolor": "white",
            "gridwidth": 2,
            "linecolor": "white",
            "showbackground": true,
            "ticks": "",
            "zerolinecolor": "white"
           },
           "yaxis": {
            "backgroundcolor": "#E5ECF6",
            "gridcolor": "white",
            "gridwidth": 2,
            "linecolor": "white",
            "showbackground": true,
            "ticks": "",
            "zerolinecolor": "white"
           },
           "zaxis": {
            "backgroundcolor": "#E5ECF6",
            "gridcolor": "white",
            "gridwidth": 2,
            "linecolor": "white",
            "showbackground": true,
            "ticks": "",
            "zerolinecolor": "white"
           }
          },
          "shapedefaults": {
           "line": {
            "color": "#2a3f5f"
           }
          },
          "ternary": {
           "aaxis": {
            "gridcolor": "white",
            "linecolor": "white",
            "ticks": ""
           },
           "baxis": {
            "gridcolor": "white",
            "linecolor": "white",
            "ticks": ""
           },
           "bgcolor": "#E5ECF6",
           "caxis": {
            "gridcolor": "white",
            "linecolor": "white",
            "ticks": ""
           }
          },
          "title": {
           "x": 0.05
          },
          "xaxis": {
           "automargin": true,
           "gridcolor": "white",
           "linecolor": "white",
           "ticks": "",
           "title": {
            "standoff": 15
           },
           "zerolinecolor": "white",
           "zerolinewidth": 2
          },
          "yaxis": {
           "automargin": true,
           "gridcolor": "white",
           "linecolor": "white",
           "ticks": "",
           "title": {
            "standoff": 15
           },
           "zerolinecolor": "white",
           "zerolinewidth": 2
          }
         }
        },
        "title": {
         "text": "TCLP Clauses by UMAP Embedding"
        },
        "xaxis": {
         "anchor": "y",
         "domain": [
          0,
          1
         ],
         "title": {
          "text": "x"
         }
        },
        "yaxis": {
         "anchor": "x",
         "domain": [
          0,
          1
         ],
         "title": {
          "text": "y"
         }
        }
       }
      }
     },
     "metadata": {},
     "output_type": "display_data"
    }
   ],
   "source": [
    "import plotly.express as px\n",
    "\n",
    "fig = px.scatter(\n",
    "    x=embedding_2d[:, 0],\n",
    "    y=embedding_2d[:, 1],\n",
    "    color=clause_tags['PrimaryTag'],\n",
    "    hover_data={\n",
    "        \"Clause\": clause_tags['Clause'],\n",
    "        \"Tags\": clause_tags['Tag'],\n",
    "    },\n",
    "    title=\"TCLP Clauses by UMAP Embedding\"\n",
    ")\n",
    "fig.show()\n"
   ]
  },
  {
   "cell_type": "code",
   "execution_count": 17,
   "id": "3dd5708b",
   "metadata": {},
   "outputs": [
    {
     "name": "stderr",
     "output_type": "stream",
     "text": [
      "/Users/georgia/Library/Caches/pypoetry/virtualenvs/tclp-iQ_dTQ3E-py3.10/lib/python3.10/site-packages/sklearn/metrics/pairwise.py:2361: DataConversionWarning:\n",
      "\n",
      "Data was converted to boolean for metric jaccard\n",
      "\n",
      "/Users/georgia/Library/Caches/pypoetry/virtualenvs/tclp-iQ_dTQ3E-py3.10/lib/python3.10/site-packages/umap/umap_.py:1865: UserWarning:\n",
      "\n",
      "using precomputed metric; inverse_transform will be unavailable\n",
      "\n",
      "/Users/georgia/Library/Caches/pypoetry/virtualenvs/tclp-iQ_dTQ3E-py3.10/lib/python3.10/site-packages/umap/umap_.py:1952: UserWarning:\n",
      "\n",
      "n_jobs value 1 overridden to 1 by setting random_state. Use no seed for parallelism.\n",
      "\n"
     ]
    }
   ],
   "source": [
    "tag_matrix = utils.multi_label_jacccard(clause_tags)"
   ]
  },
  {
   "cell_type": "code",
   "execution_count": 18,
   "id": "147c136d",
   "metadata": {},
   "outputs": [
    {
     "name": "stderr",
     "output_type": "stream",
     "text": [
      "/Users/georgia/Library/Caches/pypoetry/virtualenvs/tclp-iQ_dTQ3E-py3.10/lib/python3.10/site-packages/umap/umap_.py:1952: UserWarning:\n",
      "\n",
      "n_jobs value 1 overridden to 1 by setting random_state. Use no seed for parallelism.\n",
      "\n"
     ]
    }
   ],
   "source": [
    "forced_labels, hybrid_2d = utils.perform_hdbscan(tag_matrix=tag_matrix, embeddings=embeddings)"
   ]
  },
  {
   "cell_type": "code",
   "execution_count": 19,
   "id": "bf3bc4e6",
   "metadata": {},
   "outputs": [],
   "source": [
    "clause_tags['HybridCluster'] = forced_labels"
   ]
  },
  {
   "cell_type": "code",
   "execution_count": 20,
   "id": "d8013708",
   "metadata": {},
   "outputs": [
    {
     "data": {
      "application/vnd.plotly.v1+json": {
       "config": {
        "plotlyServerURL": "https://plot.ly"
       },
       "data": [
        {
         "customdata": [
          [
           "A Beginner’s Guide and Checklist for Accessing Sustainability-Linked Loans (SLLs)",
           "Finance",
           [
            "Finance",
            "Net Zero"
           ]
          ],
          [
           "Allocating Scope 1, 2 and 3 Emissions for Leased Assets",
           "Lease",
           [
            "Lease",
            "Reporting",
            "Net Zero"
           ]
          ],
          [
           "Climate Recitals",
           "Contracts",
           [
            "Contracts",
            "Net Zero"
           ]
          ],
          [
           "Climate-Resilient Landscape Design Contracts",
           "Construction",
           [
            "Construction",
            "Land Use",
            "Biodiversity"
           ]
          ],
          [
           "Commercial Lease: Repairs and Alterations (circular economy)",
           "Lease",
           [
            "Lease",
            "Net Zero",
            "Contracts"
           ]
          ],
          [
           "Debt Finance Clauses (and LMA Facility Amendments) Promoting Sustainable Water Usage",
           "Finance",
           [
            "Finance",
            "Net Zero"
           ]
          ],
          [
           "Environmental Targets for a Limited Partnership Agreement",
           "Finance",
           [
            "Finance",
            "ESG",
            "Net Zero"
           ]
          ],
          [
           "Facility Agreement Clauses Promoting Sustainability-Linked Loans within the Cement Industry",
           "Finance",
           [
            "Finance",
            "Construction",
            "Net Zero"
           ]
          ],
          [
           "Film Production: Carbon Footprint Disclosure",
           "Reporting",
           [
            "Reporting",
            "Contracts",
            "Net Zero"
           ]
          ],
          [
           "Gain-Share Incentive for Reducing GHG Emissions",
           "Incentives",
           [
            "Incentives",
            "Net Zero",
            "Contracts"
           ]
          ],
          [
           "Green Loan “Starter Pack”",
           "Finance",
           [
            "Finance",
            "Net Zero"
           ]
          ],
          [
           "Late Payment – Green Interest Remedies",
           "Finance",
           [
            "Finance",
            "Net Zero",
            "Incentives"
           ]
          ],
          [
           "Lease: Renewable Energy Obligations",
           "Lease",
           [
            "Lease",
            "Net Zero",
            "Renewables"
           ]
          ],
          [
           "SME’s Net Zero Objectives",
           "SME",
           [
            "SME",
            "Contracts",
            "Net Zero"
           ]
          ],
          [
           "Subcontractor/ Supplier Self-Assessment Climate Questionnaire (Construction)",
           "Construction",
           [
            "Construction",
            "Supply Chain",
            "ESG"
           ]
          ],
          [
           "Supply Chain Emissions Scorecard",
           "Supply Chain",
           [
            "Supply Chain",
            "Reporting",
            "Risk"
           ]
          ]
         ],
         "hovertemplate": "color=1<br>x=%{x}<br>y=%{y}<br>Clause=%{customdata[0]}<br>PrimaryTag=%{customdata[1]}<br>Tags=%{customdata[2]}<extra></extra>",
         "legendgroup": "1",
         "marker": {
          "color": "#636efa",
          "opacity": 0.7,
          "size": 6,
          "symbol": "circle"
         },
         "mode": "markers",
         "name": "1",
         "orientation": "v",
         "showlegend": true,
         "type": "scatter",
         "x": {
          "bdata": "D+LNQGmez0CyGMNAHOTFQDGXyUCt/NJA/gTHQN/D2UBveMpAk0fOQN+l1UABR8tAZgrZQPl6zEC2MLtAg9a/QA==",
          "dtype": "f4"
         },
         "xaxis": "x",
         "y": {
          "bdata": "ZTbTPxDwyj+mgQRA/LbgP3BYHkA4I7s/H2DJP2z96z85aeI/1OgQQPfC4z8iptc/JJYBQL3nDkALd/c/MfvgPw==",
          "dtype": "f4"
         },
         "yaxis": "y"
        },
        {
         "customdata": [
          [
           "Auditing Water Usage in Supply Chains",
           "Supply Chain",
           [
            "Supply Chain",
            "Net Zero",
            "Reporting"
           ]
          ],
          [
           "Climate Contract Risk Sharing (ex Force Majeure)",
           "Contracts",
           [
            "Contracts",
            "Net Zero",
            "Dispute Resolution"
           ]
          ],
          [
           "Climate Purchase Agreement and Underwriting Sponsor Warranties",
           "Finance",
           [
            "Finance",
            "Governance",
            "Net Zero",
            "Contracts"
           ]
          ],
          [
           "Climate-Linked Product Surveillance",
           "Supply Chain",
           [
            "Supply Chain",
            "Net Zero",
            "Contracts"
           ]
          ],
          [
           "Green Service Charge Provisions for Commercial Leases",
           "Lease",
           [
            "Lease",
            "Net Zero",
            "Governance"
           ]
          ],
          [
           "Reducing Supply Chain Food Waste",
           "Supply Chain",
           [
            "Supply Chain",
            "Food",
            "ESG"
           ]
          ],
          [
           "Sustainability Clauses in Supply Chain Contracts",
           "Supply Chain",
           [
            "Supply Chain",
            "ESG",
            "Contracts"
           ]
          ],
          [
           "Transparent Sourcing of Greener, Fairer Renewable Energy",
           "Renewable Energy",
           [
            "Renewable Energy",
            "Supply Chain",
            "ESG"
           ]
          ]
         ],
         "hovertemplate": "color=9<br>x=%{x}<br>y=%{y}<br>Clause=%{customdata[0]}<br>PrimaryTag=%{customdata[1]}<br>Tags=%{customdata[2]}<extra></extra>",
         "legendgroup": "9",
         "marker": {
          "color": "#EF553B",
          "opacity": 0.7,
          "size": 6,
          "symbol": "circle"
         },
         "mode": "markers",
         "name": "9",
         "orientation": "v",
         "showlegend": true,
         "type": "scatter",
         "x": {
          "bdata": "QDceQaUZF0Hb3BdB+W4aQTirGUHXyxtBVkceQdJeHUE=",
          "dtype": "f4"
         },
         "xaxis": "x",
         "y": {
          "bdata": "Sa/TQNT520CrPPNAf3LmQATR70BCGuhAnBLjQNa51kA=",
          "dtype": "f4"
         },
         "yaxis": "y"
        },
        {
         "customdata": [
          [
           "Avoiding Excessive Paperwork in Dispute Resolution",
           "Dispute Resolution",
           [
            "Dispute Resolution",
            "Net Zero"
           ]
          ],
          [
           "Carbon Contract Clauses for Environmental Performance, and Associated Incentives and Remedies",
           "Supply Chain",
           [
            "Supply Chain",
            "Contracts",
            "Net Zero",
            "Incentives"
           ]
          ],
          [
           "Climate Checklist for Prospectuses and Other Public Offering Documents",
           "Reporting",
           [
            "Reporting",
            "Net Zero",
            "Finance"
           ]
          ],
          [
           "Climate Lobbying and Responsible Investments: Policy Requirements",
           "Governance",
           [
            "Governance",
            "Net Zero",
            "Finance"
           ]
          ],
          [
           "Commercial Lease: Alterations (improve environmental performance)",
           "Lease",
           [
            "Lease",
            "Net Zero",
            "Contracts"
           ]
          ],
          [
           "Conservation Covenant for Soil Preservation and Enhancement",
           "Land Use",
           [
            "Land Use",
            "Biodiversity",
            "Net Zero"
           ]
          ],
          [
           "Green Assured Shorthold Tenancy (AST) Clauses",
           "Lease",
           [
            "Lease",
            "Net Zero",
            "Renewables",
            "Incentives"
           ]
          ],
          [
           "Green Investment Obligations",
           "Finance",
           [
            "Finance",
            "Governance",
            "Net Zero"
           ]
          ],
          [
           "Green Residential Lease Clauses",
           "Lease",
           [
            "Lease",
            "Net Zero"
           ]
          ],
          [
           "Heads of Terms for Landowner Collaboration on Environmental Schemes",
           "Land Use",
           [
            "Land Use",
            "Finance",
            "Net Zero",
            "Incentives"
           ]
          ],
          [
           "Land: Sustainable Soil Management",
           "Land Use",
           [
            "Land Use",
            "ESG"
           ]
          ],
          [
           "Landlord and Tenant Obligations to Create Additionality in Renewable Electricity Generation",
           "Lease",
           [
            "Lease",
            "Renewables",
            "Net Zero"
           ]
          ],
          [
           "Net Zero Land Promotion Agreement",
           "Land Use",
           [
            "Land Use",
            "Net Zero",
            "Planning"
           ]
          ],
          [
           "Supply Chain Sustainable Land Use Clause and Questionnaire",
           "Supply Chain",
           [
            "Supply Chain",
            "Land Use",
            "ESG"
           ]
          ]
         ],
         "hovertemplate": "color=2<br>x=%{x}<br>y=%{y}<br>Clause=%{customdata[0]}<br>PrimaryTag=%{customdata[1]}<br>Tags=%{customdata[2]}<extra></extra>",
         "legendgroup": "2",
         "marker": {
          "color": "#00cc96",
          "opacity": 0.7,
          "size": 6,
          "symbol": "circle"
         },
         "mode": "markers",
         "name": "2",
         "orientation": "v",
         "showlegend": true,
         "type": "scatter",
         "x": {
          "bdata": "UMTzQIDuEUGRbdhAtXTsQFlxB0EMVAVBOlwFQQER4kBcRwJBbj4DQR0C/kB3FQpBLn4HQcuy+0A=",
          "dtype": "f4"
         },
         "xaxis": "x",
         "y": {
          "bdata": "EBydQOdepkDF0axAAuCtQKRqlUCWpqNANWmLQK9CoUDcVZhA0nKoQK+epEA9IZtAkrSrQF5SmUA=",
          "dtype": "f4"
         },
         "yaxis": "y"
        },
        {
         "customdata": [
          [
           "Benchmarking of Project Greenhouse Gas Emissions",
           "Construction",
           [
            "Construction",
            "Net Zero",
            "Supply Chain"
           ]
          ],
          [
           "Climate Aligned Construction Waste Management",
           "Construction",
           [
            "Construction",
            "Net Zero"
           ]
          ],
          [
           "Construction: Procuring Materials and Carbon Budgets",
           "Construction",
           [
            "Construction",
            "Net Zero",
            "Contracts"
           ]
          ],
          [
           "Green Acquisition Obligations",
           "M&A",
           [
            "M&A",
            "Net Zero",
            "Incentives"
           ]
          ],
          [
           "MMC and Net Zero Provisions for Construction or Development Agreements",
           "Construction",
           [
            "Construction",
            "Net Zero",
            "Contracts"
           ]
          ],
          [
           "Net Zero Aligned Construction Modifications",
           "Construction",
           [
            "Construction",
            "Net Zero"
           ]
          ],
          [
           "Securing Net Zero in Planning Development Projects",
           "Planning",
           [
            "Planning",
            "Net Zero",
            "Construction"
           ]
          ],
          [
           "Sustainable On Site Working Practices",
           "Construction",
           [
            "Construction",
            "Energy Efficiency"
           ]
          ]
         ],
         "hovertemplate": "color=6<br>x=%{x}<br>y=%{y}<br>Clause=%{customdata[0]}<br>PrimaryTag=%{customdata[1]}<br>Tags=%{customdata[2]}<extra></extra>",
         "legendgroup": "6",
         "marker": {
          "color": "#ab63fa",
          "opacity": 0.7,
          "size": 6,
          "symbol": "circle"
         },
         "mode": "markers",
         "name": "6",
         "orientation": "v",
         "showlegend": true,
         "type": "scatter",
         "x": {
          "bdata": "RjElQYGDIUGYmSNBYNUnQRLfH0Gc0CJBxC4mQQTuJ0E=",
          "dtype": "f4"
         },
         "xaxis": "x",
         "y": {
          "bdata": "BhW6QFFMwkBabM1AGay2QCc0ukCk3b5AKNzIQOlTyEA=",
          "dtype": "f4"
         },
         "yaxis": "y"
        },
        {
         "customdata": [
          [
           "Board Minutes: Consideration of Climate Change Factors",
           "Governance",
           [
            "Governance",
            "Net Zero"
           ]
          ],
          [
           "Board Paper Implementing Net Zero for SMEs",
           "Governance",
           [
            "Governance",
            "Net Zero"
           ]
          ],
          [
           "Capital Markets ESG Due Diligence Questionnaire",
           "Finance",
           [
            "Finance",
            "Reporting",
            "ESG"
           ]
          ],
          [
           "Climate Change Clauses for Heads of Terms",
           "Contracts",
           [
            "Contracts",
            "Net Zero"
           ]
          ],
          [
           "Climate Due Diligence Questionnaire for M&A Transactions",
           "M&A",
           [
            "M&A",
            "Reporting",
            "Net Zero"
           ]
          ],
          [
           "CLLS Certificate of Title: Climate Change Disclosures",
           "Reporting",
           [
            "Reporting",
            "Real Estate",
            "Net Zero"
           ]
          ],
          [
           "Environmental Business Charter",
           "Governance",
           [
            "Governance",
            "Net Zero"
           ]
          ],
          [
           "ESG-Based Performance Conditions for Employee Incentive Awards",
           "Employment",
           [
            "Employment",
            "ESG",
            "Net Zero"
           ]
          ],
          [
           "JCT Energy Efficiency and Environmental Obligations",
           "Construction",
           [
            "Construction",
            "Net Zero",
            "Contracts"
           ]
          ],
          [
           "Report on Title – Climate Change Clauses",
           "Reporting",
           [
            "Reporting",
            "Real Estate",
            "Risk"
           ]
          ],
          [
           "Stakeholder Company Climate Questionnaire",
           "ESG",
           [
            "ESG",
            "Disclosure",
            "Governance"
           ]
          ],
          [
           "Template Board Paper for Significant Contracts/ Transactions",
           "Governance",
           [
            "Governance",
            "Risk",
            "Contracts"
           ]
          ]
         ],
         "hovertemplate": "color=4<br>x=%{x}<br>y=%{y}<br>Clause=%{customdata[0]}<br>PrimaryTag=%{customdata[1]}<br>Tags=%{customdata[2]}<extra></extra>",
         "legendgroup": "4",
         "marker": {
          "color": "#FFA15A",
          "opacity": 0.7,
          "size": 6,
          "symbol": "circle"
         },
         "mode": "markers",
         "name": "4",
         "orientation": "v",
         "showlegend": true,
         "type": "scatter",
         "x": {
          "bdata": "FvzOQFhwyEDKg9RA9ffhQBQ43kDQu+NAIhTfQOmM2UDlluBAyBTkQBqg0EAitNhA",
          "dtype": "f4"
         },
         "xaxis": "x",
         "y": {
          "bdata": "y3pwQOutTkCyuohAhrSEQKOBl0BvYYpAOi6AQKkZi0D8/pxA2r+MQJ3sg0DHZoBA",
          "dtype": "f4"
         },
         "yaxis": "y"
        },
        {
         "customdata": [
          [
           "Carbon Footprint Reduction – Mutual Notification Right (Carbon Footprint Reduction Notice)",
           "Supply Chain",
           [
            "Supply Chain",
            "Contracts",
            "Net Zero"
           ]
          ],
          [
           "Coolerplate Clauses (Climate Aligned Boilerplate)",
           "Contracts",
           [
            "Contracts",
            "Net Zero"
           ]
          ],
          [
           "GHG Emissions Management Plans in Infrastructure and Construction Project Finance",
           "Finance",
           [
            "Finance",
            "Construction",
            "Net Zero"
           ]
          ],
          [
           "Green or Sustainability-Linked Lending Requirement",
           "Finance",
           [
            "Finance",
            "Net Zero",
            "ESG"
           ]
          ],
          [
           "Green Supplier Agreement Terms",
           "Supply Chain",
           [
            "Supply Chain",
            "Net Zero",
            "Contracts"
           ]
          ],
          [
           "Intellectual Property: Free Licence for Climate Purposes",
           "Contracts",
           [
            "Contracts",
            "ESG"
           ]
          ],
          [
           "Interest Ratchet Clause for Carbon Saving",
           "Finance",
           [
            "Finance",
            "Net Zero",
            "Incentives"
           ]
          ],
          [
           "Management Equity Ratchet Terms",
           "Finance",
           [
            "Finance",
            "ESG",
            "Incentives"
           ]
          ],
          [
           "Net Zero Completion Adjustment Clause",
           "M&A",
           [
            "M&A",
            "Finance",
            "Net Zero",
            "Incentives"
           ]
          ],
          [
           "Net Zero Convertible Loan Note",
           "Finance",
           [
            "Finance",
            "Net Zero",
            "ESG"
           ]
          ],
          [
           "Net Zero Obligations in FIDIC EPC Contracts",
           "Construction",
           [
            "Construction",
            "Net Zero",
            "Contracts"
           ]
          ],
          [
           "Net Zero Target Supply Chain Cascade Clauses",
           "Supply Chain",
           [
            "Supply Chain",
            "Net Zero",
            "Contracts"
           ]
          ],
          [
           "Sponsorship Agreement: Net Zero Outcome",
           "Contracts",
           [
            "Contracts",
            "Net Zero",
            "Marketing"
           ]
          ],
          [
           "Supplier Environmental Threshold Obligations",
           "Supply Chain",
           [
            "Supply Chain",
            "Emissions",
            "Contracts"
           ]
          ],
          [
           "Target Product Carbon Footprint (Schedule for Consumer Goods Contracts)",
           "Supply Chain",
           [
            "Supply Chain",
            "Scope 3",
            "Emissions"
           ]
          ],
          [
           "The Net Zero Standard for Suppliers",
           "Supply Chain",
           [
            "Supply Chain",
            "Emissions",
            "Reporting"
           ]
          ]
         ],
         "hovertemplate": "color=5<br>x=%{x}<br>y=%{y}<br>Clause=%{customdata[0]}<br>PrimaryTag=%{customdata[1]}<br>Tags=%{customdata[2]}<extra></extra>",
         "legendgroup": "5",
         "marker": {
          "color": "#19d3f3",
          "opacity": 0.7,
          "size": 6,
          "symbol": "circle"
         },
         "mode": "markers",
         "name": "5",
         "orientation": "v",
         "showlegend": true,
         "type": "scatter",
         "x": {
          "bdata": "oZ8XQZ40DkFZ5SFBlkIdQZefGEFFQhBBPVoiQYleIEFzCx9BWhslQdjkG0F9SxJBzCkPQXxsF0FUWBVBjIwbQQ==",
          "dtype": "f4"
         },
         "xaxis": "x",
         "y": {
          "bdata": "7jHAQEE0sUCU6axA816PQGEWukC0O8FA+2aaQIeWlEDTXpJAKrKnQFpHr0BaGbNA/XW7QOMQvEAiZaVAm5XKQA==",
          "dtype": "f4"
         },
         "yaxis": "y"
        },
        {
         "customdata": [
          [
           "Circular Economy Product Design Obligation",
           "Supply Chain",
           [
            "Supply Chain",
            "Net Zero",
            "Incentives"
           ]
          ],
          [
           "Climate Standard of Care (Construction)",
           "Construction",
           [
            "Construction",
            "Net Zero"
           ]
          ],
          [
           "Climate-Linked Contractual Discretions",
           "Contracts",
           [
            "Contracts",
            "Net Zero",
            "Incentives"
           ]
          ],
          [
           "Climate-Related Disclosure in Loans",
           "Finance",
           [
            "Finance",
            "Reporting",
            "Net Zero"
           ]
          ],
          [
           "Employer-Employee Environmental Obligations",
           "Employment",
           [
            "Employment",
            "Net Zero"
           ]
          ],
          [
           "Green Termination Provision (Short Form)",
           "Contracts",
           [
            "Contracts",
            "Net Zero",
            "Procurement"
           ]
          ],
          [
           "Green Transaction Execution Protocols",
           "Contracts",
           [
            "Contracts",
            "Net Zero"
           ]
          ],
          [
           "Greener and More Efficient HGVs in Road and Multimodal Transport Agreements",
           "Transport",
           [
            "Transport",
            "Net Zero",
            "Supply Chain"
           ]
          ],
          [
           "Parametric Insurance Incentives for the Protection of Coral Reefs",
           "Insurance",
           [
            "Insurance",
            "Biodiversity",
            "Adaptation"
           ]
          ],
          [
           "Promotion of Carbon Sinks and Ecological Restoration in Lettings of Rural Land",
           "Land Use",
           [
            "Land Use",
            "Biodiversity",
            "Carbon Removal"
           ]
          ],
          [
           "Promotion of Regenerative Farming Methods through Profit of Pasturage Agreements",
           "Land Use",
           [
            "Land Use",
            "Agriculture",
            "Biodiversity"
           ]
          ],
          [
           "Repair or Refurbishment in Insurance Claims",
           "Insurance",
           [
            "Insurance",
            "Circular Economy"
           ]
          ],
          [
           "Supply: Renewable Energy Requirements",
           "Supply Chain",
           [
            "Supply Chain",
            "Renewable Energy"
           ]
          ],
          [
           "Supply: Termination for Greener Supplier",
           "Supply Chain",
           [
            "Supply Chain",
            "Contracts",
            "Termination"
           ]
          ],
          [
           "Sustainability Enterprise Delivery Measures within Construction Works Task Orders",
           "Construction",
           [
            "Construction",
            "Metrics",
            "Resilience"
           ]
          ],
          [
           "Sustainability KPIs in Construction Works Task Orders",
           "Construction",
           [
            "Construction",
            "Metrics",
            "ESG"
           ]
          ],
          [
           "Sustainability-Linked Loans",
           "Finance",
           [
            "Finance",
            "Lending",
            "ESG"
           ]
          ],
          [
           "The ‘Green Supplier’ Contract – A Standardised Contractual Pricing Model",
           "Supply Chain",
           [
            "Supply Chain",
            "Emissions",
            "Incentives"
           ]
          ]
         ],
         "hovertemplate": "color=3<br>x=%{x}<br>y=%{y}<br>Clause=%{customdata[0]}<br>PrimaryTag=%{customdata[1]}<br>Tags=%{customdata[2]}<extra></extra>",
         "legendgroup": "3",
         "marker": {
          "color": "#FF6692",
          "opacity": 0.7,
          "size": 6,
          "symbol": "circle"
         },
         "mode": "markers",
         "name": "3",
         "orientation": "v",
         "showlegend": true,
         "type": "scatter",
         "x": {
          "bdata": "lNntQERE6kBBMupATJrFQC6kzkD+7/JAEHrrQJSq6UD06OtATCj5QH0O+UDxDPRATkXhQNIWAEGxEuBAgKjZQETz4EAf4OZA",
          "dtype": "f4"
         },
         "xaxis": "x",
         "y": {
          "bdata": "+NlrQHBLYUCAf3VAaUY+QOdmR0BgZIdAzvR3QC70SUDBHThA1YyEQBqshkDhb1FA0k4kQBXbbkANPmNALeMxQFcOOkBMe05A",
          "dtype": "f4"
         },
         "yaxis": "y"
        },
        {
         "customdata": [
          [
           "Climate Change Due Diligence Questionnaire for Suppliers",
           "Supply Chain",
           [
            "Supply Chain",
            "Reporting",
            "Net Zero"
           ]
          ],
          [
           "Employee Climate Engagement Provisions",
           "Employment",
           [
            "Employment",
            "Net Zero",
            "Governance"
           ]
          ],
          [
           "Low Carbon Arbitrations",
           "Dispute Resolution",
           [
            "Dispute Resolution",
            "Net Zero"
           ]
          ],
          [
           "Net Zero Culture Employment Handbook",
           "Employment",
           [
            "Employment",
            "Net Zero",
            "Governance"
           ]
          ],
          [
           "Net Zero Within Company Whistleblowing Policies",
           "Governance",
           [
            "Governance",
            "Net Zero",
            "Employment"
           ]
          ],
          [
           "Paris Aligned Company Articles",
           "Governance",
           [
            "Governance",
            "ESG",
            "Net Zero"
           ]
          ],
          [
           "SPA/ Investment Agreement: Disclosure of Climate Change Plans",
           "M&A",
           [
            "M&A",
            "Disclosure",
            "Net Zero"
           ]
          ],
          [
           "TV Production: Promotion of Sustainable Consumption and Travel",
           "Media",
           [
            "Media",
            "Consumption",
            "Transport"
           ]
          ]
         ],
         "hovertemplate": "color=8<br>x=%{x}<br>y=%{y}<br>Clause=%{customdata[0]}<br>PrimaryTag=%{customdata[1]}<br>Tags=%{customdata[2]}<extra></extra>",
         "legendgroup": "8",
         "marker": {
          "color": "#B6E880",
          "opacity": 0.7,
          "size": 6,
          "symbol": "circle"
         },
         "mode": "markers",
         "name": "8",
         "orientation": "v",
         "showlegend": true,
         "type": "scatter",
         "x": {
          "bdata": "gIwQQXjvCkHxjBJB0TwMQUAsD0Ex6AlBJzsIQc6ZE0E=",
          "dtype": "f4"
         },
         "xaxis": "x",
         "y": {
          "bdata": "zyvrQCqj7kDzB/ZA9dDtQGhX90BLC+RAC5fxQJEH7EA=",
          "dtype": "f4"
         },
         "yaxis": "y"
        },
        {
         "customdata": [
          [
           "Climate Policy Footprint",
           "Reporting",
           [
            "Reporting",
            "Governance",
            "Net Zero"
           ]
          ],
          [
           "Climate Purposed NDA Terms (Confidentiality Agreement)",
           "Contracts",
           [
            "Contracts",
            "Net Zero"
           ]
          ],
          [
           "Climate Standard Transaction Terms",
           "Finance",
           [
            "Finance",
            "Net Zero",
            "Contracts"
           ]
          ],
          [
           "Entire Business Net Zero Objectives",
           "Net Zero",
           [
            "Net Zero",
            "Governance"
           ]
          ],
          [
           "ESG-Linked Pricing Adjustment for Derivatives Transactions",
           "Finance",
           [
            "Finance",
            "ESG",
            "Net Zero"
           ]
          ],
          [
           "Green Company Articles",
           "Governance",
           [
            "Governance",
            "Net Zero"
           ]
          ],
          [
           "Green Litigation and Arbitration Protocols",
           "Dispute Resolution",
           [
            "Dispute Resolution",
            "Governance",
            "Net Zero"
           ]
          ],
          [
           "Green Shareholders’ Agreement (Short Form for SMEs)",
           "Governance",
           [
            "Governance",
            "SMEs",
            "Net Zero"
           ]
          ],
          [
           "Green Shareholders’ Agreement",
           "Governance",
           [
            "Governance",
            "Net Zero",
            "ESG"
           ]
          ],
          [
           "Indigenous/ Local Knowledge in Board Director Appointments",
           "Governance",
           [
            "Governance",
            "ESG"
           ]
          ],
          [
           "Open Source Data Sharing: Enabling Sustainable Mobility for Cities",
           "Transport",
           [
            "Transport",
            "Data",
            "ESG"
           ]
          ],
          [
           "Shareholder Resolutions Relating to a Company’s Climate Change Commitments",
           "Governance",
           [
            "Governance",
            "Net Zero",
            "Reporting"
           ]
          ],
          [
           "Sustainability Reporting Clause for the Constitution of a Private Limited Company",
           "Governance",
           [
            "Governance",
            "Reporting",
            "ESG"
           ]
          ]
         ],
         "hovertemplate": "color=7<br>x=%{x}<br>y=%{y}<br>Clause=%{customdata[0]}<br>PrimaryTag=%{customdata[1]}<br>Tags=%{customdata[2]}<extra></extra>",
         "legendgroup": "7",
         "marker": {
          "color": "#FF97FF",
          "opacity": 0.7,
          "size": 6,
          "symbol": "circle"
         },
         "mode": "markers",
         "name": "7",
         "orientation": "v",
         "showlegend": true,
         "type": "scatter",
         "x": {
          "bdata": "QfH/QGdMCUFivwdBxfgCQbqB3kDROQZBSXr1QExH/0BPUQZBftsIQViJEEEeNvpA9R8EQQ==",
          "dtype": "f4"
         },
         "xaxis": "x",
         "y": {
          "bdata": "QpXLQFyJuUBJtr9A48HFQMpAvUCrTd9AGKWwQLvpzkBzOM9AikffQPKd1EArTMNAckDUQA==",
          "dtype": "f4"
         },
         "yaxis": "y"
        },
        {
         "customdata": [
          [
           "Climate-Related Knowledge Sharing Between Insurer and Insured",
           "Insurance",
           [
            "Insurance",
            "Net Zero",
            "Governance"
           ]
          ],
          [
           "Climate-Related Liability Cover (Commercial Insureds)",
           "Insurance",
           [
            "Insurance",
            "Net Zero",
            "Dispute Resolution"
           ]
          ],
          [
           "Condition to Liability Cover for Climate-Related Claims (Commercial Insureds)",
           "Insurance",
           [
            "Insurance",
            "Net Zero",
            "Governance"
           ]
          ],
          [
           "ESG Aligned Company Articles",
           "Governance",
           [
            "Governance",
            "ESG",
            "Net Zero"
           ]
          ],
          [
           "General Condition to Commercial Insurance Policies: Climate Change Risk Assessment",
           "Insurance",
           [
            "Insurance",
            "Net Zero",
            "Governance"
           ]
          ],
          [
           "Green Dispute Reporting in After the Event Insurance Policies",
           "Insurance",
           [
            "Insurance",
            "Dispute Resolution",
            "Governance"
           ]
          ],
          [
           "Incentives for Insured Parties to Disclose and Meet GHG Emissions Targets",
           "Insurance",
           [
            "Insurance",
            "Net Zero",
            "Incentives"
           ]
          ],
          [
           "Insurance Premium Adjustment for D&O Climate-related Financial Disclosures",
           "Insurance",
           [
            "Insurance",
            "Net Zero",
            "Reporting",
            "Governance"
           ]
          ],
          [
           "Insurance: Disclosure and Mitigation of Pending Climate Change Litigation",
           "Insurance",
           [
            "Insurance",
            "Dispute Resolution",
            "Governance"
           ]
          ]
         ],
         "hovertemplate": "color=0<br>x=%{x}<br>y=%{y}<br>Clause=%{customdata[0]}<br>PrimaryTag=%{customdata[1]}<br>Tags=%{customdata[2]}<extra></extra>",
         "legendgroup": "0",
         "marker": {
          "color": "#FECB52",
          "opacity": 0.7,
          "size": 6,
          "symbol": "circle"
         },
         "mode": "markers",
         "name": "0",
         "orientation": "v",
         "showlegend": true,
         "type": "scatter",
         "x": {
          "bdata": "wbztQMmh9ECRj+JAxULnQHfK7EABE/dAvnHqQOV39UCWGfNA",
          "dtype": "f4"
         },
         "xaxis": "x",
         "y": {
          "bdata": "Ch3dQEKa50DA59RAiN3IQKCg1EBP8+NAelLLQAt73UBIcuZA",
          "dtype": "f4"
         },
         "yaxis": "y"
        }
       ],
       "layout": {
        "legend": {
         "title": {
          "text": "color"
         },
         "tracegroupgap": 0
        },
        "template": {
         "data": {
          "bar": [
           {
            "error_x": {
             "color": "#2a3f5f"
            },
            "error_y": {
             "color": "#2a3f5f"
            },
            "marker": {
             "line": {
              "color": "#E5ECF6",
              "width": 0.5
             },
             "pattern": {
              "fillmode": "overlay",
              "size": 10,
              "solidity": 0.2
             }
            },
            "type": "bar"
           }
          ],
          "barpolar": [
           {
            "marker": {
             "line": {
              "color": "#E5ECF6",
              "width": 0.5
             },
             "pattern": {
              "fillmode": "overlay",
              "size": 10,
              "solidity": 0.2
             }
            },
            "type": "barpolar"
           }
          ],
          "carpet": [
           {
            "aaxis": {
             "endlinecolor": "#2a3f5f",
             "gridcolor": "white",
             "linecolor": "white",
             "minorgridcolor": "white",
             "startlinecolor": "#2a3f5f"
            },
            "baxis": {
             "endlinecolor": "#2a3f5f",
             "gridcolor": "white",
             "linecolor": "white",
             "minorgridcolor": "white",
             "startlinecolor": "#2a3f5f"
            },
            "type": "carpet"
           }
          ],
          "choropleth": [
           {
            "colorbar": {
             "outlinewidth": 0,
             "ticks": ""
            },
            "type": "choropleth"
           }
          ],
          "contour": [
           {
            "colorbar": {
             "outlinewidth": 0,
             "ticks": ""
            },
            "colorscale": [
             [
              0,
              "#0d0887"
             ],
             [
              0.1111111111111111,
              "#46039f"
             ],
             [
              0.2222222222222222,
              "#7201a8"
             ],
             [
              0.3333333333333333,
              "#9c179e"
             ],
             [
              0.4444444444444444,
              "#bd3786"
             ],
             [
              0.5555555555555556,
              "#d8576b"
             ],
             [
              0.6666666666666666,
              "#ed7953"
             ],
             [
              0.7777777777777778,
              "#fb9f3a"
             ],
             [
              0.8888888888888888,
              "#fdca26"
             ],
             [
              1,
              "#f0f921"
             ]
            ],
            "type": "contour"
           }
          ],
          "contourcarpet": [
           {
            "colorbar": {
             "outlinewidth": 0,
             "ticks": ""
            },
            "type": "contourcarpet"
           }
          ],
          "heatmap": [
           {
            "colorbar": {
             "outlinewidth": 0,
             "ticks": ""
            },
            "colorscale": [
             [
              0,
              "#0d0887"
             ],
             [
              0.1111111111111111,
              "#46039f"
             ],
             [
              0.2222222222222222,
              "#7201a8"
             ],
             [
              0.3333333333333333,
              "#9c179e"
             ],
             [
              0.4444444444444444,
              "#bd3786"
             ],
             [
              0.5555555555555556,
              "#d8576b"
             ],
             [
              0.6666666666666666,
              "#ed7953"
             ],
             [
              0.7777777777777778,
              "#fb9f3a"
             ],
             [
              0.8888888888888888,
              "#fdca26"
             ],
             [
              1,
              "#f0f921"
             ]
            ],
            "type": "heatmap"
           }
          ],
          "histogram": [
           {
            "marker": {
             "pattern": {
              "fillmode": "overlay",
              "size": 10,
              "solidity": 0.2
             }
            },
            "type": "histogram"
           }
          ],
          "histogram2d": [
           {
            "colorbar": {
             "outlinewidth": 0,
             "ticks": ""
            },
            "colorscale": [
             [
              0,
              "#0d0887"
             ],
             [
              0.1111111111111111,
              "#46039f"
             ],
             [
              0.2222222222222222,
              "#7201a8"
             ],
             [
              0.3333333333333333,
              "#9c179e"
             ],
             [
              0.4444444444444444,
              "#bd3786"
             ],
             [
              0.5555555555555556,
              "#d8576b"
             ],
             [
              0.6666666666666666,
              "#ed7953"
             ],
             [
              0.7777777777777778,
              "#fb9f3a"
             ],
             [
              0.8888888888888888,
              "#fdca26"
             ],
             [
              1,
              "#f0f921"
             ]
            ],
            "type": "histogram2d"
           }
          ],
          "histogram2dcontour": [
           {
            "colorbar": {
             "outlinewidth": 0,
             "ticks": ""
            },
            "colorscale": [
             [
              0,
              "#0d0887"
             ],
             [
              0.1111111111111111,
              "#46039f"
             ],
             [
              0.2222222222222222,
              "#7201a8"
             ],
             [
              0.3333333333333333,
              "#9c179e"
             ],
             [
              0.4444444444444444,
              "#bd3786"
             ],
             [
              0.5555555555555556,
              "#d8576b"
             ],
             [
              0.6666666666666666,
              "#ed7953"
             ],
             [
              0.7777777777777778,
              "#fb9f3a"
             ],
             [
              0.8888888888888888,
              "#fdca26"
             ],
             [
              1,
              "#f0f921"
             ]
            ],
            "type": "histogram2dcontour"
           }
          ],
          "mesh3d": [
           {
            "colorbar": {
             "outlinewidth": 0,
             "ticks": ""
            },
            "type": "mesh3d"
           }
          ],
          "parcoords": [
           {
            "line": {
             "colorbar": {
              "outlinewidth": 0,
              "ticks": ""
             }
            },
            "type": "parcoords"
           }
          ],
          "pie": [
           {
            "automargin": true,
            "type": "pie"
           }
          ],
          "scatter": [
           {
            "fillpattern": {
             "fillmode": "overlay",
             "size": 10,
             "solidity": 0.2
            },
            "type": "scatter"
           }
          ],
          "scatter3d": [
           {
            "line": {
             "colorbar": {
              "outlinewidth": 0,
              "ticks": ""
             }
            },
            "marker": {
             "colorbar": {
              "outlinewidth": 0,
              "ticks": ""
             }
            },
            "type": "scatter3d"
           }
          ],
          "scattercarpet": [
           {
            "marker": {
             "colorbar": {
              "outlinewidth": 0,
              "ticks": ""
             }
            },
            "type": "scattercarpet"
           }
          ],
          "scattergeo": [
           {
            "marker": {
             "colorbar": {
              "outlinewidth": 0,
              "ticks": ""
             }
            },
            "type": "scattergeo"
           }
          ],
          "scattergl": [
           {
            "marker": {
             "colorbar": {
              "outlinewidth": 0,
              "ticks": ""
             }
            },
            "type": "scattergl"
           }
          ],
          "scattermap": [
           {
            "marker": {
             "colorbar": {
              "outlinewidth": 0,
              "ticks": ""
             }
            },
            "type": "scattermap"
           }
          ],
          "scattermapbox": [
           {
            "marker": {
             "colorbar": {
              "outlinewidth": 0,
              "ticks": ""
             }
            },
            "type": "scattermapbox"
           }
          ],
          "scatterpolar": [
           {
            "marker": {
             "colorbar": {
              "outlinewidth": 0,
              "ticks": ""
             }
            },
            "type": "scatterpolar"
           }
          ],
          "scatterpolargl": [
           {
            "marker": {
             "colorbar": {
              "outlinewidth": 0,
              "ticks": ""
             }
            },
            "type": "scatterpolargl"
           }
          ],
          "scatterternary": [
           {
            "marker": {
             "colorbar": {
              "outlinewidth": 0,
              "ticks": ""
             }
            },
            "type": "scatterternary"
           }
          ],
          "surface": [
           {
            "colorbar": {
             "outlinewidth": 0,
             "ticks": ""
            },
            "colorscale": [
             [
              0,
              "#0d0887"
             ],
             [
              0.1111111111111111,
              "#46039f"
             ],
             [
              0.2222222222222222,
              "#7201a8"
             ],
             [
              0.3333333333333333,
              "#9c179e"
             ],
             [
              0.4444444444444444,
              "#bd3786"
             ],
             [
              0.5555555555555556,
              "#d8576b"
             ],
             [
              0.6666666666666666,
              "#ed7953"
             ],
             [
              0.7777777777777778,
              "#fb9f3a"
             ],
             [
              0.8888888888888888,
              "#fdca26"
             ],
             [
              1,
              "#f0f921"
             ]
            ],
            "type": "surface"
           }
          ],
          "table": [
           {
            "cells": {
             "fill": {
              "color": "#EBF0F8"
             },
             "line": {
              "color": "white"
             }
            },
            "header": {
             "fill": {
              "color": "#C8D4E3"
             },
             "line": {
              "color": "white"
             }
            },
            "type": "table"
           }
          ]
         },
         "layout": {
          "annotationdefaults": {
           "arrowcolor": "#2a3f5f",
           "arrowhead": 0,
           "arrowwidth": 1
          },
          "autotypenumbers": "strict",
          "coloraxis": {
           "colorbar": {
            "outlinewidth": 0,
            "ticks": ""
           }
          },
          "colorscale": {
           "diverging": [
            [
             0,
             "#8e0152"
            ],
            [
             0.1,
             "#c51b7d"
            ],
            [
             0.2,
             "#de77ae"
            ],
            [
             0.3,
             "#f1b6da"
            ],
            [
             0.4,
             "#fde0ef"
            ],
            [
             0.5,
             "#f7f7f7"
            ],
            [
             0.6,
             "#e6f5d0"
            ],
            [
             0.7,
             "#b8e186"
            ],
            [
             0.8,
             "#7fbc41"
            ],
            [
             0.9,
             "#4d9221"
            ],
            [
             1,
             "#276419"
            ]
           ],
           "sequential": [
            [
             0,
             "#0d0887"
            ],
            [
             0.1111111111111111,
             "#46039f"
            ],
            [
             0.2222222222222222,
             "#7201a8"
            ],
            [
             0.3333333333333333,
             "#9c179e"
            ],
            [
             0.4444444444444444,
             "#bd3786"
            ],
            [
             0.5555555555555556,
             "#d8576b"
            ],
            [
             0.6666666666666666,
             "#ed7953"
            ],
            [
             0.7777777777777778,
             "#fb9f3a"
            ],
            [
             0.8888888888888888,
             "#fdca26"
            ],
            [
             1,
             "#f0f921"
            ]
           ],
           "sequentialminus": [
            [
             0,
             "#0d0887"
            ],
            [
             0.1111111111111111,
             "#46039f"
            ],
            [
             0.2222222222222222,
             "#7201a8"
            ],
            [
             0.3333333333333333,
             "#9c179e"
            ],
            [
             0.4444444444444444,
             "#bd3786"
            ],
            [
             0.5555555555555556,
             "#d8576b"
            ],
            [
             0.6666666666666666,
             "#ed7953"
            ],
            [
             0.7777777777777778,
             "#fb9f3a"
            ],
            [
             0.8888888888888888,
             "#fdca26"
            ],
            [
             1,
             "#f0f921"
            ]
           ]
          },
          "colorway": [
           "#636efa",
           "#EF553B",
           "#00cc96",
           "#ab63fa",
           "#FFA15A",
           "#19d3f3",
           "#FF6692",
           "#B6E880",
           "#FF97FF",
           "#FECB52"
          ],
          "font": {
           "color": "#2a3f5f"
          },
          "geo": {
           "bgcolor": "white",
           "lakecolor": "white",
           "landcolor": "#E5ECF6",
           "showlakes": true,
           "showland": true,
           "subunitcolor": "white"
          },
          "hoverlabel": {
           "align": "left"
          },
          "hovermode": "closest",
          "mapbox": {
           "style": "light"
          },
          "paper_bgcolor": "white",
          "plot_bgcolor": "#E5ECF6",
          "polar": {
           "angularaxis": {
            "gridcolor": "white",
            "linecolor": "white",
            "ticks": ""
           },
           "bgcolor": "#E5ECF6",
           "radialaxis": {
            "gridcolor": "white",
            "linecolor": "white",
            "ticks": ""
           }
          },
          "scene": {
           "xaxis": {
            "backgroundcolor": "#E5ECF6",
            "gridcolor": "white",
            "gridwidth": 2,
            "linecolor": "white",
            "showbackground": true,
            "ticks": "",
            "zerolinecolor": "white"
           },
           "yaxis": {
            "backgroundcolor": "#E5ECF6",
            "gridcolor": "white",
            "gridwidth": 2,
            "linecolor": "white",
            "showbackground": true,
            "ticks": "",
            "zerolinecolor": "white"
           },
           "zaxis": {
            "backgroundcolor": "#E5ECF6",
            "gridcolor": "white",
            "gridwidth": 2,
            "linecolor": "white",
            "showbackground": true,
            "ticks": "",
            "zerolinecolor": "white"
           }
          },
          "shapedefaults": {
           "line": {
            "color": "#2a3f5f"
           }
          },
          "ternary": {
           "aaxis": {
            "gridcolor": "white",
            "linecolor": "white",
            "ticks": ""
           },
           "baxis": {
            "gridcolor": "white",
            "linecolor": "white",
            "ticks": ""
           },
           "bgcolor": "#E5ECF6",
           "caxis": {
            "gridcolor": "white",
            "linecolor": "white",
            "ticks": ""
           }
          },
          "title": {
           "x": 0.05
          },
          "xaxis": {
           "automargin": true,
           "gridcolor": "white",
           "linecolor": "white",
           "ticks": "",
           "title": {
            "standoff": 15
           },
           "zerolinecolor": "white",
           "zerolinewidth": 2
          },
          "yaxis": {
           "automargin": true,
           "gridcolor": "white",
           "linecolor": "white",
           "ticks": "",
           "title": {
            "standoff": 15
           },
           "zerolinecolor": "white",
           "zerolinewidth": 2
          }
         }
        },
        "title": {
         "text": "Hybrid UMAP: Text Embeddings + Tags + HDBSCAN Clusters"
        },
        "xaxis": {
         "anchor": "y",
         "domain": [
          0,
          1
         ],
         "title": {
          "text": "x"
         }
        },
        "yaxis": {
         "anchor": "x",
         "domain": [
          0,
          1
         ],
         "title": {
          "text": "y"
         }
        }
       }
      }
     },
     "metadata": {},
     "output_type": "display_data"
    }
   ],
   "source": [
    "utils.plot_clusters(clause_tags, forced_labels, hybrid_2d)"
   ]
  },
  {
   "cell_type": "code",
   "execution_count": 32,
   "id": "458a3cc3",
   "metadata": {},
   "outputs": [],
   "source": [
    "#save clause_tags \n",
    "\n",
    "clause_tags.to_excel(\"../data/clause_tags_with_clusters.xlsx\", index=False)"
   ]
  },
  {
   "cell_type": "markdown",
   "id": "92ebcdef",
   "metadata": {},
   "source": [
    "___"
   ]
  },
  {
   "cell_type": "markdown",
   "id": "6ce38b0f",
   "metadata": {},
   "source": [
    "# Training a Classifier"
   ]
  },
  {
   "cell_type": "code",
   "execution_count": 50,
   "id": "71c62f6e",
   "metadata": {},
   "outputs": [
    {
     "name": "stdout",
     "output_type": "stream",
     "text": [
      "(122, 768)\n"
     ]
    }
   ],
   "source": [
    "X_train, X_test, y_train, y_test = utils.prepare_cluster(clause_tags, model, tokenizer, forced_labels)\n"
   ]
  },
  {
   "cell_type": "code",
   "execution_count": 51,
   "id": "e2b65280",
   "metadata": {},
   "outputs": [
    {
     "name": "stdout",
     "output_type": "stream",
     "text": [
      "MLP Classifier:\n",
      "               precision    recall  f1-score   support\n",
      "\n",
      "           0       1.00      1.00      1.00         2\n",
      "           1       1.00      1.00      1.00         3\n",
      "           2       0.33      0.50      0.40         2\n",
      "           3       1.00      1.00      1.00         3\n",
      "           4       1.00      1.00      1.00         2\n",
      "           5       1.00      0.33      0.50         3\n",
      "           6       1.00      1.00      1.00         2\n",
      "           7       0.50      1.00      0.67         2\n",
      "           8       1.00      0.50      0.67         2\n",
      "           9       1.00      1.00      1.00         2\n",
      "\n",
      "    accuracy                           0.83        23\n",
      "   macro avg       0.88      0.83      0.82        23\n",
      "weighted avg       0.90      0.83      0.82        23\n",
      "\n"
     ]
    }
   ],
   "source": [
    "clf = MLPClassifier(hidden_layer_sizes=(128, 64), activation='relu', max_iter=500, alpha = 0.01, learning_rate= 'constant', solver = 'adam', random_state=42)\n",
    "clf.fit(X_train, y_train)\n",
    "\n",
    "y_pred = clf.predict(X_test)\n",
    "print(\"MLP Classifier:\\n\", classification_report(y_test, y_pred, zero_division=0))\n"
   ]
  },
  {
   "cell_type": "code",
   "execution_count": 52,
   "id": "b293dfe5",
   "metadata": {},
   "outputs": [],
   "source": [
    "#save the clustering model \n",
    "import pickle\n",
    "with open('clustering_model.pkl', 'wb') as f:\n",
    "    pickle.dump(clf, f)"
   ]
  },
  {
   "cell_type": "markdown",
   "id": "4dbd6263",
   "metadata": {},
   "source": [
    "____"
   ]
  },
  {
   "cell_type": "markdown",
   "id": "593b2c16",
   "metadata": {},
   "source": [
    "### Using the classifier in combination with semantic similarity "
   ]
  },
  {
   "cell_type": "code",
   "execution_count": 219,
   "id": "50cfe77d",
   "metadata": {},
   "outputs": [],
   "source": [
    "doc_to_use = '/Users/georgia/Documents/coding/Clause-Comparison/tclp/data/synth_data/untouched/000000015.txt'\n",
    "with open(doc_to_use, \"r\", encoding=\"utf-8\") as f:\n",
    "    query_text = f.read()"
   ]
  },
  {
   "cell_type": "code",
   "execution_count": 220,
   "id": "86ef5e49",
   "metadata": {},
   "outputs": [
    {
     "name": "stdout",
     "output_type": "stream",
     "text": [
      "Index(['Clause', 'Tag', 'CombinedText', 'PrimaryTag', 'HybridCluster'], dtype='object')\n"
     ]
    }
   ],
   "source": [
    "subset_docs, subset_names, cluster_subset_df = utils.perform_cluster(clf, query_text, tokenizer, model, clause_tags, embed = True)"
   ]
  },
  {
   "cell_type": "code",
   "execution_count": 221,
   "id": "06235452",
   "metadata": {},
   "outputs": [],
   "source": [
    "top_names_sem, top_scores_sem, top_texts = utils.get_embedding_matches_subset(\n",
    "    query_text=query_text,\n",
    "    documents_subset=subset_docs,\n",
    "    names_subset=subset_names,\n",
    "    tokenizer=tokenizer,\n",
    "    model=model,\n",
    "    method='cls',\n",
    "    k=5\n",
    ")\n"
   ]
  },
  {
   "cell_type": "markdown",
   "id": "cf9d2a0c",
   "metadata": {},
   "source": [
    "### Using keywords with semantic similarity"
   ]
  },
  {
   "cell_type": "code",
   "execution_count": 222,
   "id": "13daeddb",
   "metadata": {},
   "outputs": [],
   "source": [
    "bow_results = utils.find_top_similar_bow(\n",
    "    target_doc=query_text,\n",
    "    documents=docs,\n",
    "    file_names=names,\n",
    "    similarity_threshold=0.1, k =20\n",
    ")"
   ]
  },
  {
   "cell_type": "code",
   "execution_count": 223,
   "id": "172c4ee8",
   "metadata": {},
   "outputs": [],
   "source": [
    "top_docs = bow_results[\"Documents\"]\n",
    "top_names = bow_results[\"Top_Matches\"]"
   ]
  },
  {
   "cell_type": "code",
   "execution_count": 224,
   "id": "d5d7fd68",
   "metadata": {},
   "outputs": [],
   "source": [
    "top_names_bow, top_scores_bow, top_texts_bow = utils.get_embedding_matches_subset(\n",
    "        query_text,\n",
    "        top_docs,\n",
    "        top_names,\n",
    "        tokenizer,\n",
    "        model,\n",
    "        method=\"cls\", k=5\n",
    "    )"
   ]
  },
  {
   "cell_type": "markdown",
   "id": "b02dec17",
   "metadata": {},
   "source": [
    "Now I am going to pass both of these results to an LLM for my final result"
   ]
  },
  {
   "cell_type": "code",
   "execution_count": 225,
   "id": "91d1dee1",
   "metadata": {},
   "outputs": [],
   "source": [
    "## putting them into a shared dataframe \n",
    "df_cluster = pd.DataFrame({\n",
    "    \"text\": top_texts,\n",
    "    \"source_name\": top_names_sem,\n",
    "    \"score_cls\": top_scores_sem,\n",
    "    \"matched_by\": [\"cluster\"] * len(top_texts)\n",
    "}).head(5)  # Top 5 from cluster\n",
    "\n",
    "df_bow = pd.DataFrame({\n",
    "    \"text\": top_texts_bow,\n",
    "    \"source_name\": top_names_bow,\n",
    "    \"score_cls\": top_scores_bow,\n",
    "    \"matched_by\": [\"bow\"] * len(top_texts_bow)\n",
    "}).head(5)  # Top 5 from BOW\n",
    "\n",
    "# Step 2: Combine (without deduplicating)\n",
    "combined_df = pd.concat([df_cluster, df_bow], ignore_index=True)\n",
    "\n",
    "# Step 3: Sort if needed (e.g., by score)\n",
    "combined_df = combined_df.sort_values(by=\"score_cls\", ascending=False).reset_index(drop=True)"
   ]
  },
  {
   "cell_type": "code",
   "execution_count": 226,
   "id": "8e0f5805",
   "metadata": {},
   "outputs": [
    {
     "data": {
      "text/html": [
       "<div>\n",
       "<style scoped>\n",
       "    .dataframe tbody tr th:only-of-type {\n",
       "        vertical-align: middle;\n",
       "    }\n",
       "\n",
       "    .dataframe tbody tr th {\n",
       "        vertical-align: top;\n",
       "    }\n",
       "\n",
       "    .dataframe thead th {\n",
       "        text-align: right;\n",
       "    }\n",
       "</style>\n",
       "<table border=\"1\" class=\"dataframe\">\n",
       "  <thead>\n",
       "    <tr style=\"text-align: right;\">\n",
       "      <th></th>\n",
       "      <th>text</th>\n",
       "      <th>source_name</th>\n",
       "      <th>score_cls</th>\n",
       "      <th>matched_by</th>\n",
       "    </tr>\n",
       "  </thead>\n",
       "  <tbody>\n",
       "    <tr>\n",
       "      <th>0</th>\n",
       "      <td>A clause requiring companies to carry out a cl...</td>\n",
       "      <td>General Condition to Commercial Insurance Poli...</td>\n",
       "      <td>0.975372</td>\n",
       "      <td>bow</td>\n",
       "    </tr>\n",
       "    <tr>\n",
       "      <th>1</th>\n",
       "      <td>Title: SPA/ Investment Agreement: Disclosure o...</td>\n",
       "      <td>SPA/ Investment Agreement: Disclosure of Clima...</td>\n",
       "      <td>0.975038</td>\n",
       "      <td>cluster</td>\n",
       "    </tr>\n",
       "    <tr>\n",
       "      <th>2</th>\n",
       "      <td>Title: Employee Climate Engagement Provisions\\...</td>\n",
       "      <td>Employee Climate Engagement Provisions</td>\n",
       "      <td>0.974452</td>\n",
       "      <td>cluster</td>\n",
       "    </tr>\n",
       "    <tr>\n",
       "      <th>3</th>\n",
       "      <td>Model climate terms and conditions that an imp...</td>\n",
       "      <td>Climate Standard Transaction Terms</td>\n",
       "      <td>0.974165</td>\n",
       "      <td>bow</td>\n",
       "    </tr>\n",
       "    <tr>\n",
       "      <th>4</th>\n",
       "      <td>Using supply chain contracts to extend positiv...</td>\n",
       "      <td>Sustainability Clauses in Supply Chain Contracts</td>\n",
       "      <td>0.973393</td>\n",
       "      <td>bow</td>\n",
       "    </tr>\n",
       "    <tr>\n",
       "      <th>5</th>\n",
       "      <td>Title: Paris Aligned Company Articles\\n\\nText:...</td>\n",
       "      <td>Paris Aligned Company Articles</td>\n",
       "      <td>0.971801</td>\n",
       "      <td>cluster</td>\n",
       "    </tr>\n",
       "    <tr>\n",
       "      <th>6</th>\n",
       "      <td>Clauses for a shareholders' agreement which al...</td>\n",
       "      <td>Green Shareholders’ Agreement</td>\n",
       "      <td>0.971337</td>\n",
       "      <td>bow</td>\n",
       "    </tr>\n",
       "    <tr>\n",
       "      <th>7</th>\n",
       "      <td>A due diligence questionnaire (DDQ) that asks ...</td>\n",
       "      <td>Climate Change Due Diligence Questionnaire for...</td>\n",
       "      <td>0.970105</td>\n",
       "      <td>bow</td>\n",
       "    </tr>\n",
       "    <tr>\n",
       "      <th>8</th>\n",
       "      <td>Title: TV Production: Promotion of Sustainable...</td>\n",
       "      <td>TV Production: Promotion of Sustainable Consum...</td>\n",
       "      <td>0.969817</td>\n",
       "      <td>cluster</td>\n",
       "    </tr>\n",
       "    <tr>\n",
       "      <th>9</th>\n",
       "      <td>Title: Low Carbon Arbitrations\\n\\nText: 1. The...</td>\n",
       "      <td>Low Carbon Arbitrations</td>\n",
       "      <td>0.968071</td>\n",
       "      <td>cluster</td>\n",
       "    </tr>\n",
       "  </tbody>\n",
       "</table>\n",
       "</div>"
      ],
      "text/plain": [
       "                                                text  \\\n",
       "0  A clause requiring companies to carry out a cl...   \n",
       "1  Title: SPA/ Investment Agreement: Disclosure o...   \n",
       "2  Title: Employee Climate Engagement Provisions\\...   \n",
       "3  Model climate terms and conditions that an imp...   \n",
       "4  Using supply chain contracts to extend positiv...   \n",
       "5  Title: Paris Aligned Company Articles\\n\\nText:...   \n",
       "6  Clauses for a shareholders' agreement which al...   \n",
       "7  A due diligence questionnaire (DDQ) that asks ...   \n",
       "8  Title: TV Production: Promotion of Sustainable...   \n",
       "9  Title: Low Carbon Arbitrations\\n\\nText: 1. The...   \n",
       "\n",
       "                                         source_name  score_cls matched_by  \n",
       "0  General Condition to Commercial Insurance Poli...   0.975372        bow  \n",
       "1  SPA/ Investment Agreement: Disclosure of Clima...   0.975038    cluster  \n",
       "2             Employee Climate Engagement Provisions   0.974452    cluster  \n",
       "3                 Climate Standard Transaction Terms   0.974165        bow  \n",
       "4   Sustainability Clauses in Supply Chain Contracts   0.973393        bow  \n",
       "5                     Paris Aligned Company Articles   0.971801    cluster  \n",
       "6                      Green Shareholders’ Agreement   0.971337        bow  \n",
       "7  Climate Change Due Diligence Questionnaire for...   0.970105        bow  \n",
       "8  TV Production: Promotion of Sustainable Consum...   0.969817    cluster  \n",
       "9                            Low Carbon Arbitrations   0.968071    cluster  "
      ]
     },
     "execution_count": 226,
     "metadata": {},
     "output_type": "execute_result"
    }
   ],
   "source": [
    "combined_df"
   ]
  },
  {
   "cell_type": "markdown",
   "id": "91c00407",
   "metadata": {},
   "source": [
    "## Using an LLM "
   ]
  },
  {
   "cell_type": "code",
   "execution_count": 227,
   "id": "82a15bc5",
   "metadata": {},
   "outputs": [],
   "source": [
    "query_text_short = query_text[:1000]"
   ]
  },
  {
   "cell_type": "code",
   "execution_count": 228,
   "id": "24623c87",
   "metadata": {},
   "outputs": [],
   "source": [
    "messages = [\n",
    "    {\n",
    "        \"role\": \"system\",\n",
    "        \"content\": \"You are a legal AI assistant that helps review and select clauses for the uploaded document. You can only select from those clauses that are provided to you. You will receive clauses from a clustering model as well as a BOW model with semantic similarity. If the two models agree on a clause, pay close attention to that. You don't HAVE to select it, but it may be a good choice. I want you to assess the 10 clauses given for the contract and return the three best ones by giving me the name of the clause and the full text, as has been provided to you.\"\n",
    "    },\n",
    "    {\n",
    "        \"role\": \"user\",\n",
    "        \"content\": f\"Here's the contract:\\n\\n{query_text_short.strip()}\\n\\nI will send you some clauses next. For now, just confirm you have read the contract and are ready to receive the clauses. A short summary of the content of the contract would be fine.\"\n",
    "    }\n",
    "]"
   ]
  },
  {
   "cell_type": "code",
   "execution_count": 229,
   "id": "27632962",
   "metadata": {},
   "outputs": [],
   "source": [
    "from openai import OpenAI\n",
    "\n",
    "client = OpenAI(\n",
    "    api_key=\"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\", \n",
    "    base_url = \"https://openrouter.ai/api/v1\"\n",
    ")"
   ]
  },
  {
   "cell_type": "code",
   "execution_count": 230,
   "id": "ce4cd3cf",
   "metadata": {},
   "outputs": [],
   "source": [
    "response = client.chat.completions.create(\n",
    "    model=\"qwen/qwen-2.5-7b-instruct\", \n",
    "    messages= messages,\n",
    "    temperature=0.1,\n",
    "    max_tokens=1000\n",
    ")\n"
   ]
  },
  {
   "cell_type": "code",
   "execution_count": 231,
   "id": "1dc77927",
   "metadata": {},
   "outputs": [
    {
     "name": "stdout",
     "output_type": "stream",
     "text": [
      "I have read the contract and am ready to receive the clauses. The contract is an agreement between Calibre Energy Inc. and Standard Drilling Inc., both Nevada corporations. It outlines the business interests of each party and the shared opportunities they may pursue. The agreement also mentions that the parties have common officers and directors, which is a key factor in their desire to clarify their separate interests.\n"
     ]
    }
   ],
   "source": [
    "print(response.choices[0].message.content)"
   ]
  },
  {
   "cell_type": "code",
   "execution_count": 232,
   "id": "69decd62",
   "metadata": {},
   "outputs": [],
   "source": [
    "assistant_reply_1 = response.choices[0].message.content"
   ]
  },
  {
   "cell_type": "code",
   "execution_count": 234,
   "id": "0cd8d93e",
   "metadata": {},
   "outputs": [],
   "source": [
    "messages.append({\"role\": \"assistant\", \"content\": assistant_reply_1})"
   ]
  },
  {
   "cell_type": "code",
   "execution_count": 235,
   "id": "8e2ab650",
   "metadata": {},
   "outputs": [],
   "source": [
    "clause_block = \"Here are the 10 clauses:\\n\\n\"\n",
    "\n",
    "for i, row in combined_df.iterrows():\n",
    "    clause_block += (\n",
    "        f\"Clause {i+1}\\n\"\n",
    "        f\"Name: {row['source_name']}\\n\"\n",
    "        f\"Method: {row['matched_by']}\\n\"\n",
    "        f\"Score: {row['score_cls']:.3f}\\n\"\n",
    "        f\"Full Text:\\n{row['text']}\\n\\n\"\n",
    "    )\n",
    "\n",
    "clause_block += \"Please return the 3 most relevant clauses for the contract, with justification. DO NOT RECOMMEND ANY CLAUSES NOT EXPLICITLY GIVEN TO YOU. Include their names but you do not need to print the full texts. Rather, offer a short explanation as to why it was picked.\"\n"
   ]
  },
  {
   "cell_type": "code",
   "execution_count": 236,
   "id": "6af6b36a",
   "metadata": {},
   "outputs": [],
   "source": [
    "messages.append({\"role\": \"user\", \"content\": clause_block})"
   ]
  },
  {
   "cell_type": "code",
   "execution_count": 237,
   "id": "a11c4f79",
   "metadata": {},
   "outputs": [],
   "source": [
    "response = client.chat.completions.create(\n",
    "    model=\"qwen/qwen-2.5-7b-instruct\",  \n",
    "    messages= messages,\n",
    "    temperature=0.1,\n",
    "    max_tokens=1000\n",
    ")"
   ]
  },
  {
   "cell_type": "code",
   "execution_count": 238,
   "id": "393dcb09",
   "metadata": {},
   "outputs": [
    {
     "name": "stdout",
     "output_type": "stream",
     "text": [
      "### Selected Clauses\n",
      "\n",
      "1. **Clause 2: SPA/ Investment Agreement: Disclosure of Climate Change Plans**\n",
      "   - **Justification:** This clause is highly relevant as it requires detailed disclosures about climate change plans, targets, and risk assessments. Given that the contract involves a business opportunity agreement between two companies, this clause ensures transparency and aligns with best practices in managing climate-related risks and opportunities.\n",
      "\n",
      "2. **Clause 5: Sustainability Clauses in Supply Chain Contracts**\n",
      "   - **Justification:** This clause is crucial for extending sustainability commitments to the supply chain. It includes detailed environmental covenants, monitoring, and reporting requirements, which are essential for ensuring that the entire supply chain aligns with the companies' sustainability goals.\n",
      "\n",
      "3. **Clause 9: TV Production: Promotion of Sustainable Consumption and Travel**\n",
      "   - **Justification:** Although this clause is specific to TV production, it provides a framework for promoting sustainable practices in media content. Given that the contract involves business opportunities, this clause can serve as a model for promoting sustainable practices in the broader business context, enhancing the companies' public image and aligning with their sustainability goals.\n",
      "\n",
      "These clauses are selected because they provide robust frameworks for managing and promoting sustainability, which are critical for aligning with the companies' shared interests and common goals.\n"
     ]
    }
   ],
   "source": [
    "print(response.choices[0].message.content.strip())"
   ]
  },
  {
   "cell_type": "markdown",
   "id": "08b200c2",
   "metadata": {},
   "source": [
    "________"
   ]
  }
 ],
 "metadata": {
  "kernelspec": {
   "display_name": "Python (TCLP)",
   "language": "python",
   "name": "tclp"
  },
  "language_info": {
   "codemirror_mode": {
    "name": "ipython",
    "version": 3
   },
   "file_extension": ".py",
   "mimetype": "text/x-python",
   "name": "python",
   "nbconvert_exporter": "python",
   "pygments_lexer": "ipython3",
   "version": "3.10.15"
  }
 },
 "nbformat": 4,
 "nbformat_minor": 5
}
