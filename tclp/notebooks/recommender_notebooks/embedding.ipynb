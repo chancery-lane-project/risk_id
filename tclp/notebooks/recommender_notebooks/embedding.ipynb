{
 "cells": [
  {
   "cell_type": "code",
   "execution_count": 1,
   "id": "b2906a18",
   "metadata": {},
   "outputs": [],
   "source": [
    "from bs4 import BeautifulSoup\n",
    "import os\n"
   ]
  },
  {
   "cell_type": "code",
   "execution_count": 2,
   "id": "43dde0d4",
   "metadata": {},
   "outputs": [],
   "source": [
    "def extract_excerpt_from_txt(file_path):\n",
    "    with open(file_path, \"r\", encoding=\"utf-8\") as f:\n",
    "        content = f.read()\n",
    "        soup = BeautifulSoup(content, \"html.parser\")\n",
    "        excerpt_tag = soup.find(\"p\", class_=\"excerpt\")\n",
    "        return excerpt_tag.get_text(strip=True) if excerpt_tag else None"
   ]
  },
  {
   "cell_type": "code",
   "execution_count": 4,
   "id": "a2bf23ee",
   "metadata": {},
   "outputs": [],
   "source": [
    "clause_dir = \"../data/clause_boxes\"\n",
    "\n",
    "clause_texts = []\n",
    "clause_names = []\n",
    "\n",
    "for fname in os.listdir(clause_dir):\n",
    "    if fname.endswith(\".txt\"):\n",
    "        full_path = os.path.join(clause_dir, fname)\n",
    "        excerpt = extract_excerpt_from_txt(full_path)\n",
    "        if excerpt:\n",
    "            clause_texts.append(excerpt)\n",
    "            clause_names.append(fname)\n"
   ]
  },
  {
   "cell_type": "code",
   "execution_count": 6,
   "id": "da0bce36",
   "metadata": {},
   "outputs": [
    {
     "name": "stderr",
     "output_type": "stream",
     "text": [
      "/Users/georgia/Library/Caches/pypoetry/virtualenvs/tclp-iQ_dTQ3E-py3.10/lib/python3.10/site-packages/torch/_utils.py:831: UserWarning: TypedStorage is deprecated. It will be removed in the future and UntypedStorage will be the only storage class. This should only matter to you if you are using storages directly.  To access UntypedStorage directly, use tensor.untyped_storage() instead of tensor.storage()\n",
      "  return self.fget.__get__(instance, owner)()\n",
      "Some weights of RobertaModel were not initialized from the model checkpoint at ../contract_climate_bert and are newly initialized: ['roberta.pooler.dense.bias', 'roberta.pooler.dense.weight']\n",
      "You should probably TRAIN this model on a down-stream task to be able to use it for predictions and inference.\n"
     ]
    }
   ],
   "source": [
    "from transformers import AutoTokenizer, AutoModel\n",
    "import torch\n",
    "\n",
    "model_path = \"../contract_climate_bert\" \n",
    "tokenizer = AutoTokenizer.from_pretrained(model_path)\n",
    "model = AutoModel.from_pretrained(model_path)\n"
   ]
  },
  {
   "cell_type": "code",
   "execution_count": 11,
   "id": "36f52728",
   "metadata": {},
   "outputs": [],
   "source": [
    "def embed_text(text, tokenizer, model, method, specific_span=(1, 25)):\n",
    "    inputs = tokenizer(text, return_tensors=\"pt\", truncation=True, padding=True, max_length=512)\n",
    "    with torch.no_grad():\n",
    "        outputs = model(**inputs)\n",
    "    hidden = outputs.last_hidden_state\n",
    "\n",
    "    if method == \"cls\":\n",
    "        return hidden[:, 0, :].squeeze().numpy()\n",
    "    elif method == \"mean\":\n",
    "        return hidden.mean(dim=1).squeeze().numpy()\n",
    "    elif method == \"max\":\n",
    "        return hidden.max(dim=1).values.squeeze().numpy()\n",
    "    elif method == \"concat\":\n",
    "        cls = hidden[:, 0, :]\n",
    "        mean = hidden.mean(dim=1)\n",
    "        return torch.cat([cls, mean], dim=1).squeeze().numpy()\n",
    "    elif method == \"specific\":\n",
    "        start, end = specific_span\n",
    "        span = hidden[:, start:end, :]\n",
    "        return span.mean(dim=1).squeeze().numpy()\n",
    "    else:\n",
    "        raise ValueError(f\"Unknown embedding method: {method}\")"
   ]
  },
  {
   "cell_type": "code",
   "execution_count": 13,
   "id": "6ab53c2a",
   "metadata": {},
   "outputs": [],
   "source": [
    "file_names = []\n",
    "clause_texts = []\n",
    "methods = [\"cls\", \"mean\", \"max\", \"concat\", \"specific\"]\n",
    "embeddings = {method: [] for method in methods}\n",
    "\n",
    "for fname in os.listdir(clause_dir):\n",
    "    if not fname.endswith(\".txt\"):\n",
    "        continue\n",
    "    path = os.path.join(clause_dir, fname)\n",
    "    excerpt = extract_excerpt_from_txt(path)\n",
    "    if excerpt:\n",
    "        file_names.append(fname)\n",
    "        clause_texts.append(excerpt)\n",
    "        for method in methods:\n",
    "            emb = embed_text(excerpt, tokenizer, model, method)\n",
    "            embeddings[method].append(emb)"
   ]
  },
  {
   "cell_type": "code",
   "execution_count": 14,
   "id": "10272e63",
   "metadata": {},
   "outputs": [],
   "source": [
    "embeddings_dir = \"../CC_BERT/CC_embeddings\""
   ]
  },
  {
   "cell_type": "code",
   "execution_count": 16,
   "id": "1e283cb7",
   "metadata": {},
   "outputs": [],
   "source": [
    "import pickle \n",
    "import numpy as np\n",
    "\n",
    "os.makedirs(embeddings_dir, exist_ok=True)\n",
    "\n",
    "for method in methods:\n",
    "    np.save(os.path.join(embeddings_dir, f\"{method}_embeddings.npy\"), np.vstack(embeddings[method]))\n",
    "\n",
    "with open(os.path.join(embeddings_dir, \"clause_texts.pkl\"), \"wb\") as f:\n",
    "    pickle.dump({\n",
    "        \"file_names\": file_names,\n",
    "        \"texts\": clause_texts\n",
    "    }, f)"
   ]
  }
 ],
 "metadata": {
  "kernelspec": {
   "display_name": "Python (TCLP)",
   "language": "python",
   "name": "tclp"
  },
  "language_info": {
   "codemirror_mode": {
    "name": "ipython",
    "version": 3
   },
   "file_extension": ".py",
   "mimetype": "text/x-python",
   "name": "python",
   "nbconvert_exporter": "python",
   "pygments_lexer": "ipython3",
   "version": "3.10.15"
  }
 },
 "nbformat": 4,
 "nbformat_minor": 5
}
