{
 "cells": [
  {
   "cell_type": "markdown",
   "id": "67717f9b",
   "metadata": {},
   "source": [
    "# Building out the clause matcher in a notebook to test performance"
   ]
  },
  {
   "cell_type": "code",
   "execution_count": 90,
   "id": "5f5dd069",
   "metadata": {},
   "outputs": [],
   "source": [
    "import os\n",
    "import numpy as np\n",
    "from transformers import AutoTokenizer, AutoModel\n",
    "import pandas as pd\n",
    "\n",
    "from tclp.clause_recommender import utils"
   ]
  },
  {
   "cell_type": "markdown",
   "id": "3eea1cb6",
   "metadata": {},
   "source": [
    "___"
   ]
  },
  {
   "cell_type": "markdown",
   "id": "1f17e3b9",
   "metadata": {},
   "source": [
    "### Loading and combining data"
   ]
  },
  {
   "cell_type": "code",
   "execution_count": 91,
   "id": "1cb96b13",
   "metadata": {},
   "outputs": [],
   "source": [
    "doc_to_use = '../../tclp/data/synth_data/untouched/000000065.txt'\n",
    "model_path = \"../CC_BERT/CC_model\"\n",
    "embeddings_dir = \"../CC_BERT/CC_embeddings\"\n",
    "legal_model_path = \"../legalbert/lebalbert_model\"\n",
    "legal_embeddings_dir = \"../legalbert/lebalbert_embeddings\"\n",
    "clause_folder = \"../data/cleaned_content\"\n",
    "clause_html = '../data/clause_boxes'\n",
    "\n",
    "with open(doc_to_use, \"r\", encoding=\"utf-8\") as f:\n",
    "    query_text = f.read()\n"
   ]
  },
  {
   "cell_type": "code",
   "execution_count": 92,
   "id": "3a358d74",
   "metadata": {},
   "outputs": [
    {
     "name": "stderr",
     "output_type": "stream",
     "text": [
      "Some weights of RobertaModel were not initialized from the model checkpoint at ../CC_BERT/CC_model and are newly initialized: ['roberta.pooler.dense.bias', 'roberta.pooler.dense.weight']\n",
      "You should probably TRAIN this model on a down-stream task to be able to use it for predictions and inference.\n"
     ]
    }
   ],
   "source": [
    "tokenizer = AutoTokenizer.from_pretrained(model_path)\n",
    "model = AutoModel.from_pretrained(model_path)\n"
   ]
  },
  {
   "cell_type": "code",
   "execution_count": 93,
   "id": "70d01d89",
   "metadata": {},
   "outputs": [],
   "source": [
    "legal_tokenizer = AutoTokenizer.from_pretrained(\"casehold/legalbert\")\n",
    "legal_model = AutoModel.from_pretrained(\"casehold/legalbert\")"
   ]
  },
  {
   "cell_type": "code",
   "execution_count": 94,
   "id": "746515a9",
   "metadata": {},
   "outputs": [],
   "source": [
    "documents, file_names = utils.load_clauses(clause_folder)\n"
   ]
  },
  {
   "cell_type": "code",
   "execution_count": 95,
   "id": "25d132a2",
   "metadata": {},
   "outputs": [],
   "source": [
    "clause_boxes, clause_box_filenames = utils.load_clauses(clause_html)"
   ]
  },
  {
   "cell_type": "code",
   "execution_count": 96,
   "id": "7f88319b",
   "metadata": {},
   "outputs": [],
   "source": [
    "clause_box_df = utils.parse_clause_boxes_to_df(clause_boxes)"
   ]
  },
  {
   "cell_type": "code",
   "execution_count": 97,
   "id": "2c292128",
   "metadata": {},
   "outputs": [],
   "source": [
    "final_df = utils.attach_documents(clause_box_df, documents, file_names)"
   ]
  },
  {
   "cell_type": "code",
   "execution_count": 98,
   "id": "6d0f6986",
   "metadata": {},
   "outputs": [
    {
     "data": {
      "text/html": [
       "<div>\n",
       "<style scoped>\n",
       "    .dataframe tbody tr th:only-of-type {\n",
       "        vertical-align: middle;\n",
       "    }\n",
       "\n",
       "    .dataframe tbody tr th {\n",
       "        vertical-align: top;\n",
       "    }\n",
       "\n",
       "    .dataframe thead th {\n",
       "        text-align: right;\n",
       "    }\n",
       "</style>\n",
       "<table border=\"1\" class=\"dataframe\">\n",
       "  <thead>\n",
       "    <tr style=\"text-align: right;\">\n",
       "      <th></th>\n",
       "      <th>Name</th>\n",
       "      <th>Title</th>\n",
       "      <th>Excerpt</th>\n",
       "      <th>Jurisdiction</th>\n",
       "      <th>Updated</th>\n",
       "      <th>URL</th>\n",
       "      <th>Matched Filename</th>\n",
       "      <th>Document</th>\n",
       "    </tr>\n",
       "  </thead>\n",
       "  <tbody>\n",
       "    <tr>\n",
       "      <th>0</th>\n",
       "      <td>Griff's Clause</td>\n",
       "      <td>Template Board Paper for Significant Contracts...</td>\n",
       "      <td>Template board papers with detailed prompts fo...</td>\n",
       "      <td>England &amp; Wales</td>\n",
       "      <td>2024-09-10 10:34:38</td>\n",
       "      <td>https://chancerylaneproject.org/clauses/templa...</td>\n",
       "      <td>Template_Board_Paper_for_Significant_Contracts...</td>\n",
       "      <td>1. Strategy implications Alignment 1.1 The pro...</td>\n",
       "    </tr>\n",
       "    <tr>\n",
       "      <th>1</th>\n",
       "      <td>Bella's Clause</td>\n",
       "      <td>Management Equity Ratchet Terms</td>\n",
       "      <td>A template clause for inclusion in investment ...</td>\n",
       "      <td>England &amp; Wales</td>\n",
       "      <td>2024-09-10 10:41:23</td>\n",
       "      <td>https://chancerylaneproject.org/clauses/manage...</td>\n",
       "      <td>Management_Equity_Ratchet_Terms.txt</td>\n",
       "      <td>1. Conversion Rights 1.1(see Definitions)1.2 T...</td>\n",
       "    </tr>\n",
       "    <tr>\n",
       "      <th>2</th>\n",
       "      <td>Chloe's Clause</td>\n",
       "      <td>Environmental Business Charter</td>\n",
       "      <td>The Environmental Business Charter – a “soft t...</td>\n",
       "      <td>England &amp; Wales</td>\n",
       "      <td>2024-09-10 10:41:31</td>\n",
       "      <td>https://chancerylaneproject.org/clauses/enviro...</td>\n",
       "      <td>Environmental_Business_Charter.txt</td>\n",
       "      <td>1. Join the[Net Zero Lawyer’s Alliance / the L...</td>\n",
       "    </tr>\n",
       "    <tr>\n",
       "      <th>3</th>\n",
       "      <td>Matthew's Clause</td>\n",
       "      <td>Late Payment – Green Interest Remedies</td>\n",
       "      <td>Creative interest rate remedies by which payme...</td>\n",
       "      <td>England &amp; Wales</td>\n",
       "      <td>2024-09-10 10:43:45</td>\n",
       "      <td>https://chancerylaneproject.org/clauses/late-p...</td>\n",
       "      <td>Late_Payment_–_Green_Interest_Remedies.txt</td>\n",
       "      <td>1. If[Party 2]fails to make a payment due to[P...</td>\n",
       "    </tr>\n",
       "    <tr>\n",
       "      <th>4</th>\n",
       "      <td>Soren's Clause</td>\n",
       "      <td>Land: Sustainable Soil Management</td>\n",
       "      <td>A set of sustainable soil management obligatio...</td>\n",
       "      <td>England &amp; Wales</td>\n",
       "      <td>2024-10-02 14:16:08</td>\n",
       "      <td>https://chancerylaneproject.org/clauses/land-s...</td>\n",
       "      <td>Land__Sustainable_Soil_Management.txt</td>\n",
       "      <td>(A)[Consider including Eddie’s Recitals(Climat...</td>\n",
       "    </tr>\n",
       "    <tr>\n",
       "      <th>...</th>\n",
       "      <td>...</td>\n",
       "      <td>...</td>\n",
       "      <td>...</td>\n",
       "      <td>...</td>\n",
       "      <td>...</td>\n",
       "      <td>...</td>\n",
       "      <td>...</td>\n",
       "      <td>...</td>\n",
       "    </tr>\n",
       "    <tr>\n",
       "      <th>117</th>\n",
       "      <td>Emilia's Protocols</td>\n",
       "      <td>Green Litigation and Arbitration Protocols</td>\n",
       "      <td>Two similar protocols (litigation and arbitrat...</td>\n",
       "      <td>England &amp; Wales</td>\n",
       "      <td>2024-09-10 10:42:57</td>\n",
       "      <td>https://chancerylaneproject.org/clauses/green-...</td>\n",
       "      <td>Green_Litigation_and_Arbitration_Protocols.txt</td>\n",
       "      <td>&lt;p&gt;hello&lt;/p&gt;\\n\\n1. The parties[have signed up ...</td>\n",
       "    </tr>\n",
       "    <tr>\n",
       "      <th>118</th>\n",
       "      <td>Mary's Clause</td>\n",
       "      <td>JCT Energy Efficiency and Environmental Obliga...</td>\n",
       "      <td>This clause amends the JCT’s standard Design a...</td>\n",
       "      <td>England &amp; Wales</td>\n",
       "      <td>2024-09-10 10:39:02</td>\n",
       "      <td>https://chancerylaneproject.org/clauses/jct-en...</td>\n",
       "      <td>JCT_Energy_Efficiency_and_Environmental_Obliga...</td>\n",
       "      <td>1. to use sustainable materials and avoid the ...</td>\n",
       "    </tr>\n",
       "    <tr>\n",
       "      <th>119</th>\n",
       "      <td>Emilio's Checklist</td>\n",
       "      <td>Climate Policy Footprint</td>\n",
       "      <td>A checklist that requests one-off or repeated ...</td>\n",
       "      <td>England &amp; Wales</td>\n",
       "      <td>2024-09-10 10:36:13</td>\n",
       "      <td>https://chancerylaneproject.org/clauses/climat...</td>\n",
       "      <td>Climate_Policy_Footprint.txt</td>\n",
       "      <td>1.1 Details of the Company’s climate policy en...</td>\n",
       "    </tr>\n",
       "    <tr>\n",
       "      <th>120</th>\n",
       "      <td>Luna's Clause</td>\n",
       "      <td>Net Zero Aligned Construction Modifications</td>\n",
       "      <td>A clause that incentivises building contractor...</td>\n",
       "      <td>England &amp; Wales</td>\n",
       "      <td>2024-09-10 10:39:28</td>\n",
       "      <td>https://chancerylaneproject.org/clauses/net-ze...</td>\n",
       "      <td>Net_Zero_Aligned_Construction_Modifications.txt</td>\n",
       "      <td>1. Contractor’s Net Zero obligations The Contr...</td>\n",
       "    </tr>\n",
       "    <tr>\n",
       "      <th>121</th>\n",
       "      <td>Javier's Clause</td>\n",
       "      <td>Stakeholder Company Climate Questionnaire</td>\n",
       "      <td>A questionnaire for a third party to put to a ...</td>\n",
       "      <td>England &amp; Wales</td>\n",
       "      <td>2024-09-10 10:35:26</td>\n",
       "      <td>https://chancerylaneproject.org/clauses/stakeh...</td>\n",
       "      <td>Stakeholder_Company_Climate_Questionnaire.txt</td>\n",
       "      <td>1. How do the board and senior management(incl...</td>\n",
       "    </tr>\n",
       "  </tbody>\n",
       "</table>\n",
       "<p>122 rows × 8 columns</p>\n",
       "</div>"
      ],
      "text/plain": [
       "                   Name                                              Title  \\\n",
       "0        Griff's Clause  Template Board Paper for Significant Contracts...   \n",
       "1        Bella's Clause                    Management Equity Ratchet Terms   \n",
       "2        Chloe's Clause                     Environmental Business Charter   \n",
       "3      Matthew's Clause             Late Payment – Green Interest Remedies   \n",
       "4        Soren's Clause                  Land: Sustainable Soil Management   \n",
       "..                  ...                                                ...   \n",
       "117  Emilia's Protocols         Green Litigation and Arbitration Protocols   \n",
       "118       Mary's Clause  JCT Energy Efficiency and Environmental Obliga...   \n",
       "119  Emilio's Checklist                           Climate Policy Footprint   \n",
       "120       Luna's Clause        Net Zero Aligned Construction Modifications   \n",
       "121     Javier's Clause          Stakeholder Company Climate Questionnaire   \n",
       "\n",
       "                                               Excerpt     Jurisdiction  \\\n",
       "0    Template board papers with detailed prompts fo...  England & Wales   \n",
       "1    A template clause for inclusion in investment ...  England & Wales   \n",
       "2    The Environmental Business Charter – a “soft t...  England & Wales   \n",
       "3    Creative interest rate remedies by which payme...  England & Wales   \n",
       "4    A set of sustainable soil management obligatio...  England & Wales   \n",
       "..                                                 ...              ...   \n",
       "117  Two similar protocols (litigation and arbitrat...  England & Wales   \n",
       "118  This clause amends the JCT’s standard Design a...  England & Wales   \n",
       "119  A checklist that requests one-off or repeated ...  England & Wales   \n",
       "120  A clause that incentivises building contractor...  England & Wales   \n",
       "121  A questionnaire for a third party to put to a ...  England & Wales   \n",
       "\n",
       "                 Updated                                                URL  \\\n",
       "0    2024-09-10 10:34:38  https://chancerylaneproject.org/clauses/templa...   \n",
       "1    2024-09-10 10:41:23  https://chancerylaneproject.org/clauses/manage...   \n",
       "2    2024-09-10 10:41:31  https://chancerylaneproject.org/clauses/enviro...   \n",
       "3    2024-09-10 10:43:45  https://chancerylaneproject.org/clauses/late-p...   \n",
       "4    2024-10-02 14:16:08  https://chancerylaneproject.org/clauses/land-s...   \n",
       "..                   ...                                                ...   \n",
       "117  2024-09-10 10:42:57  https://chancerylaneproject.org/clauses/green-...   \n",
       "118  2024-09-10 10:39:02  https://chancerylaneproject.org/clauses/jct-en...   \n",
       "119  2024-09-10 10:36:13  https://chancerylaneproject.org/clauses/climat...   \n",
       "120  2024-09-10 10:39:28  https://chancerylaneproject.org/clauses/net-ze...   \n",
       "121  2024-09-10 10:35:26  https://chancerylaneproject.org/clauses/stakeh...   \n",
       "\n",
       "                                      Matched Filename  \\\n",
       "0    Template_Board_Paper_for_Significant_Contracts...   \n",
       "1                  Management_Equity_Ratchet_Terms.txt   \n",
       "2                   Environmental_Business_Charter.txt   \n",
       "3           Late_Payment_–_Green_Interest_Remedies.txt   \n",
       "4                Land__Sustainable_Soil_Management.txt   \n",
       "..                                                 ...   \n",
       "117     Green_Litigation_and_Arbitration_Protocols.txt   \n",
       "118  JCT_Energy_Efficiency_and_Environmental_Obliga...   \n",
       "119                       Climate_Policy_Footprint.txt   \n",
       "120    Net_Zero_Aligned_Construction_Modifications.txt   \n",
       "121      Stakeholder_Company_Climate_Questionnaire.txt   \n",
       "\n",
       "                                              Document  \n",
       "0    1. Strategy implications Alignment 1.1 The pro...  \n",
       "1    1. Conversion Rights 1.1(see Definitions)1.2 T...  \n",
       "2    1. Join the[Net Zero Lawyer’s Alliance / the L...  \n",
       "3    1. If[Party 2]fails to make a payment due to[P...  \n",
       "4    (A)[Consider including Eddie’s Recitals(Climat...  \n",
       "..                                                 ...  \n",
       "117  <p>hello</p>\\n\\n1. The parties[have signed up ...  \n",
       "118  1. to use sustainable materials and avoid the ...  \n",
       "119  1.1 Details of the Company’s climate policy en...  \n",
       "120  1. Contractor’s Net Zero obligations The Contr...  \n",
       "121  1. How do the board and senior management(incl...  \n",
       "\n",
       "[122 rows x 8 columns]"
      ]
     },
     "execution_count": 98,
     "metadata": {},
     "output_type": "execute_result"
    }
   ],
   "source": [
    "final_df"
   ]
  },
  {
   "cell_type": "code",
   "execution_count": 99,
   "id": "a76b014f",
   "metadata": {},
   "outputs": [],
   "source": [
    "names, docs = utils.rebuild_documents(final_df)"
   ]
  },
  {
   "cell_type": "markdown",
   "id": "fc64edae",
   "metadata": {},
   "source": [
    "____"
   ]
  },
  {
   "cell_type": "code",
   "execution_count": 100,
   "id": "b710480c",
   "metadata": {},
   "outputs": [],
   "source": [
    "bow_results = utils.find_top_similar_bow(\n",
    "    target_doc=query_text,\n",
    "    documents=docs,\n",
    "    file_names=names,\n",
    "    similarity_threshold=0.1, k =30\n",
    ")"
   ]
  },
  {
   "cell_type": "code",
   "execution_count": 101,
   "id": "ea71af53",
   "metadata": {},
   "outputs": [],
   "source": [
    "top_docs = bow_results[\"Documents\"]\n",
    "top_names = bow_results[\"Top_Matches\"]"
   ]
  },
  {
   "cell_type": "code",
   "execution_count": 102,
   "id": "fcdc9dff",
   "metadata": {},
   "outputs": [],
   "source": [
    "top_names_sem, top_scores_sem, top_texts = utils.get_embedding_matches_subset(\n",
    "        query_text,\n",
    "        top_docs,\n",
    "        top_names,\n",
    "        tokenizer,\n",
    "        model,\n",
    "        method=\"cls\", k=10\n",
    "    )"
   ]
  },
  {
   "cell_type": "code",
   "execution_count": 103,
   "id": "7f1683fe",
   "metadata": {},
   "outputs": [
    {
     "name": "stdout",
     "output_type": "stream",
     "text": [
      "Clause: SME’s Net Zero Objectives (Score: 0.9791)\n",
      "(A)[Insert Eddie’s Recitals(Climate Recitals)here.]Viola's Clause A precedent clause for a supply agreement requiring the supplier/ contractor to procure energy from renewable sources.\n",
      "\n",
      "Drafting Option A:No Tender 1. Procurement of Wholly Renewable Energy 1.1 The[Supplier]/[Contractor]shall procure that[100%]/[at least[●]%]of the electricity supplied to it during the term of this Agreement is Wholly Renewable Energy.\n",
      "\n",
      "1.2 The[Supplier]/[Contractor]will provide[unequivocal]evidence, * satisfactor\n",
      "--------------------------------------------------------------------------------\n",
      "Clause: Environmental Business Charter (Score: 0.9753)\n",
      "1. Join the[Net Zero Lawyer’s Alliance / the Legal Sustainability Alliance / insert other relevant environmental organisations].\n",
      "\n",
      "2. Measure, independently verify and publish its GHG Emissions.\n",
      "\n",
      "3. Publicly set a Net Zero Target[approved by the Science Based Targets initiative][and sign up to the Race to Zero].\n",
      "\n",
      "4. Develop and take initial action to deliver the Net Zero Target and remain Net Negative thereafter, including:(a)an Offsetting Strategy; (b)setting interim targets split into scope 1, \n",
      "--------------------------------------------------------------------------------\n",
      "Clause: Entire Business Net Zero Objectives (Score: 0.9743)\n",
      "This guide enables organisations to:make climate considerations part of the commercial rationale for transactions and contracts from the outset collaborate with stakeholders and counterparties to ensure their buy-in to meeting climate targets embed climate considerations in pre-contract documents(for example, heads of terms and requests for proposals)write climate-aligned preambles(recitals)that lead to legally binding obligations to reduce greenhouse gas emissions and make climate consideration\n",
      "--------------------------------------------------------------------------------\n",
      "Clause: Green Investment Obligations (Score: 0.9731)\n",
      "(A)The Data Discloser operates smart mobility services and collects the Shared Personal Data through the provision of those services.\n",
      "\n",
      "The Data Receiver wishes to analyse the Shared Personal Data for the Climate Purposes and to facilitate achievement of the Sustainability Goals.(B)The Data Receiver agrees to use the Shared Personal Data on the terms set out in this agreement.(C)[This is a free-standing agreement that does not incorporate any commercial terms established by the parties under sepa\n",
      "--------------------------------------------------------------------------------\n",
      "Clause: Promotion of Carbon Sinks and Ecological Restoration in Lettings of Rural Land (Score: 0.9726)\n",
      "1. Flexible working policy:home working to support achievement of net zero target 11.1 We are committed to providing equality of opportunity in employment and to developing working practices and policies that support work-life balance.\n",
      "\n",
      "Our Flexible Working Policy gives you an opportunity to formally request a change to your working pattern.\n",
      "\n",
      "11.2 Line managers are encouraged to facilitate requests unless they cannot be accommodated for business or operational reasons.\n",
      "\n",
      "Advice will be sought fro\n",
      "--------------------------------------------------------------------------------\n",
      "Clause: Board Paper Implementing Net Zero for SMEs (Score: 0.9724)\n",
      "1)The Additional Premium must be paid within[x]days of Policy Inception; 2)The Insured[and/or Additional Insureds]fully discloses its contemporaneous assessment of its exposure to litigation arising from Climate Change or a Climate Change Event, and the measures being taken to mitigate the risks of litigation arising from Climate Change or a Climate Change Event, within[x]days of Policy Inception; 3)The Insured[and/or Additional Insureds]fully discloses the Net Zero Target(s)and Net Zero Target \n",
      "--------------------------------------------------------------------------------\n",
      "Clause: Green Shareholders’ Agreement (Short Form for SMEs) (Score: 0.9712)\n",
      "(A)[Consider including Eddie’s Recitals(Climate Recitals)here.](B)The Parties, in carrying out any part of the Works, shall take into account the environmental effects of their activities and take steps to mitigate such effects.\n",
      "\n",
      "Olivia's Clause Clauses to include in the International Federation of Consulting Engineers(FIDIC)form of Engineering, Procurement and Construction(EPC)contracts, obliging the contractor(and any subcontractors)to act sustainably in carrying out the works.[4.25]Climate ob\n",
      "--------------------------------------------------------------------------------\n",
      "Clause: Climate Standard of Care (Construction) (Score: 0.9710)\n",
      "(A)[Consider including Eddie’s Recitals(Climate Recitals)here.](B)[The parties acknowledge that the performance of this Agreement will provide opportunities to reduce Food Waste and each party’s impact on climate change.](C)[The parties agree to work together to identify Food Waste reduction opportunities as an ongoing part of the management and implementation of this Agreement.]Runa's Clause Clauses to redress the balance in the food chain by promoting fairness for the producer whilst supportin\n",
      "--------------------------------------------------------------------------------\n",
      "Clause: Coolerplate Clauses (Climate Aligned Boilerplate) (Score: 0.9670)\n",
      "1. The parties agree that any arbitration commenced pursuant to clause[●]of this Agreement, shall be conducted having regard to the Campaign for Greener Arbitrations’ Green Protocol for Arbitral Proceedings with a view to reducing the environmental impact of disputes.\n",
      "\n",
      "2. At the outset of any arbitration, the parties shall consult and agree which provisions of the Green Protocol for Arbitral Proceedings shall be adopted during the proceedings, and submit to the tribunal their proposal for minimi\n",
      "--------------------------------------------------------------------------------\n",
      "Clause: Sponsorship agreement: Net Zero Outcome (Score: 0.9667)\n",
      "1. Environmental Representations 1.1 The Parties acknowledge their common intention in the fulfilment of their obligations under this Agreement to minimise their negative impact on climate change and biodiversity, and to reduce their GHG Emissions[to help[country]achieve its GHG reduction targets/ Net Zero Target].\n",
      "\n",
      "1.2 The Parties state that they[and their subcontractors]are in substantial compliance with the Environmental Legislation, the Sustainability Policy and the applicable Environmental \n",
      "--------------------------------------------------------------------------------\n"
     ]
    }
   ],
   "source": [
    "for name, score in zip(top_names_sem, top_scores_sem):\n",
    "    print(f\"Clause: {name} (Score: {score:.4f})\")\n",
    "    index = names.index(name)\n",
    "    print(documents[index][:500])  \n",
    "    print(\"-\" * 80)"
   ]
  },
  {
   "cell_type": "markdown",
   "id": "ee8b88bd",
   "metadata": {},
   "source": [
    "___"
   ]
  },
  {
   "cell_type": "markdown",
   "id": "ffb4240d",
   "metadata": {},
   "source": [
    "# No Keyword Approach"
   ]
  },
  {
   "cell_type": "code",
   "execution_count": 104,
   "id": "6f0707d5",
   "metadata": {},
   "outputs": [],
   "source": [
    "embeddings = utils.get_embeddings('cls',\n",
    "    embeddings_dir, \n",
    "    docs,\n",
    "    tokenizer,\n",
    "    model\n",
    ")"
   ]
  },
  {
   "cell_type": "code",
   "execution_count": 105,
   "id": "104253da",
   "metadata": {},
   "outputs": [],
   "source": [
    "query_embedding = utils.encode_text(query_text, tokenizer, model, 'cls').reshape(1, -1)"
   ]
  },
  {
   "cell_type": "code",
   "execution_count": 106,
   "id": "f22318aa",
   "metadata": {},
   "outputs": [
    {
     "name": "stdout",
     "output_type": "stream",
     "text": [
      "Clause: Climate_Change_Event.txt (Score: 0.9635)\n",
      "1 Climate Change Event means an event, series of events or circumstance arising from the physical impacts of Climate Change that is either Pan-terra or Epi-terra in scope and prevents a party from performing its obligations under this agreement[including an obligation to pay money], and includes:(a)unavailability of water, clean air or other Natural Capital required by a party to manufacture or supply the[products OR services]; (b)hurricanes, tornados, floods and unusually severe rain, wind, sno\n",
      "--------------------------------------------------------------------------------\n",
      "Clause: CLLS_Certificate_of_Title:_Climate_Change_Disclosu.txt (Score: 0.9522)\n",
      "1. Physical Risks:Climate Change is likely to increase the frequency and severity of weather events with the potential to damage property such as flooding, high winds, storms and greater temperature extremes.\n",
      "\n",
      "2. Transition Risks:The UK Government's current policy is to reduce the volumes of greenhouse gas emissions in the UK.\n",
      "\n",
      "It is targeting net zero emissions by 2050 with interim targets to be achieved prior to that date.\n",
      "\n",
      "Legislation is already in place to support this policy but we understa\n",
      "--------------------------------------------------------------------------------\n",
      "Clause: Commercial_Lease__Repairs_and_Alterations_(circula.txt (Score: 0.9508)\n",
      "(A)The Landlord and Tenant[have signed up to the Race to Zero and]acknowledge their common intention to:(i)achieve their respective organisational net zero targets; and(ii)align with the objectives of the Paris Agreement(in particular pursuing efforts to limit global temperature increase to 1.5 degrees Celsius above pre-industrial levels and achieving net zero or net negative emissions by 2050 or sooner).(B)The Landlord and Tenant agree to pursue(A)in a manner that promotes a just transition to \n",
      "--------------------------------------------------------------------------------\n"
     ]
    }
   ],
   "source": [
    "_, _, _, similarities, _ = utils.get_matching_clause(\n",
    "    query_embedding, embeddings, names\n",
    ")\n",
    "\n",
    "top_names, top_scores, _ = utils.find_top_k(similarities, file_names)\n",
    "\n",
    "for name, score in zip(top_names, top_scores):\n",
    "    print(f\"Clause: {name} (Score: {score:.4f})\")\n",
    "    index = file_names.index(name)\n",
    "    print(documents[index][:500])  # Show the first 500 chars of the clause\n",
    "    print(\"-\" * 80)"
   ]
  },
  {
   "cell_type": "markdown",
   "id": "7dd5fb0c",
   "metadata": {},
   "source": [
    "____"
   ]
  },
  {
   "cell_type": "markdown",
   "id": "3f630821",
   "metadata": {},
   "source": [
    "The former does better than the latter according to comparison by an LLM so this is good evidence that some sort of keyword matching is a good way to go. \n"
   ]
  }
 ],
 "metadata": {
  "kernelspec": {
   "display_name": "Python (TCLP)",
   "language": "python",
   "name": "tclp"
  },
  "language_info": {
   "codemirror_mode": {
    "name": "ipython",
    "version": 3
   },
   "file_extension": ".py",
   "mimetype": "text/x-python",
   "name": "python",
   "nbconvert_exporter": "python",
   "pygments_lexer": "ipython3",
   "version": "3.10.15"
  }
 },
 "nbformat": 4,
 "nbformat_minor": 5
}
