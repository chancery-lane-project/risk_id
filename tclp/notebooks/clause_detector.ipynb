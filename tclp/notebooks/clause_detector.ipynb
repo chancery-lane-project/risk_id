{
 "cells": [
  {
   "cell_type": "markdown",
   "metadata": {},
   "source": [
    "## Clause Detection Using Pre-Trained Model"
   ]
  },
  {
   "cell_type": "code",
   "execution_count": 40,
   "metadata": {},
   "outputs": [],
   "source": [
    "import sys\n",
    "import os\n",
    "sys.path.insert(0, os.path.abspath(os.path.join(os.getcwd(), \"../\")))\n",
    "os.environ[\"TOKENIZERS_PARALLELISM\"] = \"false\"\n",
    "import utils as du\n",
    "from transformers import AutoTokenizer, AutoModelForSequenceClassification\n",
    "import torch\n"
   ]
  },
  {
   "cell_type": "code",
   "execution_count": 41,
   "metadata": {},
   "outputs": [
    {
     "data": {
      "text/plain": [
       "RobertaForSequenceClassification(\n",
       "  (roberta): RobertaModel(\n",
       "    (embeddings): RobertaEmbeddings(\n",
       "      (word_embeddings): Embedding(50500, 768, padding_idx=1)\n",
       "      (position_embeddings): Embedding(514, 768, padding_idx=1)\n",
       "      (token_type_embeddings): Embedding(1, 768)\n",
       "      (LayerNorm): LayerNorm((768,), eps=1e-05, elementwise_affine=True)\n",
       "      (dropout): Dropout(p=0.1, inplace=False)\n",
       "    )\n",
       "    (encoder): RobertaEncoder(\n",
       "      (layer): ModuleList(\n",
       "        (0-5): 6 x RobertaLayer(\n",
       "          (attention): RobertaAttention(\n",
       "            (self): RobertaSdpaSelfAttention(\n",
       "              (query): Linear(in_features=768, out_features=768, bias=True)\n",
       "              (key): Linear(in_features=768, out_features=768, bias=True)\n",
       "              (value): Linear(in_features=768, out_features=768, bias=True)\n",
       "              (dropout): Dropout(p=0.1, inplace=False)\n",
       "            )\n",
       "            (output): RobertaSelfOutput(\n",
       "              (dense): Linear(in_features=768, out_features=768, bias=True)\n",
       "              (LayerNorm): LayerNorm((768,), eps=1e-05, elementwise_affine=True)\n",
       "              (dropout): Dropout(p=0.1, inplace=False)\n",
       "            )\n",
       "          )\n",
       "          (intermediate): RobertaIntermediate(\n",
       "            (dense): Linear(in_features=768, out_features=3072, bias=True)\n",
       "            (intermediate_act_fn): GELUActivation()\n",
       "          )\n",
       "          (output): RobertaOutput(\n",
       "            (dense): Linear(in_features=3072, out_features=768, bias=True)\n",
       "            (LayerNorm): LayerNorm((768,), eps=1e-05, elementwise_affine=True)\n",
       "            (dropout): Dropout(p=0.1, inplace=False)\n",
       "          )\n",
       "        )\n",
       "      )\n",
       "    )\n",
       "  )\n",
       "  (classifier): RobertaClassificationHead(\n",
       "    (dense): Linear(in_features=768, out_features=768, bias=True)\n",
       "    (dropout): Dropout(p=0.1, inplace=False)\n",
       "    (out_proj): Linear(in_features=768, out_features=2, bias=True)\n",
       "  )\n",
       ")"
      ]
     },
     "execution_count": 41,
     "metadata": {},
     "output_type": "execute_result"
    }
   ],
   "source": [
    "model_path = \"../models/CC_BERT/CC_model_detect\" \n",
    "device = torch.device(\"cpu\")\n",
    "\n",
    "tokenizer = AutoTokenizer.from_pretrained(model_path)\n",
    "model = AutoModelForSequenceClassification.from_pretrained(model_path)\n",
    "model.to(device)\n",
    "model.eval()"
   ]
  },
  {
   "cell_type": "code",
   "execution_count": 42,
   "metadata": {},
   "outputs": [],
   "source": [
    "contract_dir = \"../data/test_contracts\"\n",
    "# NOTE: If this throws an error, it is because you may have uniquely constructed your test set from training_model.ipynb. \n",
    "# Because of randonmess, different contracts may be selected for training and testing. \n",
    "# Just go into the data/test_contracts directory and pull the name of a single contract to fix this.\n",
    "single_contract = \"../data/spend_network/fresh_contracts_identified_txt/241209_con_7063_desnz_erm_nzm_modelling_contract_award_form_and_schedules_v1_redacted.txt\"\n",
    "contract_folder = \"../data/test_contracts\""
   ]
  },
  {
   "cell_type": "code",
   "execution_count": 43,
   "metadata": {},
   "outputs": [],
   "source": [
    "#you can input contract_dir or single_contract as the argument to this function\n",
    "processed_contracts = du.load_unlabelled_contract(single_contract)"
   ]
  },
  {
   "cell_type": "code",
   "execution_count": 44,
   "metadata": {},
   "outputs": [
    {
     "data": {
      "text/html": [
       "<div>\n",
       "<style scoped>\n",
       "    .dataframe tbody tr th:only-of-type {\n",
       "        vertical-align: middle;\n",
       "    }\n",
       "\n",
       "    .dataframe tbody tr th {\n",
       "        vertical-align: top;\n",
       "    }\n",
       "\n",
       "    .dataframe thead th {\n",
       "        text-align: right;\n",
       "    }\n",
       "</style>\n",
       "<table border=\"1\" class=\"dataframe\">\n",
       "  <thead>\n",
       "    <tr style=\"text-align: right;\">\n",
       "      <th></th>\n",
       "      <th>contract_ids</th>\n",
       "      <th>text</th>\n",
       "    </tr>\n",
       "  </thead>\n",
       "  <tbody>\n",
       "    <tr>\n",
       "      <th>0</th>\n",
       "      <td>241209_con_7063_desnz_erm_nzm_modelling_contra...</td>\n",
       "      <td>Docusign Envelope ID:89C377CB-B239-4094-B128-F...</td>\n",
       "    </tr>\n",
       "    <tr>\n",
       "      <th>1</th>\n",
       "      <td>241209_con_7063_desnz_erm_nzm_modelling_contra...</td>\n",
       "      <td>It summarises the main features of the procure...</td>\n",
       "    </tr>\n",
       "    <tr>\n",
       "      <th>2</th>\n",
       "      <td>241209_con_7063_desnz_erm_nzm_modelling_contra...</td>\n",
       "      <td>Department for Energy Security and Net Zero(th...</td>\n",
       "    </tr>\n",
       "    <tr>\n",
       "      <th>3</th>\n",
       "      <td>241209_con_7063_desnz_erm_nzm_modelling_contra...</td>\n",
       "      <td>This Contract between the Buyer and the Suppli...</td>\n",
       "    </tr>\n",
       "    <tr>\n",
       "      <th>4</th>\n",
       "      <td>241209_con_7063_desnz_erm_nzm_modelling_contra...</td>\n",
       "      <td>CON_7063/Framework Agreement CON_6347 Any mate...</td>\n",
       "    </tr>\n",
       "    <tr>\n",
       "      <th>...</th>\n",
       "      <td>...</td>\n",
       "      <td>...</td>\n",
       "    </tr>\n",
       "    <tr>\n",
       "      <th>743</th>\n",
       "      <td>241209_con_7063_desnz_erm_nzm_modelling_contra...</td>\n",
       "      <td>3.2. When the licence granted under Paragraph ...</td>\n",
       "    </tr>\n",
       "    <tr>\n",
       "      <th>744</th>\n",
       "      <td>241209_con_7063_desnz_erm_nzm_modelling_contra...</td>\n",
       "      <td>5.2.1. the New IPR Items are suitable for rele...</td>\n",
       "    </tr>\n",
       "    <tr>\n",
       "      <th>745</th>\n",
       "      <td>241209_con_7063_desnz_erm_nzm_modelling_contra...</td>\n",
       "      <td>5.4. The Supplier must supply any or all New I...</td>\n",
       "    </tr>\n",
       "    <tr>\n",
       "      <th>746</th>\n",
       "      <td>241209_con_7063_desnz_erm_nzm_modelling_contra...</td>\n",
       "      <td>5.5. The Supplier may within fifteen(15)Workin...</td>\n",
       "    </tr>\n",
       "    <tr>\n",
       "      <th>747</th>\n",
       "      <td>241209_con_7063_desnz_erm_nzm_modelling_contra...</td>\n",
       "      <td>5.7. Any decision to Approve any such request ...</td>\n",
       "    </tr>\n",
       "  </tbody>\n",
       "</table>\n",
       "<p>748 rows × 2 columns</p>\n",
       "</div>"
      ],
      "text/plain": [
       "                                          contract_ids  \\\n",
       "0    241209_con_7063_desnz_erm_nzm_modelling_contra...   \n",
       "1    241209_con_7063_desnz_erm_nzm_modelling_contra...   \n",
       "2    241209_con_7063_desnz_erm_nzm_modelling_contra...   \n",
       "3    241209_con_7063_desnz_erm_nzm_modelling_contra...   \n",
       "4    241209_con_7063_desnz_erm_nzm_modelling_contra...   \n",
       "..                                                 ...   \n",
       "743  241209_con_7063_desnz_erm_nzm_modelling_contra...   \n",
       "744  241209_con_7063_desnz_erm_nzm_modelling_contra...   \n",
       "745  241209_con_7063_desnz_erm_nzm_modelling_contra...   \n",
       "746  241209_con_7063_desnz_erm_nzm_modelling_contra...   \n",
       "747  241209_con_7063_desnz_erm_nzm_modelling_contra...   \n",
       "\n",
       "                                                  text  \n",
       "0    Docusign Envelope ID:89C377CB-B239-4094-B128-F...  \n",
       "1    It summarises the main features of the procure...  \n",
       "2    Department for Energy Security and Net Zero(th...  \n",
       "3    This Contract between the Buyer and the Suppli...  \n",
       "4    CON_7063/Framework Agreement CON_6347 Any mate...  \n",
       "..                                                 ...  \n",
       "743  3.2. When the licence granted under Paragraph ...  \n",
       "744  5.2.1. the New IPR Items are suitable for rele...  \n",
       "745  5.4. The Supplier must supply any or all New I...  \n",
       "746  5.5. The Supplier may within fifteen(15)Workin...  \n",
       "747  5.7. Any decision to Approve any such request ...  \n",
       "\n",
       "[748 rows x 2 columns]"
      ]
     },
     "execution_count": 44,
     "metadata": {},
     "output_type": "execute_result"
    }
   ],
   "source": [
    "processed_contracts"
   ]
  },
  {
   "cell_type": "code",
   "execution_count": 45,
   "metadata": {},
   "outputs": [],
   "source": [
    "texts = processed_contracts[\"text\"].tolist()"
   ]
  },
  {
   "cell_type": "code",
   "execution_count": 46,
   "metadata": {},
   "outputs": [],
   "source": [
    "results, probs = du.predict_climatebert(texts, tokenizer, device, model)"
   ]
  },
  {
   "cell_type": "code",
   "execution_count": 47,
   "metadata": {},
   "outputs": [],
   "source": [
    "result_df, result_df_true = du.create_result_df(results, processed_contracts)"
   ]
  },
  {
   "cell_type": "code",
   "execution_count": 48,
   "metadata": {},
   "outputs": [],
   "source": [
    "#note: This function is designed to work for single contracts and will create a single file for multiple contracts\n",
    "highlighted_output = du.highlight_climate_content(result_df)"
   ]
  },
  {
   "cell_type": "code",
   "execution_count": 49,
   "metadata": {},
   "outputs": [],
   "source": [
    "#save highlighted output to a file; commented so it doesn't save every time this script runs \n",
    "#du.save_file(\"highlighted_output.html\", highlighted_output)"
   ]
  },
  {
   "cell_type": "markdown",
   "metadata": {},
   "source": [
    "## Using the Detector"
   ]
  },
  {
   "cell_type": "code",
   "execution_count": 50,
   "metadata": {},
   "outputs": [],
   "source": [
    "contract_df = du.create_contract_df(\n",
    "    result_df, processed_contracts, labelled=False\n",
    ")"
   ]
  },
  {
   "cell_type": "code",
   "execution_count": 51,
   "metadata": {},
   "outputs": [],
   "source": [
    "likely, very_likely, extremely_likely, none = du.create_threshold_buckets(contract_df)"
   ]
  },
  {
   "cell_type": "code",
   "execution_count": 54,
   "metadata": {},
   "outputs": [
    {
     "data": {
      "text/html": [
       "<div>\n",
       "<style scoped>\n",
       "    .dataframe tbody tr th:only-of-type {\n",
       "        vertical-align: middle;\n",
       "    }\n",
       "\n",
       "    .dataframe tbody tr th {\n",
       "        vertical-align: top;\n",
       "    }\n",
       "\n",
       "    .dataframe thead th {\n",
       "        text-align: right;\n",
       "    }\n",
       "</style>\n",
       "<table border=\"1\" class=\"dataframe\">\n",
       "  <thead>\n",
       "    <tr style=\"text-align: right;\">\n",
       "      <th></th>\n",
       "      <th>index</th>\n",
       "      <th>prediction</th>\n",
       "      <th>keyword_pass</th>\n",
       "      <th>bucket</th>\n",
       "    </tr>\n",
       "  </thead>\n",
       "  <tbody>\n",
       "  </tbody>\n",
       "</table>\n",
       "</div>"
      ],
      "text/plain": [
       "Empty DataFrame\n",
       "Columns: [index, prediction, keyword_pass, bucket]\n",
       "Index: []"
      ]
     },
     "execution_count": 54,
     "metadata": {},
     "output_type": "execute_result"
    }
   ],
   "source": [
    "likely"
   ]
  },
  {
   "cell_type": "code",
   "execution_count": null,
   "metadata": {},
   "outputs": [
    {
     "name": "stdout",
     "output_type": "stream",
     "text": [
      "Not Likely:  0.0 %\n",
      "Could Contain:  0.0 %\n",
      "Likely:  0.03 %\n",
      "Very Likely:  0.0 %\n"
     ]
    }
   ],
   "source": [
    "du.print_percentages(likely, very_likely, extremely_likely, none, contract_df)"
   ]
  },
  {
   "cell_type": "markdown",
   "metadata": {},
   "source": [
    "I split the data 60% including a clause and 40% not including a clause so this looks good! "
   ]
  },
  {
   "cell_type": "markdown",
   "metadata": {},
   "source": [
    "### Testing for a Single File"
   ]
  },
  {
   "cell_type": "code",
   "execution_count": 53,
   "metadata": {},
   "outputs": [
    {
     "name": "stdout",
     "output_type": "stream",
     "text": [
      "likely\n"
     ]
    }
   ],
   "source": [
    "# note: this doesn't work if you are working with a contract database; it is designed for a single file\n",
    "\n",
    "# If you want to see this functionality, run the code using the single file path\n",
    "du.print_single(likely, very_likely, extremely_likely, none)"
   ]
  }
 ],
 "metadata": {
  "kernelspec": {
   "display_name": "tclp-iQ_dTQ3E-py3.10",
   "language": "python",
   "name": "python3"
  },
  "language_info": {
   "codemirror_mode": {
    "name": "ipython",
    "version": 3
   },
   "file_extension": ".py",
   "mimetype": "text/x-python",
   "name": "python",
   "nbconvert_exporter": "python",
   "pygments_lexer": "ipython3",
   "version": "3.10.15"
  }
 },
 "nbformat": 4,
 "nbformat_minor": 2
}
