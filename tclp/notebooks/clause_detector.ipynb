{
 "cells": [
  {
   "cell_type": "markdown",
   "metadata": {},
   "source": [
    "## Clause Detection Using Pre-Trained Model"
   ]
  },
  {
   "cell_type": "code",
   "execution_count": 18,
   "metadata": {},
   "outputs": [],
   "source": [
    "import sys\n",
    "import os\n",
    "sys.path.insert(0, os.path.abspath(os.path.join(os.getcwd(), \"../\")))\n",
    "os.environ[\"TOKENIZERS_PARALLELISM\"] = \"false\"\n",
    "import utils as du\n",
    "from transformers import AutoTokenizer, AutoModelForSequenceClassification\n",
    "import torch\n"
   ]
  },
  {
   "cell_type": "code",
   "execution_count": 19,
   "metadata": {},
   "outputs": [
    {
     "data": {
      "text/plain": [
       "RobertaForSequenceClassification(\n",
       "  (roberta): RobertaModel(\n",
       "    (embeddings): RobertaEmbeddings(\n",
       "      (word_embeddings): Embedding(50500, 768, padding_idx=1)\n",
       "      (position_embeddings): Embedding(514, 768, padding_idx=1)\n",
       "      (token_type_embeddings): Embedding(1, 768)\n",
       "      (LayerNorm): LayerNorm((768,), eps=1e-05, elementwise_affine=True)\n",
       "      (dropout): Dropout(p=0.1, inplace=False)\n",
       "    )\n",
       "    (encoder): RobertaEncoder(\n",
       "      (layer): ModuleList(\n",
       "        (0-5): 6 x RobertaLayer(\n",
       "          (attention): RobertaAttention(\n",
       "            (self): RobertaSdpaSelfAttention(\n",
       "              (query): Linear(in_features=768, out_features=768, bias=True)\n",
       "              (key): Linear(in_features=768, out_features=768, bias=True)\n",
       "              (value): Linear(in_features=768, out_features=768, bias=True)\n",
       "              (dropout): Dropout(p=0.1, inplace=False)\n",
       "            )\n",
       "            (output): RobertaSelfOutput(\n",
       "              (dense): Linear(in_features=768, out_features=768, bias=True)\n",
       "              (LayerNorm): LayerNorm((768,), eps=1e-05, elementwise_affine=True)\n",
       "              (dropout): Dropout(p=0.1, inplace=False)\n",
       "            )\n",
       "          )\n",
       "          (intermediate): RobertaIntermediate(\n",
       "            (dense): Linear(in_features=768, out_features=3072, bias=True)\n",
       "            (intermediate_act_fn): GELUActivation()\n",
       "          )\n",
       "          (output): RobertaOutput(\n",
       "            (dense): Linear(in_features=3072, out_features=768, bias=True)\n",
       "            (LayerNorm): LayerNorm((768,), eps=1e-05, elementwise_affine=True)\n",
       "            (dropout): Dropout(p=0.1, inplace=False)\n",
       "          )\n",
       "        )\n",
       "      )\n",
       "    )\n",
       "  )\n",
       "  (classifier): RobertaClassificationHead(\n",
       "    (dense): Linear(in_features=768, out_features=768, bias=True)\n",
       "    (dropout): Dropout(p=0.1, inplace=False)\n",
       "    (out_proj): Linear(in_features=768, out_features=2, bias=True)\n",
       "  )\n",
       ")"
      ]
     },
     "execution_count": 19,
     "metadata": {},
     "output_type": "execute_result"
    }
   ],
   "source": [
    "model_path = \"../models/CC_BERT/CC_model_detect\" \n",
    "device = torch.device(\"cpu\")\n",
    "\n",
    "tokenizer = AutoTokenizer.from_pretrained(model_path)\n",
    "model = AutoModelForSequenceClassification.from_pretrained(model_path)\n",
    "model.to(device)\n",
    "model.eval()"
   ]
  },
  {
   "cell_type": "code",
   "execution_count": 20,
   "metadata": {},
   "outputs": [],
   "source": [
    "# NOTE: If this throws an error, it is because you may have uniquely constructed your test set from training_model.ipynb. \n",
    "# Because of randonmess, different contracts may be selected for training and testing. \n",
    "# Just go into the data/test_contracts directory and pull the name of a single contract to fix this.\n",
    "single_contract = \"../data/spend_network/fresh_contracts_identified_txt/241209_con_7063_desnz_erm_nzm_modelling_contract_award_form_and_schedules_v1_redacted.txt\"\n",
    "contract_folder = \"../data/test_contracts\""
   ]
  },
  {
   "cell_type": "code",
   "execution_count": 21,
   "metadata": {},
   "outputs": [],
   "source": [
    "#you can input contract_dir or single_contract as the argument to this function\n",
    "processed_contracts = du.load_unlabelled_contract(contract_folder)"
   ]
  },
  {
   "cell_type": "code",
   "execution_count": 22,
   "metadata": {},
   "outputs": [
    {
     "data": {
      "text/html": [
       "<div>\n",
       "<style scoped>\n",
       "    .dataframe tbody tr th:only-of-type {\n",
       "        vertical-align: middle;\n",
       "    }\n",
       "\n",
       "    .dataframe tbody tr th {\n",
       "        vertical-align: top;\n",
       "    }\n",
       "\n",
       "    .dataframe thead th {\n",
       "        text-align: right;\n",
       "    }\n",
       "</style>\n",
       "<table border=\"1\" class=\"dataframe\">\n",
       "  <thead>\n",
       "    <tr style=\"text-align: right;\">\n",
       "      <th></th>\n",
       "      <th>index</th>\n",
       "      <th>text</th>\n",
       "    </tr>\n",
       "  </thead>\n",
       "  <tbody>\n",
       "    <tr>\n",
       "      <th>0</th>\n",
       "      <td>000038611.txt</td>\n",
       "      <td>Exhibit 10.14 SEPARATION AGREEMENT between Ray...</td>\n",
       "    </tr>\n",
       "    <tr>\n",
       "      <th>1</th>\n",
       "      <td>000038611.txt</td>\n",
       "      <td>1.2 This termination shall extend to all, if a...</td>\n",
       "    </tr>\n",
       "    <tr>\n",
       "      <th>2</th>\n",
       "      <td>000038611.txt</td>\n",
       "      <td>2. RETIREMENT FROM ALL FORMS OF OFFICE 2.1 Mr ...</td>\n",
       "    </tr>\n",
       "    <tr>\n",
       "      <th>3</th>\n",
       "      <td>000038611.txt</td>\n",
       "      <td>2.2 Mr Burel likewise shall retire from his of...</td>\n",
       "    </tr>\n",
       "    <tr>\n",
       "      <th>4</th>\n",
       "      <td>000038611.txt</td>\n",
       "      <td>2.3 Mr Burel shall resign from his office in s...</td>\n",
       "    </tr>\n",
       "    <tr>\n",
       "      <th>...</th>\n",
       "      <td>...</td>\n",
       "      <td>...</td>\n",
       "    </tr>\n",
       "    <tr>\n",
       "      <th>376604</th>\n",
       "      <td>000008913.txt</td>\n",
       "      <td>38 PROTECTION OF THE TRUSTEE Any sale by the T...</td>\n",
       "    </tr>\n",
       "    <tr>\n",
       "      <th>376605</th>\n",
       "      <td>000008913.txt</td>\n",
       "      <td>39 APPLICATION FOR LISTING OR ADMISSION TO TRA...</td>\n",
       "    </tr>\n",
       "    <tr>\n",
       "      <th>376606</th>\n",
       "      <td>000008913.txt</td>\n",
       "      <td>shall, at its expense, make application for, a...</td>\n",
       "    </tr>\n",
       "    <tr>\n",
       "      <th>376607</th>\n",
       "      <td>000008913.txt</td>\n",
       "      <td>40 RELATIONSHIP OF PLAN TO CONTRACT OF EMPLOYM...</td>\n",
       "    </tr>\n",
       "    <tr>\n",
       "      <th>376608</th>\n",
       "      <td>000008913.txt</td>\n",
       "      <td>41 ALTERATIONS No modification, alteration, or...</td>\n",
       "    </tr>\n",
       "  </tbody>\n",
       "</table>\n",
       "<p>376609 rows × 2 columns</p>\n",
       "</div>"
      ],
      "text/plain": [
       "                index                                               text\n",
       "0       000038611.txt  Exhibit 10.14 SEPARATION AGREEMENT between Ray...\n",
       "1       000038611.txt  1.2 This termination shall extend to all, if a...\n",
       "2       000038611.txt  2. RETIREMENT FROM ALL FORMS OF OFFICE 2.1 Mr ...\n",
       "3       000038611.txt  2.2 Mr Burel likewise shall retire from his of...\n",
       "4       000038611.txt  2.3 Mr Burel shall resign from his office in s...\n",
       "...               ...                                                ...\n",
       "376604  000008913.txt  38 PROTECTION OF THE TRUSTEE Any sale by the T...\n",
       "376605  000008913.txt  39 APPLICATION FOR LISTING OR ADMISSION TO TRA...\n",
       "376606  000008913.txt  shall, at its expense, make application for, a...\n",
       "376607  000008913.txt  40 RELATIONSHIP OF PLAN TO CONTRACT OF EMPLOYM...\n",
       "376608  000008913.txt  41 ALTERATIONS No modification, alteration, or...\n",
       "\n",
       "[376609 rows x 2 columns]"
      ]
     },
     "execution_count": 22,
     "metadata": {},
     "output_type": "execute_result"
    }
   ],
   "source": [
    "processed_contracts"
   ]
  },
  {
   "cell_type": "code",
   "execution_count": 23,
   "metadata": {},
   "outputs": [],
   "source": [
    "texts = processed_contracts[\"text\"].tolist()"
   ]
  },
  {
   "cell_type": "code",
   "execution_count": null,
   "metadata": {},
   "outputs": [],
   "source": [
    "results, probs = du.predict_climatebert(texts, tokenizer, device, model)"
   ]
  },
  {
   "cell_type": "code",
   "execution_count": null,
   "metadata": {},
   "outputs": [],
   "source": [
    "result_df, result_df_true = du.create_result_df(results, processed_contracts)"
   ]
  },
  {
   "cell_type": "code",
   "execution_count": null,
   "metadata": {},
   "outputs": [
    {
     "data": {
      "text/html": [
       "<div>\n",
       "<style scoped>\n",
       "    .dataframe tbody tr th:only-of-type {\n",
       "        vertical-align: middle;\n",
       "    }\n",
       "\n",
       "    .dataframe tbody tr th {\n",
       "        vertical-align: top;\n",
       "    }\n",
       "\n",
       "    .dataframe thead th {\n",
       "        text-align: right;\n",
       "    }\n",
       "</style>\n",
       "<table border=\"1\" class=\"dataframe\">\n",
       "  <thead>\n",
       "    <tr style=\"text-align: right;\">\n",
       "      <th></th>\n",
       "      <th>prediction</th>\n",
       "      <th>sentence</th>\n",
       "      <th>contains_climate_keyword</th>\n",
       "    </tr>\n",
       "  </thead>\n",
       "  <tbody>\n",
       "    <tr>\n",
       "      <th>0</th>\n",
       "      <td>0</td>\n",
       "      <td>Copyright(c)2024 The Chancery Lane Project Per...</td>\n",
       "      <td>False</td>\n",
       "    </tr>\n",
       "    <tr>\n",
       "      <th>1</th>\n",
       "      <td>0</td>\n",
       "      <td>THE SOFTWARE IS PROVIDED \"AS IS\", WITHOUT WARR...</td>\n",
       "      <td>False</td>\n",
       "    </tr>\n",
       "    <tr>\n",
       "      <th>2</th>\n",
       "      <td>0</td>\n",
       "      <td>IN NO EVENT SHALL THE AUTHORS OR COPYRIGHT HOL...</td>\n",
       "      <td>False</td>\n",
       "    </tr>\n",
       "  </tbody>\n",
       "</table>\n",
       "</div>"
      ],
      "text/plain": [
       "   prediction                                           sentence  \\\n",
       "0           0  Copyright(c)2024 The Chancery Lane Project Per...   \n",
       "1           0  THE SOFTWARE IS PROVIDED \"AS IS\", WITHOUT WARR...   \n",
       "2           0  IN NO EVENT SHALL THE AUTHORS OR COPYRIGHT HOL...   \n",
       "\n",
       "   contains_climate_keyword  \n",
       "0                     False  \n",
       "1                     False  \n",
       "2                     False  "
      ]
     },
     "execution_count": 9,
     "metadata": {},
     "output_type": "execute_result"
    }
   ],
   "source": [
    "result_df"
   ]
  },
  {
   "cell_type": "code",
   "execution_count": null,
   "metadata": {},
   "outputs": [
    {
     "data": {
      "text/plain": [
       "array([[9.9996793e-01, 3.2072399e-05],\n",
       "       [9.9996758e-01, 3.2387499e-05],\n",
       "       [9.9995756e-01, 4.2390315e-05]], dtype=float32)"
      ]
     },
     "execution_count": 10,
     "metadata": {},
     "output_type": "execute_result"
    }
   ],
   "source": [
    "probs"
   ]
  },
  {
   "cell_type": "code",
   "execution_count": null,
   "metadata": {},
   "outputs": [],
   "source": [
    "#note: This function is designed to work for single contracts and will create a single file for multiple contracts\n",
    "highlighted_output = du.highlight_climate_content(result_df)"
   ]
  },
  {
   "cell_type": "code",
   "execution_count": null,
   "metadata": {},
   "outputs": [],
   "source": [
    "#save highlighted output to a file; commented so it doesn't save every time this script runs \n",
    "du.save_file(\"highlighted_output.html\", highlighted_output)"
   ]
  },
  {
   "cell_type": "markdown",
   "metadata": {},
   "source": [
    "## Using the Detector"
   ]
  },
  {
   "cell_type": "code",
   "execution_count": null,
   "metadata": {},
   "outputs": [],
   "source": [
    "contract_df = du.create_contract_df(\n",
    "    result_df, processed_contracts, labelled=False\n",
    ")"
   ]
  },
  {
   "cell_type": "code",
   "execution_count": null,
   "metadata": {},
   "outputs": [],
   "source": [
    "cat0, cat1, cat2, cat3 = du.create_threshold_buckets(contract_df)"
   ]
  },
  {
   "cell_type": "code",
   "execution_count": null,
   "metadata": {},
   "outputs": [
    {
     "data": {
      "text/plain": [
       "'unlikely'"
      ]
     },
     "execution_count": 15,
     "metadata": {},
     "output_type": "execute_result"
    }
   ],
   "source": [
    "du.print_percentages(cat0, cat1, cat2, cat3, contract_df)"
   ]
  },
  {
   "cell_type": "markdown",
   "metadata": {},
   "source": [
    "I split the data 60% including a clause and 40% not including a clause so this looks good! "
   ]
  },
  {
   "cell_type": "markdown",
   "metadata": {},
   "source": [
    "### Testing for a Single File"
   ]
  },
  {
   "cell_type": "code",
   "execution_count": null,
   "metadata": {},
   "outputs": [
    {
     "name": "stdout",
     "output_type": "stream",
     "text": [
      "unlikely\n"
     ]
    }
   ],
   "source": [
    "# note: this doesn't work if you are working with a contract database; it is designed for a single file\n",
    "\n",
    "# If you want to see this functionality, run the code using the single file path\n",
    "du.print_single(cat0, cat1, cat2, cat3)"
   ]
  }
 ],
 "metadata": {
  "kernelspec": {
   "display_name": "tclp-iQ_dTQ3E-py3.10",
   "language": "python",
   "name": "python3"
  },
  "language_info": {
   "codemirror_mode": {
    "name": "ipython",
    "version": 3
   },
   "file_extension": ".py",
   "mimetype": "text/x-python",
   "name": "python",
   "nbconvert_exporter": "python",
   "pygments_lexer": "ipython3",
   "version": "3.10.15"
  }
 },
 "nbformat": 4,
 "nbformat_minor": 2
}
