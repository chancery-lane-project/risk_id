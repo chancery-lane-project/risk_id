{
 "cells": [
  {
   "cell_type": "markdown",
   "metadata": {},
   "source": [
    "## Clause Detection Using Pre-Trained Model"
   ]
  },
  {
   "cell_type": "code",
   "execution_count": 13,
   "metadata": {},
   "outputs": [],
   "source": [
    "from tclp.clause_detector import detector_utils as du"
   ]
  },
  {
   "cell_type": "code",
   "execution_count": 14,
   "metadata": {},
   "outputs": [],
   "source": [
    "model_name = \"../clause_identifier_model.pkl\"\n",
    "model = du.load_model(model_name)"
   ]
  },
  {
   "cell_type": "code",
   "execution_count": 38,
   "metadata": {},
   "outputs": [],
   "source": [
    "contract_dir = \"../../data/test_contracts\"\n",
    "# NOTE: If this throws an error, it is because you may have uniquely constructed your test set from training_model.ipynb. \n",
    "# Because of randonmess, different contracts may be selected for training and testing. \n",
    "# Just go into the data/test_contracts directory and pull the name of a single contract to fix this.\n",
    "single_contract = \"../../data/synth_data/modified_real/000000930.txt\"\n",
    "contract_folder = \"../../data/spend_contracts_txt\""
   ]
  },
  {
   "cell_type": "code",
   "execution_count": 39,
   "metadata": {},
   "outputs": [],
   "source": [
    "#you can input contract_dir or single_contract as the argument to this function\n",
    "processed_contracts = du.load_unlabelled_contract(contract_folder)"
   ]
  },
  {
   "cell_type": "code",
   "execution_count": 40,
   "metadata": {},
   "outputs": [
    {
     "data": {
      "text/html": [
       "<div>\n",
       "<style scoped>\n",
       "    .dataframe tbody tr th:only-of-type {\n",
       "        vertical-align: middle;\n",
       "    }\n",
       "\n",
       "    .dataframe tbody tr th {\n",
       "        vertical-align: top;\n",
       "    }\n",
       "\n",
       "    .dataframe thead th {\n",
       "        text-align: right;\n",
       "    }\n",
       "</style>\n",
       "<table border=\"1\" class=\"dataframe\">\n",
       "  <thead>\n",
       "    <tr style=\"text-align: right;\">\n",
       "      <th></th>\n",
       "      <th>contract_ids</th>\n",
       "      <th>text</th>\n",
       "    </tr>\n",
       "  </thead>\n",
       "  <tbody>\n",
       "    <tr>\n",
       "      <th>0</th>\n",
       "      <td>c245831_ukhsa_conditions_of_contract_dried_blo...</td>\n",
       "      <td>Order Form and Key Provisions:UKHSA Contract f...</td>\n",
       "    </tr>\n",
       "    <tr>\n",
       "      <th>1</th>\n",
       "      <td>c245831_ukhsa_conditions_of_contract_dried_blo...</td>\n",
       "      <td>UKHSA Terms and Conditions for the Supply of G...</td>\n",
       "    </tr>\n",
       "    <tr>\n",
       "      <th>2</th>\n",
       "      <td>c245831_ukhsa_conditions_of_contract_dried_blo...</td>\n",
       "      <td>The Supplier shall supply to the Authority, an...</td>\n",
       "    </tr>\n",
       "    <tr>\n",
       "      <th>3</th>\n",
       "      <td>c245831_ukhsa_conditions_of_contract_dried_blo...</td>\n",
       "      <td>For the avoidance of doubt, the Contract consi...</td>\n",
       "    </tr>\n",
       "    <tr>\n",
       "      <th>4</th>\n",
       "      <td>c245831_ukhsa_conditions_of_contract_dried_blo...</td>\n",
       "      <td>The Definitions in Schedule 3 apply to the use...</td>\n",
       "    </tr>\n",
       "    <tr>\n",
       "      <th>...</th>\n",
       "      <td>...</td>\n",
       "      <td>...</td>\n",
       "    </tr>\n",
       "    <tr>\n",
       "      <th>59250</th>\n",
       "      <td>20230523_rm1557_13_ps229_g_cloud_13_call_off_c...</td>\n",
       "      <td>7.4 Nothing in either clause 7.2 or clause 7.3...</td>\n",
       "    </tr>\n",
       "    <tr>\n",
       "      <th>59251</th>\n",
       "      <td>20230523_rm1557_13_ps229_g_cloud_13_call_off_c...</td>\n",
       "      <td>98 OFFICIAL -SENSITIVE - COMMERCIAL OFFICIAL -...</td>\n",
       "    </tr>\n",
       "    <tr>\n",
       "      <th>59252</th>\n",
       "      <td>20230523_rm1557_13_ps229_g_cloud_13_call_off_c...</td>\n",
       "      <td>0.1 The Parties agree to erase Personal Data f...</td>\n",
       "    </tr>\n",
       "    <tr>\n",
       "      <th>59253</th>\n",
       "      <td>cs06.txt</td>\n",
       "      <td>All documents under this schedule redacted in ...</td>\n",
       "    </tr>\n",
       "    <tr>\n",
       "      <th>59254</th>\n",
       "      <td>sourcing_fusion_supplier_guidance_general_tend...</td>\n",
       "      <td>Reviewing / Revising a ResponseThis Guide 7.Ma...</td>\n",
       "    </tr>\n",
       "  </tbody>\n",
       "</table>\n",
       "<p>59255 rows × 2 columns</p>\n",
       "</div>"
      ],
      "text/plain": [
       "                                            contract_ids  \\\n",
       "0      c245831_ukhsa_conditions_of_contract_dried_blo...   \n",
       "1      c245831_ukhsa_conditions_of_contract_dried_blo...   \n",
       "2      c245831_ukhsa_conditions_of_contract_dried_blo...   \n",
       "3      c245831_ukhsa_conditions_of_contract_dried_blo...   \n",
       "4      c245831_ukhsa_conditions_of_contract_dried_blo...   \n",
       "...                                                  ...   \n",
       "59250  20230523_rm1557_13_ps229_g_cloud_13_call_off_c...   \n",
       "59251  20230523_rm1557_13_ps229_g_cloud_13_call_off_c...   \n",
       "59252  20230523_rm1557_13_ps229_g_cloud_13_call_off_c...   \n",
       "59253                                           cs06.txt   \n",
       "59254  sourcing_fusion_supplier_guidance_general_tend...   \n",
       "\n",
       "                                                    text  \n",
       "0      Order Form and Key Provisions:UKHSA Contract f...  \n",
       "1      UKHSA Terms and Conditions for the Supply of G...  \n",
       "2      The Supplier shall supply to the Authority, an...  \n",
       "3      For the avoidance of doubt, the Contract consi...  \n",
       "4      The Definitions in Schedule 3 apply to the use...  \n",
       "...                                                  ...  \n",
       "59250  7.4 Nothing in either clause 7.2 or clause 7.3...  \n",
       "59251  98 OFFICIAL -SENSITIVE - COMMERCIAL OFFICIAL -...  \n",
       "59252  0.1 The Parties agree to erase Personal Data f...  \n",
       "59253  All documents under this schedule redacted in ...  \n",
       "59254  Reviewing / Revising a ResponseThis Guide 7.Ma...  \n",
       "\n",
       "[59255 rows x 2 columns]"
      ]
     },
     "execution_count": 40,
     "metadata": {},
     "output_type": "execute_result"
    }
   ],
   "source": [
    "processed_contracts"
   ]
  },
  {
   "cell_type": "code",
   "execution_count": 41,
   "metadata": {},
   "outputs": [],
   "source": [
    "results = model.predict(processed_contracts[\"text\"])"
   ]
  },
  {
   "cell_type": "code",
   "execution_count": 42,
   "metadata": {},
   "outputs": [],
   "source": [
    "#note: This function is designed to work for single contracts. \n",
    "# It will work with a contract directory but they will all be in one, very long file \n",
    "highlighted_output = du.highlight_climate_content(processed_contracts[\"text\"], results)"
   ]
  },
  {
   "cell_type": "code",
   "execution_count": 43,
   "metadata": {},
   "outputs": [],
   "source": [
    "#save highlighted output to a file; commented so it doesn't save every time this script runs \n",
    "#du.save_file(\"highlighted_output.html\", highlighted_output)"
   ]
  },
  {
   "cell_type": "markdown",
   "metadata": {},
   "source": [
    "## Using the Detector"
   ]
  },
  {
   "cell_type": "code",
   "execution_count": 44,
   "metadata": {},
   "outputs": [],
   "source": [
    "contract_df = du.create_contract_df(\n",
    "    processed_contracts[\"text\"], processed_contracts, results, labelled=False\n",
    ")"
   ]
  },
  {
   "cell_type": "code",
   "execution_count": 45,
   "metadata": {},
   "outputs": [],
   "source": [
    "likely, very_likely, extremely_likely, none = du.create_threshold_buckets(contract_df)"
   ]
  },
  {
   "cell_type": "code",
   "execution_count": 46,
   "metadata": {},
   "outputs": [
    {
     "name": "stdout",
     "output_type": "stream",
     "text": [
      "Not Likely:  39.96 %\n",
      "Likely:  14.41 %\n",
      "Very Likely:  11.57 %\n",
      "Extremely Likely:  34.06 %\n"
     ]
    }
   ],
   "source": [
    "du.print_percentages(likely, very_likely, extremely_likely, none, contract_df)"
   ]
  },
  {
   "cell_type": "markdown",
   "metadata": {},
   "source": [
    "I split the data 60% including a clause and 40% not including a clause so this looks good! "
   ]
  },
  {
   "cell_type": "markdown",
   "metadata": {},
   "source": [
    "### Testing for a Single File"
   ]
  },
  {
   "cell_type": "code",
   "execution_count": null,
   "metadata": {},
   "outputs": [
    {
     "name": "stdout",
     "output_type": "stream",
     "text": [
      "extremely likely\n"
     ]
    }
   ],
   "source": [
    "# note: this doesn't work if you are working with a contract database; it is designed for a single file\n",
    "\n",
    "# If you want to see this functionality, run the code using the single file path\n",
    "du.print_single(likely, very_likely, extremely_likely, none)"
   ]
  }
 ],
 "metadata": {
  "kernelspec": {
   "display_name": "tclp-RQX4Kh8g-py3.10",
   "language": "python",
   "name": "python3"
  },
  "language_info": {
   "codemirror_mode": {
    "name": "ipython",
    "version": 3
   },
   "file_extension": ".py",
   "mimetype": "text/x-python",
   "name": "python",
   "nbconvert_exporter": "python",
   "pygments_lexer": "ipython3",
   "version": "-1.-1.-1"
  }
 },
 "nbformat": 4,
 "nbformat_minor": 2
}
