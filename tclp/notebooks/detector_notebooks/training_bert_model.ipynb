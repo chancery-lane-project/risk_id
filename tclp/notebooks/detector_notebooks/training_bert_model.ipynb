{
 "cells": [
  {
   "cell_type": "markdown",
   "id": "8caecab8",
   "metadata": {},
   "source": [
    "# Training Clause Detection Model\n",
    "\n",
    "This folder is just for those interested in the process or wanting to retrain. For those that just want to use the pre-trained model, that is accesible at ../clause_identifier_model.pkl"
   ]
  },
  {
   "cell_type": "code",
   "execution_count": 1,
   "id": "90c4c035",
   "metadata": {},
   "outputs": [],
   "source": [
    "import pandas as pd\n",
    "from sklearn.pipeline import Pipeline\n",
    "from sklearn.feature_extraction.text import TfidfVectorizer\n",
    "from sklearn.linear_model import LogisticRegression\n",
    "from tclp.clause_detector import detector_utils as du\n",
    "from transformers import AutoTokenizer, AutoModelForSequenceClassification\n",
    "from sklearn.metrics import f1_score, accuracy_score\n",
    "import numpy as np\n"
   ]
  },
  {
   "cell_type": "code",
   "execution_count": 2,
   "id": "6c281d5e",
   "metadata": {},
   "outputs": [],
   "source": [
    "import os\n",
    "os.environ[\"WANDB_API_KEY\"] = \"3bff39257044a210c516c50b1d45e18d506dc4ee\""
   ]
  },
  {
   "cell_type": "code",
   "execution_count": 3,
   "id": "059397d8",
   "metadata": {},
   "outputs": [],
   "source": [
    "import wandb"
   ]
  },
  {
   "cell_type": "markdown",
   "id": "662d3908",
   "metadata": {},
   "source": [
    "## Loading Synthetic Data into a Dataframe"
   ]
  },
  {
   "cell_type": "code",
   "execution_count": 4,
   "id": "670bed72",
   "metadata": {},
   "outputs": [],
   "source": [
    "modified_data_folder = '../../data/synth_data/modified_real'\n",
    "untouched_data_folder = '../../data/synth_data/untouched'\n",
    "modified_gen_data_folder = '../../data/synth_data/modified_gen'"
   ]
  },
  {
   "cell_type": "code",
   "execution_count": 5,
   "id": "24708558",
   "metadata": {},
   "outputs": [],
   "source": [
    "texts, labels, contract_ids, contract_level_labels = du.load_labeled_contracts(\n",
    "    modified_data_folder, modified=True\n",
    ")\n",
    "(\n",
    "    texts_untouched,\n",
    "    labels_untouched,\n",
    "    contract_ids_untouched,\n",
    "    contract_level_labels_untouched,\n",
    ") = du.load_labeled_contracts(untouched_data_folder)\n",
    "texts_gen, labels_gen, contract_ids_gen, contract_level_labels_gen = (\n",
    "    du.load_labeled_contracts(modified_gen_data_folder, modified=True)\n",
    ")"
   ]
  },
  {
   "cell_type": "code",
   "execution_count": 6,
   "id": "6ed68106",
   "metadata": {},
   "outputs": [],
   "source": [
    "# combine texts from different sources\n",
    "texts = texts + texts_untouched + texts_gen\n",
    "labels = labels + labels_untouched + labels_gen\n",
    "contract_ids = contract_ids + contract_ids_untouched + contract_ids_gen\n",
    "contract_level_labels = (\n",
    "    contract_level_labels + contract_level_labels_untouched + contract_level_labels_gen\n",
    ")"
   ]
  },
  {
   "cell_type": "code",
   "execution_count": 7,
   "id": "47834b21",
   "metadata": {},
   "outputs": [],
   "source": [
    "data = du.create_and_clean_base_df(texts, labels, contract_ids, contract_level_labels)"
   ]
  },
  {
   "cell_type": "code",
   "execution_count": 8,
   "id": "37ad2b23",
   "metadata": {},
   "outputs": [
    {
     "data": {
      "text/html": [
       "<div>\n",
       "<style scoped>\n",
       "    .dataframe tbody tr th:only-of-type {\n",
       "        vertical-align: middle;\n",
       "    }\n",
       "\n",
       "    .dataframe tbody tr th {\n",
       "        vertical-align: top;\n",
       "    }\n",
       "\n",
       "    .dataframe thead th {\n",
       "        text-align: right;\n",
       "    }\n",
       "</style>\n",
       "<table border=\"1\" class=\"dataframe\">\n",
       "  <thead>\n",
       "    <tr style=\"text-align: right;\">\n",
       "      <th></th>\n",
       "      <th>contract_ids</th>\n",
       "      <th>text</th>\n",
       "      <th>label</th>\n",
       "      <th>contract_label</th>\n",
       "      <th>real_clause</th>\n",
       "    </tr>\n",
       "  </thead>\n",
       "  <tbody>\n",
       "    <tr>\n",
       "      <th>0</th>\n",
       "      <td>000025126.txt</td>\n",
       "      <td>EXECUTION COPY AGREEMENT DATED 6 AUGUST, 2010 ...</td>\n",
       "      <td>0</td>\n",
       "      <td>1</td>\n",
       "      <td>0</td>\n",
       "    </tr>\n",
       "    <tr>\n",
       "      <th>1</th>\n",
       "      <td>000025126.txt</td>\n",
       "      <td>ARRANGED BY COMMERZBANK Aktiengesellschaft, po...</td>\n",
       "      <td>0</td>\n",
       "      <td>1</td>\n",
       "      <td>0</td>\n",
       "    </tr>\n",
       "    <tr>\n",
       "      <th>2</th>\n",
       "      <td>000025126.txt</td>\n",
       "      <td>as Mandated Lead Arrangers - AND Citibank Euro...</td>\n",
       "      <td>0</td>\n",
       "      <td>1</td>\n",
       "      <td>0</td>\n",
       "    </tr>\n",
       "    <tr>\n",
       "      <th>3</th>\n",
       "      <td>000025126.txt</td>\n",
       "      <td>0040772-0000059 BT:601674.7 - CONTENTS Clause ...</td>\n",
       "      <td>0</td>\n",
       "      <td>1</td>\n",
       "      <td>0</td>\n",
       "    </tr>\n",
       "    <tr>\n",
       "      <th>4</th>\n",
       "      <td>000025126.txt</td>\n",
       "      <td>with its registered seat at Vstupný areál U. S...</td>\n",
       "      <td>0</td>\n",
       "      <td>1</td>\n",
       "      <td>0</td>\n",
       "    </tr>\n",
       "    <tr>\n",
       "      <th>...</th>\n",
       "      <td>...</td>\n",
       "      <td>...</td>\n",
       "      <td>...</td>\n",
       "      <td>...</td>\n",
       "      <td>...</td>\n",
       "    </tr>\n",
       "    <tr>\n",
       "      <th>996863</th>\n",
       "      <td>000039516.txt</td>\n",
       "      <td>6. Other than in respect of the amendment refe...</td>\n",
       "      <td>0</td>\n",
       "      <td>1</td>\n",
       "      <td>0</td>\n",
       "    </tr>\n",
       "    <tr>\n",
       "      <th>996864</th>\n",
       "      <td>000039516.txt</td>\n",
       "      <td>7. This letter and any non-contractual obligat...</td>\n",
       "      <td>0</td>\n",
       "      <td>1</td>\n",
       "      <td>0</td>\n",
       "    </tr>\n",
       "    <tr>\n",
       "      <th>996865</th>\n",
       "      <td>000039516.txt</td>\n",
       "      <td>Please indicate your acceptance of the terms o...</td>\n",
       "      <td>0</td>\n",
       "      <td>1</td>\n",
       "      <td>0</td>\n",
       "    </tr>\n",
       "    <tr>\n",
       "      <th>996866</th>\n",
       "      <td>000039516.txt</td>\n",
       "      <td>Yours faithfully Lloyds TSB Bank plc ING Bank ...</td>\n",
       "      <td>0</td>\n",
       "      <td>1</td>\n",
       "      <td>0</td>\n",
       "    </tr>\n",
       "    <tr>\n",
       "      <th>996867</th>\n",
       "      <td>000039516.txt</td>\n",
       "      <td>By:/s/ Joseph E.(Jeff)Consolino By:/s/ Joseph ...</td>\n",
       "      <td>0</td>\n",
       "      <td>1</td>\n",
       "      <td>0</td>\n",
       "    </tr>\n",
       "  </tbody>\n",
       "</table>\n",
       "<p>996868 rows × 5 columns</p>\n",
       "</div>"
      ],
      "text/plain": [
       "         contract_ids                                               text  \\\n",
       "0       000025126.txt  EXECUTION COPY AGREEMENT DATED 6 AUGUST, 2010 ...   \n",
       "1       000025126.txt  ARRANGED BY COMMERZBANK Aktiengesellschaft, po...   \n",
       "2       000025126.txt  as Mandated Lead Arrangers - AND Citibank Euro...   \n",
       "3       000025126.txt  0040772-0000059 BT:601674.7 - CONTENTS Clause ...   \n",
       "4       000025126.txt  with its registered seat at Vstupný areál U. S...   \n",
       "...               ...                                                ...   \n",
       "996863  000039516.txt  6. Other than in respect of the amendment refe...   \n",
       "996864  000039516.txt  7. This letter and any non-contractual obligat...   \n",
       "996865  000039516.txt  Please indicate your acceptance of the terms o...   \n",
       "996866  000039516.txt  Yours faithfully Lloyds TSB Bank plc ING Bank ...   \n",
       "996867  000039516.txt  By:/s/ Joseph E.(Jeff)Consolino By:/s/ Joseph ...   \n",
       "\n",
       "        label  contract_label  real_clause  \n",
       "0           0               1            0  \n",
       "1           0               1            0  \n",
       "2           0               1            0  \n",
       "3           0               1            0  \n",
       "4           0               1            0  \n",
       "...       ...             ...          ...  \n",
       "996863      0               1            0  \n",
       "996864      0               1            0  \n",
       "996865      0               1            0  \n",
       "996866      0               1            0  \n",
       "996867      0               1            0  \n",
       "\n",
       "[996868 rows x 5 columns]"
      ]
     },
     "execution_count": 8,
     "metadata": {},
     "output_type": "execute_result"
    }
   ],
   "source": [
    "data"
   ]
  },
  {
   "cell_type": "markdown",
   "id": "c0b0d8b5",
   "metadata": {},
   "source": [
    "## Load Real Clauses for Training Data"
   ]
  },
  {
   "cell_type": "code",
   "execution_count": 9,
   "id": "56aa2b36",
   "metadata": {},
   "outputs": [],
   "source": [
    "clause_folder = \"../../data/clause_boxes\""
   ]
  },
  {
   "cell_type": "code",
   "execution_count": 10,
   "id": "13ee9ff0",
   "metadata": {},
   "outputs": [],
   "source": [
    "clause_texts, clause_labels, clause_ids, clause_reality = du.load_clauses(clause_folder)"
   ]
  },
  {
   "cell_type": "code",
   "execution_count": 11,
   "id": "9934f4d5",
   "metadata": {},
   "outputs": [],
   "source": [
    "# put this in the same form as the contract data so they can be combined; contract label for all of them is 1\n",
    "clause_data = pd.DataFrame(\n",
    "    {\n",
    "        \"contract_ids\": clause_ids,\n",
    "        \"text\": clause_texts,\n",
    "        \"label\": clause_labels,\n",
    "        \"contract_label\": [1] * len(clause_ids),\n",
    "        \"real_clause\": clause_reality,\n",
    "    }\n",
    ")"
   ]
  },
  {
   "cell_type": "code",
   "execution_count": 12,
   "id": "a87aa75a",
   "metadata": {},
   "outputs": [
    {
     "data": {
      "text/html": [
       "<div>\n",
       "<style scoped>\n",
       "    .dataframe tbody tr th:only-of-type {\n",
       "        vertical-align: middle;\n",
       "    }\n",
       "\n",
       "    .dataframe tbody tr th {\n",
       "        vertical-align: top;\n",
       "    }\n",
       "\n",
       "    .dataframe thead th {\n",
       "        text-align: right;\n",
       "    }\n",
       "</style>\n",
       "<table border=\"1\" class=\"dataframe\">\n",
       "  <thead>\n",
       "    <tr style=\"text-align: right;\">\n",
       "      <th></th>\n",
       "      <th>contract_ids</th>\n",
       "      <th>text</th>\n",
       "      <th>label</th>\n",
       "      <th>contract_label</th>\n",
       "      <th>real_clause</th>\n",
       "    </tr>\n",
       "  </thead>\n",
       "  <tbody>\n",
       "    <tr>\n",
       "      <th>0</th>\n",
       "      <td>Template_Board_Paper_for_Significant_Contracts...</td>\n",
       "      <td>&lt;div class=\"clause-wrapper\"&gt;</td>\n",
       "      <td>1</td>\n",
       "      <td>1</td>\n",
       "      <td>1</td>\n",
       "    </tr>\n",
       "    <tr>\n",
       "      <th>1</th>\n",
       "      <td>Template_Board_Paper_for_Significant_Contracts...</td>\n",
       "      <td>&lt;p class=\"childs-name\"&gt;Griff's Clause&lt;/p&gt;</td>\n",
       "      <td>1</td>\n",
       "      <td>1</td>\n",
       "      <td>1</td>\n",
       "    </tr>\n",
       "    <tr>\n",
       "      <th>2</th>\n",
       "      <td>Template_Board_Paper_for_Significant_Contracts...</td>\n",
       "      <td>&lt;h4&gt;Template Board Paper for Significant Contr...</td>\n",
       "      <td>1</td>\n",
       "      <td>1</td>\n",
       "      <td>1</td>\n",
       "    </tr>\n",
       "    <tr>\n",
       "      <th>3</th>\n",
       "      <td>Template_Board_Paper_for_Significant_Contracts...</td>\n",
       "      <td>&lt;p class=\"excerpt\"&gt;Template board papers with ...</td>\n",
       "      <td>1</td>\n",
       "      <td>1</td>\n",
       "      <td>1</td>\n",
       "    </tr>\n",
       "    <tr>\n",
       "      <th>4</th>\n",
       "      <td>Template_Board_Paper_for_Significant_Contracts...</td>\n",
       "      <td>&lt;p class=\"meta-data\"&gt;</td>\n",
       "      <td>1</td>\n",
       "      <td>1</td>\n",
       "      <td>1</td>\n",
       "    </tr>\n",
       "    <tr>\n",
       "      <th>...</th>\n",
       "      <td>...</td>\n",
       "      <td>...</td>\n",
       "      <td>...</td>\n",
       "      <td>...</td>\n",
       "      <td>...</td>\n",
       "    </tr>\n",
       "    <tr>\n",
       "      <th>1703</th>\n",
       "      <td>Stakeholder_Company_Climate_Questionnaire.txt</td>\n",
       "      <td>&lt;span class=\"cfc-leadin\"&gt;Updated: &lt;/span&gt;</td>\n",
       "      <td>1</td>\n",
       "      <td>1</td>\n",
       "      <td>1</td>\n",
       "    </tr>\n",
       "    <tr>\n",
       "      <th>1704</th>\n",
       "      <td>Stakeholder_Company_Climate_Questionnaire.txt</td>\n",
       "      <td>&lt;span class=\"cfc-taxonomy\"&gt;2024-09-10 10:35:26...</td>\n",
       "      <td>1</td>\n",
       "      <td>1</td>\n",
       "      <td>1</td>\n",
       "    </tr>\n",
       "    <tr>\n",
       "      <th>1705</th>\n",
       "      <td>Stakeholder_Company_Climate_Questionnaire.txt</td>\n",
       "      <td>&lt;/p&gt;</td>\n",
       "      <td>1</td>\n",
       "      <td>1</td>\n",
       "      <td>1</td>\n",
       "    </tr>\n",
       "    <tr>\n",
       "      <th>1706</th>\n",
       "      <td>Stakeholder_Company_Climate_Questionnaire.txt</td>\n",
       "      <td>&lt;a href=\"https://chancerylaneproject.org/claus...</td>\n",
       "      <td>1</td>\n",
       "      <td>1</td>\n",
       "      <td>1</td>\n",
       "    </tr>\n",
       "    <tr>\n",
       "      <th>1707</th>\n",
       "      <td>Stakeholder_Company_Climate_Questionnaire.txt</td>\n",
       "      <td>&lt;/div&gt;</td>\n",
       "      <td>1</td>\n",
       "      <td>1</td>\n",
       "      <td>1</td>\n",
       "    </tr>\n",
       "  </tbody>\n",
       "</table>\n",
       "<p>1708 rows × 5 columns</p>\n",
       "</div>"
      ],
      "text/plain": [
       "                                           contract_ids  \\\n",
       "0     Template_Board_Paper_for_Significant_Contracts...   \n",
       "1     Template_Board_Paper_for_Significant_Contracts...   \n",
       "2     Template_Board_Paper_for_Significant_Contracts...   \n",
       "3     Template_Board_Paper_for_Significant_Contracts...   \n",
       "4     Template_Board_Paper_for_Significant_Contracts...   \n",
       "...                                                 ...   \n",
       "1703      Stakeholder_Company_Climate_Questionnaire.txt   \n",
       "1704      Stakeholder_Company_Climate_Questionnaire.txt   \n",
       "1705      Stakeholder_Company_Climate_Questionnaire.txt   \n",
       "1706      Stakeholder_Company_Climate_Questionnaire.txt   \n",
       "1707      Stakeholder_Company_Climate_Questionnaire.txt   \n",
       "\n",
       "                                                   text  label  \\\n",
       "0                          <div class=\"clause-wrapper\">      1   \n",
       "1             <p class=\"childs-name\">Griff's Clause</p>      1   \n",
       "2     <h4>Template Board Paper for Significant Contr...      1   \n",
       "3     <p class=\"excerpt\">Template board papers with ...      1   \n",
       "4                                 <p class=\"meta-data\">      1   \n",
       "...                                                 ...    ...   \n",
       "1703          <span class=\"cfc-leadin\">Updated: </span>      1   \n",
       "1704  <span class=\"cfc-taxonomy\">2024-09-10 10:35:26...      1   \n",
       "1705                                               </p>      1   \n",
       "1706  <a href=\"https://chancerylaneproject.org/claus...      1   \n",
       "1707                                             </div>      1   \n",
       "\n",
       "      contract_label  real_clause  \n",
       "0                  1            1  \n",
       "1                  1            1  \n",
       "2                  1            1  \n",
       "3                  1            1  \n",
       "4                  1            1  \n",
       "...              ...          ...  \n",
       "1703               1            1  \n",
       "1704               1            1  \n",
       "1705               1            1  \n",
       "1706               1            1  \n",
       "1707               1            1  \n",
       "\n",
       "[1708 rows x 5 columns]"
      ]
     },
     "execution_count": 12,
     "metadata": {},
     "output_type": "execute_result"
    }
   ],
   "source": [
    "clause_data"
   ]
  },
  {
   "cell_type": "markdown",
   "id": "03414079",
   "metadata": {},
   "source": [
    "## Creating Full Dataframe"
   ]
  },
  {
   "cell_type": "markdown",
   "id": "24d625f0",
   "metadata": {},
   "source": [
    "Now that my two dataframes are in the same form, I can combine them to create one data set. \n",
    "\n",
    "From there, I can create my training, testing, and validation data."
   ]
  },
  {
   "cell_type": "code",
   "execution_count": 13,
   "id": "1d531fd7",
   "metadata": {},
   "outputs": [],
   "source": [
    "full_data = pd.concat([data, clause_data], ignore_index=True)"
   ]
  },
  {
   "cell_type": "code",
   "execution_count": 14,
   "id": "ccc06c6a",
   "metadata": {},
   "outputs": [
    {
     "data": {
      "text/html": [
       "<div>\n",
       "<style scoped>\n",
       "    .dataframe tbody tr th:only-of-type {\n",
       "        vertical-align: middle;\n",
       "    }\n",
       "\n",
       "    .dataframe tbody tr th {\n",
       "        vertical-align: top;\n",
       "    }\n",
       "\n",
       "    .dataframe thead th {\n",
       "        text-align: right;\n",
       "    }\n",
       "</style>\n",
       "<table border=\"1\" class=\"dataframe\">\n",
       "  <thead>\n",
       "    <tr style=\"text-align: right;\">\n",
       "      <th></th>\n",
       "      <th>contract_ids</th>\n",
       "      <th>text</th>\n",
       "      <th>label</th>\n",
       "      <th>contract_label</th>\n",
       "      <th>real_clause</th>\n",
       "    </tr>\n",
       "  </thead>\n",
       "  <tbody>\n",
       "    <tr>\n",
       "      <th>0</th>\n",
       "      <td>000025126.txt</td>\n",
       "      <td>EXECUTION COPY AGREEMENT DATED 6 AUGUST, 2010 ...</td>\n",
       "      <td>0</td>\n",
       "      <td>1</td>\n",
       "      <td>0</td>\n",
       "    </tr>\n",
       "    <tr>\n",
       "      <th>1</th>\n",
       "      <td>000025126.txt</td>\n",
       "      <td>ARRANGED BY COMMERZBANK Aktiengesellschaft, po...</td>\n",
       "      <td>0</td>\n",
       "      <td>1</td>\n",
       "      <td>0</td>\n",
       "    </tr>\n",
       "    <tr>\n",
       "      <th>2</th>\n",
       "      <td>000025126.txt</td>\n",
       "      <td>as Mandated Lead Arrangers - AND Citibank Euro...</td>\n",
       "      <td>0</td>\n",
       "      <td>1</td>\n",
       "      <td>0</td>\n",
       "    </tr>\n",
       "    <tr>\n",
       "      <th>3</th>\n",
       "      <td>000025126.txt</td>\n",
       "      <td>0040772-0000059 BT:601674.7 - CONTENTS Clause ...</td>\n",
       "      <td>0</td>\n",
       "      <td>1</td>\n",
       "      <td>0</td>\n",
       "    </tr>\n",
       "    <tr>\n",
       "      <th>4</th>\n",
       "      <td>000025126.txt</td>\n",
       "      <td>with its registered seat at Vstupný areál U. S...</td>\n",
       "      <td>0</td>\n",
       "      <td>1</td>\n",
       "      <td>0</td>\n",
       "    </tr>\n",
       "    <tr>\n",
       "      <th>...</th>\n",
       "      <td>...</td>\n",
       "      <td>...</td>\n",
       "      <td>...</td>\n",
       "      <td>...</td>\n",
       "      <td>...</td>\n",
       "    </tr>\n",
       "    <tr>\n",
       "      <th>998571</th>\n",
       "      <td>Stakeholder_Company_Climate_Questionnaire.txt</td>\n",
       "      <td>&lt;span class=\"cfc-leadin\"&gt;Updated: &lt;/span&gt;</td>\n",
       "      <td>1</td>\n",
       "      <td>1</td>\n",
       "      <td>1</td>\n",
       "    </tr>\n",
       "    <tr>\n",
       "      <th>998572</th>\n",
       "      <td>Stakeholder_Company_Climate_Questionnaire.txt</td>\n",
       "      <td>&lt;span class=\"cfc-taxonomy\"&gt;2024-09-10 10:35:26...</td>\n",
       "      <td>1</td>\n",
       "      <td>1</td>\n",
       "      <td>1</td>\n",
       "    </tr>\n",
       "    <tr>\n",
       "      <th>998573</th>\n",
       "      <td>Stakeholder_Company_Climate_Questionnaire.txt</td>\n",
       "      <td>&lt;/p&gt;</td>\n",
       "      <td>1</td>\n",
       "      <td>1</td>\n",
       "      <td>1</td>\n",
       "    </tr>\n",
       "    <tr>\n",
       "      <th>998574</th>\n",
       "      <td>Stakeholder_Company_Climate_Questionnaire.txt</td>\n",
       "      <td>&lt;a href=\"https://chancerylaneproject.org/claus...</td>\n",
       "      <td>1</td>\n",
       "      <td>1</td>\n",
       "      <td>1</td>\n",
       "    </tr>\n",
       "    <tr>\n",
       "      <th>998575</th>\n",
       "      <td>Stakeholder_Company_Climate_Questionnaire.txt</td>\n",
       "      <td>&lt;/div&gt;</td>\n",
       "      <td>1</td>\n",
       "      <td>1</td>\n",
       "      <td>1</td>\n",
       "    </tr>\n",
       "  </tbody>\n",
       "</table>\n",
       "<p>998576 rows × 5 columns</p>\n",
       "</div>"
      ],
      "text/plain": [
       "                                         contract_ids  \\\n",
       "0                                       000025126.txt   \n",
       "1                                       000025126.txt   \n",
       "2                                       000025126.txt   \n",
       "3                                       000025126.txt   \n",
       "4                                       000025126.txt   \n",
       "...                                               ...   \n",
       "998571  Stakeholder_Company_Climate_Questionnaire.txt   \n",
       "998572  Stakeholder_Company_Climate_Questionnaire.txt   \n",
       "998573  Stakeholder_Company_Climate_Questionnaire.txt   \n",
       "998574  Stakeholder_Company_Climate_Questionnaire.txt   \n",
       "998575  Stakeholder_Company_Climate_Questionnaire.txt   \n",
       "\n",
       "                                                     text  label  \\\n",
       "0       EXECUTION COPY AGREEMENT DATED 6 AUGUST, 2010 ...      0   \n",
       "1       ARRANGED BY COMMERZBANK Aktiengesellschaft, po...      0   \n",
       "2       as Mandated Lead Arrangers - AND Citibank Euro...      0   \n",
       "3       0040772-0000059 BT:601674.7 - CONTENTS Clause ...      0   \n",
       "4       with its registered seat at Vstupný areál U. S...      0   \n",
       "...                                                   ...    ...   \n",
       "998571          <span class=\"cfc-leadin\">Updated: </span>      1   \n",
       "998572  <span class=\"cfc-taxonomy\">2024-09-10 10:35:26...      1   \n",
       "998573                                               </p>      1   \n",
       "998574  <a href=\"https://chancerylaneproject.org/claus...      1   \n",
       "998575                                             </div>      1   \n",
       "\n",
       "        contract_label  real_clause  \n",
       "0                    1            0  \n",
       "1                    1            0  \n",
       "2                    1            0  \n",
       "3                    1            0  \n",
       "4                    1            0  \n",
       "...                ...          ...  \n",
       "998571               1            1  \n",
       "998572               1            1  \n",
       "998573               1            1  \n",
       "998574               1            1  \n",
       "998575               1            1  \n",
       "\n",
       "[998576 rows x 5 columns]"
      ]
     },
     "execution_count": 14,
     "metadata": {},
     "output_type": "execute_result"
    }
   ],
   "source": [
    "full_data"
   ]
  },
  {
   "cell_type": "markdown",
   "id": "5d4217e3",
   "metadata": {},
   "source": [
    "____"
   ]
  },
  {
   "cell_type": "code",
   "execution_count": 15,
   "id": "df09214e",
   "metadata": {},
   "outputs": [
    {
     "name": "stderr",
     "output_type": "stream",
     "text": [
      "/Users/georgia/Library/Caches/pypoetry/virtualenvs/tclp-iQ_dTQ3E-py3.10/lib/python3.10/site-packages/torch/_utils.py:831: UserWarning: TypedStorage is deprecated. It will be removed in the future and UntypedStorage will be the only storage class. This should only matter to you if you are using storages directly.  To access UntypedStorage directly, use tensor.untyped_storage() instead of tensor.storage()\n",
      "  return self.fget.__get__(instance, owner)()\n",
      "Some weights of RobertaForSequenceClassification were not initialized from the model checkpoint at ../../contract_climate_bert and are newly initialized: ['classifier.dense.bias', 'classifier.dense.weight', 'classifier.out_proj.bias', 'classifier.out_proj.weight']\n",
      "You should probably TRAIN this model on a down-stream task to be able to use it for predictions and inference.\n"
     ]
    }
   ],
   "source": [
    "model_path = \"../../contract_climate_bert\" \n",
    "\n",
    "tokenizer = AutoTokenizer.from_pretrained(model_path)\n",
    "model = AutoModelForSequenceClassification.from_pretrained(\n",
    "    model_path,\n",
    "    num_labels=2  # binary classification: clause / not-clause\n",
    ")"
   ]
  },
  {
   "cell_type": "code",
   "execution_count": 16,
   "id": "6cb7f72c",
   "metadata": {},
   "outputs": [
    {
     "name": "stdout",
     "output_type": "stream",
     "text": [
      "Train: 75.04%\n",
      "Validation: 9.98%\n",
      "Test: 14.97%\n"
     ]
    }
   ],
   "source": [
    "train_data, val_data, test_data, train_indices, val_indices, test_indices = (\n",
    "    du.custom_train_test_split(full_data, \"real_clause\")\n",
    ")"
   ]
  },
  {
   "cell_type": "code",
   "execution_count": 17,
   "id": "1976bcdf",
   "metadata": {},
   "outputs": [],
   "source": [
    "from datasets import Dataset\n",
    "\n",
    "train_dataset = Dataset.from_pandas(train_data[[\"text\", \"label\"]].reset_index(drop=True))\n",
    "val_dataset = Dataset.from_pandas(val_data[[\"text\", \"label\"]].reset_index(drop=True))\n",
    "test_dataset = Dataset.from_pandas(test_data[[\"text\", \"label\"]].reset_index(drop=True))"
   ]
  },
  {
   "cell_type": "code",
   "execution_count": 18,
   "id": "551a027f",
   "metadata": {},
   "outputs": [],
   "source": [
    "def tokenize(example):\n",
    "    return tokenizer(\n",
    "        example[\"text\"],\n",
    "        padding=\"max_length\",\n",
    "        truncation=True,\n",
    "        max_length=512,\n",
    "    )"
   ]
  },
  {
   "cell_type": "code",
   "execution_count": 19,
   "id": "b9bd2901",
   "metadata": {},
   "outputs": [
    {
     "data": {
      "application/vnd.jupyter.widget-view+json": {
       "model_id": "9fcb8ccdd2fe401f895147eb539df8eb",
       "version_major": 2,
       "version_minor": 0
      },
      "text/plain": [
       "Map:   0%|          | 0/749363 [00:00<?, ? examples/s]"
      ]
     },
     "metadata": {},
     "output_type": "display_data"
    },
    {
     "data": {
      "application/vnd.jupyter.widget-view+json": {
       "model_id": "6a0b076610fd4bbaafa04ea6c3b563ce",
       "version_major": 2,
       "version_minor": 0
      },
      "text/plain": [
       "Map:   0%|          | 0/99697 [00:00<?, ? examples/s]"
      ]
     },
     "metadata": {},
     "output_type": "display_data"
    },
    {
     "data": {
      "application/vnd.jupyter.widget-view+json": {
       "model_id": "1006cf6fe0164aefb43f6c12e154a36f",
       "version_major": 2,
       "version_minor": 0
      },
      "text/plain": [
       "Map:   0%|          | 0/149514 [00:00<?, ? examples/s]"
      ]
     },
     "metadata": {},
     "output_type": "display_data"
    }
   ],
   "source": [
    "train_dataset = train_dataset.map(tokenize, batched=True).rename_column(\"label\", \"labels\")\n",
    "val_dataset = val_dataset.map(tokenize, batched=True).rename_column(\"label\", \"labels\")\n",
    "test_dataset = test_dataset.map(tokenize, batched=True).rename_column(\"label\", \"labels\")\n",
    "\n",
    "for ds in [train_dataset, val_dataset, test_dataset]:\n",
    "    ds.set_format(type=\"torch\", columns=[\"input_ids\", \"attention_mask\", \"labels\"])\n"
   ]
  },
  {
   "cell_type": "code",
   "execution_count": 20,
   "id": "77b9bc85",
   "metadata": {},
   "outputs": [
    {
     "name": "stderr",
     "output_type": "stream",
     "text": [
      "/Users/georgia/Library/Caches/pypoetry/virtualenvs/tclp-iQ_dTQ3E-py3.10/lib/python3.10/site-packages/transformers/training_args.py:1568: FutureWarning: `evaluation_strategy` is deprecated and will be removed in version 4.46 of 🤗 Transformers. Use `eval_strategy` instead\n",
      "  warnings.warn(\n"
     ]
    }
   ],
   "source": [
    "from transformers import TrainingArguments, Trainer\n",
    "\n",
    "training_args = TrainingArguments(\n",
    "    output_dir=\"./results\",\n",
    "    evaluation_strategy=\"epoch\",\n",
    "    save_strategy=\"epoch\",\n",
    "    logging_strategy=\"epoch\",\n",
    "    learning_rate=2e-5,\n",
    "    per_device_train_batch_size=8,\n",
    "    per_device_eval_batch_size=16,\n",
    "    num_train_epochs=3,\n",
    "    weight_decay=0.01,\n",
    "    load_best_model_at_end=True,\n",
    "    metric_for_best_model=\"f1\",\n",
    ")\n",
    "\n",
    "def compute_metrics(eval_pred):\n",
    "    logits, labels = eval_pred\n",
    "    preds = np.argmax(logits, axis=1)\n",
    "    return {\n",
    "        \"accuracy\": accuracy_score(labels, preds),\n",
    "        \"f1\": f1_score(labels, preds),\n",
    "    }\n",
    "\n",
    "trainer = Trainer(\n",
    "    model=model,\n",
    "    args=training_args,\n",
    "    train_dataset=train_dataset,\n",
    "    eval_dataset=val_dataset,\n",
    "    compute_metrics=compute_metrics,\n",
    ")\n"
   ]
  },
  {
   "cell_type": "code",
   "execution_count": 4,
   "id": "21bd0768",
   "metadata": {},
   "outputs": [
    {
     "name": "stderr",
     "output_type": "stream",
     "text": [
      "\u001b[34m\u001b[1mwandb\u001b[0m: Using wandb-core as the SDK backend.  Please refer to https://wandb.me/wandb-core for more information.\n",
      "\u001b[34m\u001b[1mwandb\u001b[0m: Currently logged in as: \u001b[33mger23\u001b[0m (\u001b[33mger23-imperial-college-london\u001b[0m) to \u001b[32mhttps://api.wandb.ai\u001b[0m. Use \u001b[1m`wandb login --relogin`\u001b[0m to force relogin\n"
     ]
    },
    {
     "data": {
      "text/html": [
       "Tracking run with wandb version 0.19.9"
      ],
      "text/plain": [
       "<IPython.core.display.HTML object>"
      ]
     },
     "metadata": {},
     "output_type": "display_data"
    },
    {
     "data": {
      "text/html": [
       "Run data is saved locally in <code>/Users/georgia/Documents/coding/Clause-Comparison/tclp/clause_detector/notebooks/wandb/run-20250424_151339-zjkqgl4l</code>"
      ],
      "text/plain": [
       "<IPython.core.display.HTML object>"
      ]
     },
     "metadata": {},
     "output_type": "display_data"
    },
    {
     "data": {
      "text/html": [
       "Syncing run <strong><a href='https://wandb.ai/ger23-imperial-college-london/Clause-Comparison-tclp_clause_detector_notebooks/runs/zjkqgl4l' target=\"_blank\">balmy-valley-6</a></strong> to <a href='https://wandb.ai/ger23-imperial-college-london/Clause-Comparison-tclp_clause_detector_notebooks' target=\"_blank\">Weights & Biases</a> (<a href='https://wandb.me/developer-guide' target=\"_blank\">docs</a>)<br>"
      ],
      "text/plain": [
       "<IPython.core.display.HTML object>"
      ]
     },
     "metadata": {},
     "output_type": "display_data"
    },
    {
     "data": {
      "text/html": [
       " View project at <a href='https://wandb.ai/ger23-imperial-college-london/Clause-Comparison-tclp_clause_detector_notebooks' target=\"_blank\">https://wandb.ai/ger23-imperial-college-london/Clause-Comparison-tclp_clause_detector_notebooks</a>"
      ],
      "text/plain": [
       "<IPython.core.display.HTML object>"
      ]
     },
     "metadata": {},
     "output_type": "display_data"
    },
    {
     "data": {
      "text/html": [
       " View run at <a href='https://wandb.ai/ger23-imperial-college-london/Clause-Comparison-tclp_clause_detector_notebooks/runs/zjkqgl4l' target=\"_blank\">https://wandb.ai/ger23-imperial-college-london/Clause-Comparison-tclp_clause_detector_notebooks/runs/zjkqgl4l</a>"
      ],
      "text/plain": [
       "<IPython.core.display.HTML object>"
      ]
     },
     "metadata": {},
     "output_type": "display_data"
    },
    {
     "name": "stdout",
     "output_type": "stream",
     "text": [
      "climatebert-checkpoint-10000:v0\n"
     ]
    }
   ],
   "source": [
    "# Login if not already\n",
    "wandb.login()\n",
    "wandb.init()\n",
    "\n",
    "api = wandb.Api()\n",
    "run = api.run(\"ger23-imperial-college-london/climatebert-classification/ulavv1k3\")\n",
    "\n",
    "for artifact in run.logged_artifacts():\n",
    "    print(artifact.name)\n",
    "\n"
   ]
  },
  {
   "cell_type": "code",
   "execution_count": null,
   "id": "e2a7f466",
   "metadata": {},
   "outputs": [
    {
     "name": "stderr",
     "output_type": "stream",
     "text": [
      "\u001b[34m\u001b[1mwandb\u001b[0m: \u001b[33mWARNING\u001b[0m The `run_name` is currently set to the same value as `TrainingArguments.output_dir`. If this was not intended, please specify a different run name by setting the `TrainingArguments.run_name` parameter.\n",
      "huggingface/tokenizers: The current process just got forked, after parallelism has already been used. Disabling parallelism to avoid deadlocks...\n",
      "To disable this warning, you can either:\n",
      "\t- Avoid using `tokenizers` before the fork if possible\n",
      "\t- Explicitly set the environment variable TOKENIZERS_PARALLELISM=(true | false)\n",
      "huggingface/tokenizers: The current process just got forked, after parallelism has already been used. Disabling parallelism to avoid deadlocks...\n",
      "To disable this warning, you can either:\n",
      "\t- Avoid using `tokenizers` before the fork if possible\n",
      "\t- Explicitly set the environment variable TOKENIZERS_PARALLELISM=(true | false)\n",
      "\u001b[34m\u001b[1mwandb\u001b[0m: Using wandb-core as the SDK backend.  Please refer to https://wandb.me/wandb-core for more information.\n",
      "huggingface/tokenizers: The current process just got forked, after parallelism has already been used. Disabling parallelism to avoid deadlocks...\n",
      "To disable this warning, you can either:\n",
      "\t- Avoid using `tokenizers` before the fork if possible\n",
      "\t- Explicitly set the environment variable TOKENIZERS_PARALLELISM=(true | false)\n",
      "\u001b[34m\u001b[1mwandb\u001b[0m: Currently logged in as: \u001b[33mger23\u001b[0m (\u001b[33mger23-imperial-college-london\u001b[0m) to \u001b[32mhttps://api.wandb.ai\u001b[0m. Use \u001b[1m`wandb login --relogin`\u001b[0m to force relogin\n",
      "huggingface/tokenizers: The current process just got forked, after parallelism has already been used. Disabling parallelism to avoid deadlocks...\n",
      "To disable this warning, you can either:\n",
      "\t- Avoid using `tokenizers` before the fork if possible\n",
      "\t- Explicitly set the environment variable TOKENIZERS_PARALLELISM=(true | false)\n",
      "huggingface/tokenizers: The current process just got forked, after parallelism has already been used. Disabling parallelism to avoid deadlocks...\n",
      "To disable this warning, you can either:\n",
      "\t- Avoid using `tokenizers` before the fork if possible\n",
      "\t- Explicitly set the environment variable TOKENIZERS_PARALLELISM=(true | false)\n"
     ]
    },
    {
     "data": {
      "text/html": [
       "Waiting for wandb.init()..."
      ],
      "text/plain": [
       "<IPython.core.display.HTML object>"
      ]
     },
     "metadata": {},
     "output_type": "display_data"
    },
    {
     "data": {
      "text/html": [
       "Tracking run with wandb version 0.19.9"
      ],
      "text/plain": [
       "<IPython.core.display.HTML object>"
      ]
     },
     "metadata": {},
     "output_type": "display_data"
    },
    {
     "data": {
      "text/html": [
       "Run data is saved locally in <code>/Users/georgia/Documents/coding/Clause-Comparison/tclp/clause_detector/notebooks/wandb/run-20250422_133836-3kluf17j</code>"
      ],
      "text/plain": [
       "<IPython.core.display.HTML object>"
      ]
     },
     "metadata": {},
     "output_type": "display_data"
    },
    {
     "data": {
      "text/html": [
       "Syncing run <strong><a href='https://wandb.ai/ger23-imperial-college-london/huggingface/runs/3kluf17j' target=\"_blank\">./results</a></strong> to <a href='https://wandb.ai/ger23-imperial-college-london/huggingface' target=\"_blank\">Weights & Biases</a> (<a href='https://wandb.me/developer-guide' target=\"_blank\">docs</a>)<br>"
      ],
      "text/plain": [
       "<IPython.core.display.HTML object>"
      ]
     },
     "metadata": {},
     "output_type": "display_data"
    },
    {
     "data": {
      "text/html": [
       " View project at <a href='https://wandb.ai/ger23-imperial-college-london/huggingface' target=\"_blank\">https://wandb.ai/ger23-imperial-college-london/huggingface</a>"
      ],
      "text/plain": [
       "<IPython.core.display.HTML object>"
      ]
     },
     "metadata": {},
     "output_type": "display_data"
    },
    {
     "data": {
      "text/html": [
       " View run at <a href='https://wandb.ai/ger23-imperial-college-london/huggingface/runs/3kluf17j' target=\"_blank\">https://wandb.ai/ger23-imperial-college-london/huggingface/runs/3kluf17j</a>"
      ],
      "text/plain": [
       "<IPython.core.display.HTML object>"
      ]
     },
     "metadata": {},
     "output_type": "display_data"
    },
    {
     "data": {
      "application/vnd.jupyter.widget-view+json": {
       "model_id": "1fef980b884d421c86163a4c3abec367",
       "version_major": 2,
       "version_minor": 0
      },
      "text/plain": [
       "  0%|          | 0/281013 [00:00<?, ?it/s]"
      ]
     },
     "metadata": {},
     "output_type": "display_data"
    }
   ],
   "source": [
    "trainer.train()"
   ]
  },
  {
   "cell_type": "markdown",
   "id": "e824bb05",
   "metadata": {},
   "source": [
    "_____"
   ]
  },
  {
   "cell_type": "markdown",
   "id": "309bb7b1",
   "metadata": {},
   "source": [
    "## Train Test Split\n",
    "\n",
    "I will keep individual contracts together in either train, test, or split as well as ensure anything with the 'real_clause' positive designation is in the training set."
   ]
  },
  {
   "cell_type": "code",
   "execution_count": null,
   "id": "97391359",
   "metadata": {},
   "outputs": [
    {
     "name": "stdout",
     "output_type": "stream",
     "text": [
      "Train: 75.1%\n",
      "Validation: 9.99%\n",
      "Test: 14.91%\n"
     ]
    }
   ],
   "source": [
    "train_data, val_data, test_data, train_indices, val_indices, test_indices = (\n",
    "    du.custom_train_test_split(full_data, \"real_clause\")\n",
    ")"
   ]
  },
  {
   "cell_type": "code",
   "execution_count": null,
   "id": "86d06cdc",
   "metadata": {},
   "outputs": [],
   "source": [
    "X_train, y_train = du.X_y_split(train_data)\n",
    "X_val, y_val = du.X_y_split(val_data)\n",
    "X_test, y_test = du.X_y_split(test_data)"
   ]
  },
  {
   "cell_type": "code",
   "execution_count": null,
   "id": "9ed5abc4",
   "metadata": {},
   "outputs": [
    {
     "name": "stdout",
     "output_type": "stream",
     "text": [
      "Test contracts have been saved to: ../../data/test_contracts\n"
     ]
    }
   ],
   "source": [
    "# save the test contracts for future use\n",
    "du.save_test_data(\n",
    "    test_data, \"../../data/synth_data/combined\", \"../../data/test_contracts\"\n",
    ")"
   ]
  },
  {
   "cell_type": "markdown",
   "id": "40dcd0a6",
   "metadata": {},
   "source": [
    "## Training a Model"
   ]
  },
  {
   "cell_type": "code",
   "execution_count": null,
   "id": "b18c1895",
   "metadata": {},
   "outputs": [],
   "source": [
    "model = Pipeline(\n",
    "    [\n",
    "        (\"tfidf\", TfidfVectorizer(max_features=None, ngram_range=(1, 2), min_df=2)),\n",
    "        (\n",
    "            \"logreg\",\n",
    "            LogisticRegression(\n",
    "                max_iter=1000, class_weight=\"balanced\", solver=\"liblinear\", C=10\n",
    "            ),\n",
    "        ),\n",
    "    ]\n",
    ")\n",
    "model.fit(X_train, y_train)"
   ]
  },
  {
   "cell_type": "code",
   "execution_count": null,
   "id": "8d849477",
   "metadata": {},
   "outputs": [],
   "source": [
    "# save the model to disk\n",
    "du.save_model(model, \"../clause_identifier_model.pkl\")"
   ]
  },
  {
   "cell_type": "code",
   "execution_count": null,
   "id": "88f093be",
   "metadata": {},
   "outputs": [],
   "source": [
    "y_pred = du.evaluate_model_clause_level(model, X_val, y_val)"
   ]
  },
  {
   "cell_type": "markdown",
   "id": "db901917",
   "metadata": {},
   "source": [
    "## Extrapolating Results to Contracts"
   ]
  },
  {
   "cell_type": "code",
   "execution_count": null,
   "id": "33624a68",
   "metadata": {},
   "outputs": [],
   "source": [
    "val_contract_df = du.create_contract_df(X_val, val_data, y_pred)"
   ]
  },
  {
   "cell_type": "code",
   "execution_count": null,
   "id": "ade0ca63",
   "metadata": {},
   "outputs": [],
   "source": [
    "val_contract_df"
   ]
  },
  {
   "cell_type": "code",
   "execution_count": null,
   "id": "d106f402",
   "metadata": {},
   "outputs": [],
   "source": [
    "f1s, f1_thresholds = du.threshold_graphs(\n",
    "    val_contract_df, thresholds=range(1, 8), metric_type=\"f1\"\n",
    ")"
   ]
  },
  {
   "cell_type": "code",
   "execution_count": null,
   "id": "d02d6bfc",
   "metadata": {},
   "outputs": [],
   "source": [
    "du.print_contract_classification_report(val_contract_df, f1s, f1_thresholds)"
   ]
  },
  {
   "cell_type": "markdown",
   "id": "39bcde0b",
   "metadata": {},
   "source": [
    "## Test Set"
   ]
  },
  {
   "cell_type": "code",
   "execution_count": null,
   "id": "665e5806",
   "metadata": {},
   "outputs": [],
   "source": [
    "test_contract_df = du.create_contract_df(X_test, test_data, model.predict(X_test))"
   ]
  },
  {
   "cell_type": "code",
   "execution_count": null,
   "id": "6d3b19e8",
   "metadata": {},
   "outputs": [],
   "source": [
    "f1s, f1_thresholds = du.threshold_graphs(\n",
    "    test_contract_df, thresholds=range(1, 7), metric_type=\"f1\"\n",
    ")"
   ]
  },
  {
   "cell_type": "code",
   "execution_count": null,
   "id": "453b0626",
   "metadata": {},
   "outputs": [],
   "source": [
    "du.print_contract_classification_report(test_contract_df, f1s, f1_thresholds)"
   ]
  },
  {
   "cell_type": "code",
   "execution_count": null,
   "id": "ff9175ab",
   "metadata": {},
   "outputs": [],
   "source": []
  }
 ],
 "metadata": {
  "kernelspec": {
   "display_name": "Python (TCLP)",
   "language": "python",
   "name": "tclp"
  },
  "language_info": {
   "codemirror_mode": {
    "name": "ipython",
    "version": 3
   },
   "file_extension": ".py",
   "mimetype": "text/x-python",
   "name": "python",
   "nbconvert_exporter": "python",
   "pygments_lexer": "ipython3",
   "version": "3.10.15"
  }
 },
 "nbformat": 4,
 "nbformat_minor": 5
}
