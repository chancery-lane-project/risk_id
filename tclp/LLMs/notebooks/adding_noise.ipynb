{
 "cells": [
  {
   "cell_type": "markdown",
   "metadata": {},
   "source": [
    "## Jupyter Notebook to Add Noise to Clauses, Generating More\n",
    "\n",
    "This notebook accesses the openAI API to fine tune and generate synthetic clauses. \n",
    "\n",
    "While inexpensive, this is not free. Users should use pre-generated clauses. This is just included to demonstrate the process"
   ]
  },
  {
   "cell_type": "code",
   "execution_count": null,
   "metadata": {},
   "outputs": [],
   "source": [
    "from tclp.clause_recommender import utils\n",
    "import os\n",
    "from openai import OpenAI\n",
    "import json\n",
    "import re\n",
    "import random"
   ]
  },
  {
   "cell_type": "markdown",
   "metadata": {},
   "source": [
    "## Loading Clauses"
   ]
  },
  {
   "cell_type": "code",
   "execution_count": null,
   "metadata": {},
   "outputs": [],
   "source": [
    "folder_path = \"../../data/cleaned_clauses\"\n",
    "clauses, clause_names = utils.load_clauses(folder_path)"
   ]
  },
  {
   "cell_type": "code",
   "execution_count": null,
   "metadata": {},
   "outputs": [],
   "source": [
    "# converting to JSON\n",
    "clauses_list = []\n",
    "for i in range(len(clause_names)):\n",
    "    clauses_list.append({\"name\": clause_names[i], \"content\": clauses[i]})\n",
    "clauses_json = json.dumps(clauses_list, indent=4)"
   ]
  },
  {
   "cell_type": "code",
   "execution_count": null,
   "metadata": {},
   "outputs": [],
   "source": [
    "def view_clause_json(clause_list, index_to_view=1):\n",
    "    if 0 <= index_to_view < len(clause_list):\n",
    "        print(json.dumps(clause_list[index_to_view], indent=4))\n",
    "    else:\n",
    "        print(\"Invalid index\")"
   ]
  },
  {
   "cell_type": "code",
   "execution_count": null,
   "metadata": {},
   "outputs": [],
   "source": [
    "view_clause_json(clauses_list)"
   ]
  },
  {
   "cell_type": "code",
   "execution_count": null,
   "metadata": {},
   "outputs": [],
   "source": [
    "# change keys in JSON to input and output\n",
    "\n",
    "\n",
    "def change_keys(clause_list):\n",
    "    for i in range(len(clause_list)):\n",
    "        clause_list[i] = {\n",
    "            \"input\": clause_list[i][\"name\"],\n",
    "            \"output\": clause_list[i][\"content\"],\n",
    "        }\n",
    "    return clause_list"
   ]
  },
  {
   "cell_type": "code",
   "execution_count": null,
   "metadata": {},
   "outputs": [],
   "source": [
    "clause_list = change_keys(clauses_list)"
   ]
  },
  {
   "cell_type": "code",
   "execution_count": null,
   "metadata": {},
   "outputs": [],
   "source": [
    "view_clause_json(clause_list)"
   ]
  },
  {
   "cell_type": "code",
   "execution_count": null,
   "metadata": {},
   "outputs": [],
   "source": [
    "client = OpenAI()"
   ]
  },
  {
   "cell_type": "code",
   "execution_count": null,
   "metadata": {},
   "outputs": [],
   "source": [
    "def generate_summary(clause_list):\n",
    "    for i in range(len(clause_list)):\n",
    "        prompt = (\n",
    "            f\"Summarize the following clause in three words:\\n\\n\"\n",
    "            f\"{clause_list[i]['output']}\\n\\n\"\n",
    "            \"Summary (three words):\"\n",
    "        )\n",
    "        try:\n",
    "            # Use the OpenAI Completion API\n",
    "            response = client.completions.create(\n",
    "                model=\"gpt-3.5-turbo-instruct\",  # Use a completion-based model\n",
    "                prompt=prompt,  # Pass the prompt\n",
    "                max_tokens=10,  # Limit response length\n",
    "                temperature=0.7,  # Adjust creativity level\n",
    "            )\n",
    "            print(response)\n",
    "            # Extract the generated summary from the response\n",
    "            summary = response.choices[0].text.strip()\n",
    "            clause_list[i][\"summary\"] = summary\n",
    "        except Exception as e:\n",
    "            print(f\"Error generating summary for clause {i}: {e}\")\n",
    "            clause_list[i][\"summary\"] = \"Error generating summary\"\n",
    "    return clause_list"
   ]
  },
  {
   "cell_type": "code",
   "execution_count": null,
   "metadata": {},
   "outputs": [],
   "source": [
    "summarized_clauses = generate_summary(clause_list)"
   ]
  },
  {
   "cell_type": "code",
   "execution_count": null,
   "metadata": {},
   "outputs": [],
   "source": [
    "print(json.dumps(summarized_clauses, indent=4))"
   ]
  },
  {
   "cell_type": "code",
   "execution_count": null,
   "metadata": {},
   "outputs": [],
   "source": [
    "def process_summarized_clauses(summarized_clauses):\n",
    "    summary_words_set = set()\n",
    "    for clause in summarized_clauses:\n",
    "        if \"summary\" in clause and clause[\"summary\"] != \"Error generating summary\":\n",
    "            clause[\"input\"] = (\n",
    "                f\"Please write me a legal clause that could be integrated into a contract for {clause['summary']}.\"\n",
    "            )\n",
    "            summary_words_set.update(clause[\"summary\"].split())\n",
    "        else:\n",
    "            clause[\"summary\"] = \"No summary available\"\n",
    "            clause[\"input\"] = (\n",
    "                \"Please write me a legal clause that could be integrated into a contract for No summary available.\"\n",
    "            )\n",
    "\n",
    "        clause.pop(\"summary\", None)\n",
    "    summary_words_list = sorted(summary_words_set)\n",
    "\n",
    "    return summarized_clauses, summary_words_list"
   ]
  },
  {
   "cell_type": "code",
   "execution_count": null,
   "metadata": {},
   "outputs": [],
   "source": [
    "updated_summarized_clauses, summary_words = process_summarized_clauses(\n",
    "    summarized_clauses\n",
    ")"
   ]
  },
  {
   "cell_type": "code",
   "execution_count": null,
   "metadata": {},
   "outputs": [],
   "source": [
    "len(updated_summarized_clauses)"
   ]
  },
  {
   "cell_type": "code",
   "execution_count": null,
   "metadata": {},
   "outputs": [],
   "source": [
    "view_clause_json(updated_summarized_clauses, 11)"
   ]
  },
  {
   "cell_type": "code",
   "execution_count": null,
   "metadata": {},
   "outputs": [],
   "source": [
    "def clean_prompts(clauses):\n",
    "    fine_tuning_data_list = []\n",
    "    for clause in clauses:\n",
    "        # Clean prompt (formerly 'input')\n",
    "        prompt = clause[\"input\"]\n",
    "        prompt = re.sub(r\"\\\\n|\\\\u00a0|\\n|\\u00a0\", \" \", prompt)\n",
    "        prompt = prompt.replace(\"\\u2019\", \"'\")\n",
    "        prompt = re.sub(r\"\\[\\u25cf\\]\", \"\", prompt)\n",
    "        prompt = re.sub(r\"\\s+\", \" \", prompt).strip()\n",
    "        prompt = prompt.rstrip(\".\") + \".\"\n",
    "\n",
    "        # Clean completion\n",
    "        completion = clause[\"output\"]\n",
    "        completion = re.sub(r\"\\\\n|\\\\u00a0|\\n|\\u00a0\", \" \", completion)\n",
    "        completion = completion.replace(\"\\u2019\", \"'\")\n",
    "        completion = re.sub(r\"\\[\\u25cf\\]\", \"\", completion)\n",
    "        completion = re.sub(r\"\\s+\", \" \", completion).strip()\n",
    "\n",
    "        if not completion.endswith(\" [END]\"):\n",
    "            completion += \" [END]\"\n",
    "\n",
    "        # Prepare the fine-tuning JSON object\n",
    "        fine_tuning_data = {\"prompt\": prompt, \"completion\": \" \" + completion}\n",
    "        fine_tuning_data_list.append(fine_tuning_data)\n",
    "\n",
    "    return fine_tuning_data_list"
   ]
  },
  {
   "cell_type": "code",
   "execution_count": null,
   "metadata": {},
   "outputs": [],
   "source": [
    "final_clauses = clean_prompts(updated_summarized_clauses)"
   ]
  },
  {
   "cell_type": "code",
   "execution_count": null,
   "metadata": {},
   "outputs": [],
   "source": [
    "len(final_clauses)"
   ]
  },
  {
   "cell_type": "code",
   "execution_count": null,
   "metadata": {},
   "outputs": [],
   "source": [
    "view_clause_json(final_clauses, 11)"
   ]
  },
  {
   "cell_type": "code",
   "execution_count": null,
   "metadata": {},
   "outputs": [],
   "source": [
    "# this can be used to make new unique pairs of three words\n",
    "print(\"Unique words in summaries:\", summary_words)\n",
    "len(summary_words)"
   ]
  },
  {
   "cell_type": "code",
   "execution_count": null,
   "metadata": {},
   "outputs": [],
   "source": [
    "output_file = \"../fine_tuning.jsonl\"\n",
    "with open(output_file, \"w\", encoding=\"utf-8\") as f:\n",
    "    for clause in final_clauses:\n",
    "        json.dump(clause, f, ensure_ascii=False)\n",
    "        f.write(\"\\n\")"
   ]
  },
  {
   "cell_type": "code",
   "execution_count": null,
   "metadata": {},
   "outputs": [],
   "source": [
    "def convert_to_chat_format(input_file, output_file):\n",
    "    chat_data = []\n",
    "    with open(input_file, \"r\", encoding=\"utf-8\") as infile:\n",
    "        for line in infile:\n",
    "            entry = json.loads(line)\n",
    "            chat_entry = {\n",
    "                \"messages\": [\n",
    "                    {\n",
    "                        \"role\": \"system\",\n",
    "                        \"content\": \"You are a helpful assistant that writes legal clauses.\",\n",
    "                    },\n",
    "                    {\"role\": \"user\", \"content\": entry[\"prompt\"].strip()},\n",
    "                    {\"role\": \"assistant\", \"content\": entry[\"completion\"].strip()},\n",
    "                ]\n",
    "            }\n",
    "            chat_data.append(chat_entry)\n",
    "    with open(output_file, \"w\", encoding=\"utf-8\") as outfile:\n",
    "        for chat_entry in chat_data:\n",
    "            json.dump(chat_entry, outfile, ensure_ascii=False)\n",
    "            outfile.write(\"\\n\")\n",
    "\n",
    "    print(f\"Converted data saved to {output_file}\")"
   ]
  },
  {
   "cell_type": "code",
   "execution_count": null,
   "metadata": {},
   "outputs": [],
   "source": [
    "input_file = \"../fine_tuning.jsonl\"\n",
    "output_file = \"../chat_fine_tuning.jsonl\"\n",
    "convert_to_chat_format(input_file, output_file)"
   ]
  },
  {
   "cell_type": "markdown",
   "metadata": {},
   "source": [
    "## Fine tuning"
   ]
  },
  {
   "cell_type": "code",
   "execution_count": null,
   "metadata": {},
   "outputs": [],
   "source": [
    "with open(\"../chat_fine_tuning.jsonl\", \"rb\") as file:\n",
    "    response = client.files.create(file=file, purpose=\"fine-tune\")\n",
    "    file_id = response.id\n",
    "    print(f\"Uploaded file ID: {file_id}\")"
   ]
  },
  {
   "cell_type": "code",
   "execution_count": null,
   "metadata": {},
   "outputs": [],
   "source": [
    "response = client.fine_tuning.jobs.create(\n",
    "    training_file=file_id, model=\"gpt-3.5-turbo\", hyperparameters={\"n_epochs\": 4}\n",
    ")\n",
    "fine_tune_job_id = response.id\n",
    "print(f\"Fine-tuning job created. ID: {fine_tune_job_id}\")"
   ]
  },
  {
   "cell_type": "code",
   "execution_count": null,
   "metadata": {},
   "outputs": [],
   "source": [
    "events = client.fine_tuning.jobs.list_events(fine_tune_job_id)\n",
    "for event in events:\n",
    "    print(event)"
   ]
  },
  {
   "cell_type": "code",
   "execution_count": null,
   "metadata": {},
   "outputs": [],
   "source": [
    "import time\n",
    "\n",
    "while True:\n",
    "    response = client.fine_tuning.jobs.retrieve(fine_tune_job_id)\n",
    "    print(f\"Fine-tuning status: {response.status}\")\n",
    "\n",
    "    # Exit the loop if the job is complete\n",
    "    if response.status in [\"succeeded\", \"failed\"]:\n",
    "        break\n",
    "\n",
    "    time.sleep(30)"
   ]
  },
  {
   "cell_type": "code",
   "execution_count": null,
   "metadata": {},
   "outputs": [],
   "source": [
    "response = client.fine_tuning.jobs.retrieve(\"ftjob-ewzRvC7cN4lfgv06G2Pd0YMq\")\n",
    "fine_tuned_model = response.fine_tuned_model\n",
    "\n",
    "print(f\"Fine-tuned model name: {fine_tuned_model}\")"
   ]
  },
  {
   "cell_type": "code",
   "execution_count": null,
   "metadata": {},
   "outputs": [],
   "source": [
    "def create_a_clause(client, fine_tuned_model, prompt):\n",
    "    response = client.chat.completions.create(\n",
    "        model=fine_tuned_model,\n",
    "        messages=[\n",
    "            {\n",
    "                \"role\": \"system\",\n",
    "                \"content\": \"You are a helpful assistant that generates legal clauses. Make sure you are combining the keywords, not just writing separate components for each. Pay attention to starting a clause in a realistic way.\",\n",
    "            },\n",
    "            {\n",
    "                \"role\": \"system\",\n",
    "                \"content\": \"Every clause MUST be related to sustainability.\",\n",
    "            },\n",
    "            {\n",
    "                \"role\": \"user\",\n",
    "                \"content\": f\"Please write me a legal clause that could be integrated into a contract for key words: {prompt}.\",\n",
    "            },\n",
    "        ],\n",
    "        max_tokens=1000,\n",
    "        temperature=1,\n",
    "    )\n",
    "    return response"
   ]
  },
  {
   "cell_type": "code",
   "execution_count": null,
   "metadata": {},
   "outputs": [],
   "source": [
    "clause_test = create_a_clause(\n",
    "    client, fine_tuned_model, \"confidentiality, offsetting, access\"\n",
    ")"
   ]
  },
  {
   "cell_type": "code",
   "execution_count": null,
   "metadata": {},
   "outputs": [],
   "source": [
    "clause_test.choices[0].message.content.strip()"
   ]
  },
  {
   "cell_type": "code",
   "execution_count": null,
   "metadata": {},
   "outputs": [],
   "source": [
    "# with 391 words, how many permutations of 3 words can be made?\n",
    "import math\n",
    "\n",
    "math.comb(391, 3)"
   ]
  },
  {
   "cell_type": "code",
   "execution_count": null,
   "metadata": {},
   "outputs": [],
   "source": [
    "# I want to make 1800 new clauses, so I need to generate 1800 permutations\n",
    "def create_permutations(summary_words, num_permutations):\n",
    "    permutations_list = []\n",
    "    while len(permutations_list) < 1800:\n",
    "        random.shuffle(summary_words)\n",
    "        # select 3 words from the list of unique words\n",
    "        to_add = []\n",
    "        while to_add not in permutations_list:\n",
    "            to_add = summary_words[:3]\n",
    "            permutations_list.append(to_add)\n",
    "\n",
    "    return permutations_list"
   ]
  },
  {
   "cell_type": "code",
   "execution_count": null,
   "metadata": {},
   "outputs": [],
   "source": [
    "permutations = create_permutations(summary_words, 1800)"
   ]
  },
  {
   "cell_type": "code",
   "execution_count": null,
   "metadata": {},
   "outputs": [],
   "source": [
    "len(permutations)"
   ]
  },
  {
   "cell_type": "code",
   "execution_count": null,
   "metadata": {},
   "outputs": [],
   "source": [
    "permutations[4]"
   ]
  },
  {
   "cell_type": "code",
   "execution_count": null,
   "metadata": {},
   "outputs": [],
   "source": [
    "new_clauses = []"
   ]
  },
  {
   "cell_type": "code",
   "execution_count": null,
   "metadata": {},
   "outputs": [],
   "source": [
    "# create 1800 new clauses\n",
    "count = 1\n",
    "for i in range(1660, len(permutations)):\n",
    "    response = create_a_clause(client, fine_tuned_model, \", \".join(permutations[i]))\n",
    "    print(count, permutations[i])\n",
    "    count += 1\n",
    "    new_clauses.append(response.choices[0].message.content.strip())"
   ]
  },
  {
   "cell_type": "code",
   "execution_count": null,
   "metadata": {},
   "outputs": [],
   "source": [
    "len(new_clauses)"
   ]
  },
  {
   "cell_type": "code",
   "execution_count": null,
   "metadata": {},
   "outputs": [],
   "source": [
    "def save_new_clauses(new_clauses, folder_path):\n",
    "    os.makedirs(folder_path, exist_ok=True)\n",
    "\n",
    "    for i in range(len(new_clauses)):\n",
    "        file_path = os.path.join(folder_path, f\"new_clause_{i}.txt\")\n",
    "        with open(file_path, \"w\", encoding=\"utf-8\") as f:\n",
    "            f.write(new_clauses[i])"
   ]
  },
  {
   "cell_type": "code",
   "execution_count": null,
   "metadata": {},
   "outputs": [],
   "source": [
    "folder_path = \"../../data/cleaned_gen_clauses\""
   ]
  },
  {
   "cell_type": "code",
   "execution_count": null,
   "metadata": {},
   "outputs": [],
   "source": [
    "save_new_clauses(new_clauses, folder_path)"
   ]
  },
  {
   "cell_type": "code",
   "execution_count": null,
   "metadata": {},
   "outputs": [],
   "source": []
  }
 ],
 "metadata": {
  "kernelspec": {
   "display_name": "tclp-Ed8P8bAs-py3.10",
   "language": "python",
   "name": "python3"
  },
  "language_info": {
   "codemirror_mode": {
    "name": "ipython",
    "version": 3
   },
   "file_extension": ".py",
   "mimetype": "text/x-python",
   "name": "python",
   "nbconvert_exporter": "python",
   "pygments_lexer": "ipython3",
   "version": "3.10.15"
  }
 },
 "nbformat": 4,
 "nbformat_minor": 2
}
